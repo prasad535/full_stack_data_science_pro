{
 "cells": [
  {
   "cell_type": "markdown",
   "metadata": {},
   "source": [
    "# Constructor"
   ]
  },
  {
   "cell_type": "markdown",
   "metadata": {},
   "source": [
    "### 1. What is a constructor in Python? Explain its purpose and usage."
   ]
  },
  {
   "cell_type": "markdown",
   "metadata": {},
   "source": [
    "**Constructor:** A special/dunder method, defined with in the class used to initialize the object of the class. It automaticallys calls when class object is created.\n",
    "\n",
    "**Purpose:** Primary purpose is to initialize object state and setup intial attributes or properties when object creation.\n",
    "\n",
    "**Usage:** \n",
    "Things to remebers when defining constructor\n",
    "1. Declare a class\n",
    "2. use __init__ keyword to defind the constructor, provide list of attributes its initialize when creating object.\n",
    "3. Create a object to the class\n",
    "\n",
    "**Example:**\n",
    "```python\n",
    "class test:\n",
    "    def __init__(self, attr1, attr2):\n",
    "        pass\n",
    "    \n",
    "obj = test(\"attr1_value\", \"attr2_value\")\n",
    "```\n",
    "\n",
    "**Explnation:**\n",
    "- I have declared a class with name test.\n",
    "- In class, declared a method with __init__ keyword and provided a couple of attributes(attr1, attr2) \n",
    "- Created a object with name `obj` for class `test`, and given parameter as values of attributes in the class constructor. It means `attr1` receives value \"attr1_value\" respectively."
   ]
  },
  {
   "cell_type": "code",
   "execution_count": 1,
   "metadata": {},
   "outputs": [],
   "source": [
    "class test:\n",
    "    def __init__(self, attr1, attr2):\n",
    "        pass\n",
    "    \n",
    "obj = test(\"attr1_value\", \"attr2_value\")"
   ]
  },
  {
   "cell_type": "markdown",
   "metadata": {},
   "source": [
    "### 2. Differentiate between a parameterless constructor and a parameterized constructor in Python."
   ]
  },
  {
   "cell_type": "code",
   "execution_count": null,
   "metadata": {},
   "outputs": [],
   "source": [
    "# Parameterless constructor\n",
    "class parameterless:\n",
    "    def __init__(self):\n",
    "        pass\n",
    "\n",
    "# parameterized constructor\n",
    "# a, b are parameters\n",
    "class parameterized(self):\n",
    "    def __init__(self, a, b):\n",
    "        pass"
   ]
  },
  {
   "cell_type": "markdown",
   "metadata": {},
   "source": [
    "**Explanation:**\n",
    "\n",
    "defined a constructor for class `parameterless` without any parameters inside constrctor. \n",
    "\n",
    "Class `parameterized`, defined a constrctor with 2 properties `a` , `b`. When object creation, a constructor automatically called and expected the values for parameters `a`, `b`.\n"
   ]
  },
  {
   "cell_type": "markdown",
   "metadata": {},
   "source": [
    "### 3. How do you define a constructor in a Python class? Provide an example."
   ]
  },
  {
   "cell_type": "markdown",
   "metadata": {},
   "source": [
    "defining constructor is almost similar to function defination, instead of function name will use `__init__` keyword and takes number of attrbutes. Before defining function we should declare a class first. and the constructor defination is always inside the class.\n",
    "\n",
    "**function defination**\n",
    "```python\n",
    "def function_name(attributes):\n",
    "    pass\n",
    "```\n",
    "\n",
    "**Constructor defination**\n",
    "```python\n",
    "class Test:\n",
    "    def __init__(self, attr1, attr2):\n",
    "        pass\n",
    "```\n",
    "\n"
   ]
  },
  {
   "cell_type": "markdown",
   "metadata": {},
   "source": [
    "### 4. Explain the `__init__` method in Python and its role in constructors."
   ]
  },
  {
   "cell_type": "markdown",
   "metadata": {},
   "source": [
    "`__init__` method which is nothing but constructor in python. The main role of this method is initialize the state of object and set up the attributes to perform some task."
   ]
  },
  {
   "cell_type": "markdown",
   "metadata": {},
   "source": [
    "### 5. In a class named `Person`, create a constructor that initializes the `name` and `age` attributes. Provide an example of creating an object of this class."
   ]
  },
  {
   "cell_type": "code",
   "execution_count": 3,
   "metadata": {},
   "outputs": [],
   "source": [
    "# declare class Person\n",
    "class Person:\n",
    "\n",
    "    # constructor initilizes name, age attributes\n",
    "    def __init__(self, name, age):\n",
    "        self.name = name\n",
    "        self.age = age\n",
    "\n",
    "# Create a object\n",
    "obj1 = Person(\"Prasad\", \"24\")"
   ]
  },
  {
   "cell_type": "markdown",
   "metadata": {},
   "source": [
    "### 6. How can you call a constructor explicitly in Python? Give an example."
   ]
  },
  {
   "cell_type": "code",
   "execution_count": 27,
   "metadata": {},
   "outputs": [],
   "source": [
    "class Test1:\n",
    "\n",
    "    def __init__(self, name):\n",
    "        self.name = name\n",
    "\n",
    "# create object \n",
    "t = Test1(\"Fayaz\")\n",
    "\n",
    "# call constructor explicty to update intial value of name attribute\n",
    "t.__init__(\"Prasad\")"
   ]
  },
  {
   "cell_type": "code",
   "execution_count": 28,
   "metadata": {},
   "outputs": [
    {
     "data": {
      "text/plain": [
       "'Prasad'"
      ]
     },
     "execution_count": 28,
     "metadata": {},
     "output_type": "execute_result"
    }
   ],
   "source": [
    "t.name"
   ]
  },
  {
   "cell_type": "markdown",
   "metadata": {},
   "source": [
    "### 7. What is the significance of the `self` parameter in Python constructors? Explain with an example."
   ]
  },
  {
   "cell_type": "markdown",
   "metadata": {},
   "source": [
    "self will bind the objects intial values to the class and allow to access associated attributes and methods."
   ]
  },
  {
   "cell_type": "markdown",
   "metadata": {},
   "source": [
    "### 8. Discuss the concept of default constructors in Python. When are they used?"
   ]
  },
  {
   "cell_type": "code",
   "execution_count": null,
   "metadata": {},
   "outputs": [],
   "source": []
  },
  {
   "cell_type": "markdown",
   "metadata": {},
   "source": [
    "### 9. Create a Python class called `Rectangle` with a constructor that initializes the `width` and `height` attributes. Provide a method to calculate the area of the rectangle."
   ]
  },
  {
   "cell_type": "code",
   "execution_count": 4,
   "metadata": {},
   "outputs": [
    {
     "name": "stdout",
     "output_type": "stream",
     "text": [
      "Area of traingle is  50\n"
     ]
    }
   ],
   "source": [
    "# declare Rectangle class\n",
    "class Rectangle:\n",
    "\n",
    "    # Constructor initilized attributes width, height\n",
    "    def __init__(self, width, height):\n",
    "        self.width = width\n",
    "        self.height = height\n",
    "\n",
    "    # metod to calculate area\n",
    "    def area_of_retangle(self):\n",
    "        return self.width * self.height\n",
    "\n",
    "# create object\n",
    "rect_obj = Rectangle(5, 10)\n",
    "\n",
    "# call area method using above object\n",
    "area = rect_obj.area_of_retangle()\n",
    "print(f\"Area of traingle is \", area)"
   ]
  },
  {
   "cell_type": "markdown",
   "metadata": {},
   "source": [
    "### 10. How can you have multiple constructors in a Python class? Explain with an example."
   ]
  },
  {
   "cell_type": "markdown",
   "metadata": {},
   "source": [
    "Yes, We are allowed to create multiple constructors in a python call. But the construcor which is last defined will be considered as the final constructor."
   ]
  },
  {
   "cell_type": "code",
   "execution_count": 33,
   "metadata": {},
   "outputs": [
    {
     "name": "stdout",
     "output_type": "stream",
     "text": [
      "second construcotr\n"
     ]
    }
   ],
   "source": [
    "class test10:\n",
    "\n",
    "    def __init__(self, x):\n",
    "        print(\"first constructor\")\n",
    "\n",
    "    def __init__(self, x):\n",
    "        print(\"second construcotr\")\n",
    "\n",
    "s = test10('sdfasd')"
   ]
  },
  {
   "cell_type": "markdown",
   "metadata": {},
   "source": [
    "### 11. What is method overloading, and how is it related to constructors in Python?"
   ]
  },
  {
   "cell_type": "markdown",
   "metadata": {},
   "source": [
    "**Method overloading:**\n",
    "- Multple methods with same name but different number of parameters. It is known as method overloading."
   ]
  },
  {
   "cell_type": "code",
   "execution_count": 26,
   "metadata": {},
   "outputs": [
    {
     "name": "stdout",
     "output_type": "stream",
     "text": [
      "8\n",
      "12\n",
      "372101\n"
     ]
    }
   ],
   "source": [
    "class test:\n",
    "\n",
    "    def add(self,a,b):\n",
    "        return a+b\n",
    "\n",
    "    def add(self, a, b, c):\n",
    "        return a+b+c\n",
    "\n",
    "    def add(self, *args):\n",
    "        return sum(args)\n",
    "\n",
    "t = test()\n",
    "print(t.add(3, 5))\n",
    "print(t.add(4, 6, 2))\n",
    "print(t.add(33, 23 , 234, 2342, 45235,324234))\n"
   ]
  },
  {
   "cell_type": "markdown",
   "metadata": {},
   "source": [
    "**Explnation:**\n",
    "\n",
    "create 3 functions with same name `add` but there is difference in number of parameters in each function. Here, same function serves for different purposes.\n",
    "\n",
    "- if we pass 2 values, it will run the first add function, because it has only 2 params\n",
    "- if we pass 3 values, it will execute the second add function, reason is it has 3 params\n",
    "- if we pass more than 3 values, it will execute third add function "
   ]
  },
  {
   "cell_type": "markdown",
   "metadata": {},
   "source": [
    "### 12. Explain the use of the `super()` function in Python constructors. Provide an example."
   ]
  },
  {
   "cell_type": "markdown",
   "metadata": {},
   "source": [
    "**super()** function is used in child class to call the constructor or methods of a parent class"
   ]
  },
  {
   "cell_type": "code",
   "execution_count": 14,
   "metadata": {},
   "outputs": [
    {
     "data": {
      "text/plain": [
       "'Name is Prasad and This function is inside the parent.'"
      ]
     },
     "execution_count": 14,
     "metadata": {},
     "output_type": "execute_result"
    }
   ],
   "source": [
    "#Parent class\n",
    "class Parent:\n",
    "\n",
    "    #Parent class construcotr\n",
    "    def __init__(self, x):\n",
    "        self.x = x\n",
    "\n",
    "    # parent class method\n",
    "    def parent_cls_func(self):\n",
    "        return \"Name is {} and This function is inside the parent.\".format(self.x)\n",
    "\n",
    "\n",
    "# child class, inherited parent class\n",
    "class child(Parent):\n",
    "\n",
    "    # child class constructor\n",
    "    def __init__(self, name, age):\n",
    "        \n",
    "        # calls parent class constructor and pass name parameter to paramter x in parent constructor\n",
    "        super().__init__(name)\n",
    "        self.age = age\n",
    "\n",
    "    def child_cls_func(self):\n",
    "        # calling parent class method\n",
    "        return super().parent_cls_func()\n",
    "\n",
    "child_obj = child(\"Prasad\", 24)\n",
    "child_obj.child_cls_func()"
   ]
  },
  {
   "cell_type": "markdown",
   "metadata": {},
   "source": [
    "### 13. Create a class called `Book` with a constructor that initializes the `title`, `author`, and `published_year` attributes. Provide a method to display book details."
   ]
  },
  {
   "cell_type": "code",
   "execution_count": 6,
   "metadata": {},
   "outputs": [
    {
     "name": "stdout",
     "output_type": "stream",
     "text": [
      "The book Wings of Dragon is written by Einstein and it published in the year 2003\n"
     ]
    }
   ],
   "source": [
    "class Book:\n",
    "\n",
    "    def __init__(self, title, author, published_year):\n",
    "        self.title = title\n",
    "        self.author = author\n",
    "        self.published_year = published_year\n",
    "\n",
    "    def display_book_details(self):\n",
    "        return self.title, self.author, self.published_year\n",
    "\n",
    "book1 = Book(\"Wings of Dragon\", \"Einstein\", 2003)\n",
    "book_title, book_author, book_year = book1.display_book_details()\n",
    "print(\"The book {} is written by {} and it published in the year {}\".format(book_title, book_author, book_year))"
   ]
  },
  {
   "cell_type": "markdown",
   "metadata": {},
   "source": [
    "### 14. Discuss the differences between constructors and regular methods in Python classes."
   ]
  },
  {
   "cell_type": "markdown",
   "metadata": {},
   "source": [
    "**constructor:** This method calls automatically when object created for the class. It is used to create, intialize and access the instance variable and state of the object.\n",
    "\n",
    "**regular method:** This a general function with zero or more parameters to fulfill particular task."
   ]
  },
  {
   "cell_type": "markdown",
   "metadata": {},
   "source": [
    "### 15. Explain the role of the `self` parameter in instance variable initialization within a constructor."
   ]
  },
  {
   "cell_type": "markdown",
   "metadata": {},
   "source": [
    "`self` parameter in constructor is used to create, initialize, and access instance variables and which are crucial for storing and managing the state of the object created from the class. "
   ]
  },
  {
   "cell_type": "markdown",
   "metadata": {},
   "source": [
    "### 16. How do you prevent a class from having multiple instances by using constructors in Python? Provide an example."
   ]
  },
  {
   "cell_type": "code",
   "execution_count": null,
   "metadata": {},
   "outputs": [],
   "source": []
  },
  {
   "cell_type": "markdown",
   "metadata": {},
   "source": [
    "### 17. Create a Python class called `Student` with a constructor that takes a list of subjects as a parameter and initializes the `subjects` attribute."
   ]
  },
  {
   "cell_type": "code",
   "execution_count": 12,
   "metadata": {},
   "outputs": [
    {
     "name": "stdout",
     "output_type": "stream",
     "text": [
      "Subjects list is: ['Maths', 'Physics', 'English']\n"
     ]
    }
   ],
   "source": [
    "class Student:\n",
    "\n",
    "    def __init__(self, subjects):\n",
    "        self.subjects = subjects\n",
    "\n",
    "subjects_lists = [\"Maths\", \"Physics\", \"English\"]\n",
    "s = Student(subjects_lists)\n",
    "print(\"Subjects list is: {}\".format(s.subjects))"
   ]
  },
  {
   "cell_type": "markdown",
   "metadata": {},
   "source": [
    "### 18. What is the purpose of the `__del__` method in Python classes, and how does it relate to constructors?"
   ]
  },
  {
   "cell_type": "markdown",
   "metadata": {},
   "source": [
    "- `__init__` method is commony called as constructor. Similarly `__del__` method is called as destructor of the class.\n",
    "- `__del__` method does the purpose of garbage collection in python. This method used to do the clean up purpose and release all the memory/resources associated with object before destroying the object completely from the memory. whereas constructor is used to initialize the object.\n",
    "- del keyword used to explicitly delete the object(release completely from the memory)\n",
    "- constructor and desctructor both calls automatic."
   ]
  },
  {
   "cell_type": "markdown",
   "metadata": {},
   "source": [
    "### 19. Explain the use of constructor chaining in Python. Provide a practical example."
   ]
  },
  {
   "cell_type": "markdown",
   "metadata": {},
   "source": [
    "**Constructor chaining:** One constructor in a class calls another constructor within the class. This is mostly used when you have multiple constructors with different parameters in a class.\n",
    "\n",
    "We can call constructor either using super() or calling constructor explicitly."
   ]
  },
  {
   "cell_type": "code",
   "execution_count": 6,
   "metadata": {},
   "outputs": [
    {
     "data": {
      "text/plain": [
       "('Prasad', 'age', 'USA')"
      ]
     },
     "execution_count": 6,
     "metadata": {},
     "output_type": "execute_result"
    }
   ],
   "source": [
    "# Example using super()\n",
    "class Language:\n",
    "    \n",
    "    def __init__(self, name, age):\n",
    "        self.name = name\n",
    "        self.age = age\n",
    "\n",
    "class Python(Language):\n",
    "\n",
    "    def __init__(self, name, age, location):\n",
    "        super().__init__(name, age)\n",
    "        self.location = location\n",
    "\n",
    "    def show_details(self):\n",
    "        return self.name, self.age, self.location\n",
    "\n",
    "obj = Python(\"Prasad\", \"age\", \"USA\")\n",
    "obj.show_details()"
   ]
  },
  {
   "cell_type": "markdown",
   "metadata": {},
   "source": [
    "### 20. Create a Python class called `Car` with a default constructor that initializes the `make` and `model` attributes. Provide a method to display car information."
   ]
  },
  {
   "cell_type": "code",
   "execution_count": 13,
   "metadata": {},
   "outputs": [],
   "source": [
    "class Car:\n",
    "\n",
    "    def __init__(self, make, model):\n",
    "        self.make = make\n",
    "        self.model = model\n",
    "\n",
    "    def display_car_details(self):\n",
    "        return self.make, self.model\n",
    "\n",
    "car_obj = Car(\"Toyato\", \"2003\")\n",
    "car_obj2 = Car(\"Maruti\", \"2005\")\n",
    "car_obj3 = Car(\"BMW\", '2010')"
   ]
  },
  {
   "cell_type": "code",
   "execution_count": 18,
   "metadata": {},
   "outputs": [
    {
     "name": "stdout",
     "output_type": "stream",
     "text": [
      "('Toyato', '2003')\n",
      "('Maruti', '2005')\n",
      "('BMW', '2010')\n"
     ]
    }
   ],
   "source": [
    "print(car_obj.display_car_details())\n",
    "print(car_obj2.display_car_details())\n",
    "print(car_obj3.display_car_details())"
   ]
  },
  {
   "cell_type": "markdown",
   "metadata": {},
   "source": [
    "# Inheritance"
   ]
  },
  {
   "cell_type": "markdown",
   "metadata": {},
   "source": [
    "### 1. What is inheritance in Python? Explain its significance in object-oriented programming."
   ]
  },
  {
   "cell_type": "markdown",
   "metadata": {},
   "source": [
    "**Inheritance:** It allows a class to inherit properties and its behaviour to another class.\n",
    "\n",
    "Inheritance helps to create a hierarchy of classes and inherit the properties from super class to child classes. This way we can reuse the code instead of writing the code again and again. "
   ]
  },
  {
   "cell_type": "markdown",
   "metadata": {},
   "source": [
    "### 2. Differentiate between single inheritance and multiple inheritance in Python. Provide examples for each."
   ]
  },
  {
   "cell_type": "markdown",
   "metadata": {},
   "source": [
    "**Single Inheritance:** A child class inherited only single super class, which is single Inheritance:\n",
    "\n",
    "**Multiple Inheritance:** If a child class inherited multiple (more than one) which is multiple Inheritance"
   ]
  },
  {
   "cell_type": "code",
   "execution_count": null,
   "metadata": {},
   "outputs": [],
   "source": [
    "# Single inheritance\n",
    "\n",
    "class A:\n",
    "\n",
    "    def test(self):\n",
    "        return \"This is test method in class A\"\n",
    "\n",
    "class B(A):\n",
    "\n",
    "    def test1(self):\n",
    "        return \"This is test1 method in class B and class B inherited class A, so we can access method inside class A with the help of object of class B\""
   ]
  },
  {
   "cell_type": "code",
   "execution_count": null,
   "metadata": {},
   "outputs": [],
   "source": [
    "# Multiple Inheritance\n",
    "class A:\n",
    "    def method_a(self):\n",
    "        return \"Method in class A\"\n",
    "\n",
    "class B:\n",
    "    def method_a(self):\n",
    "        return \"Method in class B\"\n",
    "\n",
    "class C(B, A):\n",
    "    def method_c(self):\n",
    "        return \"Method in class C, and we can access method in class A, B\""
   ]
  },
  {
   "cell_type": "markdown",
   "metadata": {},
   "source": [
    "### 3. Create a Python class called `Vehicle` with attributes `color` and `speed`. Then, create a child class called `Car` that inherits from `Vehicle` and adds a `brand` attribute. Provide an example of creating a `Car` object."
   ]
  },
  {
   "cell_type": "code",
   "execution_count": 1,
   "metadata": {},
   "outputs": [],
   "source": [
    "class vehicle:\n",
    "\n",
    "    def __init__(self, color, speed):\n",
    "        self.color = color\n",
    "        self.speed = speed\n",
    "\n",
    "class car(vehicle):\n",
    "\n",
    "    def __init__(self, color, speed, brand):\n",
    "        super().__init__(color, speed)\n",
    "        self.brand = brand\n",
    "\n",
    "car_obj = car(\"Blue\", \"120 Km/h\", \"Audi\")"
   ]
  },
  {
   "cell_type": "code",
   "execution_count": 3,
   "metadata": {},
   "outputs": [
    {
     "name": "stdout",
     "output_type": "stream",
     "text": [
      "Blue 120 Km/h Audi\n"
     ]
    }
   ],
   "source": [
    "print(car_obj.color, car_obj.speed, car_obj.brand)"
   ]
  },
  {
   "cell_type": "markdown",
   "metadata": {},
   "source": [
    "### 4. Explain the concept of method overriding in inheritance. Provide a practical example."
   ]
  },
  {
   "cell_type": "markdown",
   "metadata": {},
   "source": [
    "**Method Overriding:**\n",
    "\n",
    "In inheritance, A method with same name existed in both parent and child class, child method will override the parent method and child method will be executed."
   ]
  },
  {
   "cell_type": "code",
   "execution_count": 5,
   "metadata": {},
   "outputs": [
    {
     "name": "stdout",
     "output_type": "stream",
     "text": [
      "Jawaharlal Nehru Technological University\n"
     ]
    }
   ],
   "source": [
    "class university:\n",
    "\n",
    "    def name_of_instistute(self):\n",
    "        print(f\"Florida Atlantic University\")\n",
    "\n",
    "class school(university):\n",
    "\n",
    "    def name_of_instistute(self):\n",
    "        print(f\"Jawaharlal Nehru Technological University\")\n",
    "\n",
    "\n",
    "prasad = school()\n",
    "prasad.name_of_instistute()"
   ]
  },
  {
   "cell_type": "markdown",
   "metadata": {},
   "source": [
    "**Explanation**\n",
    "\n",
    "Parent class `university` and child class `school` have a common method `name_of_institute'. created a object to child class and call the method, it results the method inside the child class. "
   ]
  },
  {
   "cell_type": "markdown",
   "metadata": {},
   "source": [
    "### 5. How can you access the methods and attributes of a parent class from a child class in Python? Give an example."
   ]
  },
  {
   "cell_type": "markdown",
   "metadata": {},
   "source": [
    "with the help of child class object, you can able to call parent class attributes and method. \n",
    "\n",
    "general syntax: object_name.attribute_or_method"
   ]
  },
  {
   "cell_type": "code",
   "execution_count": 22,
   "metadata": {},
   "outputs": [],
   "source": [
    "class shape:\n",
    "\n",
    "    def __init__(self):\n",
    "        self.shape = 'Rectangle'\n",
    "        self.color = 'Yellow'\n",
    "\n",
    "    def display_shape(self):\n",
    "        print(\"Shape is \"+self.shape+\" Color \"+self.color)\n",
    "\n",
    "\n",
    "class rectangle(shape):\n",
    "\n",
    "    def __init__(self, width, length):\n",
    "        super().__init__()\n",
    "        self.width = width\n",
    "        self.length = length\n",
    "\n",
    "    def area_of_rectangle(self):\n",
    "        print(\"Area of rectangle is \", (self.length * self.width))\n",
    "\n",
    "\n",
    "o_rect = rectangle(3, 7)"
   ]
  },
  {
   "cell_type": "code",
   "execution_count": 33,
   "metadata": {},
   "outputs": [
    {
     "name": "stdout",
     "output_type": "stream",
     "text": [
      "Yellow\n",
      "3\n",
      "Shape is Rectangle Color Yellow\n",
      "Area of rectangle is  21\n"
     ]
    }
   ],
   "source": [
    "print(o_rect.color)               # calling parent class attribute\n",
    "print(o_rect.width)                 # calling child class attribute\n",
    "o_rect.display_shape()              # calling parent class method\n",
    "o_rect.area_of_rectangle()          # calling child class method "
   ]
  },
  {
   "cell_type": "markdown",
   "metadata": {},
   "source": [
    "### 6. Discuss the use of the `super()` function in Python inheritance. When and why is it used? Provide an example."
   ]
  },
  {
   "cell_type": "markdown",
   "metadata": {},
   "source": [
    "super() function is used to call the parent class attributes or methods in inside the child class. This is used when we want to execute any parent method or attribute in inside the child class. "
   ]
  },
  {
   "cell_type": "code",
   "execution_count": 40,
   "metadata": {},
   "outputs": [
    {
     "name": "stdout",
     "output_type": "stream",
     "text": [
      "method inside the parent class\n"
     ]
    },
    {
     "data": {
      "text/plain": [
       "7"
      ]
     },
     "execution_count": 40,
     "metadata": {},
     "output_type": "execute_result"
    }
   ],
   "source": [
    "class parent_class:\n",
    "\n",
    "    def __init__(self, x):\n",
    "        self.x = x\n",
    "\n",
    "    def test(self):\n",
    "        print(\"method inside the parent class\")\n",
    "\n",
    "\n",
    "class child_class(parent_class):\n",
    "\n",
    "    def __init__(self, val):\n",
    "        super().__init__(val)\n",
    "    \n",
    "    def c_test(self):\n",
    "        super().test()\n",
    "        return self.x\n",
    "\n",
    "ss = child_class(7)\n",
    "ss.c_test()\n"
   ]
  },
  {
   "cell_type": "markdown",
   "metadata": {},
   "source": [
    "### 7. Create a Python class called `Animal` with a method `speak()`. Then, create child classes `Dog` and `Cat` that inherit from `Animal` and override the `speak()` method. Provide an example of using these classes."
   ]
  },
  {
   "cell_type": "code",
   "execution_count": 43,
   "metadata": {},
   "outputs": [],
   "source": [
    "class Animal:\n",
    "\n",
    "    def speak(self):\n",
    "        return f\"This method in Animal class\"\n",
    "\n",
    "class Dog(Animal):\n",
    "\n",
    "    def speak(self):\n",
    "        return f\"This method in Dog class\"\n",
    "\n",
    "\n",
    "class Cat(Animal):\n",
    "\n",
    "    def speak(self):\n",
    "        return \"This method in Cat class\""
   ]
  },
  {
   "cell_type": "code",
   "execution_count": 44,
   "metadata": {},
   "outputs": [
    {
     "data": {
      "text/plain": [
       "'This method in Dog class'"
      ]
     },
     "execution_count": 44,
     "metadata": {},
     "output_type": "execute_result"
    }
   ],
   "source": [
    "o_dog = Dog()\n",
    "o_dog.speak()"
   ]
  },
  {
   "cell_type": "code",
   "execution_count": 45,
   "metadata": {},
   "outputs": [
    {
     "data": {
      "text/plain": [
       "'This method in Cat class'"
      ]
     },
     "execution_count": 45,
     "metadata": {},
     "output_type": "execute_result"
    }
   ],
   "source": [
    "o_cat = Cat()\n",
    "o_cat.speak()"
   ]
  },
  {
   "cell_type": "markdown",
   "metadata": {},
   "source": [
    "### 8. Explain the role of the `isinstance()` function in Python and how it relates to inheritance."
   ]
  },
  {
   "cell_type": "markdown",
   "metadata": {},
   "source": [
    "isinstance() is built in function, which is used to check whether object is belong to particular class. \n",
    "\n",
    "Yes, it is related to inheritance. It checks if an object is instance of any class or its subclasses."
   ]
  },
  {
   "cell_type": "code",
   "execution_count": 1,
   "metadata": {},
   "outputs": [
    {
     "name": "stdout",
     "output_type": "stream",
     "text": [
      "It is integer\n"
     ]
    }
   ],
   "source": [
    "# Example 1\n",
    "x = 10\n",
    "\n",
    "if isinstance(x, int):\n",
    "    print(\"It is integer\")"
   ]
  },
  {
   "cell_type": "code",
   "execution_count": 8,
   "metadata": {},
   "outputs": [
    {
     "name": "stdout",
     "output_type": "stream",
     "text": [
      "Bool or Float\n"
     ]
    }
   ],
   "source": [
    "# Example 2\n",
    "y = 5.0\n",
    "\n",
    "if isinstance(y, int):\n",
    "    print(\"Integer\")\n",
    "elif isinstance(y, str):\n",
    "    print(\"String\")\n",
    "elif isinstance(y, (bool, float)):\n",
    "    print(\"Bool or Float\")"
   ]
  },
  {
   "cell_type": "code",
   "execution_count": 15,
   "metadata": {},
   "outputs": [],
   "source": [
    "# Example 3\n",
    "\n",
    "class A:\n",
    "    pass\n",
    "\n",
    "class B(A):\n",
    "    pass\n",
    "\n",
    "class C:\n",
    "    pass\n",
    "\n",
    "obj_b = B()"
   ]
  },
  {
   "cell_type": "code",
   "execution_count": 21,
   "metadata": {},
   "outputs": [
    {
     "name": "stdout",
     "output_type": "stream",
     "text": [
      "True\n"
     ]
    }
   ],
   "source": [
    "if isinstance(obj_b, B):\n",
    "    print(\"True\")\n",
    "else:\n",
    "    print(\"False\")"
   ]
  },
  {
   "cell_type": "code",
   "execution_count": 20,
   "metadata": {},
   "outputs": [
    {
     "name": "stdout",
     "output_type": "stream",
     "text": [
      "True\n"
     ]
    }
   ],
   "source": [
    "if isinstance(obj_b, A):\n",
    "    print(\"True\")\n",
    "else:\n",
    "    print(\"False\")"
   ]
  },
  {
   "cell_type": "code",
   "execution_count": 19,
   "metadata": {},
   "outputs": [
    {
     "name": "stdout",
     "output_type": "stream",
     "text": [
      "False\n"
     ]
    }
   ],
   "source": [
    "if isinstance(obj_b, C):\n",
    "    print(\"True\")\n",
    "else:\n",
    "    print(\"False\")"
   ]
  },
  {
   "cell_type": "markdown",
   "metadata": {},
   "source": [
    "### 9. What is the purpose of the `issubclass()` function in Python? Provide an example."
   ]
  },
  {
   "cell_type": "markdown",
   "metadata": {},
   "source": [
    "`issubclass()` - It is used to check whether an object is subclass of another class. It helps to known any inheritane relationship between the classes"
   ]
  },
  {
   "cell_type": "code",
   "execution_count": 22,
   "metadata": {},
   "outputs": [],
   "source": [
    "# Example\n",
    "\n",
    "class Animal:\n",
    "    pass\n",
    "\n",
    "class Shape:\n",
    "    pass\n",
    "\n",
    "class Dog(Animal):\n",
    "    pass\n",
    "\n",
    "class Cat(Animal):\n",
    "    pass"
   ]
  },
  {
   "cell_type": "code",
   "execution_count": 23,
   "metadata": {},
   "outputs": [
    {
     "data": {
      "text/plain": [
       "True"
      ]
     },
     "execution_count": 23,
     "metadata": {},
     "output_type": "execute_result"
    }
   ],
   "source": [
    "issubclass(Dog, Animal)"
   ]
  },
  {
   "cell_type": "code",
   "execution_count": 25,
   "metadata": {},
   "outputs": [
    {
     "data": {
      "text/plain": [
       "True"
      ]
     },
     "execution_count": 25,
     "metadata": {},
     "output_type": "execute_result"
    }
   ],
   "source": [
    "issubclass(Cat, (Animal, Shape))"
   ]
  },
  {
   "cell_type": "code",
   "execution_count": 26,
   "metadata": {},
   "outputs": [
    {
     "data": {
      "text/plain": [
       "False"
      ]
     },
     "execution_count": 26,
     "metadata": {},
     "output_type": "execute_result"
    }
   ],
   "source": [
    "issubclass(Cat, Shape)"
   ]
  },
  {
   "cell_type": "markdown",
   "metadata": {},
   "source": [
    "### 10. Discuss the concept of constructor inheritance in Python. How are constructors inherited in child classes?"
   ]
  },
  {
   "cell_type": "markdown",
   "metadata": {},
   "source": [
    "In inheritance, calling super class construcotr from subclass with super() function to initialize the super class attributes. "
   ]
  },
  {
   "cell_type": "code",
   "execution_count": 31,
   "metadata": {},
   "outputs": [],
   "source": [
    "class Vehicle:\n",
    "    def __init__(self, make, model):\n",
    "        self.make = make\n",
    "        self.model = model\n",
    "\n",
    "class Car(Vehicle):\n",
    "    def __init__(self, make, model, color):\n",
    "        super().__init__(make, model)\n",
    "        self.color = color\n",
    "\n",
    "    def driver(self):\n",
    "        return f\"Driving {self.make} car\"\n",
    "\n",
    "class Bike(Vehicle):\n",
    "    def __init__(self, make, model):\n",
    "        super().__init__(make, model)\n",
    "\n",
    "    def ride(self):\n",
    "        return f\"Driving {self.make} bike\""
   ]
  },
  {
   "cell_type": "code",
   "execution_count": 33,
   "metadata": {},
   "outputs": [
    {
     "data": {
      "text/plain": [
       "'Driving Honda bike'"
      ]
     },
     "execution_count": 33,
     "metadata": {},
     "output_type": "execute_result"
    }
   ],
   "source": [
    "b = Bike(\"Honda\", 2012)\n",
    "b.ride()"
   ]
  },
  {
   "cell_type": "code",
   "execution_count": 34,
   "metadata": {},
   "outputs": [
    {
     "data": {
      "text/plain": [
       "'Driving Toyota car'"
      ]
     },
     "execution_count": 34,
     "metadata": {},
     "output_type": "execute_result"
    }
   ],
   "source": [
    "c = Car('Toyota', 2012, 'Blue')\n",
    "c.driver()"
   ]
  },
  {
   "cell_type": "markdown",
   "metadata": {},
   "source": [
    "### 11. Create a Python class called `Shape` with a method `area()` that calculates the area of a shape. Then, create child classes `Circle` and `Rectangle` that inherit from `Shape` and implement the `area()` method accordingly. Provide an example."
   ]
  },
  {
   "cell_type": "code",
   "execution_count": 107,
   "metadata": {},
   "outputs": [
    {
     "name": "stdout",
     "output_type": "stream",
     "text": [
      "Area of the circle with radius 5: 78.5\n",
      "Area of the rectangle with width 4 and height 6: 24\n"
     ]
    }
   ],
   "source": [
    "class Shape:\n",
    "    def area(self):\n",
    "        pass\n",
    "\n",
    "class Circle(Shape):\n",
    "    def __init__(self, radius):\n",
    "        self.radius = radius\n",
    "\n",
    "    def area(self):\n",
    "        return 3.14 * self.radius**2\n",
    "\n",
    "class Rectangle(Shape):\n",
    "    def __init__(self, width, height):\n",
    "        self.width = width\n",
    "        self.height = height\n",
    "\n",
    "    def area(self):\n",
    "        return self.width * self.height\n",
    "\n",
    "circle = Circle(5)\n",
    "print(f\"Area of the circle with radius {circle.radius}: {circle.area()}\")\n",
    "\n",
    "rectangle = Rectangle(4, 6)\n",
    "print(f\"Area of the rectangle with width {rectangle.width} and height {rectangle.height}: {rectangle.area()}\")\n"
   ]
  },
  {
   "cell_type": "markdown",
   "metadata": {},
   "source": [
    "### 12. Explain the use of abstract base classes (ABCs) in Python and how they relate to inheritance. Provide an example using the `abc` module."
   ]
  },
  {
   "cell_type": "markdown",
   "metadata": {},
   "source": [
    "Abstract Base Claases used to define the skeleton with set of methods and those classes can be inherited by subclasses for the skeleton implementation.\n",
    "\n",
    "yes, it is related to inheritance. abc module has ABC class, by inherit ABC class we can define skeleton of the program."
   ]
  },
  {
   "cell_type": "code",
   "execution_count": 98,
   "metadata": {},
   "outputs": [],
   "source": [
    "from abc import ABC, abstractmethod\n",
    "\n",
    "class shape(ABC):\n",
    "    \n",
    "    @abstractmethod\n",
    "    def area(self):\n",
    "        pass\n",
    "\n",
    "    @abstractmethod\n",
    "    def greet(self):\n",
    "        pass\n",
    "\n",
    "class circle(shape):\n",
    "\n",
    "    def __init__(self, radius):\n",
    "        self.radius = radius\n",
    "\n",
    "    def greet(self):\n",
    "        return \"This is circle shape\"\n",
    "\n",
    "    def area(self):\n",
    "        return self.radius * self.radius\n",
    "\n",
    "    def a(self):\n",
    "        print(\"this is test\")\n",
    "\n"
   ]
  },
  {
   "cell_type": "code",
   "execution_count": 99,
   "metadata": {},
   "outputs": [
    {
     "data": {
      "text/plain": [
       "25"
      ]
     },
     "execution_count": 99,
     "metadata": {},
     "output_type": "execute_result"
    }
   ],
   "source": [
    "c = circle(5)\n",
    "c.area()"
   ]
  },
  {
   "cell_type": "code",
   "execution_count": 100,
   "metadata": {},
   "outputs": [
    {
     "data": {
      "text/plain": [
       "'This is circle shape'"
      ]
     },
     "execution_count": 100,
     "metadata": {},
     "output_type": "execute_result"
    }
   ],
   "source": [
    "c.greet()"
   ]
  },
  {
   "cell_type": "code",
   "execution_count": 101,
   "metadata": {},
   "outputs": [
    {
     "name": "stdout",
     "output_type": "stream",
     "text": [
      "this is test\n"
     ]
    }
   ],
   "source": [
    "c.a()"
   ]
  },
  {
   "cell_type": "markdown",
   "metadata": {},
   "source": [
    "### 13. How can you prevent a child class from modifying certain attributes or methods inherited from a parent class in Python?"
   ]
  },
  {
   "cell_type": "markdown",
   "metadata": {},
   "source": [
    "with the help of access controls like protected and prite. We can prevent modifying the parent class method by child class.\n",
    "- double underscore means private\n",
    "- single underscore means protected\n",
    "- no underscore means public"
   ]
  },
  {
   "cell_type": "code",
   "execution_count": 73,
   "metadata": {},
   "outputs": [],
   "source": [
    "class intial:\n",
    "\n",
    "    def __init__(self):\n",
    "        self.__a = 65\n",
    "\n",
    "    def __pmethod(self):\n",
    "        return \"this is privte method in class initial\"\n",
    "\n",
    "class sub(intial):\n",
    "\n",
    "    def __init__(self):\n",
    "        super().__init__()\n",
    "\n",
    "    def update_attr(self):\n",
    "        self.__a = 100\n",
    "        print(self.__a)\n",
    "    \n",
    "    def call_private(self):\n",
    "        super().__pmethod()\n",
    "\n"
   ]
  },
  {
   "cell_type": "code",
   "execution_count": 74,
   "metadata": {},
   "outputs": [],
   "source": [
    "s = sub()"
   ]
  },
  {
   "cell_type": "code",
   "execution_count": 75,
   "metadata": {},
   "outputs": [
    {
     "name": "stdout",
     "output_type": "stream",
     "text": [
      "100\n"
     ]
    }
   ],
   "source": [
    "s.update_attr()         # its not updated a value in super class instead its created new varable a in sub class"
   ]
  },
  {
   "cell_type": "code",
   "execution_count": 76,
   "metadata": {},
   "outputs": [
    {
     "ename": "AttributeError",
     "evalue": "'super' object has no attribute '_sub__pmethod'",
     "output_type": "error",
     "traceback": [
      "\u001b[0;31m---------------------------------------------------------------------------\u001b[0m",
      "\u001b[0;31mAttributeError\u001b[0m                            Traceback (most recent call last)",
      "Cell \u001b[0;32mIn[76], line 1\u001b[0m\n\u001b[0;32m----> 1\u001b[0m \u001b[43ms\u001b[49m\u001b[38;5;241;43m.\u001b[39;49m\u001b[43mcall_private\u001b[49m\u001b[43m(\u001b[49m\u001b[43m)\u001b[49m\n",
      "Cell \u001b[0;32mIn[73], line 19\u001b[0m, in \u001b[0;36msub.call_private\u001b[0;34m(self)\u001b[0m\n\u001b[1;32m     18\u001b[0m \u001b[38;5;28;01mdef\u001b[39;00m \u001b[38;5;21mcall_private\u001b[39m(\u001b[38;5;28mself\u001b[39m):\n\u001b[0;32m---> 19\u001b[0m     \u001b[38;5;28;43msuper\u001b[39;49m\u001b[43m(\u001b[49m\u001b[43m)\u001b[49m\u001b[38;5;241;43m.\u001b[39;49m\u001b[43m__pmethod\u001b[49m()\n",
      "\u001b[0;31mAttributeError\u001b[0m: 'super' object has no attribute '_sub__pmethod'"
     ]
    }
   ],
   "source": [
    "s.call_private()    # unable to call private method"
   ]
  },
  {
   "cell_type": "markdown",
   "metadata": {},
   "source": [
    "### 14. Create a Python class called `Employee` with attributes `name` and `salary`. Then, create a child class `Manager` that inherits from `Employee` and adds an attribute `department`. Provide an example."
   ]
  },
  {
   "cell_type": "code",
   "execution_count": 58,
   "metadata": {},
   "outputs": [],
   "source": [
    "class Employee:\n",
    "\n",
    "    def __init__(self, name, salary):\n",
    "        self.name = name\n",
    "        self.salary = salary\n",
    "\n",
    "class Manager(Employee):\n",
    "\n",
    "    def __init__(self, name, salary, department):\n",
    "        super().__init__(name, salary)\n",
    "        self.department = department"
   ]
  },
  {
   "cell_type": "code",
   "execution_count": 59,
   "metadata": {},
   "outputs": [],
   "source": [
    "e1 = Employee('Prasad', 1000)\n",
    "e2 = Employee('Carson', 1200)"
   ]
  },
  {
   "cell_type": "code",
   "execution_count": 61,
   "metadata": {},
   "outputs": [],
   "source": [
    "m1 = Manager('Mahesh', 5000, 'ITS')"
   ]
  },
  {
   "cell_type": "code",
   "execution_count": 62,
   "metadata": {},
   "outputs": [
    {
     "name": "stdout",
     "output_type": "stream",
     "text": [
      "Mahesh 5000 ITS\n"
     ]
    }
   ],
   "source": [
    "print(m1.name, m1.salary, m1.department)"
   ]
  },
  {
   "cell_type": "markdown",
   "metadata": {},
   "source": [
    "### 15. Discuss the concept of method overloading in Python inheritance. How does it differ from method overriding?"
   ]
  },
  {
   "cell_type": "markdown",
   "metadata": {},
   "source": [
    "**Method overloading:** Method overloading deals with multiple methods in the same class, each having a different parameter list."
   ]
  },
  {
   "cell_type": "code",
   "execution_count": 51,
   "metadata": {},
   "outputs": [
    {
     "name": "stdout",
     "output_type": "stream",
     "text": [
      "15\n",
      "30\n"
     ]
    }
   ],
   "source": [
    "# method overloading with the help of default parameters\n",
    "class MathOperations:\n",
    "    def operation(self, a, b):\n",
    "        return a + b\n",
    "\n",
    "class Calculator(MathOperations):\n",
    "    def operation(self, a, b, c=0):\n",
    "        return a + b + c\n",
    "\n",
    "calc = Calculator()\n",
    "result1 = calc.operation(5, 10)       \n",
    "result2 = calc.operation(5, 10, 15)  \n",
    "\n",
    "print(result1)  \n",
    "print(result2)  \n"
   ]
  },
  {
   "cell_type": "code",
   "execution_count": 52,
   "metadata": {},
   "outputs": [],
   "source": [
    "# example 2\n",
    "\n",
    "class Person:\n",
    "\n",
    "    def display_name(self, name):\n",
    "        return f\"My name is {name}\"\n",
    "\n",
    "class Employee(Person):\n",
    "\n",
    "    def display_name(self, first_name , last_name):\n",
    "        return f\"My name is {first_name} {last_name}\""
   ]
  },
  {
   "cell_type": "code",
   "execution_count": 55,
   "metadata": {},
   "outputs": [
    {
     "data": {
      "text/plain": [
       "'My name is Prasad Nagineni'"
      ]
     },
     "execution_count": 55,
     "metadata": {},
     "output_type": "execute_result"
    }
   ],
   "source": [
    "e = Employee()\n",
    "e.display_name('Prasad', 'Nagineni')"
   ]
  },
  {
   "cell_type": "code",
   "execution_count": 57,
   "metadata": {},
   "outputs": [
    {
     "data": {
      "text/plain": [
       "'My name is Prasad Nagineni'"
      ]
     },
     "execution_count": 57,
     "metadata": {},
     "output_type": "execute_result"
    }
   ],
   "source": [
    "p = Person()\n",
    "p.display_name('Prasad Nagineni')"
   ]
  },
  {
   "cell_type": "markdown",
   "metadata": {},
   "source": [
    "### 16. Explain the purpose of the `__init__()` method in Python inheritance and how it is utilized in child classes."
   ]
  },
  {
   "cell_type": "markdown",
   "metadata": {},
   "source": [
    "1. `__init__` method is also constructor which is used to initialize the attributes or properties of object when created.\n",
    "\n",
    "2. In inhetitance, if child and parent class have its own `__init__` method, We can call the parent `__init__` method with the help of super() class to initialized the parent class attributes when child class object created.\n"
   ]
  },
  {
   "cell_type": "code",
   "execution_count": 45,
   "metadata": {},
   "outputs": [],
   "source": [
    "class operation:\n",
    "\n",
    "    def __init__(self, x, y):\n",
    "        self.x = x\n",
    "        self.y = y\n",
    "\n",
    "class arthematic(operation):\n",
    "    def __init__(self, x, y):\n",
    "        super().__init__(x, y)\n",
    "\n",
    "    def addition(self):\n",
    "        return self.x + self.y\n",
    "    \n",
    "    def subtract(self):\n",
    "        return self.x - self.y"
   ]
  },
  {
   "cell_type": "code",
   "execution_count": 46,
   "metadata": {},
   "outputs": [],
   "source": [
    "a = arthematic(4, 5)"
   ]
  },
  {
   "cell_type": "code",
   "execution_count": 47,
   "metadata": {},
   "outputs": [
    {
     "data": {
      "text/plain": [
       "9"
      ]
     },
     "execution_count": 47,
     "metadata": {},
     "output_type": "execute_result"
    }
   ],
   "source": [
    "a.addition()"
   ]
  },
  {
   "cell_type": "code",
   "execution_count": 48,
   "metadata": {},
   "outputs": [
    {
     "data": {
      "text/plain": [
       "-1"
      ]
     },
     "execution_count": 48,
     "metadata": {},
     "output_type": "execute_result"
    }
   ],
   "source": [
    "a.subtract()"
   ]
  },
  {
   "cell_type": "markdown",
   "metadata": {},
   "source": [
    "### 17. Create a Python class called `Bird` with a method `fly()`. Then, create child classes `Eagle` and `Sparrow` that inherit from `Bird` and implement the `fly()` method differently. Provide an example of using these classes."
   ]
  },
  {
   "cell_type": "code",
   "execution_count": 37,
   "metadata": {},
   "outputs": [],
   "source": [
    "class Bird:\n",
    "\n",
    "    def fly(self):\n",
    "        return \"I can fly\"\n",
    "\n",
    "class Eagle(Bird):\n",
    "    def fly(self):\n",
    "        return \"I fly near to the sky\"\n",
    "\n",
    "class Sparrow(Bird):\n",
    "    \n",
    "    def display_sparrrow(self):\n",
    "        return f\"accessing a method fly which is inside Bird class - {super().fly()}\"\n"
   ]
  },
  {
   "cell_type": "code",
   "execution_count": 38,
   "metadata": {},
   "outputs": [
    {
     "data": {
      "text/plain": [
       "'I can fly'"
      ]
     },
     "execution_count": 38,
     "metadata": {},
     "output_type": "execute_result"
    }
   ],
   "source": [
    "b = Bird()\n",
    "b.fly()"
   ]
  },
  {
   "cell_type": "code",
   "execution_count": 39,
   "metadata": {},
   "outputs": [
    {
     "data": {
      "text/plain": [
       "'I fly near to the sky'"
      ]
     },
     "execution_count": 39,
     "metadata": {},
     "output_type": "execute_result"
    }
   ],
   "source": [
    "e = Eagle()\n",
    "e.fly()"
   ]
  },
  {
   "cell_type": "code",
   "execution_count": 40,
   "metadata": {},
   "outputs": [
    {
     "data": {
      "text/plain": [
       "'I can fly'"
      ]
     },
     "execution_count": 40,
     "metadata": {},
     "output_type": "execute_result"
    }
   ],
   "source": [
    "s = Sparrow()\n",
    "s.fly()"
   ]
  },
  {
   "cell_type": "code",
   "execution_count": 41,
   "metadata": {},
   "outputs": [
    {
     "data": {
      "text/plain": [
       "'accessing a method fly which is inside Bird class - I can fly'"
      ]
     },
     "execution_count": 41,
     "metadata": {},
     "output_type": "execute_result"
    }
   ],
   "source": [
    "s.display_sparrrow()"
   ]
  },
  {
   "cell_type": "markdown",
   "metadata": {},
   "source": [
    "### 18. What is the \"diamond problem\" in multiple inheritance, and how does Python address it?"
   ]
  },
  {
   "cell_type": "markdown",
   "metadata": {},
   "source": [
    "**Diamond problem:** if there is diamond shape heiraracy of classes, there could be ambiguity during the implementation of classes. Python utilizes the MRO algirithm and resolves the ambiguity by defining the order of the classes implementation. "
   ]
  },
  {
   "cell_type": "code",
   "execution_count": 16,
   "metadata": {},
   "outputs": [
    {
     "data": {
      "text/plain": [
       "'I am a student irrespective of any gender'"
      ]
     },
     "execution_count": 16,
     "metadata": {},
     "output_type": "execute_result"
    }
   ],
   "source": [
    "# Example 1\n",
    "class person:\n",
    "\n",
    "    def note(self):\n",
    "        return f\"I am a person\"\n",
    "\n",
    "class male(person):\n",
    "    def note(self):\n",
    "        return f\"My gender is male\"\n",
    "\n",
    "class female(person):\n",
    "    def note(self):\n",
    "        return f\"My gender is female\"\n",
    "\n",
    "class student(male, female):\n",
    "    def note(self):\n",
    "        return f\"I am a student irrespective of any gender\"\n",
    "\n",
    "s = student()\n",
    "s.note()"
   ]
  },
  {
   "cell_type": "markdown",
   "metadata": {},
   "source": [
    "- student class inherited male class and female class first\n",
    "- when you s.note(), first it will check if any method in class student. if yes it implemenet else if follows the classes order defined in student class parenthesis i.e male and female. "
   ]
  },
  {
   "cell_type": "code",
   "execution_count": 22,
   "metadata": {},
   "outputs": [
    {
     "data": {
      "text/plain": [
       "[__main__.student, __main__.male, __main__.female, __main__.person, object]"
      ]
     },
     "execution_count": 22,
     "metadata": {},
     "output_type": "execute_result"
    }
   ],
   "source": [
    "student.mro()           # mro() method returns the order of implementation of classes"
   ]
  },
  {
   "cell_type": "code",
   "execution_count": 17,
   "metadata": {},
   "outputs": [
    {
     "data": {
      "text/plain": [
       "'My gender is male'"
      ]
     },
     "execution_count": 17,
     "metadata": {},
     "output_type": "execute_result"
    }
   ],
   "source": [
    "# Example 2\n",
    "class person:\n",
    "\n",
    "    def note(self):\n",
    "        return f\"I am a person\"\n",
    "\n",
    "class male(person):\n",
    "    def note(self):\n",
    "        return f\"My gender is male\"\n",
    "\n",
    "class female(person):\n",
    "    def note(self):\n",
    "        return f\"My gender is female\"\n",
    "\n",
    "class student(male, female):\n",
    "    pass\n",
    "\n",
    "s = student()\n",
    "s.note()"
   ]
  },
  {
   "cell_type": "markdown",
   "metadata": {},
   "source": [
    "- Here, there is no note method in class student\n",
    "- follows the classes order defined in the student class which is first male and next female"
   ]
  },
  {
   "cell_type": "code",
   "execution_count": 23,
   "metadata": {},
   "outputs": [
    {
     "data": {
      "text/plain": [
       "'My gender is female'"
      ]
     },
     "execution_count": 23,
     "metadata": {},
     "output_type": "execute_result"
    }
   ],
   "source": [
    "# example 3\n",
    "# Example 2\n",
    "class person:\n",
    "\n",
    "    def note(self):\n",
    "        return f\"I am a person\"\n",
    "\n",
    "class male(person):\n",
    "    def note(self):\n",
    "        return f\"My gender is male\"\n",
    "\n",
    "class female(person):\n",
    "    def note(self):\n",
    "        return f\"My gender is female\"\n",
    "\n",
    "class student(female, male):        # inter changed the order of male and female classed from above example\n",
    "    pass\n",
    "\n",
    "s = student()\n",
    "s.note()"
   ]
  },
  {
   "cell_type": "code",
   "execution_count": 20,
   "metadata": {},
   "outputs": [
    {
     "data": {
      "text/plain": [
       "'My gender is female'"
      ]
     },
     "execution_count": 20,
     "metadata": {},
     "output_type": "execute_result"
    }
   ],
   "source": [
    "# Example 2\n",
    "class person:\n",
    "\n",
    "    def note(self):\n",
    "        return f\"I am a person\"\n",
    "\n",
    "class male(person):\n",
    "    pass\n",
    "\n",
    "class female(person):\n",
    "    def note(self):\n",
    "        return f\"My gender is female\"\n",
    "\n",
    "class student(male, female):                # first class is male but there is no method notr() in male class, hence as per order it goes to next class which is female class\n",
    "    pass\n",
    "\n",
    "s = student()\n",
    "s.note()"
   ]
  },
  {
   "cell_type": "markdown",
   "metadata": {},
   "source": [
    "### 19. Discuss the concept of \"is-a\" and \"has-a\" relationships in inheritance, and provide examples of each."
   ]
  },
  {
   "cell_type": "markdown",
   "metadata": {},
   "source": [
    "**is-a:** Subclass inherit the properties from the super class. With the help of subclass object, able to access superclass properties and capable to override them .\n",
    "\n",
    "**Example:**\n",
    "\n",
    "```python\n",
    "\n",
    "class language:\n",
    "    def __init__(self, name):\n",
    "        self.name = name\n",
    "\n",
    "    def note(self):\n",
    "        return f\"Welcome to programming language\"\n",
    "\n",
    "class python(language):\n",
    "\n",
    "    def __init__(self, name):\n",
    "        super().__init__(name)\n",
    "\n",
    "    def display_python(self):\n",
    "        return f\"Welcome to {self.name} language\"\n",
    "\n",
    "    def note(self):\n",
    "        return f\"This is note to {self.name} language\"\n",
    "\n",
    "```"
   ]
  },
  {
   "cell_type": "code",
   "execution_count": 33,
   "metadata": {},
   "outputs": [],
   "source": [
    "class language:\n",
    "    def __init__(self, name):\n",
    "        self.name = name\n",
    "\n",
    "    def note(self):\n",
    "        return f\"Welcome to programming language\"\n",
    "\n",
    "class python(language):\n",
    "\n",
    "    def __init__(self, name):\n",
    "        super().__init__(name)\n",
    "\n",
    "    def display_python(self):\n",
    "        return f\"Welcome to {self.name} language\"\n",
    "\n",
    "    def note(self):\n",
    "        return f\"This is note to {self.name} language\"\n"
   ]
  },
  {
   "cell_type": "code",
   "execution_count": 34,
   "metadata": {},
   "outputs": [],
   "source": [
    "l = language('python')  # object `l` created to superclass "
   ]
  },
  {
   "cell_type": "code",
   "execution_count": 35,
   "metadata": {},
   "outputs": [
    {
     "data": {
      "text/plain": [
       "'Welcome to programming language'"
      ]
     },
     "execution_count": 35,
     "metadata": {},
     "output_type": "execute_result"
    }
   ],
   "source": [
    "l.note()    # calling note method(superclass) with superclass object `l`"
   ]
  },
  {
   "cell_type": "code",
   "execution_count": 36,
   "metadata": {},
   "outputs": [
    {
     "data": {
      "text/plain": [
       "'python'"
      ]
     },
     "execution_count": 36,
     "metadata": {},
     "output_type": "execute_result"
    }
   ],
   "source": [
    "l.name  # accessing superclass attribute"
   ]
  },
  {
   "cell_type": "code",
   "execution_count": 37,
   "metadata": {},
   "outputs": [
    {
     "data": {
      "text/plain": [
       "'This is note to PYTHON language'"
      ]
     },
     "execution_count": 37,
     "metadata": {},
     "output_type": "execute_result"
    }
   ],
   "source": [
    "p = python('PYTHON')    # object 'p' created for subclass\n",
    "p.display_python()  # calling display_python method(subclass) with help of base method method\n",
    "p.note()    # overide the note method in superclass with mote method in subclass. "
   ]
  },
  {
   "cell_type": "markdown",
   "metadata": {},
   "source": [
    "**has-a:** if one class contains instance of another class as an attribute, then it represents has-a relationship. It uses the functionality or properties of the another class but doesn't necessarly inherit all of it's behaviour"
   ]
  },
  {
   "cell_type": "code",
   "execution_count": 4,
   "metadata": {},
   "outputs": [],
   "source": [
    "class authentiation:\n",
    "\n",
    "    def auth(self):\n",
    "        return f\"your successfully authenticated to the software\"\n",
    "\n",
    "\n",
    "class application:\n",
    "\n",
    "    def __init__(self, user_name, pass_word):\n",
    "        self.user_name = user_name\n",
    "        self.pass_word = pass_word\n",
    "        self.authenticate = authentiation()\n",
    "\n",
    "    def call_auth(self):\n",
    "        return self.authenticate.auth()"
   ]
  },
  {
   "cell_type": "code",
   "execution_count": 5,
   "metadata": {},
   "outputs": [],
   "source": [
    "a = application('w' ,'p')"
   ]
  },
  {
   "cell_type": "code",
   "execution_count": 6,
   "metadata": {},
   "outputs": [
    {
     "data": {
      "text/plain": [
       "'your successfully authenticated to the software'"
      ]
     },
     "execution_count": 6,
     "metadata": {},
     "output_type": "execute_result"
    }
   ],
   "source": [
    "a.call_auth()"
   ]
  },
  {
   "cell_type": "markdown",
   "metadata": {},
   "source": [
    "**Explantion**\n",
    "- created a class authentication and it has auth method.\n",
    "- created a another class and a attribute which is instance of the authenticate class.\n",
    "- with help of self.autheticate variable we are calling the method inside the authentication function"
   ]
  },
  {
   "cell_type": "markdown",
   "metadata": {},
   "source": [
    "### 20. Create a Python class hierarchy for a university system. Start with a base class `Person` and create child classes `Student` and `Professor`, each with their own attributes and methods. Provide an example of using these classes in a university context."
   ]
  },
  {
   "cell_type": "code",
   "execution_count": 4,
   "metadata": {},
   "outputs": [],
   "source": [
    "class Person:\n",
    "    def __init__(self, first_name, last_name):\n",
    "        self.first_name = first_name\n",
    "        self.last_name = last_name\n",
    "\n",
    "class student(Person):\n",
    "\n",
    "    def __init__(self, fName, lName, student_id, major):\n",
    "        super().__init__(fName, lName)\n",
    "        self.student_id = student_id\n",
    "        self.major = major\n",
    "\n",
    "    def display_student(self):\n",
    "        return \"student ID {}, Student name: {} {}, and major is {}\".format(self.student_id, self.first_name, self.last_name, self.major)\n",
    "\n",
    "class professor(Person):\n",
    "    def __init__(self, firstName, lastName, course, department):\n",
    "        super().__init__(firstName, lastName)\n",
    "        self.course = course\n",
    "        self.department = department\n",
    "\n",
    "    def display_professor(self):\n",
    "        return f\"professor name: {self.first_name} {self.last_name}, course teaching is {self.course} and he belong to department {self.department}\""
   ]
  },
  {
   "cell_type": "code",
   "execution_count": 5,
   "metadata": {},
   "outputs": [],
   "source": [
    "s1 = student('Prasad', 'Nagineni', 1803321, 'Computer science')"
   ]
  },
  {
   "cell_type": "code",
   "execution_count": 6,
   "metadata": {},
   "outputs": [],
   "source": [
    "p1 = professor('Oge', 'Marques', 'Deep Learning', 'Electrial and computer engineering department')"
   ]
  },
  {
   "cell_type": "code",
   "execution_count": 7,
   "metadata": {},
   "outputs": [
    {
     "data": {
      "text/plain": [
       "'student ID 1803321, Student name: Prasad Nagineni, and major is Computer science'"
      ]
     },
     "execution_count": 7,
     "metadata": {},
     "output_type": "execute_result"
    }
   ],
   "source": [
    "s1.display_student()"
   ]
  },
  {
   "cell_type": "code",
   "execution_count": 8,
   "metadata": {},
   "outputs": [
    {
     "data": {
      "text/plain": [
       "'professor name: Oge Marques, course teaching is Deep Learning and he belong to department Electrial and computer engineering department'"
      ]
     },
     "execution_count": 8,
     "metadata": {},
     "output_type": "execute_result"
    }
   ],
   "source": [
    "p1.display_professor()"
   ]
  },
  {
   "cell_type": "markdown",
   "metadata": {},
   "source": [
    "# Encapsulation"
   ]
  },
  {
   "cell_type": "markdown",
   "metadata": {},
   "source": [
    "### 1. Explain the concept of encapsulation in Python. What is its role in object-oriented programming?"
   ]
  },
  {
   "cell_type": "markdown",
   "metadata": {},
   "source": [
    "**Encapsulation:** It helps in hiding the internal details of object implementation from the outside. it helps to prevent unauthorized modifications of class attributes and methods from the outside. \n",
    "\n",
    "With the help of encapsulation, we can achieve data hiding and access control of attributes and methods by specifying the access modifier such as public, protected abd private."
   ]
  },
  {
   "cell_type": "markdown",
   "metadata": {},
   "source": [
    "### 2. Describe the key principles of encapsulation, including access control and data hiding."
   ]
  },
  {
   "cell_type": "markdown",
   "metadata": {},
   "source": [
    "Data hiding and access control key elements in the encapsulation.\n",
    "\n",
    "access control helps to prevent the accessing of attributes and method by specifying access control modifiers such public(default), protected(single underscore) and private(double underscore).\n",
    "\n",
    "Data hiding: hides the internal details of object implementation. Instead of allowing external code to manipulate data directly, encapsulated classes provide public methods that act as interfaces for interacting with the data. "
   ]
  },
  {
   "cell_type": "markdown",
   "metadata": {},
   "source": [
    "### 3. How can you achieve encapsulation in Python classes? Provide an example."
   ]
  },
  {
   "cell_type": "markdown",
   "metadata": {},
   "source": [
    "using access control modifiers we can achieve encapsulation. declare most sensitive attributes as private. Instead of accessing private attributes directly create public method to display and update the private attributes."
   ]
  },
  {
   "cell_type": "code",
   "execution_count": 15,
   "metadata": {},
   "outputs": [
    {
     "name": "stdout",
     "output_type": "stream",
     "text": [
      "Account Number: 123456\n",
      "Balance: 1300\n"
     ]
    }
   ],
   "source": [
    "class BankAccount:\n",
    "    def __init__(self, account_number, balance):\n",
    "        self._account_number = account_number  \n",
    "        self.__balance = balance  \n",
    "\n",
    "    def deposit(self, amount):\n",
    "        if amount > 0:\n",
    "            self.__balance += amount\n",
    "\n",
    "    def withdraw(self, amount):\n",
    "        if amount > 0 and amount <= self.__balance:\n",
    "            self.__balance -= amount\n",
    "        else:\n",
    "            print(\"Insufficient funds\")\n",
    "\n",
    "    def get_balance(self):\n",
    "        return self.__balance\n",
    "\n",
    "    def get_account_number(self):\n",
    "        return self._account_number\n",
    "\n",
    "account = BankAccount(\"123456\", 1000)\n",
    "account.deposit(500)\n",
    "account.withdraw(200)\n",
    "print(f\"Account Number: {account.get_account_number()}\")\n",
    "print(f\"Balance: {account.get_balance()}\")"
   ]
  },
  {
   "cell_type": "markdown",
   "metadata": {},
   "source": [
    "### 4. Discuss the difference between public, private, and protected access modifiers in Python."
   ]
  },
  {
   "cell_type": "code",
   "execution_count": null,
   "metadata": {},
   "outputs": [],
   "source": [
    "Access modifiers are used to specify the scope of the attributes and methods during implementation. \n",
    "There are 3 types of access specifiers: public, protected and private\n",
    "\n",
    "public - class members and methods are accessed anywhere in the program. by default members and methods are public\n",
    "\n",
    "protected - class members and methos are only accessible to a class derived from it. single(_) prefix used to specify the protected access modifiers.\n",
    "\n",
    "private - class members are accessed only within the class. double underscore(__) used to speci private members"
   ]
  },
  {
   "cell_type": "markdown",
   "metadata": {},
   "source": [
    "### 5. Create a Python class called `Person` with a private attribute `__name`. Provide methods to get and set the name attribute."
   ]
  },
  {
   "cell_type": "code",
   "execution_count": 2,
   "metadata": {},
   "outputs": [],
   "source": [
    "class Person:\n",
    "\n",
    "    def __init__(self, name):\n",
    "        self.__name = name\n",
    "\n",
    "    def display_name(self):\n",
    "        return self.__name\n",
    "\n",
    "    def update_name(self, value):\n",
    "        self.__name = value\n",
    "\n",
    "\n",
    "p1 = Person(\"Prasad\")"
   ]
  },
  {
   "cell_type": "code",
   "execution_count": 3,
   "metadata": {},
   "outputs": [
    {
     "data": {
      "text/plain": [
       "'Prasad'"
      ]
     },
     "execution_count": 3,
     "metadata": {},
     "output_type": "execute_result"
    }
   ],
   "source": [
    "p1.display_name()"
   ]
  },
  {
   "cell_type": "code",
   "execution_count": 4,
   "metadata": {},
   "outputs": [
    {
     "data": {
      "text/plain": [
       "'Prasad Nagineni'"
      ]
     },
     "execution_count": 4,
     "metadata": {},
     "output_type": "execute_result"
    }
   ],
   "source": [
    "p1.update_name(\"Prasad Nagineni\")\n",
    "p1.display_name()"
   ]
  },
  {
   "cell_type": "markdown",
   "metadata": {},
   "source": [
    "### 6. Explain the purpose of getter and setter methods in encapsulation. Provide examples."
   ]
  },
  {
   "cell_type": "markdown",
   "metadata": {},
   "source": [
    "getter and setter method helps to hide the actual implementation of the code.\n",
    "\n",
    "getter helps to return the output and setter helps to set the value in encapsulation. "
   ]
  },
  {
   "cell_type": "code",
   "execution_count": 5,
   "metadata": {},
   "outputs": [],
   "source": [
    "class Vehicle:\n",
    "\n",
    "    def __init__(self, make, model, price):\n",
    "        self.make = make\n",
    "        self.model = model\n",
    "        self.__price = price\n",
    "\n",
    "    # method to display the private \n",
    "    def getter(self):\n",
    "        return self.__price \n",
    "\n",
    "    # method to update the private \n",
    "    def setter(self, amt):\n",
    "        self.__price = amt\n",
    "\n",
    "car = Vehicle(\"Ferrari\", 2019, 450000)"
   ]
  },
  {
   "cell_type": "code",
   "execution_count": 6,
   "metadata": {},
   "outputs": [
    {
     "data": {
      "text/plain": [
       "2019"
      ]
     },
     "execution_count": 6,
     "metadata": {},
     "output_type": "execute_result"
    }
   ],
   "source": [
    "car.model"
   ]
  },
  {
   "cell_type": "code",
   "execution_count": 8,
   "metadata": {},
   "outputs": [
    {
     "data": {
      "text/plain": [
       "450000"
      ]
     },
     "execution_count": 8,
     "metadata": {},
     "output_type": "execute_result"
    }
   ],
   "source": [
    "car.getter()"
   ]
  },
  {
   "cell_type": "code",
   "execution_count": 9,
   "metadata": {},
   "outputs": [
    {
     "data": {
      "text/plain": [
       "550000"
      ]
     },
     "execution_count": 9,
     "metadata": {},
     "output_type": "execute_result"
    }
   ],
   "source": [
    "car.setter(550000)\n",
    "car.getter()"
   ]
  },
  {
   "cell_type": "markdown",
   "metadata": {},
   "source": [
    "### 7. What is name mangling in Python, and how does it affect encapsulation?"
   ]
  },
  {
   "cell_type": "markdown",
   "metadata": {},
   "source": [
    "name mangling provides a flexibility to access the private attributes and methods. Eventhough attributes accesssing restricted by using access modifiers. name mangling effects encapsulation by providing a form to access the attributes and methods. \n",
    "\n",
    "syntax to access the private variables/attributes:\n",
    "\n",
    "object._className__attribute"
   ]
  },
  {
   "cell_type": "code",
   "execution_count": 17,
   "metadata": {},
   "outputs": [],
   "source": [
    "class BankAccount:\n",
    "\n",
    "    def __init__(self, balance):\n",
    "        self.__balance = balance\n",
    "\n",
    "    def deposit(self, amount):\n",
    "        self.__balance += amount\n",
    "\n",
    "    def withdraw(self, amount):\n",
    "        if self.__balance >= amount:\n",
    "            self.__balance -=amount\n",
    "\n",
    "    def display_balance(self):\n",
    "        return self.__balance\n",
    "\n",
    "b = BankAccount(1500)"
   ]
  },
  {
   "cell_type": "code",
   "execution_count": 18,
   "metadata": {},
   "outputs": [
    {
     "data": {
      "text/plain": [
       "1500"
      ]
     },
     "execution_count": 18,
     "metadata": {},
     "output_type": "execute_result"
    }
   ],
   "source": [
    "b._BankAccount__balance         # name mangling"
   ]
  },
  {
   "cell_type": "markdown",
   "metadata": {},
   "source": [
    "### 8. Create a Python class called `BankAccount` with private attributes for the account balance (`__balance`) and account number (`__account_number`). Provide methods for depositing and withdrawing money."
   ]
  },
  {
   "cell_type": "code",
   "execution_count": 10,
   "metadata": {},
   "outputs": [],
   "source": [
    "class BankAccount:\n",
    "\n",
    "    def __init__(self, account_holder_name, account_number, balance):\n",
    "        self.account_holder_name = account_holder_name\n",
    "        self.__account_number = account_number\n",
    "        self.__balance = balance\n",
    "\n",
    "    def deposit(self, amount):\n",
    "        self.__balance += amount\n",
    "\n",
    "    def withdraw(self, amount):\n",
    "        if self.__balance >= amount:\n",
    "            self.__balance -=amount\n",
    "\n",
    "    def display_balance(self):\n",
    "        return self.__balance\n",
    "\n",
    "ba = BankAccount(\"Prasad Nagineni\", 1234567890, 1500)"
   ]
  },
  {
   "cell_type": "code",
   "execution_count": 11,
   "metadata": {},
   "outputs": [
    {
     "data": {
      "text/plain": [
       "1500"
      ]
     },
     "execution_count": 11,
     "metadata": {},
     "output_type": "execute_result"
    }
   ],
   "source": [
    "ba.display_balance()"
   ]
  },
  {
   "cell_type": "code",
   "execution_count": 12,
   "metadata": {},
   "outputs": [],
   "source": [
    "ba.deposit(3000)"
   ]
  },
  {
   "cell_type": "code",
   "execution_count": 13,
   "metadata": {},
   "outputs": [
    {
     "data": {
      "text/plain": [
       "4500"
      ]
     },
     "execution_count": 13,
     "metadata": {},
     "output_type": "execute_result"
    }
   ],
   "source": [
    "ba.display_balance()"
   ]
  },
  {
   "cell_type": "code",
   "execution_count": 14,
   "metadata": {},
   "outputs": [
    {
     "data": {
      "text/plain": [
       "0"
      ]
     },
     "execution_count": 14,
     "metadata": {},
     "output_type": "execute_result"
    }
   ],
   "source": [
    "ba.withdraw(4500)\n",
    "ba.display_balance()"
   ]
  },
  {
   "cell_type": "markdown",
   "metadata": {},
   "source": [
    "### 9. Discuss the advantages of encapsulation in terms of code maintainability and security."
   ]
  },
  {
   "cell_type": "markdown",
   "metadata": {},
   "source": [
    "- Data hiding and access control acheives security. It hides the internal implementation and restrict attributes accessing from outside.\n",
    "- Encapsulation breaks code into smaller and manageable parts which can resuable.\n"
   ]
  },
  {
   "cell_type": "markdown",
   "metadata": {},
   "source": [
    "### 10. How can you access private attributes in Python? Provide an example demonstrating the use of name mangling."
   ]
  },
  {
   "cell_type": "markdown",
   "metadata": {},
   "source": [
    "- name mangling helps to access the privates only if you known the class name and attributes. "
   ]
  },
  {
   "cell_type": "code",
   "execution_count": 1,
   "metadata": {},
   "outputs": [
    {
     "name": "stdout",
     "output_type": "stream",
     "text": [
      "142352\n"
     ]
    }
   ],
   "source": [
    "class mangling:\n",
    "\n",
    "    def __init__(self, otp):\n",
    "        self.__otp = otp        # private variable\n",
    "\n",
    "obj = mangling(142352)\n",
    "\n",
    "# name mangling\n",
    "# syntax = objectName._className__attributeName\n",
    "print(obj._mangling__otp)"
   ]
  },
  {
   "cell_type": "markdown",
   "metadata": {},
   "source": [
    "### 11. Create a Python class hierarchy for a school system, including classes for students, teachers, and courses, and implement encapsulation principles to protect sensitive information."
   ]
  },
  {
   "cell_type": "code",
   "execution_count": 12,
   "metadata": {},
   "outputs": [],
   "source": [
    "class Person:\n",
    "\n",
    "    def __init__(self, first_name, last_name, email):\n",
    "        self.first_name = first_name\n",
    "        self.last_name = last_name\n",
    "        self._email = email\n",
    "\n",
    "    def display_details(self):\n",
    "        return f\"Name: {self.first_name + ' ' + self.last_name} and mail: {self._email}\"\n",
    "\n",
    "class students(Person):\n",
    "    def __init__(self, first_name, last_name, email, major, student_id, passport_number):\n",
    "        super().__init__(first_name, last_name, email)\n",
    "        self.major = major\n",
    "        self._student_id = student_id\n",
    "        self.__passport_number = passport_number\n",
    "\n",
    "    def display_passport_info(self):\n",
    "        return self.__passport_number\n",
    "\n",
    "\n",
    "class teachers(Person):\n",
    "    def __init__(self, first_name, last_name, email,  course, employee_id, department, salary):\n",
    "        super().__init__(first_name, last_name, email)\n",
    "        self.course = course\n",
    "        self._employee_id = employee_id\n",
    "        self.department = department\n",
    "        self.__salary = salary\n",
    "\n",
    "    def course_teach(self):\n",
    "        return self.course\n",
    "\n",
    "    def display_salary(self):\n",
    "        return self.__salary\n",
    "\n",
    "    def hike_increment(self, new_salary):\n",
    "        if new_salary > self.__salary:\n",
    "            self.__salary = new_salary\n",
    "\n",
    "\n",
    "class courses:\n",
    "\n",
    "    def __init__(self, course_name, course_code):\n",
    "        self.course_code = course_code\n",
    "        self.course_name = course_name\n",
    "\n",
    "    def display_books(self):\n",
    "        return f\"{self.course_code} : {self.course_name}\"\n"
   ]
  },
  {
   "cell_type": "code",
   "execution_count": 13,
   "metadata": {},
   "outputs": [],
   "source": [
    "s1 = students(\"Prasad\", \"Nagineni\", \"prasad@gmail.com\",\"CSE\", 123, \"F232SWFS\")\n",
    "t1 = teachers(\"Dr. Narasimha\", \"Yeluri\", \"nshima@gmail.com\", \"Machine Learning\", 213213 , \"Computer science\", 120000)\n",
    "c1 = courses(\"Machine Learning\", 5514)"
   ]
  },
  {
   "cell_type": "code",
   "execution_count": 14,
   "metadata": {},
   "outputs": [
    {
     "data": {
      "text/plain": [
       "'Name: Prasad Nagineni and mail: prasad@gmail.com'"
      ]
     },
     "execution_count": 14,
     "metadata": {},
     "output_type": "execute_result"
    }
   ],
   "source": [
    "s1.display_details()"
   ]
  },
  {
   "cell_type": "code",
   "execution_count": 15,
   "metadata": {},
   "outputs": [
    {
     "data": {
      "text/plain": [
       "'Machine Learning'"
      ]
     },
     "execution_count": 15,
     "metadata": {},
     "output_type": "execute_result"
    }
   ],
   "source": [
    "t1.course_teach()"
   ]
  },
  {
   "cell_type": "code",
   "execution_count": 16,
   "metadata": {},
   "outputs": [
    {
     "data": {
      "text/plain": [
       "120000"
      ]
     },
     "execution_count": 16,
     "metadata": {},
     "output_type": "execute_result"
    }
   ],
   "source": [
    "t1.display_salary()"
   ]
  },
  {
   "cell_type": "code",
   "execution_count": 17,
   "metadata": {},
   "outputs": [
    {
     "data": {
      "text/plain": [
       "'5514 : Machine Learning'"
      ]
     },
     "execution_count": 17,
     "metadata": {},
     "output_type": "execute_result"
    }
   ],
   "source": [
    "c1.display_books()"
   ]
  },
  {
   "cell_type": "markdown",
   "metadata": {},
   "source": [
    "### 12. Explain the concept of property decorators in Python and how they relate to encapsulation."
   ]
  },
  {
   "cell_type": "markdown",
   "metadata": {},
   "source": [
    "property decorator allows to implement encapsulation. property has special methods setter, getter to control the access of attributes. \n",
    "\n",
    "property decorator used to hide the internal implementation details of an attributes."
   ]
  },
  {
   "cell_type": "code",
   "execution_count": 20,
   "metadata": {},
   "outputs": [],
   "source": [
    "class addition:\n",
    "\n",
    "    def __init__(self, x, y):\n",
    "        self.__x = x\n",
    "        self.__y = y\n",
    "\n",
    "    @property\n",
    "    def get_x(self):\n",
    "        return self.__x\n",
    "\n",
    "    @get_x.setter\n",
    "    def update_x(self, val):\n",
    "        self.__x = val\n",
    "\n",
    "    @property\n",
    "    def get_y(self):\n",
    "        return self.__y\n",
    "\n",
    "    @get_y.setter\n",
    "    def update_y(self, val):\n",
    "        self.__y = val\n",
    "\n",
    "    def add_num(self):\n",
    "        return self.__x + self.__y"
   ]
  },
  {
   "cell_type": "code",
   "execution_count": 21,
   "metadata": {},
   "outputs": [],
   "source": [
    "ob = addition(4, 4)"
   ]
  },
  {
   "cell_type": "code",
   "execution_count": 22,
   "metadata": {},
   "outputs": [
    {
     "name": "stdout",
     "output_type": "stream",
     "text": [
      "4\n",
      "4\n"
     ]
    }
   ],
   "source": [
    "print(ob.get_x)\n",
    "print(ob.get_y)"
   ]
  },
  {
   "cell_type": "code",
   "execution_count": 23,
   "metadata": {},
   "outputs": [],
   "source": [
    "ob.update_x = 40\n",
    "ob.update_y = 40"
   ]
  },
  {
   "cell_type": "code",
   "execution_count": 24,
   "metadata": {},
   "outputs": [
    {
     "name": "stdout",
     "output_type": "stream",
     "text": [
      "40\n",
      "40\n"
     ]
    }
   ],
   "source": [
    "print(ob.get_x)\n",
    "print(ob.get_y)"
   ]
  },
  {
   "cell_type": "code",
   "execution_count": 25,
   "metadata": {},
   "outputs": [
    {
     "data": {
      "text/plain": [
       "80"
      ]
     },
     "execution_count": 25,
     "metadata": {},
     "output_type": "execute_result"
    }
   ],
   "source": [
    "ob.add_num()"
   ]
  },
  {
   "cell_type": "markdown",
   "metadata": {},
   "source": [
    "### 13. What is data hiding, and why is it important in encapsulation? Provide examples."
   ]
  },
  {
   "cell_type": "code",
   "execution_count": null,
   "metadata": {},
   "outputs": [],
   "source": []
  },
  {
   "cell_type": "markdown",
   "metadata": {},
   "source": [
    "### 14. Create a Python class called `Employee` with private attributes for salary (`__salary`) and employee ID (`__employee_id`). Provide a method to calculate yearly bonuses."
   ]
  },
  {
   "cell_type": "code",
   "execution_count": 29,
   "metadata": {},
   "outputs": [
    {
     "data": {
      "text/plain": [
       "15000.0"
      ]
     },
     "execution_count": 29,
     "metadata": {},
     "output_type": "execute_result"
    }
   ],
   "source": [
    "class Employee:\n",
    "\n",
    "    def __init__(self, employee_id, salary):\n",
    "        self.__salary = salary\n",
    "        self.__employee_id = employee_id\n",
    "\n",
    "    def __year_bonus(self, bonus_percentage):\n",
    "        bonus = self.__salary * bonus_percentage\n",
    "        return bonus\n",
    "\n",
    "    def display_bonus(self, bonus_percentage):\n",
    "        result = self.__year_bonus(bonus_percentage)\n",
    "        return result\n",
    "\n",
    "e = Employee(12345, 100000)\n",
    "e.display_bonus(0.15)"
   ]
  },
  {
   "cell_type": "markdown",
   "metadata": {},
   "source": [
    "### 15. Discuss the use of accessors and mutators in encapsulation. How do they help maintain control over attribute access?"
   ]
  },
  {
   "cell_type": "markdown",
   "metadata": {},
   "source": [
    "accessors and mutators plays crucial role in attributes access control. Generaly accessors known as getter and mutators known as setter methods.\n",
    "\n",
    "accessors public methods helps to return the value of attribute of current onject and restrict to modify the value outside. \n",
    "\n",
    "mutators helps to modify the private attributes. "
   ]
  },
  {
   "cell_type": "code",
   "execution_count": 30,
   "metadata": {},
   "outputs": [],
   "source": [
    "class BankAccount:\n",
    "\n",
    "    def __init__(self, balance):\n",
    "        self.__balance = balance    \n",
    "\n",
    "    # accessors\n",
    "    def get_balance(self):\n",
    "        return self.__balance\n",
    "\n",
    "    # mutators\n",
    "    def deposit(self, amt):\n",
    "        if amt>0:\n",
    "            self.__balance += amt"
   ]
  },
  {
   "cell_type": "markdown",
   "metadata": {},
   "source": [
    "### 16. What are the potential drawbacks or disadvantages of using encapsulation in Python?"
   ]
  },
  {
   "cell_type": "markdown",
   "metadata": {},
   "source": [
    "- writing special method for setter and getter will increase the code. due to there is chance in for performance.\n",
    "- protected access modifier is just a convention. it does not prevent direct access from outside.display_bonus\n",
    "- limited protection, it doesnt prevent all forms of unwanted access. "
   ]
  },
  {
   "cell_type": "markdown",
   "metadata": {},
   "source": [
    "### 17. Create a Python class for a library system that encapsulates book information, including titles, authors, and availability status."
   ]
  },
  {
   "cell_type": "code",
   "execution_count": 43,
   "metadata": {},
   "outputs": [],
   "source": [
    "class book:\n",
    "\n",
    "    def __init__(self, title, author, availability_status):\n",
    "        self.__title = title\n",
    "        self.__author = author\n",
    "        self.__availability_status = availability_status\n",
    "\n",
    "    def barrow_book(self):\n",
    "        if self.__availability_status:\n",
    "            self.__availability_status = False\n",
    "            return f\"you have barrowed the book {self.__title} written by {self.__author}\"\n",
    "        else:\n",
    "            return f\"{self.__title} is not available\"\n",
    "\n",
    "    def return_book(self):\n",
    "        if not self.__availability_status:\n",
    "            self.__availability_status = True\n",
    "            return f\"book returned\"\n",
    "\n",
    "b1 = book(\"Lord of rings\", \"Einstein\", True)\n",
    "b2 = book(\"Sherlock Homes\", \"sherlock\", True)    "
   ]
  },
  {
   "cell_type": "code",
   "execution_count": 44,
   "metadata": {},
   "outputs": [
    {
     "data": {
      "text/plain": [
       "'you have barrowed the book Lord of rings written by Einstein'"
      ]
     },
     "execution_count": 44,
     "metadata": {},
     "output_type": "execute_result"
    }
   ],
   "source": [
    "b1.barrow_book()"
   ]
  },
  {
   "cell_type": "code",
   "execution_count": 45,
   "metadata": {},
   "outputs": [
    {
     "data": {
      "text/plain": [
       "'Lord of rings is not available'"
      ]
     },
     "execution_count": 45,
     "metadata": {},
     "output_type": "execute_result"
    }
   ],
   "source": [
    "b1.barrow_book()"
   ]
  },
  {
   "cell_type": "code",
   "execution_count": 47,
   "metadata": {},
   "outputs": [
    {
     "data": {
      "text/plain": [
       "'book returned'"
      ]
     },
     "execution_count": 47,
     "metadata": {},
     "output_type": "execute_result"
    }
   ],
   "source": [
    "b1.return_book()"
   ]
  },
  {
   "cell_type": "code",
   "execution_count": 48,
   "metadata": {},
   "outputs": [
    {
     "data": {
      "text/plain": [
       "'you have barrowed the book Lord of rings written by Einstein'"
      ]
     },
     "execution_count": 48,
     "metadata": {},
     "output_type": "execute_result"
    }
   ],
   "source": [
    "b1.barrow_book()"
   ]
  },
  {
   "cell_type": "markdown",
   "metadata": {},
   "source": [
    "### 18. Explain how encapsulation enhances code reusability and modularity in Python programs."
   ]
  },
  {
   "cell_type": "markdown",
   "metadata": {},
   "source": [
    "By defining class and its methods it promotes code reusability at anytime in the peoject. \n",
    "\n",
    "By creating public to access the private attributes and reusable accross different part of a program. "
   ]
  },
  {
   "cell_type": "markdown",
   "metadata": {},
   "source": [
    "### 19. Describe the concept of information hiding in encapsulation. Why is it essential in software development?"
   ]
  },
  {
   "cell_type": "markdown",
   "metadata": {},
   "source": [
    "information hiding involved hiding the internal details of object and only with limited access for interacting with it. It is important in software developement industry to increase the security, promote code resuability and mantainance. "
   ]
  },
  {
   "cell_type": "markdown",
   "metadata": {},
   "source": [
    "### 20. Create a Python class called `Customer` with private attributes for customer details like name, address, and contact information. Implement encapsulation to ensure data integrity and security."
   ]
  },
  {
   "cell_type": "code",
   "execution_count": 50,
   "metadata": {},
   "outputs": [],
   "source": [
    "class Customer:\n",
    "\n",
    "    def __init__(self, name, address, contact):\n",
    "        self.__name = name\n",
    "        self.__address = address\n",
    "        self.__contact = contact\n",
    "\n",
    "    @property\n",
    "    def get_name(self):\n",
    "        return self.__name\n",
    "\n",
    "    @get_name.setter\n",
    "    def set_name(self, val):\n",
    "        self.__name = val\n",
    "\n",
    "    def display_address(self):\n",
    "        return self.__address\n",
    "\n",
    "    def set_address(self, new_address):\n",
    "        self.__address = new_address\n",
    "\n",
    "    def display_contact(self):\n",
    "        return self.__address\n",
    "\n",
    "    def set_contact(self, new_contact):\n",
    "        self.__contact = new_contact"
   ]
  },
  {
   "cell_type": "markdown",
   "metadata": {},
   "source": [
    "# Polymorphism"
   ]
  },
  {
   "cell_type": "markdown",
   "metadata": {},
   "source": [
    "### 1. What is polymorphism in Python? Explain how it is related to object-oriented programming."
   ]
  },
  {
   "cell_type": "markdown",
   "metadata": {},
   "source": [
    "**Polymorphism**: method/function with same name that can be used for different purposes. \n",
    "Polymorphism can be achieved by method overloading and method overriding. \n",
    "\n",
    "In method overriding, if there are multiple functions with same name, functions defined in the super class are override by the functions existed in the subclasses.\n",
    "\n",
    "In method overloading, multiple functions with same name but difference in the number of parameters. it executes the function based on the given number of parameters. "
   ]
  },
  {
   "cell_type": "markdown",
   "metadata": {},
   "source": [
    "### 2. Describe the difference between compile-time polymorphism and runtime polymorphism in Python."
   ]
  },
  {
   "cell_type": "code",
   "execution_count": null,
   "metadata": {},
   "outputs": [],
   "source": []
  },
  {
   "cell_type": "markdown",
   "metadata": {},
   "source": [
    "### 3. Create a Python class hierarchy for shapes (e.g., circle, square, triangle) and demonstrate polymorphism through a common method, such as `calculate_area()`."
   ]
  },
  {
   "cell_type": "code",
   "execution_count": 52,
   "metadata": {},
   "outputs": [
    {
     "name": "stdout",
     "output_type": "stream",
     "text": [
      "Area of circle 78.53981633974483\n",
      "Are of square: 16\n",
      "Are of rectangle: 12\n"
     ]
    }
   ],
   "source": [
    "import math\n",
    "class shape:\n",
    "\n",
    "    def calculate_area(self):\n",
    "        pass\n",
    "\n",
    "class circle(shape):\n",
    "\n",
    "    def __init__(self, radius):\n",
    "        self.__radius = radius\n",
    "    \n",
    "    def calculate_area(self):\n",
    "        return math.pi * self.__radius * self.__radius\n",
    "\n",
    "\n",
    "class square(shape):\n",
    "\n",
    "    def __init__(self, side):\n",
    "        self._side = side\n",
    "    \n",
    "    def calculate_area(self):\n",
    "        return self._side * self._side\n",
    "\n",
    "class rectangle(shape):\n",
    "\n",
    "    def __init__(self, length, width):\n",
    "        self.length = length\n",
    "        self.width = width\n",
    "\n",
    "    def calculate_area(self):\n",
    "        return self.length * self.width\n",
    "\n",
    "\n",
    "# Area of circle \n",
    "c = circle(5)\n",
    "print(f\"Area of circle {c.calculate_area()}\")\n",
    "\n",
    "# area of square\n",
    "s = square(4)\n",
    "print(f\"Are of square: {s.calculate_area()}\")\n",
    "\n",
    "# are of rectangle\n",
    "r = rectangle(3, 4)\n",
    "print(f\"Are of rectangle: {r.calculate_area()}\")"
   ]
  },
  {
   "cell_type": "markdown",
   "metadata": {},
   "source": [
    "### 4. Explain the concept of method overriding in polymorphism. Provide an example."
   ]
  },
  {
   "cell_type": "markdown",
   "metadata": {},
   "source": [
    "Method overriding: Inheritance, a funtion with same name in superclass and subclass. During the execution subclass method override the superclass method and return it. "
   ]
  },
  {
   "cell_type": "code",
   "execution_count": 53,
   "metadata": {},
   "outputs": [
    {
     "data": {
      "text/plain": [
       "'This function used to calculate the area of shape'"
      ]
     },
     "execution_count": 53,
     "metadata": {},
     "output_type": "execute_result"
    }
   ],
   "source": [
    "# Method overriding\n",
    "class shape:\n",
    "    def calculate_area(self):\n",
    "        return f\"This function used to calculate the area of shape\"\n",
    "\n",
    "class circle(shape):\n",
    "\n",
    "    def __init__(self, radius):\n",
    "        self.__radius = radius\n",
    "    \n",
    "    def calculate_area(self):\n",
    "        print(\"This function wil override the same function in superclass and calcualte the area of circle\")\n",
    "        return math.pi * self.__radius * self.__radius\n",
    "\n",
    "\n",
    "s = shape()\n",
    "s.calculate_area()"
   ]
  },
  {
   "cell_type": "code",
   "execution_count": 54,
   "metadata": {},
   "outputs": [
    {
     "name": "stdout",
     "output_type": "stream",
     "text": [
      "This function wil override the same function in superclass and calcualte the area of circle\n"
     ]
    },
    {
     "data": {
      "text/plain": [
       "12.566370614359172"
      ]
     },
     "execution_count": 54,
     "metadata": {},
     "output_type": "execute_result"
    }
   ],
   "source": [
    "c = circle(2)\n",
    "c.calculate_area()      # override the calculate_area method in class shape"
   ]
  },
  {
   "cell_type": "markdown",
   "metadata": {},
   "source": [
    "### 5. How is polymorphism different from method overloading in Python? Provide examples for both."
   ]
  },
  {
   "cell_type": "markdown",
   "metadata": {},
   "source": [
    "ploymorphism: In python, polymorphism is primarirly achieved by method overriding. means subclass method with same name override the method defined in the superclass.\n",
    "\n",
    "method overloading: it is also one of the polymorphsim but limited in python. its achieved by defining multiple functions with same name but differ in number of arguments. python doesnt distinguish based on argument types, as it relies on the runtime polymorphism. "
   ]
  },
  {
   "cell_type": "code",
   "execution_count": 57,
   "metadata": {},
   "outputs": [
    {
     "ename": "TypeError",
     "evalue": "add() missing 1 required positional argument: 'c'",
     "output_type": "error",
     "traceback": [
      "\u001b[0;31m---------------------------------------------------------------------------\u001b[0m",
      "\u001b[0;31mTypeError\u001b[0m                                 Traceback (most recent call last)",
      "Cell \u001b[0;32mIn[57], line 11\u001b[0m\n\u001b[1;32m      8\u001b[0m cal \u001b[38;5;241m=\u001b[39m Calculator()\n\u001b[1;32m     10\u001b[0m \u001b[38;5;66;03m# These calls will result in a TypeError at runtime due to the latest definition of the 'add' method.\u001b[39;00m\n\u001b[0;32m---> 11\u001b[0m result1 \u001b[38;5;241m=\u001b[39m \u001b[43mcal\u001b[49m\u001b[38;5;241;43m.\u001b[39;49m\u001b[43madd\u001b[49m\u001b[43m(\u001b[49m\u001b[38;5;241;43m2\u001b[39;49m\u001b[43m,\u001b[49m\u001b[43m \u001b[49m\u001b[38;5;241;43m3\u001b[39;49m\u001b[43m)\u001b[49m\n",
      "\u001b[0;31mTypeError\u001b[0m: add() missing 1 required positional argument: 'c'"
     ]
    }
   ],
   "source": [
    "# method overloading\n",
    "class Calculator:\n",
    "    def add(self, a, b):\n",
    "        return a + b\n",
    "\n",
    "    def add(self, a, b, c):\n",
    "        return a + b + c\n",
    "\n",
    "cal = Calculator()\n",
    "\n",
    "result1 = cal.add(2, 3)\n",
    "\n",
    "# this results error, the latest add method overrides the previous add method.\n",
    "# but with the help of default arguments we can achieve limited overloading\n"
   ]
  },
  {
   "cell_type": "code",
   "execution_count": 59,
   "metadata": {},
   "outputs": [
    {
     "name": "stdout",
     "output_type": "stream",
     "text": [
      "5\n",
      "10\n"
     ]
    }
   ],
   "source": [
    "# method overloading\n",
    "class Calculator:\n",
    "    def add(self, a, b):\n",
    "        return a + b\n",
    "\n",
    "    def add(self, a, b, c=0):  # c is default argument\n",
    "        return a + b + c\n",
    "\n",
    "cal = Calculator()\n",
    "\n",
    "result1 = cal.add(2, 3)\n",
    "result2 = cal.add(2, 3, 5)      # No error\n",
    "print(result1)\n",
    "print(result2)"
   ]
  },
  {
   "cell_type": "code",
   "execution_count": 60,
   "metadata": {},
   "outputs": [
    {
     "data": {
      "text/plain": [
       "'Welcome to class B'"
      ]
     },
     "execution_count": 60,
     "metadata": {},
     "output_type": "execute_result"
    }
   ],
   "source": [
    "# Polymorphism\n",
    "\n",
    "class A:\n",
    "\n",
    "    def test(self):\n",
    "        return \"Welcome to class A\"\n",
    "\n",
    "class B:\n",
    "\n",
    "    def test(self):\n",
    "        return \"Welcome to class B\"\n",
    "\n",
    "b = B()\n",
    "b.test()"
   ]
  },
  {
   "cell_type": "markdown",
   "metadata": {},
   "source": [
    "### 6. Create a Python class called `Animal` with a method `speak()`. Then, create child classes like `Dog`, `Cat`, and `Bird`, each with their own `speak()` method. Demonstrate polymorphism by calling the `speak()` method on objects of different subclasses."
   ]
  },
  {
   "cell_type": "code",
   "execution_count": 62,
   "metadata": {},
   "outputs": [
    {
     "name": "stdout",
     "output_type": "stream",
     "text": [
      "Animal sound - no sound\n",
      "Dog sound: - Bow Bow\n",
      "Cat sound: - Miyav Miyav\n",
      "Bird sound: - Sounds different\n"
     ]
    }
   ],
   "source": [
    "class Animal:\n",
    "\n",
    "    def speak(self):\n",
    "        return \"no sound\"\n",
    "\n",
    "class Dog(Animal):\n",
    "    def speak(self):\n",
    "        return \"Bow Bow\"\n",
    "\n",
    "class Cat(Animal):\n",
    "    def speak(self):\n",
    "        return \"Miyav Miyav\"\n",
    "\n",
    "class Bird(Animal):\n",
    "    def speak(self):\n",
    "        return \"Sounds different\"\n",
    "\n",
    "a = Animal()\n",
    "print(f\"Animal sound - {a.speak()}\")\n",
    "\n",
    "d = Dog()\n",
    "print(f\"Dog sound: - {d.speak()}\")\n",
    "\n",
    "c = Cat()\n",
    "print(f\"Cat sound: - {c.speak()}\")\n",
    "\n",
    "b = Bird()\n",
    "print(f\"Bird sound: - {b.speak()}\")"
   ]
  },
  {
   "cell_type": "markdown",
   "metadata": {},
   "source": [
    "### 7. Discuss the use of abstract methods and classes in achieving polymorphism in Python. Provide an example using the `abc` module."
   ]
  },
  {
   "cell_type": "markdown",
   "metadata": {},
   "source": [
    "abstract methods and classes used to define the skeleton of the program without any implementation. Those methods are overriden by the subclass classes which is nothing but polymorphism. "
   ]
  },
  {
   "cell_type": "code",
   "execution_count": 1,
   "metadata": {},
   "outputs": [
    {
     "name": "stdout",
     "output_type": "stream",
     "text": [
      "abstract test method\n",
      "abstract test1 method\n"
     ]
    }
   ],
   "source": [
    "from abc import ABC, abstractmethod\n",
    "\n",
    "class A(ABC):\n",
    "\n",
    "    @abstractmethod\n",
    "    def test(self):\n",
    "        pass\n",
    "    \n",
    "    @abstractmethod\n",
    "    def test1(self):\n",
    "        pass\n",
    "\n",
    "class B(A):\n",
    "\n",
    "    def test(self):\n",
    "        return \"abstract test method\"\n",
    "\n",
    "    def test1(self):\n",
    "        return \"abstract test1 method\"\n",
    "\n",
    "\n",
    "b = B()\n",
    "\n",
    "print(b.test())\n",
    "print(b.test1())"
   ]
  },
  {
   "cell_type": "markdown",
   "metadata": {},
   "source": [
    "### 8. Create a Python class hierarchy for a vehicle system (e.g., car, bicycle, boat) and implement a polymorphic `start()` method that prints a message specific to each vehicle type."
   ]
  },
  {
   "cell_type": "code",
   "execution_count": 2,
   "metadata": {},
   "outputs": [
    {
     "name": "stdout",
     "output_type": "stream",
     "text": [
      "I can drive car\n",
      "I can drive bicycle\n",
      "I can drive boat\n"
     ]
    }
   ],
   "source": [
    "from abc import ABC, abstractmethod\n",
    "\n",
    "class skeleton(ABC):\n",
    "\n",
    "    @abstractmethod\n",
    "    def start(self):\n",
    "        pass\n",
    "\n",
    "class vehicle(skeleton):\n",
    "\n",
    "    def start(self):\n",
    "        pass\n",
    "\n",
    "class car(vehicle):\n",
    "\n",
    "    def start(self):\n",
    "        return f\"I can drive car\"\n",
    "\n",
    "class bicycle(vehicle):\n",
    "\n",
    "    def start(self):\n",
    "        return f\"I can drive bicycle\"\n",
    "\n",
    "class boat(vehicle):\n",
    "    \n",
    "    def start(self):\n",
    "        return f\"I can drive boat\"\n",
    "\n",
    "c = car()\n",
    "print(c.start())\n",
    "\n",
    "b = bicycle()\n",
    "print(b.start())\n",
    "\n",
    "bo = boat()\n",
    "print(bo.start())"
   ]
  },
  {
   "cell_type": "markdown",
   "metadata": {},
   "source": [
    "### 9. Explain the significance of the `isinstance()` and `issubclass()` functions in Python polymorphism."
   ]
  },
  {
   "cell_type": "code",
   "execution_count": null,
   "metadata": {},
   "outputs": [],
   "source": []
  },
  {
   "cell_type": "markdown",
   "metadata": {},
   "source": [
    "### 10. What is the role of the `@abstractmethod` decorator in achieving polymorphism in Python? Provide an example."
   ]
  },
  {
   "cell_type": "code",
   "execution_count": null,
   "metadata": {},
   "outputs": [],
   "source": []
  },
  {
   "cell_type": "markdown",
   "metadata": {},
   "source": [
    "### 11. Create a Python class called `Shape` with a polymorphic method `area()` that calculates the area of different shapes (e.g., circle, rectangle, triangle)."
   ]
  },
  {
   "cell_type": "code",
   "execution_count": 4,
   "metadata": {},
   "outputs": [
    {
     "name": "stdout",
     "output_type": "stream",
     "text": [
      "Area of circle is 9\n",
      "Area of rectangle is 18\n",
      "Area of triangle is 5.0\n"
     ]
    }
   ],
   "source": [
    "\n",
    "class shape:\n",
    "    def area(self):\n",
    "        pass\n",
    "\n",
    "class circle(shape):\n",
    "\n",
    "    def __init__(self, radius):\n",
    "        self._radius = radius\n",
    "\n",
    "    def area(self):\n",
    "        return self._radius * self._radius\n",
    "\n",
    "class rectangle(shape):\n",
    "    def __init__(self, length, width):\n",
    "        self.__length = length\n",
    "        self.__width = width\n",
    "\n",
    "    def area(self):\n",
    "        return self.__length * self.__width\n",
    "\n",
    "class triangle(shape):\n",
    "    def __init__(self, base, height):\n",
    "        self.base = base\n",
    "        self.height = height\n",
    "\n",
    "    def area(self):\n",
    "        return 0.5 * self.base * self.height\n",
    "\n",
    "c = circle(3)\n",
    "print(f\"Area of circle is {c.area()}\")\n",
    "\n",
    "r = rectangle(6, 3)\n",
    "print(f\"Area of rectangle is {r.area()}\")\n",
    "\n",
    "t = triangle(2, 5)\n",
    "print(f\"Area of triangle is {t.area()}\")"
   ]
  },
  {
   "cell_type": "markdown",
   "metadata": {},
   "source": [
    "### 12. Discuss the benefits of polymorphism in terms of code reusability and flexibility in Python programs."
   ]
  },
  {
   "cell_type": "code",
   "execution_count": null,
   "metadata": {},
   "outputs": [],
   "source": []
  },
  {
   "cell_type": "markdown",
   "metadata": {},
   "source": [
    "### 13. Explain the use of the `super()` function in Python polymorphism. How does it help call methods of parent classes?"
   ]
  },
  {
   "cell_type": "code",
   "execution_count": null,
   "metadata": {},
   "outputs": [],
   "source": []
  },
  {
   "cell_type": "markdown",
   "metadata": {},
   "source": [
    "### 14. Create a Python class hierarchy for a banking system with various account types (e.g., savings, checking, credit card) and demonstrate polymorphism by implementing a common `withdraw()` method."
   ]
  },
  {
   "cell_type": "code",
   "execution_count": null,
   "metadata": {},
   "outputs": [],
   "source": []
  },
  {
   "cell_type": "markdown",
   "metadata": {},
   "source": [
    "### 15. Describe the concept of operator overloading in Python and how it relates to polymorphism. Provide examples using operators like `+` and `*`."
   ]
  },
  {
   "cell_type": "code",
   "execution_count": null,
   "metadata": {},
   "outputs": [],
   "source": []
  },
  {
   "cell_type": "markdown",
   "metadata": {},
   "source": [
    "### 16. What is dynamic polymorphism, and how is it achieved in Python?"
   ]
  },
  {
   "cell_type": "code",
   "execution_count": null,
   "metadata": {},
   "outputs": [],
   "source": []
  },
  {
   "cell_type": "markdown",
   "metadata": {},
   "source": [
    "### 17. Create a Python class hierarchy for employees in a company (e.g., manager, developer, designer) and implement polymorphism through a common `calculate_salary()` method."
   ]
  },
  {
   "cell_type": "code",
   "execution_count": null,
   "metadata": {},
   "outputs": [],
   "source": [
    "class employee:\n",
    "\n",
    "    def calculate_salary(self):\n",
    "        pass\n",
    "\n",
    "class manager(employee):\n",
    "    def calculate_salary(self):\n",
    "        pass\n",
    "\n",
    "class developer(employee):\n",
    "    def calculate_salary(self):\n",
    "        pass\n",
    "\n",
    "class designer(employee):\n",
    "    def calculate_salary(self):\n",
    "        pass"
   ]
  },
  {
   "cell_type": "markdown",
   "metadata": {},
   "source": [
    "### 18. Discuss the concept of function pointers and how they can be used to achieve polymorphism in Python."
   ]
  },
  {
   "cell_type": "code",
   "execution_count": null,
   "metadata": {},
   "outputs": [],
   "source": []
  },
  {
   "cell_type": "markdown",
   "metadata": {},
   "source": [
    "### 19. Explain the role of interfaces and abstract classes in polymorphism, drawing comparisons between them."
   ]
  },
  {
   "cell_type": "code",
   "execution_count": null,
   "metadata": {},
   "outputs": [],
   "source": []
  },
  {
   "cell_type": "markdown",
   "metadata": {},
   "source": [
    "### 20. Create a Python class for a zoo simulation, demonstrating polymorphism with different animal types (e.g., mammals, birds, reptiles) and their behavior (e.g., eating, sleeping, making sounds)."
   ]
  },
  {
   "cell_type": "code",
   "execution_count": 6,
   "metadata": {},
   "outputs": [
    {
     "name": "stdout",
     "output_type": "stream",
     "text": [
      "==========mammals==========\n",
      "mammals eat both plans and animals\n",
      "mammals sleep 18-20 hours per day\n",
      "mammals can howl, bark, roar, growl, chuff, click, croak, whistle, and hoot \n",
      "==========birds==========\n",
      "birds eats fruits\n",
      "birds sleeping during night time\n",
      "birds can sounds like chirps, rattles, whistles, trills, croaks\n",
      "==========birds==========\n",
      "reptiles eats nsects, mollusks, birds, frogs, mammals, fishes, \n",
      "reptiles sleep 4-7 hours per day\n",
      "reptiles sounds like squeaks, chirps, chitters, and croaks\n"
     ]
    }
   ],
   "source": [
    "class animal:\n",
    "\n",
    "    def eating(self):\n",
    "        pass\n",
    "    def sleeping(self):\n",
    "        pass\n",
    "    def making_sounds(self):\n",
    "        pass\n",
    "\n",
    "class mammals(animal):\n",
    "\n",
    "    def eating(self):\n",
    "        return \"mammals eat both plans and animals\"\n",
    "    def sleeping(self):\n",
    "        return \"mammals sleep 18-20 hours per day\"\n",
    "    def making_sounds(self):\n",
    "        return \"mammals can howl, bark, roar, growl, chuff, click, croak, whistle, and hoot \"\n",
    "\n",
    "class birds(animal):\n",
    "\n",
    "    def eating(self):\n",
    "        return \"birds eats fruits\"\n",
    "    def sleeping(self):\n",
    "        return \"birds sleeping during night time\"\n",
    "    def making_sounds(self):\n",
    "        return \"birds can sounds like chirps, rattles, whistles, trills, croaks\"\n",
    "class reptiles(animal):\n",
    "\n",
    "    def eating(self):\n",
    "        return \"reptiles eats nsects, mollusks, birds, frogs, mammals, fishes, \"\n",
    "    def sleeping(self):\n",
    "        return \"reptiles sleep 4-7 hours per day\"\n",
    "    def making_sounds(self):\n",
    "        return \"reptiles sounds like squeaks, chirps, chitters, and croaks\"\n",
    "\n",
    "m = mammals()\n",
    "print(\"==========mammals==========\")\n",
    "print(m.eating())\n",
    "print(m.sleeping())\n",
    "print(m.making_sounds())\n",
    "\n",
    "b = birds()\n",
    "print(\"==========birds==========\")\n",
    "print(b.eating())\n",
    "print(b.sleeping())\n",
    "print(b.making_sounds())\n",
    "\n",
    "r = reptiles()\n",
    "print(\"==========birds==========\")\n",
    "print(r.eating())\n",
    "print(r.sleeping())\n",
    "print(r.making_sounds())"
   ]
  },
  {
   "cell_type": "markdown",
   "metadata": {},
   "source": [
    "# Abstraction"
   ]
  },
  {
   "cell_type": "markdown",
   "metadata": {},
   "source": [
    "### 1. What is abstraction in Python, and how does it relate to object-oriented programming?"
   ]
  },
  {
   "cell_type": "markdown",
   "metadata": {},
   "source": [
    "Abstraction is the process of hiding implementation details and shows only interface of the class. In python, we can achieve with Abstract classes, abstract methods and interfaces.\n",
    "\n",
    "In python, we can create abstract classes without implementation of methods, ensuring that these methods will be implemented in the subclasses.\n"
   ]
  },
  {
   "cell_type": "markdown",
   "metadata": {},
   "source": [
    "### 2. Describe the benefits of abstraction in terms of code organization and complexity reduction."
   ]
  },
  {
   "cell_type": "markdown",
   "metadata": {},
   "source": [
    "Programmers uses abstract classes to create structure of the program without implementing any methods. Those methods will be implemeted in subclasses. This prmotes modularity as well.\n",
    "\n",
    "Abstraction allows to divide complex systems into smallar programs and will be implemented in the subclasses. its reduces the code complexity"
   ]
  },
  {
   "cell_type": "markdown",
   "metadata": {},
   "source": [
    "### 3. Create a Python class called `Shape` with an abstract method `calculate_area()`. Then, create child classes (e.g., `Circle`, `Rectangle`) that implement the `calculate_area()` method. Provide an example of using these classes."
   ]
  },
  {
   "cell_type": "code",
   "execution_count": 2,
   "metadata": {},
   "outputs": [
    {
     "name": "stdout",
     "output_type": "stream",
     "text": [
      "28.274333882308138\n",
      "8\n"
     ]
    }
   ],
   "source": [
    "from abc import ABC, abstractmethod\n",
    "import math\n",
    "\n",
    "class Shape(ABC):\n",
    "\n",
    "    @abstractmethod\n",
    "    def calculate_area(self):\n",
    "        pass\n",
    "\n",
    "class Circle(Shape):\n",
    "\n",
    "    def __init__(self, r):\n",
    "        self.radius = r\n",
    "\n",
    "    def calculate_area(self):\n",
    "        return math.pi * self.radius * self.radius\n",
    "\n",
    "class Rectangle(Shape):\n",
    "    def __init__(self, l , b):\n",
    "        self.length = l \n",
    "        self.width = b\n",
    "\n",
    "    def calculate_area(self):\n",
    "        return self.length * self.width\n",
    "\n",
    "\n",
    "c = Circle(3)\n",
    "# Area of circle\n",
    "print(c.calculate_area())\n",
    "r = Rectangle(4, 2)\n",
    "# Area of Rectangle\n",
    "print(r.calculate_area())\n"
   ]
  },
  {
   "cell_type": "markdown",
   "metadata": {},
   "source": [
    "### 4. Explain the concept of abstract classes in Python and how they are defined using the `abc` module. Provide an example."
   ]
  },
  {
   "cell_type": "markdown",
   "metadata": {},
   "source": [
    "Abstract class will be used to create the blueprints for other classes. abstract classes cannot instantiated on thier own. it contain abstract methods without any implementation, these methods are must be overridden by the subclasses to provide specific implementation.\n",
    "\n",
    "python has abc module, this provides way to create abstract classes and abstract methods.\n",
    "ABC class from abc module will be inherited to create abstract classes. "
   ]
  },
  {
   "cell_type": "markdown",
   "metadata": {},
   "source": [
    "### 5. How do abstract classes differ from regular classes in Python? Discuss their use cases."
   ]
  },
  {
   "cell_type": "markdown",
   "metadata": {},
   "source": [
    "Abstract classes is just define the blueprint to the other classes and abstract methods acting as placeholders without implementation. Abstraction cannot be instatianted. \n",
    "\n",
    "Regular classes can be instatiated on their own and implement the methods in itself. "
   ]
  },
  {
   "cell_type": "markdown",
   "metadata": {},
   "source": [
    "### 6. Create a Python class for a bank account and demonstrate abstraction by hiding the account balance and providing methods to deposit and withdraw funds."
   ]
  },
  {
   "cell_type": "code",
   "execution_count": 12,
   "metadata": {},
   "outputs": [
    {
     "data": {
      "text/plain": [
       "15000"
      ]
     },
     "execution_count": 12,
     "metadata": {},
     "output_type": "execute_result"
    }
   ],
   "source": [
    "from abc import ABC, abstractmethod\n",
    "\n",
    "class BankOperations(ABC):\n",
    "\n",
    "    @abstractmethod\n",
    "    def deposit(self, amt):\n",
    "        pass\n",
    "\n",
    "    @abstractmethod\n",
    "    def withdraw(self, amt):\n",
    "        pass\n",
    "\n",
    "class BankAccount(BankOperations):\n",
    "\n",
    "    def __init__(self, balance):\n",
    "        self.balance = balance\n",
    "\n",
    "    def deposit(self, amount):\n",
    "        self.balance += amount\n",
    "\n",
    "    def withdraw(self, amount):\n",
    "        if self.balance >= amount:\n",
    "            self.balance -= amount\n",
    "\n",
    "    def display_balance(self):\n",
    "        return self.balance\n",
    "\n",
    "\n",
    "acc = BankAccount(20000) \n",
    "acc.deposit(5000)\n",
    "acc.withdraw(10000)\n",
    "acc.display_balance()"
   ]
  },
  {
   "cell_type": "markdown",
   "metadata": {},
   "source": [
    "### 7. Discuss the concept of interface classes in Python and their role in achieving abstraction."
   ]
  },
  {
   "cell_type": "markdown",
   "metadata": {},
   "source": [
    "In python, There is no different concept of interface unlike other programming, but we can acheive the interface by using abstract class to define the stracture without any implementation.\n",
    "\n",
    "Its important to organize the code and maintain."
   ]
  },
  {
   "cell_type": "markdown",
   "metadata": {},
   "source": [
    "### 8. Create a Python class hierarchy for animals and implement abstraction by defining common methods (e.g., `eat()`, `sleep()`) in an abstract base class."
   ]
  },
  {
   "cell_type": "code",
   "execution_count": 13,
   "metadata": {},
   "outputs": [
    {
     "data": {
      "text/plain": [
       "'Animals sleep in nights'"
      ]
     },
     "execution_count": 13,
     "metadata": {},
     "output_type": "execute_result"
    }
   ],
   "source": [
    "from abc import  ABC, abstractmethod\n",
    "\n",
    "class structure(ABC):\n",
    "\n",
    "    @abstractmethod\n",
    "    def eat(self):\n",
    "        pass\n",
    "\n",
    "    @abstractmethod\n",
    "    def sleep(self):\n",
    "        pass\n",
    "\n",
    "class animals(structure):\n",
    "    \n",
    "    def eat(self):\n",
    "        return f\"Animals eat veg and meat\"\n",
    "    \n",
    "    def sleep(self):\n",
    "        return f\"Animals sleep in nights\"\n",
    "\n",
    "dog = animals()\n",
    "dog.sleep()"
   ]
  },
  {
   "cell_type": "markdown",
   "metadata": {},
   "source": [
    "### 9. Explain the significance of encapsulation in achieving abstraction. Provide examples."
   ]
  },
  {
   "cell_type": "markdown",
   "metadata": {},
   "source": [
    "Encapsulation: bundling the data atributes and methods, it hides the internal implementation details of object from the outside.Encapsulation allows to expose only the necessary inerfaces to intercat with the object.\n",
    "\n",
    "- Encapsulation helps in hiding the complexities and implementation of a object.\n",
    "- Encapsulation allows classes to define how the object should be used without revealing of its implementation\n",
    "- Encapsulation ensures that only permissable methods and properties are accessible from outside.\n",
    "\n",
    "All these things helps to achieve abstrtion in encapsulation."
   ]
  },
  {
   "cell_type": "code",
   "execution_count": 5,
   "metadata": {},
   "outputs": [],
   "source": [
    "class BankAccount:\n",
    "    def __init__(self, account_number, balance):\n",
    "        self._account_number = account_number  # Encapsulated attribute\n",
    "        self.__balance = balance  # Encapsulated attribute\n",
    "\n",
    "    def deposit(self, amount):\n",
    "        if amount > 0:\n",
    "            self.__balance += amount\n",
    "            print(f\"balance: ${self.__balance}\")\n",
    "        else:\n",
    "            print(\"Invalid deposit amount.\")\n",
    "\n",
    "    def withdraw(self, amount):\n",
    "        if 0 < amount <= self.__balance:\n",
    "            self._balance -= amount\n",
    "            print(f\"balance: ${self.__balance}\")\n",
    "        else:\n",
    "            print(\"Insufficient funds or invalid amount.\")\n",
    "\n",
    "    # Encapsulated method\n",
    "    def get_balance(self):\n",
    "        return self.__balance\n"
   ]
  },
  {
   "cell_type": "markdown",
   "metadata": {},
   "source": [
    "### 10. What is the purpose of abstract methods, and how do they enforce abstraction in Python classes?"
   ]
  },
  {
   "cell_type": "markdown",
   "metadata": {},
   "source": [
    "Abstract methods helps to create methods without any implementation, which will act as just placeholders in the classes. It ensures that the subclasses should provide the implementation of those methods. If fails it will throws erros."
   ]
  },
  {
   "cell_type": "markdown",
   "metadata": {},
   "source": [
    "### 11. Create a Python class for a vehicle system and demonstrate abstraction by defining common methods (e.g., `start()`, `stop()`) in an abstract base class."
   ]
  },
  {
   "cell_type": "code",
   "execution_count": 3,
   "metadata": {},
   "outputs": [],
   "source": [
    "from abc import ABC, abstractmethod\n",
    "\n",
    "class system(ABC):\n",
    "\n",
    "    # Method placeholder\n",
    "    @abstractmethod\n",
    "    def start(self):\n",
    "        pass\n",
    "\n",
    "    # Another method placeholder\n",
    "    @abstractmethod\n",
    "    def stop(self):\n",
    "        pass\n",
    "\n",
    "class vehicle(system):\n",
    "\n",
    "    def start(self):\n",
    "        return f\"This function used to start the vehicle.\"\n",
    "\n",
    "    def stop(self):\n",
    "        return f\"This function used to stop the vehicle.\""
   ]
  },
  {
   "cell_type": "markdown",
   "metadata": {},
   "source": [
    "### 12. Describe the use of abstract properties in Python and how they can be employed in abstract classes."
   ]
  },
  {
   "cell_type": "markdown",
   "metadata": {},
   "source": [
    "Abstract properties are elements of abstract classes that allows you to define a structure of classes without implementing its functionality. These properties must be implemented in the subclasses. \n",
    "\n",
    "In python, abstract classes created using `abc` module and abstract methods are decorated with `@abstractmethod` from `abc` module. \n"
   ]
  },
  {
   "cell_type": "markdown",
   "metadata": {},
   "source": [
    "### 13. Create a Python class hierarchy for employees in a company (e.g., manager, developer, designer) and implement abstraction by defining a common `get_salary()` method."
   ]
  },
  {
   "cell_type": "code",
   "execution_count": 11,
   "metadata": {},
   "outputs": [
    {
     "name": "stdout",
     "output_type": "stream",
     "text": [
      "500k\n",
      "250k\n",
      "280k\n"
     ]
    }
   ],
   "source": [
    "from abc import ABC, abstractmethod\n",
    "\n",
    "class person(ABC):\n",
    "\n",
    "    @abstractmethod\n",
    "    def get_salary(self):\n",
    "        pass\n",
    "\n",
    "class manager(person):\n",
    "\n",
    "    def __init__(self, salary):\n",
    "        self.salary = salary\n",
    "\n",
    "    def get_salary(self):\n",
    "        return self.salary\n",
    "\n",
    "class developer(person):\n",
    "    def __init__(self, salary):\n",
    "        self.dev_salary = salary\n",
    "\n",
    "    def get_salary(self):\n",
    "        return self.dev_salary\n",
    "\n",
    "class designer(person):\n",
    "\n",
    "    def __init__(self, salary):\n",
    "        self.des_salary = salary\n",
    "\n",
    "    def get_salary(self):\n",
    "        return self.des_salary\n",
    "\n",
    "\n",
    "m = manager('500k')\n",
    "dev = developer('250k')\n",
    "des = designer('280k')\n",
    "\n",
    "print(m.get_salary())\n",
    "print(dev.get_salary())\n",
    "print(des.get_salary())"
   ]
  },
  {
   "cell_type": "markdown",
   "metadata": {},
   "source": [
    "### 14. Discuss the differences between abstract classes and concrete classes in Python, including their instantiation."
   ]
  },
  {
   "cell_type": "markdown",
   "metadata": {},
   "source": [
    "Abstract classes - Classes contain abstract method (empty methods) without any implementation. Subclasses inherited those methods and override methods with implementation. But, Abstract classes does allow to create object directly. whereas concrete class allows to create instance and allows to acces methods."
   ]
  },
  {
   "cell_type": "markdown",
   "metadata": {},
   "source": [
    "### 15. Explain the concept of abstract data types (ADTs) and their role in achieving abstraction in Python."
   ]
  },
  {
   "cell_type": "markdown",
   "metadata": {},
   "source": [
    "The abstract data type is a kind of data types, whose bahaviour is defined to perform set of operations. But the actual implemtation how they are working are hidden from end user. \n",
    "\n",
    "Stack, Queue are common examples of Abstract data types, Stack data strcture provide list of function to perfrom some operation but we actually dont know what exactly happening. "
   ]
  },
  {
   "cell_type": "markdown",
   "metadata": {},
   "source": [
    "### 16. Create a Python class for a computer system, demonstrating abstraction by defining common methods (e.g., `power_on()`, `shutdown()`) in an abstract base class."
   ]
  },
  {
   "cell_type": "code",
   "execution_count": 10,
   "metadata": {},
   "outputs": [
    {
     "name": "stdout",
     "output_type": "stream",
     "text": [
      "Shutting down computer 1234\n",
      "Turning on computer 1234\n"
     ]
    }
   ],
   "source": [
    "from abc import ABC, abstractmethod\n",
    "\n",
    "class power(ABC):\n",
    "\n",
    "    @abstractmethod\n",
    "    def power_on(self, id):\n",
    "        pass\n",
    "\n",
    "    @abstractmethod\n",
    "    def shutdown(self):\n",
    "        pass\n",
    "\n",
    "class computer(power):\n",
    "\n",
    "    def power_on(self, id):\n",
    "        return f\"Turning on computer {id}\"\n",
    "\n",
    "    def shutdown(self, id):\n",
    "        return f\"Shutting down computer {id}\"\n",
    "\n",
    "\n",
    "c = computer()\n",
    "print(c.shutdown(1234))\n",
    "print(c.power_on(1234))\n"
   ]
  },
  {
   "cell_type": "markdown",
   "metadata": {},
   "source": [
    "### 17. Discuss the benefits of using abstraction in large-scale software development projects."
   ]
  },
  {
   "cell_type": "markdown",
   "metadata": {},
   "source": [
    "- Abstrction allows to create interface of the application. \n",
    "- Abstraction allows divide complex application into smaller modules and implement in subclasses.\n",
    "- Easy to maintain by adding additional methods in application skeletion intrface module. \n",
    "- Collobrating with team members, Assiging each abstract interface to team and work independently, combine them later. \n"
   ]
  },
  {
   "cell_type": "markdown",
   "metadata": {},
   "source": [
    "### 18. Explain how abstraction enhances code reusability and modularity in Python programs."
   ]
  },
  {
   "cell_type": "markdown",
   "metadata": {},
   "source": [
    "Abstraction allows programmers to create a skeleton of the application. later, developer implements the interface. This way abstraction enhances code reusability and modularity.\n",
    "\n",
    "Code Resuability:\n",
    "- Abstract class provides the skeleton that contain abstract methods without implementation. following subclasses must implement those abstract methods which are in abstract class. \n",
    "\n",
    "Modularity:\n",
    "- Abstraction provide encapsulation by hiding the inter detailed implementation of the module.\n",
    "- Breaking down the complex programs into smaller abstract module and reuse those whenever required. "
   ]
  },
  {
   "cell_type": "markdown",
   "metadata": {},
   "source": [
    "### 19. Create a Python class for a library system, implementing abstraction by defining common methods (e.g., `add_book()`, `borrow_book()`) in an abstract base class."
   ]
  },
  {
   "cell_type": "code",
   "execution_count": 9,
   "metadata": {},
   "outputs": [
    {
     "name": "stdout",
     "output_type": "stream",
     "text": [
      "None\n",
      "['Lord of Rings', 'Wings of freedom', 'Hope', 'Change the mind']\n",
      "Wings of freedom is borrowed\n",
      "No book with title How to be success\n"
     ]
    }
   ],
   "source": [
    "from abc import ABC, abstractmethod\n",
    "\n",
    "class library(ABC):\n",
    "\n",
    "    @abstractmethod\n",
    "    def add_book(self):\n",
    "        pass\n",
    "\n",
    "    @abstractmethod\n",
    "    def borrow_book(self):\n",
    "        pass\n",
    "\n",
    "class mainCampus(library):\n",
    "\n",
    "    def __init__(self, books):\n",
    "        self.books = books\n",
    "\n",
    "    def add_book(self, title):\n",
    "        self.books.append(title) \n",
    "\n",
    "    def borrow_book(self, title):\n",
    "        if title in self.books:\n",
    "            self.books.remove(title)\n",
    "            return f\"{title} is borrowed\"\n",
    "        else:\n",
    "            return f\"No book with title {title}\"\n",
    "\n",
    "    def display_books(self):\n",
    "        return self.books\n",
    "\n",
    "\n",
    "\n",
    "## instance of class\n",
    "l = mainCampus(['Lord of Rings', 'Wings of freedom', 'Hope'])\n",
    "print(l.add_book('Change the mind'))\n",
    "print(l.display_books())\n",
    "print(l.borrow_book('Wings of freedom'))\n",
    "print(l.borrow_book('How to be success'))\n"
   ]
  },
  {
   "cell_type": "markdown",
   "metadata": {},
   "source": [
    "### 20. Describe the concept of method abstraction in Python and how it relates to polymorphism."
   ]
  },
  {
   "cell_type": "markdown",
   "metadata": {},
   "source": [
    "Method abstraction is the process of hiding the internal implementation of method, they will act as placeholders. These functions are inherited in the subclasses and those are overwritten with new functionality(polymorphism)\n",
    "\n",
    "Polymorphism means a function with same name but act as different purpose at different situations. \n",
    "\n",
    "Hence, Method abstraction is also one type of polymorphism."
   ]
  },
  {
   "cell_type": "markdown",
   "metadata": {},
   "source": [
    "# Composition"
   ]
  },
  {
   "cell_type": "markdown",
   "metadata": {},
   "source": [
    "### 1. Explain the concept of composition in Python and how it is used to build complex objects from simpler ones."
   ]
  },
  {
   "cell_type": "markdown",
   "metadata": {},
   "source": [
    "In composition, a class contains instances of other classes as attributes, allows to reuse functionalities.\n",
    "\n",
    "In inside class we can instance as the attribute of the class and with the help of instance attributes we can call the method/atttributes defined in above class"
   ]
  },
  {
   "cell_type": "code",
   "execution_count": 9,
   "metadata": {},
   "outputs": [
    {
     "name": "stdout",
     "output_type": "stream",
     "text": [
      "Your authenticated successfully\n"
     ]
    }
   ],
   "source": [
    "class valid:\n",
    "    def authenticate(self):\n",
    "        print(\"Your authenticated successfully\")\n",
    "\n",
    "class application:\n",
    "\n",
    "    def __init__(self):\n",
    "        self.auth = valid()\n",
    "\n",
    "    def login(self):\n",
    "        self.auth.authenticate()\n",
    "\n",
    "app = application()\n",
    "app.login()"
   ]
  },
  {
   "cell_type": "markdown",
   "metadata": {},
   "source": [
    "### 2. Describe the difference between composition and inheritance in object-oriented programming."
   ]
  },
  {
   "cell_type": "markdown",
   "metadata": {},
   "source": [
    "In inheritance, subclass will inherit the all the properties from the super class and those methods/attributes accessed with subclass object.\n",
    "\n",
    "In composition, it almost similar to inheritance, but in class instance of class as attributes and it will be helped to reuse the functionalities."
   ]
  },
  {
   "cell_type": "markdown",
   "metadata": {},
   "source": [
    "### 3. Create a Python class called `Author` with attributes for name and birthdate. Then, create a `Book` class that contains an instance of `Author` as a composition. Provide an example of creating a `Book` object."
   ]
  },
  {
   "cell_type": "code",
   "execution_count": 11,
   "metadata": {},
   "outputs": [
    {
     "name": "stdout",
     "output_type": "stream",
     "text": [
      "Name:Lord of rings, BirthDate:Harry potter\n"
     ]
    }
   ],
   "source": [
    "class Author:\n",
    "    def __init__(self, name, birthdate):\n",
    "        self.name = name\n",
    "        self.birthdate = birthdate\n",
    "    \n",
    "    def display(self):\n",
    "        print(f\"Name:{self.name}, BirthDate:{self.birthdate}\")\n",
    "\n",
    "class Book:\n",
    "    def __init__(self, name, birthdate):\n",
    "        self.author = Author(name, birthdate)\n",
    "\n",
    "    def display_author(self):\n",
    "        self.author.display()\n",
    "\n",
    "b = Book(\"Lord of rings\", 'Harry potter')\n",
    "b.display_author()\n"
   ]
  },
  {
   "cell_type": "markdown",
   "metadata": {},
   "source": [
    "### 4. Discuss the benefits of using composition over inheritance in Python, especially in terms of code flexibility and reusability."
   ]
  },
  {
   "cell_type": "markdown",
   "metadata": {},
   "source": [
    "flexibility: \n",
    "Inheritance introduces complexity whenever extending the class behaviour. but its easily add new behaviour by creating new classes without modification of any existed classes(dynamic).\n",
    "\n",
    "Reusability: \n",
    "\n",
    "Inheritance: writing unnecessary codes in subclasses.\n",
    "\n",
    "composition: access class methods independently."
   ]
  },
  {
   "cell_type": "markdown",
   "metadata": {},
   "source": [
    "### 5. How can you implement composition in Python classes? Provide examples of using composition to create complex objects."
   ]
  },
  {
   "cell_type": "code",
   "execution_count": 8,
   "metadata": {},
   "outputs": [
    {
     "name": "stdout",
     "output_type": "stream",
     "text": [
      "Start\n"
     ]
    }
   ],
   "source": [
    "class Engine:\n",
    "    \n",
    "    def start(self):\n",
    "        print(\"Start\")\n",
    "\n",
    "    def stop(self):\n",
    "        print(\"Stop\")\n",
    "\n",
    "class Car(Engine):\n",
    "\n",
    "    def __init__(self):\n",
    "        self.engine = Engine()\n",
    "\n",
    "    def start_car(self):\n",
    "        self.engine.start()\n",
    "\n",
    "    def stop_car(self):\n",
    "        self.engine.stop()\n",
    "        \n",
    "\n",
    "c = Car()\n",
    "c.start_car()\n",
    "    "
   ]
  },
  {
   "cell_type": "markdown",
   "metadata": {},
   "source": [
    "### 6. Create a Python class hierarchy for a music player system, using composition to represent playlists and songs."
   ]
  },
  {
   "cell_type": "code",
   "execution_count": 9,
   "metadata": {},
   "outputs": [
    {
     "name": "stdout",
     "output_type": "stream",
     "text": [
      "playing songs\n"
     ]
    }
   ],
   "source": [
    "class Song:\n",
    "\n",
    "    def __init__(self, title, duration):\n",
    "        self.title = title\n",
    "        self.duration = duration\n",
    "\n",
    "    def song_info(self):\n",
    "        return f\"Song title: {self.title} and Duration: {self.duration}\"\n",
    "\n",
    "class Playlist:\n",
    "\n",
    "    def __init__(self, name):\n",
    "        self.name = name\n",
    "        self.playlist = []\n",
    "\n",
    "    def add_song(self, song_obj):\n",
    "        if isinstance(song_obj, Song):\n",
    "            self.playlist.append(song_obj)\n",
    "            return True\n",
    "        else:\n",
    "            print(\"Invalid song\")\n",
    "            return False\n",
    "\n",
    "    def remove_song(self, song):\n",
    "        if song in self.playlist:\n",
    "            self.playlist.remove(song)\n",
    "        else:\n",
    "            print(\"song not found\")\n",
    "\n",
    "class MusicPlayer:\n",
    "    def __init__(self):\n",
    "        self.playlists = {}\n",
    "\n",
    "    def create_playlist(self, name):\n",
    "        if name not in self.playlists:\n",
    "            self.playlists[name] = Playlist(name)\n",
    "            print(f\"Created playlist {name}\")\n",
    "        else:\n",
    "            print(\"Playlist with that name already existed\")\n",
    "\n",
    "    def add_song_to_playlist(self, playlist_name, song):\n",
    "        if playlist_name in self.playlists:\n",
    "            playlist = self.playlists[playlist_name]\n",
    "            playlist.add_song(song)"
   ]
  },
  {
   "cell_type": "markdown",
   "metadata": {},
   "source": [
    "### 7. Explain the concept of \"has-a\" relationships in composition and how it helps design software systems."
   ]
  },
  {
   "cell_type": "markdown",
   "metadata": {},
   "source": [
    "instance of one class is attribute of other classes, it means the class has has-a relationship with another class. This relationship can established with composition.\n",
    "\n",
    "It promotes modularirty, means breaking down complex systems into smller, manageble components.\n",
    "\n",
    "Code reusability, By composing objects, you can reuse existing classes in different contexts. \n"
   ]
  },
  {
   "cell_type": "markdown",
   "metadata": {},
   "source": [
    "### 8. Create a Python class for a computer system, using composition to represent components like CPU, RAM, and storage devices."
   ]
  },
  {
   "cell_type": "code",
   "execution_count": 2,
   "metadata": {},
   "outputs": [
    {
     "name": "stdout",
     "output_type": "stream",
     "text": [
      "CPU: 8, RAM: 16, and Storage: 1024\n"
     ]
    }
   ],
   "source": [
    "class RAM:\n",
    "\n",
    "    def __init__(self, make, size):\n",
    "        self.make = make\n",
    "        self.size = size\n",
    "\n",
    "class CPU:\n",
    "\n",
    "    def __init__(self, maker, core):\n",
    "        self.maker = maker\n",
    "        self.core = core\n",
    "\n",
    "class storageDevices:\n",
    "\n",
    "    def __init__(self, device_type, size):\n",
    "        self.device_type = device_type\n",
    "        self.size = size\n",
    "\n",
    "class computer:\n",
    "\n",
    "    def __init__(self, cpu, ram, storage_device):\n",
    "        self.ram = ram\n",
    "        self.cpu = cpu\n",
    "        self.storage_device = storage_device\n",
    "\n",
    "    def system_features(self):\n",
    "        return f\"CPU: {self.cpu.size}, RAM: {self.ram.size}, and Storage: {self.storage_device.size}\"\n",
    "\n",
    "\n",
    "obj_ram = RAM('NVIDIA',16)\n",
    "obj_cpu = RAM('Intel', 8)\n",
    "obj_storage = storageDevices('Seagate', 1024)\n",
    "\n",
    "com = computer(obj_cpu, obj_ram, obj_storage)\n",
    "print(com.system_features())"
   ]
  },
  {
   "cell_type": "markdown",
   "metadata": {},
   "source": [
    "### 9. Describe the concept of \"delegation\" in composition and how it simplifies the design of complex systems."
   ]
  },
  {
   "cell_type": "markdown",
   "metadata": {},
   "source": [
    "Delegation in composition involves creating classes that utilizes other classes as components to delegate specific functionalities. Instead of using inheritance to acquire behaviors a class delegates tasks to its constituent objects, allowing for a more modular, flexible structure."
   ]
  },
  {
   "cell_type": "code",
   "execution_count": 1,
   "metadata": {},
   "outputs": [
    {
     "name": "stdout",
     "output_type": "stream",
     "text": [
      "Engine started.\n",
      "Wheels rotating\n",
      "Gear shfited\n"
     ]
    }
   ],
   "source": [
    "class Engine:\n",
    "    def start(self):\n",
    "        print(\"Engine started.\")\n",
    "\n",
    "class Wheels:\n",
    "    def rotate(self):\n",
    "        print(\"Wheels rotating\")\n",
    "\n",
    "class Transmission:\n",
    "    def shift_gear(self):\n",
    "        print(\"Gear shfited\")\n",
    "\n",
    "\n",
    "class car:\n",
    "\n",
    "    def __init__(self):\n",
    "        self.engine = Engine()\n",
    "        self.wheels = Wheels()\n",
    "        self.transmission = Transmission()\n",
    "    \n",
    "    def start_car(self):\n",
    "        self.engine.start()\n",
    "        self.wheels.rotate()\n",
    "        self.transmission.shift_gear()\n",
    "\n",
    "c = car()\n",
    "c.start_car()"
   ]
  },
  {
   "cell_type": "markdown",
   "metadata": {},
   "source": [
    "### 10. Create a Python class for a car, using composition to represent components like the engine, wheels, and transmission."
   ]
  },
  {
   "cell_type": "code",
   "execution_count": 1,
   "metadata": {},
   "outputs": [
    {
     "ename": "SyntaxError",
     "evalue": "unexpected EOF while parsing (1277342951.py, line 41)",
     "output_type": "error",
     "traceback": [
      "\u001b[0;36m  Cell \u001b[0;32mIn[1], line 41\u001b[0;36m\u001b[0m\n\u001b[0;31m    print(obj_car.details()\u001b[0m\n\u001b[0m                           ^\u001b[0m\n\u001b[0;31mSyntaxError\u001b[0m\u001b[0;31m:\u001b[0m unexpected EOF while parsing\n"
     ]
    }
   ],
   "source": [
    "class Engine:\n",
    "    def __init__(self, rpm, fuel_type):\n",
    "        self.rpm = rpm\n",
    "        self.fuel_type = fuel_type\n",
    "\n",
    "    def speed(self):\n",
    "        return f\"Engine speed in {self.rpm} KMPH\"\n",
    "\n",
    "    def fuel(self):\n",
    "        return f\"Engine fuel is {self.fuel_type}\"\n",
    "\n",
    "class Wheels:\n",
    "    def __init__(self, no_of_wheels):\n",
    "        self.no_of_wheels = no_of_wheels\n",
    "\n",
    "    def vehicle_wheels(self):\n",
    "        return f\"It is {self.no_of_wheels} wheeler\"\n",
    "\n",
    "class transmission:\n",
    "    def __init__(self, no_of_gears):\n",
    "        self.no_of_gears = no_of_gears\n",
    "\n",
    "class car:\n",
    "\n",
    "    def __init__(self, obj_engine, obj_wheels, obj_transmission):\n",
    "        self.engine = obj_engine\n",
    "        self.wheels = obj_wheels\n",
    "        self.transmission = obj_transmission\n",
    "    \n",
    "    def details(self):\n",
    "        return f\"\"\"{self.engine.speed()}, \n",
    "        {self.engine.fuel()}, \n",
    "        {self.wheels.vehicle_wheels()} \"\"\"\n",
    "\n",
    "\n",
    "obj_engine = Engine(200, \"Petrol\")\n",
    "obj_wheels = Wheels(4)\n",
    "obj_transmission = transmission(5)\n",
    "\n",
    "obj_car = car(obj_engine, obj_wheels, obj_transmission)\n",
    "print(obj_car.details()\n"
   ]
  },
  {
   "cell_type": "markdown",
   "metadata": {},
   "source": [
    "### 11. How can you encapsulate and hide the details of composed objects in Python classes to maintain abstraction?"
   ]
  },
  {
   "cell_type": "code",
   "execution_count": 16,
   "metadata": {},
   "outputs": [
    {
     "name": "stdout",
     "output_type": "stream",
     "text": [
      "Car speed is 200 and fuel type is Petrol\n"
     ]
    }
   ],
   "source": [
    "class Engine:\n",
    "    def __init__(self, rpm, fuel_type):\n",
    "        self.__rpm = rpm\n",
    "        self.__fuel_type = fuel_type\n",
    "\n",
    "    def speed(self):\n",
    "        return self.__rpm\n",
    "\n",
    "    def fuel(self):\n",
    "        return self.__fuel_type\n",
    "\n",
    "class car:\n",
    "\n",
    "    def __init__(self, obj_engine):\n",
    "        self.engine = obj_engine\n",
    "    \n",
    "    def details(self):\n",
    "        return f\"Car speed is {self.engine.speed()} and fuel type is {self.engine.fuel()}\"\n",
    "\n",
    "\n",
    "obj_engine = Engine(200, \"Petrol\")\n",
    "\n",
    "obj_car = car(obj_engine)\n",
    "print(obj_car.details())"
   ]
  },
  {
   "cell_type": "markdown",
   "metadata": {},
   "source": [
    "### 12. Create a Python class for a university course, using composition to represent students, instructors, and course materials."
   ]
  },
  {
   "cell_type": "code",
   "execution_count": 19,
   "metadata": {},
   "outputs": [
    {
     "name": "stdout",
     "output_type": "stream",
     "text": [
      "student: Prasad, instrctor: Denni Ricahrd and materails: ['Stats by author1', 'Stats by aother2']\n"
     ]
    }
   ],
   "source": [
    "class students:\n",
    "\n",
    "    def __init__(self, name, ids):\n",
    "        self.name = name\n",
    "        self.ids = ids\n",
    "        \n",
    "\n",
    "class instructors:\n",
    "    def __init__(self, name, ids):\n",
    "        self.name = name\n",
    "        self.id = ids\n",
    "\n",
    "class course_materials:\n",
    "    def __init__(self):\n",
    "        self.materials = []\n",
    "\n",
    "    def add_materials(self, book):\n",
    "        self.materials.append(book)\n",
    "    \n",
    "    def remove_material(self, book):\n",
    "        self.materials.remove(book)\n",
    "    \n",
    "    def materials_list(self):\n",
    "        return self.materials\n",
    "\n",
    "class course:\n",
    "    def __init__(self, obj_student, obj_instructors, obj_course_materials):\n",
    "        self.student = obj_student\n",
    "        self.instructors = obj_instructors\n",
    "        self.course_materials = obj_course_materials\n",
    "\n",
    "    def course_details(self):\n",
    "        return f\"student: {self.student.name}, instrctor: {self.instructors.name} and materails: {self.course_materials.materials_list()}\"\n",
    "\n",
    "\n",
    "s1 = students(\"Prasad\", 'S1234567')\n",
    "ins1 = instructors(\"Denni Ricahrd\", \"INS23343\")\n",
    "course_mat = course_materials()\n",
    "course_mat.add_materials(\"Stats by author1\")\n",
    "course_mat.add_materials(\"Stats by aother2\")\n",
    "\n",
    "\n",
    "obj_course = course(s1, ins1, course_mat)\n",
    "print(obj_course.course_details())\n",
    "\n"
   ]
  },
  {
   "cell_type": "markdown",
   "metadata": {},
   "source": [
    "### 13. Discuss the challenges and drawbacks of composition, such as increased complexity and potential for tight coupling between objects."
   ]
  },
  {
   "cell_type": "markdown",
   "metadata": {},
   "source": [
    "- Increased Complexity: Managing relationships among multiple objects becomes complex as the system grows.\n",
    "- Potential Tight Coupling: Improper design can lead to objects being too interdependent, causing changes in one to affect others significantly.\n",
    "- Dependency Management: Handling dependencies between components can be intricate and may require careful management."
   ]
  },
  {
   "cell_type": "markdown",
   "metadata": {},
   "source": [
    "### 14. Create a Python class hierarchy for a restaurant system, using composition to represent menus, dishes, and ingredients."
   ]
  },
  {
   "cell_type": "code",
   "execution_count": null,
   "metadata": {},
   "outputs": [],
   "source": [
    "\n",
    "class menus:\n",
    "    def __init__(self):\n",
    "        self.menu = []\n",
    "\n",
    "    def add_item(self, item):\n",
    "        self.menu.append(item)\n",
    "\n",
    "    def remove_item(self, item):\n",
    "        self.menu.remove(item)\n",
    "\n",
    "    def menuItems(self):\n",
    "        return self.menu\n",
    "\n",
    "\n",
    "class ingredients:\n",
    "    def __init__(self):\n",
    "        self.ingreds = []\n",
    "    \n",
    "    def add_ingred(self, item):\n",
    "        self.ingreds.append(item)\n",
    "\n",
    "    def remove_ingred(self, item):\n",
    "        self.ingreds.remove(item)\n",
    "\n",
    "    def ingredItems(self):\n",
    "        return self.ingreds\n",
    "\n",
    "class dishes:\n",
    "    def __init__(self, dish_item, obj_menu, obj_ingredients):\n",
    "        self.menu = obj_menu\n",
    "        self.ingredients = obj_ingredients\n",
    "        self.item = dish_item\n",
    "\n",
    "    def prepare(self):\n",
    "        if self.item in menu:\n",
    "            return f\"{self.item} is preparing with ingredients: {self.obj_ingredients}\"\n",
    "        "
   ]
  },
  {
   "cell_type": "markdown",
   "metadata": {},
   "source": [
    "### 15. Explain how composition enhances code maintainability and modularity in Python programs."
   ]
  },
  {
   "cell_type": "markdown",
   "metadata": {},
   "source": [
    "- Breaks down complex systems into smaller, manageable components, making code easier to understand and maintain.\n",
    "\n",
    "- Encourages reuse of components across projects, reducing redundancy and making codebases more maintainable.\n",
    "\n",
    "- Components maintain their functionality, reducing dependencies and offering well-defined interfaces, simplifying maintenance."
   ]
  },
  {
   "cell_type": "markdown",
   "metadata": {},
   "source": [
    "### 16. Create a Python class for a computer game character, using composition to represent attributes like weapons, armor, and inventory."
   ]
  },
  {
   "cell_type": "code",
   "execution_count": 2,
   "metadata": {},
   "outputs": [
    {
     "name": "stdout",
     "output_type": "stream",
     "text": [
      "to attack enemies\n"
     ]
    }
   ],
   "source": [
    "class weapon:\n",
    "    def fire(self):\n",
    "        print(\"to attack enemies\")\n",
    "\n",
    "class armor:\n",
    "    def protect(self):\n",
    "        print(\"defend from attckers\")\n",
    "\n",
    "class inventory:\n",
    "    def __init__(self):\n",
    "        self.shop_items = []\n",
    "\n",
    "    def add_items(self, item):\n",
    "        self.shop_items.append(item)\n",
    "\n",
    "class gameCharacter:\n",
    "    def __init__(self, character_type):\n",
    "        self.character_type = character_type\n",
    "        self.attach = weapon()\n",
    "        self.defend = armor()\n",
    "        self.shop = inventory()\n",
    "\n",
    "    def attach_with_weapon(self):\n",
    "        self.attach.fire()\n",
    "\n",
    "    def defend(self):\n",
    "        self.defend.protect()\n",
    "\n",
    "anime = gameCharacter('Tom')\n",
    "anime.attach_with_weapon()\n",
    "\n"
   ]
  },
  {
   "cell_type": "markdown",
   "metadata": {},
   "source": [
    "### 17. Describe the concept of \"aggregation\" in composition and how it differs from simple composition."
   ]
  },
  {
   "cell_type": "code",
   "execution_count": null,
   "metadata": {},
   "outputs": [],
   "source": []
  },
  {
   "cell_type": "markdown",
   "metadata": {},
   "source": [
    "### 18. Create a Python class for a house, using composition to represent rooms, furniture, and appliances."
   ]
  },
  {
   "cell_type": "code",
   "execution_count": null,
   "metadata": {},
   "outputs": [],
   "source": []
  },
  {
   "cell_type": "markdown",
   "metadata": {},
   "source": [
    "### 19. How can you achieve flexibility in composed objects by allowing them to be replaced or modified dynamically at runtime?"
   ]
  },
  {
   "cell_type": "code",
   "execution_count": 14,
   "metadata": {},
   "outputs": [
    {
     "name": "stdout",
     "output_type": "stream",
     "text": [
      "Processed Text: HELLO WORLD!\n",
      "Processed Text: hello world!\n"
     ]
    }
   ],
   "source": [
    "from abc import ABC, abstractmethod\n",
    "\n",
    "class TextFormatter(ABC):\n",
    "    @abstractmethod\n",
    "    def format_text(self, text):\n",
    "        pass\n",
    "\n",
    "class UpperCaseFormatter(TextFormatter):\n",
    "    def format_text(self, text):\n",
    "        return text.upper()\n",
    "\n",
    "class LowerCaseFormatter(TextFormatter):\n",
    "    def format_text(self, text):\n",
    "        return text.lower()\n",
    "\n",
    "class TextProcessor:\n",
    "    def __init__(self, formatter):\n",
    "        self.formatter = formatter\n",
    "\n",
    "    def process_text(self, text):\n",
    "        formatted_text = self.formatter.format_text(text)\n",
    "        print(\"Processed Text:\", formatted_text)\n",
    "\n",
    "default_formatter = UpperCaseFormatter()\n",
    "processor = TextProcessor(default_formatter)  \n",
    "\n",
    "processor.process_text(\"Hello World!\")  \n",
    "\n",
    "\n",
    "alternate_formatter = LowerCaseFormatter()\n",
    "processor.formatter = alternate_formatter\n",
    "processor.process_text(\"Hello World!\")  "
   ]
  },
  {
   "cell_type": "markdown",
   "metadata": {},
   "source": [
    "- Create 'default_parameter' object for UpperCaseFormatter class. then its passed as attribute into TextProcessor. \n",
    "- Now, new_object 'alternate_formatter' for class LowerCaseFormatter, and this object is reassign to TextProcessor attribute."
   ]
  },
  {
   "cell_type": "markdown",
   "metadata": {},
   "source": [
    "### 20. Create a Python class for a social media application, using composition to represent users, posts, and comments."
   ]
  },
  {
   "cell_type": "code",
   "execution_count": 13,
   "metadata": {},
   "outputs": [
    {
     "name": "stdout",
     "output_type": "stream",
     "text": [
      "Alice posted: Hello, everyone!\n",
      "Comments:\n",
      "Charlie: Nice post, Alice!\n",
      "Diana: I agree!\n",
      "Bob posted: Python is awesome!\n",
      "Comments:\n",
      "Alice: I love Python too!\n",
      "Eve: Great post, Bob!\n"
     ]
    }
   ],
   "source": [
    "class Comment:\n",
    "    def __init__(self, user, text):\n",
    "        self.user = user\n",
    "        self.text = text\n",
    "\n",
    "    def display_comment(self):\n",
    "        print(f\"{self.user}: {self.text}\")\n",
    "\n",
    "class Post:\n",
    "    def __init__(self, user, content):\n",
    "        self.user = user\n",
    "        self.content = content\n",
    "        self.comments = []\n",
    "\n",
    "    def add_comment(self, user, text):\n",
    "        new_comment = Comment(user, text)\n",
    "        self.comments.append(new_comment)\n",
    "\n",
    "    def display_post(self):\n",
    "        print(f\"{self.user} posted: {self.content}\")\n",
    "        print(\"Comments:\")\n",
    "        for comment in self.comments:\n",
    "            comment.display_comment()\n",
    "\n",
    "class User:\n",
    "    def __init__(self, username):\n",
    "        self.username = username\n",
    "        self.posts = []\n",
    "\n",
    "    def create_post(self, content):\n",
    "        new_post = Post(self.username, content)\n",
    "        self.posts.append(new_post)\n",
    "        return new_post\n",
    "\n",
    "\n",
    "user1 = User(\"Alice\")\n",
    "user2 = User(\"Bob\")\n",
    "\n",
    "post1 = user1.create_post(\"Hello, everyone!\")\n",
    "post1.add_comment(\"Charlie\", \"Nice post, Alice!\")\n",
    "post1.add_comment(\"Diana\", \"I agree!\")\n",
    "\n",
    "post2 = user2.create_post(\"Python is awesome!\")\n",
    "post2.add_comment(\"Alice\", \"I love Python too!\")\n",
    "post2.add_comment(\"Eve\", \"Great post, Bob!\")\n",
    "\n",
    "\n",
    "for post in user1.posts:\n",
    "    post.display_post()\n",
    "\n",
    "for post in user2.posts:\n",
    "    post.display_post()"
   ]
  },
  {
   "cell_type": "code",
   "execution_count": null,
   "metadata": {},
   "outputs": [],
   "source": []
  }
 ],
 "metadata": {
  "kernelspec": {
   "display_name": "Python 3.8.10 64-bit",
   "language": "python",
   "name": "python3"
  },
  "language_info": {
   "codemirror_mode": {
    "name": "ipython",
    "version": 3
   },
   "file_extension": ".py",
   "mimetype": "text/x-python",
   "name": "python",
   "nbconvert_exporter": "python",
   "pygments_lexer": "ipython3",
   "version": "3.8.10"
  },
  "orig_nbformat": 4,
  "vscode": {
   "interpreter": {
    "hash": "e7370f93d1d0cde622a1f8e1c04877d8463912d04d973331ad4851f04de6915a"
   }
  }
 },
 "nbformat": 4,
 "nbformat_minor": 2
}
