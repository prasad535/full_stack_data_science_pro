{
 "cells": [
  {
   "cell_type": "markdown",
   "metadata": {},
   "source": [
    "# Basic if-else Statements"
   ]
  },
  {
   "cell_type": "markdown",
   "metadata": {},
   "source": [
    "#### 1. Write a Python program to check if a given number is positive or negative."
   ]
  },
  {
   "cell_type": "code",
   "execution_count": 2,
   "metadata": {},
   "outputs": [
    {
     "name": "stdout",
     "output_type": "stream",
     "text": [
      "invalid literal for int() with base 10: 'fsdgnm'\n"
     ]
    }
   ],
   "source": [
    "def check_number(number: int) -> str:\n",
    "    try:\n",
    "        if number >= 0:\n",
    "            return \"positive\"\n",
    "        else:\n",
    "            return \"negative\"\n",
    "    except Exception as e:\n",
    "        print(e)\n",
    "\n",
    "try:\n",
    "    num = int(input(\"Enter a number\"))\n",
    "    status = check_number(num)\n",
    "    print(f\"Number is {status}\")\n",
    "except Exception as e:\n",
    "    print(e)\n"
   ]
  },
  {
   "cell_type": "markdown",
   "metadata": {},
   "source": [
    "#### 2. Create a program that determines if a person is eligible to vote based on their age."
   ]
  },
  {
   "cell_type": "code",
   "execution_count": 10,
   "metadata": {},
   "outputs": [
    {
     "name": "stdout",
     "output_type": "stream",
     "text": [
      "In valid input, age should be positive number\n"
     ]
    }
   ],
   "source": [
    "def eligible_vote(age: int) -> bool:\n",
    "    try:\n",
    "        if age >= 28:\n",
    "            return True\n",
    "        else:\n",
    "            return False\n",
    "    except Exception as e:\n",
    "        print(e)\n",
    "\n",
    "try:\n",
    "    n = int(input(\"Enter your age:\"))\n",
    "    if n <= 0:\n",
    "        print(\"In valid input, age should be positive number\")\n",
    "    else:\n",
    "        eligility = eligible_vote(n)\n",
    "        print(eligility)\n",
    "except Exception as e:\n",
    "    print(e)"
   ]
  },
  {
   "cell_type": "markdown",
   "metadata": {},
   "source": [
    "#### 3. Develop a program to find the maximum of two numbers using if-else statements."
   ]
  },
  {
   "cell_type": "code",
   "execution_count": 11,
   "metadata": {},
   "outputs": [
    {
     "name": "stdout",
     "output_type": "stream",
     "text": [
      "Maximum number: 98.0\n"
     ]
    }
   ],
   "source": [
    "def find_max(num1, num2):\n",
    "    try:\n",
    "        if num1 >= num2:\n",
    "            return num1\n",
    "        else:\n",
    "            return num2\n",
    "    except Exception as e:\n",
    "        print(e)\n",
    "\n",
    "try:\n",
    "    number1 = float(input(\"Enter number1\"))\n",
    "    number2 = float(input(\"Enter number2\"))\n",
    "    max_number = find_max(number1, number2)\n",
    "    print(f\"Maximum number: {max_number}\")\n",
    "except Exception as e:\n",
    "    print(e)"
   ]
  },
  {
   "cell_type": "markdown",
   "metadata": {},
   "source": [
    "#### 4. Write a Python script to classify a given year as a leap year or not."
   ]
  },
  {
   "cell_type": "code",
   "execution_count": 4,
   "metadata": {},
   "outputs": [
    {
     "name": "stdout",
     "output_type": "stream",
     "text": [
      "True is leap year.\n"
     ]
    }
   ],
   "source": [
    "def check_leap_year(year: int) -> bool:\n",
    "    try:\n",
    "        if (year%4 == 0 and year%100!=0) or (year%400 ==0):\n",
    "            return True\n",
    "        else:\n",
    "            return False\n",
    "    except Exception as e:\n",
    "        print(e)\n",
    "\n",
    "try:\n",
    "    year = int(input(\"Enter year\"))\n",
    "    if year> 0:\n",
    "        leap_bool = check_leap_year(year = year)\n",
    "        if leap_bool:\n",
    "            print(f\"{leap_bool} is leap year.\" )\n",
    "        else:\n",
    "            print(f\"{leap_bool} is not lea year.\")\n",
    "    else:\n",
    "        print(f\"Invalid input\")\n",
    "except Exception as e:\n",
    "    print(e)\n",
    "\n"
   ]
  },
  {
   "cell_type": "markdown",
   "metadata": {},
   "source": [
    "#### 5. Create a program that checks whether a character is a vowel or a consonant."
   ]
  },
  {
   "cell_type": "code",
   "execution_count": 9,
   "metadata": {},
   "outputs": [
    {
     "name": "stdout",
     "output_type": "stream",
     "text": [
      "True\n"
     ]
    }
   ],
   "source": [
    "def check_vowel(char: str)-> bool:\n",
    "    \"\"\"\n",
    "    \"\"\"\n",
    "    try:\n",
    "        if char in 'AEIOUaeiou':\n",
    "            return True\n",
    "        else:\n",
    "            return False\n",
    "    except Exception as e:\n",
    "        print(e)\n",
    "\n",
    "try:\n",
    "    c = input(\"Enter character\")\n",
    "    c_status = check_vowel(c)\n",
    "    print(c_status)\n",
    "except Exception as e:\n",
    "    print(e)"
   ]
  },
  {
   "cell_type": "markdown",
   "metadata": {},
   "source": [
    "#### 6. Implement a program to determine whether a given number is even or odd."
   ]
  },
  {
   "cell_type": "code",
   "execution_count": 13,
   "metadata": {},
   "outputs": [
    {
     "name": "stdout",
     "output_type": "stream",
     "text": [
      "7 is Odd\n"
     ]
    }
   ],
   "source": [
    "def check_even_odd(number: int)-> str:\n",
    "    try:\n",
    "        if number % 2 ==0:\n",
    "            return \"Even\"\n",
    "        else:\n",
    "            return \"Odd\"\n",
    "    except Exception as e:\n",
    "        print()\n",
    "\n",
    "try:\n",
    "    num = int(input(\"Enter number:\"))\n",
    "    num_status = check_even_odd(number= num)\n",
    "    print(f\"{num} is {num_status}\")\n",
    "except Exception as e:\n",
    "    print(e)"
   ]
  },
  {
   "cell_type": "markdown",
   "metadata": {},
   "source": [
    "#### 7. Write a Python function to calculate the absolute value of a number without using the `abs()` function."
   ]
  },
  {
   "cell_type": "code",
   "execution_count": 20,
   "metadata": {},
   "outputs": [
    {
     "name": "stdout",
     "output_type": "stream",
     "text": [
      "-5.7 abs value is 5.7\n"
     ]
    }
   ],
   "source": [
    "def absolute_value(number: float) -> float:\n",
    "    try:\n",
    "        if number >=0:\n",
    "            return number\n",
    "        else:\n",
    "            return -(number)\n",
    "    except Exception as e:\n",
    "        print(e)\n",
    "\n",
    "try:\n",
    "    num = float(input(\"Enter number\"))\n",
    "    ab_value = absolute_value(number = num)\n",
    "    print(f\"{num} abs value is {ab_value}\")\n",
    "except Exception as e:\n",
    "    print(e)"
   ]
  },
  {
   "cell_type": "markdown",
   "metadata": {},
   "source": [
    "#### 8. Develop a program that determines the largest of three given numbers using if-else statements."
   ]
  },
  {
   "cell_type": "code",
   "execution_count": null,
   "metadata": {},
   "outputs": [
    {
     "name": "stdout",
     "output_type": "stream",
     "text": [
      "Max of 3 numbers is 85.4\n"
     ]
    }
   ],
   "source": [
    "def max_of_three(num1: float, num2: float, num3: float) -> float:\n",
    "    try:\n",
    "        if num1 > num2 and num1 > num3:\n",
    "            return num1\n",
    "        elif num2 > num1 and num2 > num3:\n",
    "            return num2\n",
    "        else:\n",
    "            return num3\n",
    "    except Exception as e:\n",
    "        print(e)\n",
    "\n",
    "try:\n",
    "    num1 = float(input(\"Enter number\"))\n",
    "    num2 = float(input(\"Enter number2\"))\n",
    "    num3 = float(input(\"Enter numner3\"))\n",
    "    max_number = max_of_three(num1, num2, num3)\n",
    "    print(f\"Max of 3 numbers is {max_number}\")\n",
    "except Exception as e:\n",
    "    print(e)"
   ]
  },
  {
   "cell_type": "markdown",
   "metadata": {},
   "source": [
    "#### 9. Create a program that checks if a given string is a palindrome."
   ]
  },
  {
   "cell_type": "code",
   "execution_count": 27,
   "metadata": {},
   "outputs": [
    {
     "name": "stdout",
     "output_type": "stream",
     "text": [
      "'mSDAM' is not palindrome\n"
     ]
    }
   ],
   "source": [
    "def check_palindrome(string: str) -> bool:\n",
    "    try:\n",
    "        string_lower = string.lower()\n",
    "        if string_lower == string_lower[::-1]:\n",
    "            return True\n",
    "        else:\n",
    "            return False\n",
    "    except Exception as e:\n",
    "        print(e)\n",
    "\n",
    "try:\n",
    "    string = input(\"Enter string\")\n",
    "    palindrome_bool = check_palindrome(string)\n",
    "    if palindrome_bool:\n",
    "        print(f\"{string} is palindrome\")\n",
    "    else:\n",
    "        print(f\"'{string}' is not palindrome\")\n",
    "except Exception as e:\n",
    "    print(e)"
   ]
  },
  {
   "cell_type": "markdown",
   "metadata": {},
   "source": [
    "#### 10. Write a Python program to calculate the grade based on a student's score."
   ]
  },
  {
   "cell_type": "code",
   "execution_count": 28,
   "metadata": {},
   "outputs": [
    {
     "name": "stdout",
     "output_type": "stream",
     "text": [
      "Student grade is C\n"
     ]
    }
   ],
   "source": [
    "def student_grade(marks: int) -> str:\n",
    "    try:\n",
    "        if marks >= 90:\n",
    "            return 'A'\n",
    "        elif 80<= marks < 90:\n",
    "            return 'B'\n",
    "        elif 70 <= marks < 80:\n",
    "            return 'B-'\n",
    "        else:\n",
    "            return 'C' \n",
    "    except Exception as e:\n",
    "        print(e)\n",
    "\n",
    "try:\n",
    "    marks = int(input(\"Enter your marks\"))\n",
    "    grade = student_grade(marks)\n",
    "    print(f\"Student grade is {grade}\")\n",
    "except Exception as e:\n",
    "    print(e)"
   ]
  },
  {
   "cell_type": "markdown",
   "metadata": {},
   "source": [
    "# Nested if-else Statements"
   ]
  },
  {
   "cell_type": "markdown",
   "metadata": {},
   "source": [
    "#### 11. Write a program to find the largest among three numbers using nested if-else statements."
   ]
  },
  {
   "cell_type": "code",
   "execution_count": 9,
   "metadata": {},
   "outputs": [
    {
     "name": "stdout",
     "output_type": "stream",
     "text": [
      "500000\n"
     ]
    }
   ],
   "source": [
    "def max_three(number1, number2, number3):\n",
    "    try:\n",
    "        if number1 > number2:\n",
    "            if number1 > number3:\n",
    "                return number1\n",
    "            else:\n",
    "                return number3\n",
    "        else:\n",
    "            if number2 > number3:\n",
    "                return number2\n",
    "            else:\n",
    "                return number3\n",
    "\n",
    "    except Exception as e:\n",
    "        print(e)\n",
    "\n",
    "try:\n",
    "    num1 = 3000\n",
    "    num2 = 500000\n",
    "    num3 = 100\n",
    "    m = max_three(num1, num2, num3)\n",
    "    print(m)\n",
    "except Exception as e:\n",
    "    print(e)"
   ]
  },
  {
   "cell_type": "markdown",
   "metadata": {},
   "source": [
    "#### 12. Implement a program to determine if a triangle is equilateral, isosceles, or scalene."
   ]
  },
  {
   "cell_type": "code",
   "execution_count": 4,
   "metadata": {},
   "outputs": [
    {
     "name": "stdout",
     "output_type": "stream",
     "text": [
      "Isosceles\n"
     ]
    }
   ],
   "source": [
    "def triangle_type(angle1, angle2, angle3):\n",
    "    try:\n",
    "        if angle1 == angle2 and angle2 == angle3:\n",
    "            return \"Equilateral\"\n",
    "        elif angle1 == angle2 or angle2 == angle3 or angle1 == angle3:\n",
    "            return \"Isosceles\"\n",
    "        else:\n",
    "            return \"Scalene\"\n",
    "    except Exception as e:\n",
    "        print(e)\n",
    "\n",
    "try:\n",
    "    angle1 = 45\n",
    "    angle2 = 45\n",
    "    angle3 = 60\n",
    "    triangle_type_output = triangle_type(angle1, angle2, angle3)\n",
    "    print(triangle_type_output)\n",
    "except Exception as e:\n",
    "    print(e)"
   ]
  },
  {
   "cell_type": "markdown",
   "metadata": {},
   "source": [
    "#### 13. Develop a program that checks if a year is a leap year and also if it is a century year."
   ]
  },
  {
   "cell_type": "code",
   "execution_count": 10,
   "metadata": {},
   "outputs": [
    {
     "name": "stdout",
     "output_type": "stream",
     "text": [
      "False\n"
     ]
    }
   ],
   "source": [
    "def check_leap_year(year):\n",
    "    try:\n",
    "        if year % 4 == 0:\n",
    "            if year % 100 == 0:\n",
    "                if year % 400 == 0:\n",
    "                    return True\n",
    "                else:\n",
    "                    return False\n",
    "            else:\n",
    "                return True\n",
    "        else:\n",
    "            return False\n",
    "    except Exception as e:\n",
    "        print(e)\n",
    "\n",
    "try:\n",
    "    year = 1700\n",
    "    check_leap_year_output = check_leap_year(year)\n",
    "    print(check_leap_year_output)\n",
    "except Exception as e:\n",
    "    print(e)"
   ]
  },
  {
   "cell_type": "markdown",
   "metadata": {},
   "source": [
    "#### 14. Write a Python script to determine if a number is positive, negative, or zero."
   ]
  },
  {
   "cell_type": "code",
   "execution_count": 12,
   "metadata": {},
   "outputs": [
    {
     "name": "stdout",
     "output_type": "stream",
     "text": [
      "negative\n"
     ]
    }
   ],
   "source": [
    "def check_pos_neg_or_zero(number):\n",
    "    try:\n",
    "        if number == 0:\n",
    "            return \"Zero\"\n",
    "        elif number > 0:\n",
    "            return \"positive\"\n",
    "        else:\n",
    "            return \"negative\"\n",
    "    except Exception as e:\n",
    "        print(e)\n",
    "\n",
    "try:\n",
    "    number = -15\n",
    "    number_output = check_pos_neg_or_zero(number)\n",
    "    print(number_output)\n",
    "except Exception as e:\n",
    "    print(e)"
   ]
  },
  {
   "cell_type": "markdown",
   "metadata": {},
   "source": [
    "#### 15. Create a program to check if a person is a teenager (between 13 and 19 years old)."
   ]
  },
  {
   "cell_type": "code",
   "execution_count": 13,
   "metadata": {},
   "outputs": [
    {
     "name": "stdout",
     "output_type": "stream",
     "text": [
      "False\n"
     ]
    }
   ],
   "source": [
    "def check_teenage(age):\n",
    "    try:\n",
    "        if 13<=age<=19:\n",
    "            return True\n",
    "        else:\n",
    "            return False\n",
    "    except Exception as e:\n",
    "        print(e)\n",
    "\n",
    "try:\n",
    "    age = int(input(\"Enter your age\"))\n",
    "    teenage_status = check_teenage(age)\n",
    "    print(teenage_status)\n",
    "except Exception as e:\n",
    "    print(e)"
   ]
  },
  {
   "cell_type": "markdown",
   "metadata": {},
   "source": [
    "#### 16. Develop a program that determines the type of angle based on its measure (acute, obtuse, or right)."
   ]
  },
  {
   "cell_type": "code",
   "execution_count": 17,
   "metadata": {},
   "outputs": [
    {
     "name": "stdout",
     "output_type": "stream",
     "text": [
      "obtuse\n"
     ]
    }
   ],
   "source": [
    "def type_of_angle(angle):\n",
    "    try:\n",
    "        if angle == 90:\n",
    "            return \"right\"\n",
    "        else:\n",
    "            if angle < 90:\n",
    "                return \"acute\"\n",
    "            elif 90<angle <=180:\n",
    "                return \"obtuse\"\n",
    "            else:\n",
    "                return \"invalid\"\n",
    "    except Exception as e:\n",
    "        print(e)\n",
    "\n",
    "try:\n",
    "    angle = 120\n",
    "    tri_type = type_of_angle(angle)\n",
    "    print(tri_type)\n",
    "except Exception as e:\n",
    "    print(e)"
   ]
  },
  {
   "cell_type": "markdown",
   "metadata": {},
   "source": [
    "#### 17. Write a Python program to calculate the roots of a quadratic equation."
   ]
  },
  {
   "cell_type": "code",
   "execution_count": null,
   "metadata": {},
   "outputs": [],
   "source": [
    "def function_name():\n",
    "    try:\n",
    "        pass\n",
    "    except Exception as e:\n",
    "        print(e)\n",
    "\n",
    "try:\n",
    "    pass\n",
    "except Exception as e:\n",
    "    print(e)"
   ]
  },
  {
   "cell_type": "markdown",
   "metadata": {},
   "source": [
    "#### 18. Implement a program to determine the day of the week based on a user-provided number (1 for Monday, 2 for Tuesday, etc.)."
   ]
  },
  {
   "cell_type": "code",
   "execution_count": 30,
   "metadata": {},
   "outputs": [
    {
     "name": "stdout",
     "output_type": "stream",
     "text": [
      "day 7 of week is Sunday\n"
     ]
    }
   ],
   "source": [
    "def day_of_week(day_number):\n",
    "    try:\n",
    "        day = None\n",
    "        if day_number == 1:\n",
    "            day = 'Monday'\n",
    "        elif day_number == 2:\n",
    "            day = 'Tuesday'\n",
    "        elif day_number == 3:\n",
    "            day = 'Wednesday'\n",
    "        elif day_number == 4:\n",
    "            day = 'Thursday'\n",
    "        elif day_number == 5:\n",
    "            day = 'Friday'\n",
    "        elif day_number == 6:\n",
    "            day = 'Saturday'\n",
    "        elif day_number == 7:\n",
    "            day = 'Sunday'\n",
    "        else:\n",
    "            day = 'Invalid day value'\n",
    "        return day\n",
    "    except Exception as e:\n",
    "        print(e)\n",
    "\n",
    "try:\n",
    "    day_number = int(input(\"Enter number between 0 to 7\"))\n",
    "    day = day_of_week(day_number)\n",
    "    print(f\"day {day_number} of week is {day}\")\n",
    "except Exception as e:\n",
    "    print(e)"
   ]
  },
  {
   "cell_type": "markdown",
   "metadata": {},
   "source": [
    "#### 19. Create a program that determines if a year is a leap year and also if it is evenly divisible by 400."
   ]
  },
  {
   "cell_type": "code",
   "execution_count": 16,
   "metadata": {},
   "outputs": [
    {
     "name": "stdout",
     "output_type": "stream",
     "text": [
      "2100 leap year status - False\n"
     ]
    }
   ],
   "source": [
    "def leap_year(year):\n",
    "    try:\n",
    "        if year % 4 == 0:\n",
    "            if year % 100 == 0:\n",
    "                if year % 400 == 0:\n",
    "                    return True\n",
    "                else:\n",
    "                    return False\n",
    "            else:\n",
    "                return True\n",
    "        else:\n",
    "            return False\n",
    "    except Exception as e:\n",
    "        print(e)\n",
    "\n",
    "try:\n",
    "    year = 2100\n",
    "    leap_y = leap_year(year)\n",
    "    print(f\"{year} leap year status - {leap_y}\")\n",
    "except Exception as e:\n",
    "    print(e)"
   ]
  },
  {
   "cell_type": "markdown",
   "metadata": {},
   "source": [
    "#### 20. Develop a program that checks if a given number is prime or not using nested if-else statements."
   ]
  },
  {
   "cell_type": "code",
   "execution_count": 13,
   "metadata": {},
   "outputs": [
    {
     "name": "stdout",
     "output_type": "stream",
     "text": [
      "True\n"
     ]
    }
   ],
   "source": [
    "def check_prime(number):\n",
    "    try:\n",
    "        isPrime = True\n",
    "        for i in range(2, int(number**0.5)+1):\n",
    "            if number % i == 0:\n",
    "                isPrime = False\n",
    "                break\n",
    "        return isPrime\n",
    "    except Exception as e:\n",
    "        print(e)\n",
    "\n",
    "\n",
    "try:\n",
    "    num = 11\n",
    "    prime = check_prime(num)\n",
    "    print(prime)\n",
    "except Exception as e:\n",
    "    print(e)"
   ]
  },
  {
   "cell_type": "markdown",
   "metadata": {},
   "source": [
    "# elif Statements"
   ]
  },
  {
   "cell_type": "markdown",
   "metadata": {},
   "source": [
    "#### 21. Write a Python program to assign grades based on different ranges of scores using elif statements."
   ]
  },
  {
   "cell_type": "code",
   "execution_count": 1,
   "metadata": {},
   "outputs": [
    {
     "name": "stdout",
     "output_type": "stream",
     "text": [
      "your grade is: C\n"
     ]
    }
   ],
   "source": [
    "def assign_grades(marks):\n",
    "    try:\n",
    "        if marks >= 90:\n",
    "            return 'A'\n",
    "        elif 80 <=marks < 90:\n",
    "            return 'A-'\n",
    "        elif 70<= marks < 80:\n",
    "            return 'B'\n",
    "        else:\n",
    "            return 'C'\n",
    "    except Exception as e:\n",
    "        print(e)\n",
    "\n",
    "try:\n",
    "    marks = int(input(\"Enter your marks\"))\n",
    "    grade = assign_grades(marks)\n",
    "    print(f\"your grade is: {grade}\")\n",
    "except Exception as e:\n",
    "    print(e)"
   ]
  },
  {
   "cell_type": "markdown",
   "metadata": {},
   "source": [
    "#### 22. Implement a program to determine the type of a triangle based on its angles"
   ]
  },
  {
   "cell_type": "code",
   "execution_count": 3,
   "metadata": {},
   "outputs": [
    {
     "name": "stdout",
     "output_type": "stream",
     "text": [
      "triangle type is Isoceles\n"
     ]
    }
   ],
   "source": [
    "def triangle_type(angle1, angle2, angle3):\n",
    "    try:\n",
    "        if angle1 == angle2 and angle2 == angle3:\n",
    "            return 'Equiliteral'\n",
    "        elif angle1 == angle2 or angle2 == angle3 or angle1 == angle3:\n",
    "            return 'Isoceles'\n",
    "        else:\n",
    "            return 'Iscale'\n",
    "    except Exception as e:\n",
    "        print(e)\n",
    "\n",
    "try:\n",
    "    angle1 = 60\n",
    "    angle2 = 45\n",
    "    angle3 = 45\n",
    "    t_type = triangle_type(angle1, angle2, angle3)\n",
    "    print(f\"triangle type is {t_type}\")\n",
    "except Exception as e:\n",
    "    print(e)"
   ]
  },
  {
   "cell_type": "markdown",
   "metadata": {},
   "source": [
    "#### 23. Develop a program to categorize a given person's BMI into underweight, normal, overweight, or obese using elif statements."
   ]
  },
  {
   "cell_type": "code",
   "execution_count": 4,
   "metadata": {},
   "outputs": [
    {
     "name": "stdout",
     "output_type": "stream",
     "text": [
      "your body is Over Weight\n"
     ]
    }
   ],
   "source": [
    "def body_mass_index_type(bmi):\n",
    "    try:\n",
    "        if bmi >= 30:\n",
    "            return 'Obese'\n",
    "        elif 25<=  bmi < 30:\n",
    "            return 'Over Weight'\n",
    "        elif 18<= bmi <25:\n",
    "            return 'Normal'\n",
    "        else:\n",
    "            return 'Under weight'\n",
    "    except Exception as e:\n",
    "        print(e)\n",
    "\n",
    "try:\n",
    "    height = 1.7\n",
    "    weight = 73.5\n",
    "    bmi = weight / (height**2)\n",
    "    body_type = body_mass_index_type(bmi)\n",
    "    print(f\"your body is {body_type}\")\n",
    "except Exception as e:\n",
    "    print(e)"
   ]
  },
  {
   "cell_type": "markdown",
   "metadata": {},
   "source": [
    "#### 24. Create a program that determines whether a given number is positive, negative, or zero using elif statements."
   ]
  },
  {
   "cell_type": "code",
   "execution_count": 5,
   "metadata": {},
   "outputs": [
    {
     "name": "stdout",
     "output_type": "stream",
     "text": [
      "the 0 is Zero\n"
     ]
    }
   ],
   "source": [
    "def check_number(num):\n",
    "    try:\n",
    "        if num == 0:\n",
    "            return 'Zero'\n",
    "        elif num > 0:\n",
    "            return 'Positive'\n",
    "        else:\n",
    "            return 'Negative'\n",
    "    except Exception as e:\n",
    "        print(e)\n",
    "\n",
    "try:\n",
    "    number = 0\n",
    "    print(f\"the {number} is {check_number(number)}\")\n",
    "except Exception as e:\n",
    "    print(e)"
   ]
  },
  {
   "cell_type": "markdown",
   "metadata": {},
   "source": [
    "#### 25. Write a Python script to determine the type of a character (uppercase, lowercase, or special) using elif statements."
   ]
  },
  {
   "cell_type": "code",
   "execution_count": 8,
   "metadata": {},
   "outputs": [
    {
     "name": "stdout",
     "output_type": "stream",
     "text": [
      "G is UpperCase\n"
     ]
    }
   ],
   "source": [
    "def char_case(char):\n",
    "    try:\n",
    "        if c.isupper():\n",
    "            return 'UpperCase'\n",
    "        elif c.islower():\n",
    "            return 'LowerCase'\n",
    "        else:\n",
    "            return 'Special'\n",
    "    except Exception as e:\n",
    "        print(e)\n",
    "\n",
    "try:\n",
    "    c = input(\"Enter any char\")\n",
    "    case = char_case(c)\n",
    "    print(f\"{c} is {case}\")\n",
    "except Exception as e:\n",
    "    print(e)"
   ]
  },
  {
   "cell_type": "markdown",
   "metadata": {},
   "source": [
    "#### 26. Implement a program to calculate the discounted price based on different purchase amounts using elif statements."
   ]
  },
  {
   "cell_type": "code",
   "execution_count": 10,
   "metadata": {},
   "outputs": [
    {
     "name": "stdout",
     "output_type": "stream",
     "text": [
      "final price is 7200.0\n"
     ]
    }
   ],
   "source": [
    "def discounted_price(purchase_amount):\n",
    "    try:\n",
    "        if purchase_amount >= 10000:\n",
    "            discount = purchase_amount* 0.15\n",
    "            price = purchase_amount - discount\n",
    "            return price\n",
    "        elif 5000<= purchase_amount < 10000:\n",
    "            discount = purchase_amount* 0.1\n",
    "            price = purchase_amount - discount\n",
    "            return price\n",
    "        elif 2000<= purchase_amount < 5000:\n",
    "            discount = purchase_amount * 0.05\n",
    "            price = purchase_amount - discount\n",
    "            return price\n",
    "        else:\n",
    "            return purchase_amount\n",
    "    except Exception as e:\n",
    "        print(e)\n",
    "\n",
    "try:\n",
    "    amount = 8000\n",
    "    final_price = discounted_price(amount)\n",
    "    print(f\"final price is {final_price}\")\n",
    "except Exception as e:\n",
    "    print(e)"
   ]
  },
  {
   "cell_type": "markdown",
   "metadata": {},
   "source": [
    "#### 27. Develop a program to calculate the electricity bill based on different consumption slabs using elif statements."
   ]
  },
  {
   "cell_type": "code",
   "execution_count": 12,
   "metadata": {},
   "outputs": [
    {
     "name": "stdout",
     "output_type": "stream",
     "text": [
      "electricity bill: 4200\n"
     ]
    }
   ],
   "source": [
    "def electricity_bill(unit_consumption):\n",
    "    try:\n",
    "        if unit_consumption > 1000:\n",
    "            bill = 10 * unit_consumption\n",
    "            return bill\n",
    "        elif 800<= unit_consumption < 1000:\n",
    "            bill = 8.5 * unit_consumption\n",
    "            return bill\n",
    "        elif 500<= unit_consumption < 800:\n",
    "            bill = 7* unit_consumption\n",
    "            return bill\n",
    "        else:\n",
    "            bill = 5* unit_consumption\n",
    "            return bill\n",
    "    except Exception as e:\n",
    "        print(e)\n",
    "\n",
    "try:\n",
    "    units = 600\n",
    "    final_bill = electricity_bill(units)\n",
    "    print(f\"electricity bill: {final_bill}\")\n",
    "except Exception as e:\n",
    "    print(e)"
   ]
  },
  {
   "cell_type": "markdown",
   "metadata": {},
   "source": [
    "#### 28. Create a program to determine the type of quadrilateral based on its angles and sides using elif statements."
   ]
  },
  {
   "cell_type": "code",
   "execution_count": null,
   "metadata": {},
   "outputs": [],
   "source": []
  },
  {
   "cell_type": "markdown",
   "metadata": {},
   "source": [
    "#### 29. Write a Python script to determine the season based on a user-provided month using elif statements."
   ]
  },
  {
   "cell_type": "code",
   "execution_count": 14,
   "metadata": {},
   "outputs": [
    {
     "name": "stdout",
     "output_type": "stream",
     "text": [
      "Season: Summer\n"
     ]
    }
   ],
   "source": [
    "def check_season(month):\n",
    "    try:\n",
    "        l_month = month.lower()\n",
    "        if l_month in ['january', 'februray', 'march', 'april']:\n",
    "            return 'Winter'\n",
    "        elif l_month in ['may', 'june', 'july']:\n",
    "            return 'Summer'\n",
    "        else:\n",
    "            return 'Rainy'\n",
    "    except Exception as e:\n",
    "        print(e)\n",
    "\n",
    "try:\n",
    "    month = input(\"enter month\")\n",
    "    season = check_season(month)\n",
    "    print(f\"Season: {season}\")\n",
    "except Exception as e:\n",
    "    print(e)"
   ]
  },
  {
   "cell_type": "markdown",
   "metadata": {},
   "source": [
    "#### 30. Implement a program to determine the type of a year (leap or common) and month (30 or 31 days) using elif statements."
   ]
  },
  {
   "cell_type": "code",
   "execution_count": null,
   "metadata": {},
   "outputs": [],
   "source": []
  },
  {
   "cell_type": "markdown",
   "metadata": {},
   "source": [
    "# Basic Level"
   ]
  },
  {
   "cell_type": "markdown",
   "metadata": {},
   "source": [
    "#### 1. Write a Python program that checks if a given number is positive, negative, or zero."
   ]
  },
  {
   "cell_type": "code",
   "execution_count": 2,
   "metadata": {},
   "outputs": [
    {
     "name": "stdout",
     "output_type": "stream",
     "text": [
      "Number is Negative\n"
     ]
    }
   ],
   "source": [
    "def check_number(num):\n",
    "    if num == 0:\n",
    "        return 'Zero'\n",
    "    elif num > 0:\n",
    "        return 'Positive'\n",
    "    else:\n",
    "        return 'Negative'\n",
    "\n",
    "number = -3\n",
    "num_status = check_number(number)\n",
    "print(f\"Number is {num_status}\")"
   ]
  },
  {
   "cell_type": "markdown",
   "metadata": {},
   "source": [
    "#### 2. Create a program to determine if a person is eligible to vote based on their age."
   ]
  },
  {
   "cell_type": "code",
   "execution_count": 3,
   "metadata": {},
   "outputs": [
    {
     "name": "stdout",
     "output_type": "stream",
     "text": [
      "Your eligible to vote\n"
     ]
    }
   ],
   "source": [
    "def vote_eligibility(age):\n",
    "    if age>=18:\n",
    "        return True\n",
    "    else:\n",
    "        return False\n",
    "\n",
    "age = 34\n",
    "vote_status = vote_eligibility(age)\n",
    "if vote_status:\n",
    "    print(f\"Your eligible to vote\")\n",
    "else:\n",
    "    print(f\"your not eligible to vote\")"
   ]
  },
  {
   "cell_type": "markdown",
   "metadata": {},
   "source": [
    "#### 3. Write a program to find the maximum of two given numbers using conditional statements."
   ]
  },
  {
   "cell_type": "code",
   "execution_count": 4,
   "metadata": {},
   "outputs": [
    {
     "name": "stdout",
     "output_type": "stream",
     "text": [
      "Maximum number is: 92\n"
     ]
    }
   ],
   "source": [
    "def max_number(num1, num2):\n",
    "    if num1 >= num2:\n",
    "        return num1\n",
    "    else:\n",
    "        return num2\n",
    "\n",
    "number1 = 52\n",
    "number2 = 92\n",
    "m_num = max_number(number1, number2)\n",
    "print(f\"Maximum number is: {m_num}\")"
   ]
  },
  {
   "cell_type": "markdown",
   "metadata": {},
   "source": [
    "#### 4. Develop a program that calculates the grade of a student based on their exam score."
   ]
  },
  {
   "cell_type": "code",
   "execution_count": 5,
   "metadata": {},
   "outputs": [
    {
     "name": "stdout",
     "output_type": "stream",
     "text": [
      "Your grade is: B\n"
     ]
    }
   ],
   "source": [
    "def grade_system(score):\n",
    "    if score> 90:\n",
    "        return \"A\"\n",
    "    elif score>80 and score<=90:\n",
    "        return 'B'\n",
    "    elif score>70 and score<=80:\n",
    "        return 'C'\n",
    "    else:\n",
    "        return 'D'\n",
    "\n",
    "exam_score = 86\n",
    "grade = grade_system(exam_score)\n",
    "print(f\"Your grade is: {grade}\")"
   ]
  },
  {
   "cell_type": "markdown",
   "metadata": {},
   "source": [
    "#### 5. Create a program that checks if a year is a leap year or not."
   ]
  },
  {
   "cell_type": "code",
   "execution_count": 12,
   "metadata": {},
   "outputs": [
    {
     "name": "stdout",
     "output_type": "stream",
     "text": [
      "Leap year: False\n"
     ]
    }
   ],
   "source": [
    "def check_leap_year(year):\n",
    "    if year % 4 == 0 and year % 100!=0 or year % 400==0:\n",
    "        return True\n",
    "    else:\n",
    "        return False\n",
    "\n",
    "year = 1700\n",
    "lp = check_leap_year(year)\n",
    "print(f\"Leap year: {lp}\")\n"
   ]
  },
  {
   "cell_type": "markdown",
   "metadata": {},
   "source": [
    "#### 6. Write a program to classify a triangle based on its sides' lengths."
   ]
  },
  {
   "cell_type": "code",
   "execution_count": 14,
   "metadata": {},
   "outputs": [
    {
     "name": "stdout",
     "output_type": "stream",
     "text": [
      "The traingle is  iscale\n"
     ]
    }
   ],
   "source": [
    "def classify_triangle(side1, side2, side3):\n",
    "    if side1 == side2 and side2 == side3:\n",
    "        return \"Equiliteral\"\n",
    "    elif side1 == side2 or side2 == side3 or side1 == side3:\n",
    "        return \"Isocoles\"\n",
    "    else:\n",
    "        return \"iscale\"\n",
    "\n",
    "s1 = 4\n",
    "s2 = 3\n",
    "s3 = 5\n",
    "\n",
    "traingle = classify_triangle(s1, s2, s3)\n",
    "print(\"The traingle is \", traingle)"
   ]
  },
  {
   "cell_type": "markdown",
   "metadata": {},
   "source": [
    "#### 7. Build a program that determines the largest of three given numbers."
   ]
  },
  {
   "cell_type": "code",
   "execution_count": 1,
   "metadata": {},
   "outputs": [
    {
     "name": "stdout",
     "output_type": "stream",
     "text": [
      "Max of 3 numbers is 654.0\n"
     ]
    }
   ],
   "source": [
    "def max_of_three(num1: float, num2: float, num3: float) -> float:\n",
    "    try:\n",
    "        if num1 > num2 and num1 > num3:\n",
    "            return num1\n",
    "        elif num2 > num1 and num2 > num3:\n",
    "            return num2\n",
    "        else:\n",
    "            return num3\n",
    "    except Exception as e:\n",
    "        print(e)\n",
    "\n",
    "try:\n",
    "    num1 = float(input(\"Enter number\"))\n",
    "    num2 = float(input(\"Enter number2\"))\n",
    "    num3 = float(input(\"Enter numner3\"))\n",
    "    max_number = max_of_three(num1, num2, num3)\n",
    "    print(f\"Max of 3 numbers is {max_number}\")\n",
    "except Exception as e:\n",
    "    print(e)"
   ]
  },
  {
   "cell_type": "markdown",
   "metadata": {},
   "source": [
    "#### 8. Develop a program that checks whether a character is a vowel or a consonant."
   ]
  },
  {
   "cell_type": "code",
   "execution_count": 2,
   "metadata": {},
   "outputs": [
    {
     "name": "stdout",
     "output_type": "stream",
     "text": [
      "False\n"
     ]
    }
   ],
   "source": [
    "def check_vowel(char: str)-> bool:\n",
    "    \"\"\"\n",
    "    \"\"\"\n",
    "    try:\n",
    "        if char in 'AEIOUaeiou':\n",
    "            return True\n",
    "        else:\n",
    "            \n",
    "            return False\n",
    "    except Exception as e:\n",
    "        print(e)\n",
    "\n",
    "try:\n",
    "    c = input(\"Enter character\")\n",
    "    c_status = check_vowel(c)\n",
    "    print(c_status)\n",
    "except Exception as e:\n",
    "    print(e)"
   ]
  },
  {
   "cell_type": "markdown",
   "metadata": {},
   "source": [
    "#### 9. Create a program to calculate the total cost of a shopping cart based on discounts."
   ]
  },
  {
   "cell_type": "code",
   "execution_count": 3,
   "metadata": {},
   "outputs": [
    {
     "name": "stdout",
     "output_type": "stream",
     "text": [
      "final price is 7200.0\n"
     ]
    }
   ],
   "source": [
    "def discounted_price(purchase_amount):\n",
    "    try:\n",
    "        if purchase_amount >= 10000:\n",
    "            discount = purchase_amount* 0.15\n",
    "            price = purchase_amount - discount\n",
    "            return price\n",
    "        elif 5000<= purchase_amount < 10000:\n",
    "            discount = purchase_amount* 0.1\n",
    "            price = purchase_amount - discount\n",
    "            return price\n",
    "        elif 2000<= purchase_amount < 5000:\n",
    "            discount = purchase_amount * 0.05\n",
    "            price = purchase_amount - discount\n",
    "            return price\n",
    "        else:\n",
    "            return purchase_amount\n",
    "    except Exception as e:\n",
    "        print(e)\n",
    "\n",
    "try:\n",
    "    amount = 8000\n",
    "    final_price = discounted_price(amount)\n",
    "    print(f\"final price is {final_price}\")\n",
    "except Exception as e:\n",
    "    print(e)"
   ]
  },
  {
   "cell_type": "markdown",
   "metadata": {},
   "source": [
    "#### 10. Write a program that checks if a given number is even or odd."
   ]
  },
  {
   "cell_type": "code",
   "execution_count": 13,
   "metadata": {},
   "outputs": [
    {
     "name": "stdout",
     "output_type": "stream",
     "text": [
      "Number is  Even\n"
     ]
    }
   ],
   "source": [
    "def even_odd(number):\n",
    "    if number % 2 == 0:\n",
    "        return \"Even\"\n",
    "    else:\n",
    "        return \"Odd\"\n",
    "\n",
    "num = 6\n",
    "s = even_odd(num)\n",
    "print(\"Number is \", s)"
   ]
  },
  {
   "cell_type": "markdown",
   "metadata": {},
   "source": [
    "# Intermediate Level"
   ]
  },
  {
   "cell_type": "markdown",
   "metadata": {},
   "source": [
    "#### 11. Write a program that calculates the roots of a quadratic equation ."
   ]
  },
  {
   "cell_type": "code",
   "execution_count": null,
   "metadata": {},
   "outputs": [],
   "source": []
  },
  {
   "cell_type": "markdown",
   "metadata": {},
   "source": [
    "#### 12. Create a program that determines the day of the week based on the day number (1-7)."
   ]
  },
  {
   "cell_type": "code",
   "execution_count": 4,
   "metadata": {},
   "outputs": [
    {
     "name": "stdout",
     "output_type": "stream",
     "text": [
      "day 5 of week is Friday\n"
     ]
    }
   ],
   "source": [
    "def day_of_week(day_number):\n",
    "    try:\n",
    "        day = None\n",
    "        if day_number == 1:\n",
    "            day = 'Monday'\n",
    "        elif day_number == 2:\n",
    "            day = 'Tuesday'\n",
    "        elif day_number == 3:\n",
    "            day = 'Wednesday'\n",
    "        elif day_number == 4:\n",
    "            day = 'Thursday'\n",
    "        elif day_number == 5:\n",
    "            day = 'Friday'\n",
    "        elif day_number == 6:\n",
    "            day = 'Saturday'\n",
    "        elif day_number == 7:\n",
    "            day = 'Sunday'\n",
    "        else:\n",
    "            day = 'Invalid day value'\n",
    "        return day\n",
    "    except Exception as e:\n",
    "        print(e)\n",
    "\n",
    "try:\n",
    "    day_number = int(input(\"Enter number between 0 to 7\"))\n",
    "    day = day_of_week(day_number)\n",
    "    print(f\"day {day_number} of week is {day}\")\n",
    "except Exception as e:\n",
    "    print(e)"
   ]
  },
  {
   "cell_type": "markdown",
   "metadata": {},
   "source": [
    "#### 13. Develop a program that calculates the factorial of a given number using recursion."
   ]
  },
  {
   "cell_type": "code",
   "execution_count": 19,
   "metadata": {},
   "outputs": [
    {
     "name": "stdout",
     "output_type": "stream",
     "text": [
      "factorial of 5 is 120\n"
     ]
    }
   ],
   "source": [
    "def fact(n):\n",
    "    if n == 0 or n == 1:\n",
    "        return 1\n",
    "    else:\n",
    "        return n*fact(n-1)\n",
    "\n",
    "num = 5\n",
    "factorial = fact(5)\n",
    "print(f\"factorial of {num} is {factorial}\")"
   ]
  },
  {
   "cell_type": "markdown",
   "metadata": {},
   "source": [
    "#### 14. Write a program to find the largest among three numbers without using the `max()` function."
   ]
  },
  {
   "cell_type": "code",
   "execution_count": 5,
   "metadata": {},
   "outputs": [
    {
     "name": "stdout",
     "output_type": "stream",
     "text": [
      "500000\n"
     ]
    }
   ],
   "source": [
    "def max_three(number1, number2, number3):\n",
    "    try:\n",
    "        if number1 > number2:\n",
    "            if number1 > number3:\n",
    "                return number1\n",
    "            else:\n",
    "                return number3\n",
    "        else:\n",
    "            if number2 > number3:\n",
    "                return number2\n",
    "            else:\n",
    "                return number3\n",
    "\n",
    "    except Exception as e:\n",
    "        print(e)\n",
    "\n",
    "try:\n",
    "    num1 = 3000\n",
    "    num2 = 500000\n",
    "    num3 = 100\n",
    "    m = max_three(num1, num2, num3)\n",
    "    print(m)\n",
    "except Exception as e:\n",
    "    print(e)"
   ]
  },
  {
   "cell_type": "markdown",
   "metadata": {},
   "source": [
    "#### 15. Create a program that simulates a basic ATM transaction menu."
   ]
  },
  {
   "cell_type": "code",
   "execution_count": 46,
   "metadata": {},
   "outputs": [
    {
     "data": {
      "text/plain": [
       "1500"
      ]
     },
     "execution_count": 46,
     "metadata": {},
     "output_type": "execute_result"
    }
   ],
   "source": [
    "def atm_transactions(option, amount, balance = 0 ):\n",
    "    if option == 1:\n",
    "        return balance\n",
    "    elif option == 2:\n",
    "        balance = balance + amount\n",
    "        return balance\n",
    "    elif option == 3:\n",
    "        if balance > amount:\n",
    "            balance = balance - amount\n",
    "        else:\n",
    "            print(\"Insufficient balance\")\n",
    "    else:\n",
    "        print(\"try again\")\n",
    "\n",
    "\n",
    "inp = int(input(\"\"\"\n",
    "Choose your option\n",
    "1. balance\n",
    "2. Deposit\n",
    "3. Withdraw\"\"\"))\n",
    "amt = int(input(\"Enter amount to withdrwa or deposit\"))\n",
    "atm_transactions(inp, amt, balance = 1000)"
   ]
  },
  {
   "cell_type": "markdown",
   "metadata": {},
   "source": [
    "#### 16. Build a program that checks if a given string is a palindrome or not."
   ]
  },
  {
   "cell_type": "code",
   "execution_count": 31,
   "metadata": {},
   "outputs": [
    {
     "data": {
      "text/plain": [
       "True"
      ]
     },
     "execution_count": 31,
     "metadata": {},
     "output_type": "execute_result"
    }
   ],
   "source": [
    "def check_palindrome(word):\n",
    "    l_word = word.lower()\n",
    "    rev_word = ''\n",
    "    for c in l_word:\n",
    "        rev_word += c\n",
    "\n",
    "    if l_word == rev_word:\n",
    "        return True\n",
    "    else:\n",
    "        return True\n",
    "\n",
    "check_palindrome('madam')\n"
   ]
  },
  {
   "cell_type": "markdown",
   "metadata": {},
   "source": [
    "#### 17. Write a program that calculates the average of a list of numbers, excluding the smallest and largest values."
   ]
  },
  {
   "cell_type": "code",
   "execution_count": 30,
   "metadata": {},
   "outputs": [
    {
     "name": "stdout",
     "output_type": "stream",
     "text": [
      "average og list: 6.0\n"
     ]
    }
   ],
   "source": [
    "def remove_min(l):\n",
    "    m = l[0]\n",
    "    for i in l:\n",
    "        if i < m:\n",
    "            m = i\n",
    "    l.remove(m)\n",
    "    return l\n",
    "def remove_max(l):\n",
    "    m = l[0]\n",
    "    for i in l:\n",
    "        if i > m:\n",
    "            m = i\n",
    "    \n",
    "    l.remove(m)\n",
    "\n",
    "    updated_l = remove_min(l)\n",
    "    l_avg = sum(updated_l) / len(updated_l)\n",
    "    return l_avg\n",
    "\n",
    "li = [3423, 3, 6, 9, 1]\n",
    "avg = remove_max(li)\n",
    "print(f\"average og list: {avg}\")"
   ]
  },
  {
   "cell_type": "markdown",
   "metadata": {},
   "source": [
    "#### 18. Develop a program that converts a given temperature from Celsius to Fahrenheit."
   ]
  },
  {
   "cell_type": "code",
   "execution_count": 25,
   "metadata": {},
   "outputs": [
    {
     "name": "stdout",
     "output_type": "stream",
     "text": [
      "0 in celsius equal to 32.0 in farenheit\n"
     ]
    }
   ],
   "source": [
    "def convert_cel_farenheit(celsius):\n",
    "    return (celsius * 9/5) + 32\n",
    "\n",
    "c = int(input(\"Enter temperate in celsius\"))\n",
    "farenheit_temp = convert_cel_farenheit(c)\n",
    "print(f\"{c} in celsius equal to {farenheit_temp} in farenheit\")"
   ]
  },
  {
   "cell_type": "markdown",
   "metadata": {},
   "source": [
    "#### 19. Create a program that simulates a basic calculator for addition, subtraction, multiplication, and division"
   ]
  },
  {
   "cell_type": "code",
   "execution_count": 22,
   "metadata": {},
   "outputs": [
    {
     "name": "stdout",
     "output_type": "stream",
     "text": [
      "6.0 + 5.5 = 11.5\n"
     ]
    }
   ],
   "source": [
    "def calculator(input1, input2, operator):\n",
    "    if operator == '+':\n",
    "        return input1 + input2\n",
    "    elif operator == '-':\n",
    "        return input1 - input2\n",
    "    elif operator == '*':\n",
    "        return input1 * input2\n",
    "    elif operator == '/':\n",
    "        return input1 / input2\n",
    "\n",
    "inp1 = float(input(\"Enter your input1\"))\n",
    "inp2 = float(input(\"Enter your input2\"))\n",
    "op = input(\"Enter your operator (+, -, *, /\")\n",
    "\n",
    "res = calculator(inp1, inp2, op)\n",
    "print(f\"{inp1} {op} {inp2} = {res}\")"
   ]
  },
  {
   "cell_type": "markdown",
   "metadata": {},
   "source": [
    "#### 20. Write a program that determines the roots of a cubic equation using the Cardano formula."
   ]
  },
  {
   "cell_type": "code",
   "execution_count": null,
   "metadata": {},
   "outputs": [],
   "source": []
  },
  {
   "cell_type": "markdown",
   "metadata": {},
   "source": [
    "# Advanced Level"
   ]
  },
  {
   "cell_type": "markdown",
   "metadata": {},
   "source": [
    "#### 21. Create a program that calculates the income tax based on the user's income and tax brackets."
   ]
  },
  {
   "cell_type": "code",
   "execution_count": null,
   "metadata": {},
   "outputs": [],
   "source": []
  },
  {
   "cell_type": "markdown",
   "metadata": {},
   "source": [
    "#### 22. Write a program that simulates a rock-paper-scissors game against the computer."
   ]
  },
  {
   "cell_type": "code",
   "execution_count": null,
   "metadata": {},
   "outputs": [],
   "source": [
    "def rock_paper_scissors_game():\n",
    "    "
   ]
  },
  {
   "cell_type": "markdown",
   "metadata": {},
   "source": [
    "#### 23. Develop a program that generates a random password based on user preferences (length, complexity)."
   ]
  },
  {
   "cell_type": "code",
   "execution_count": null,
   "metadata": {},
   "outputs": [],
   "source": []
  },
  {
   "cell_type": "markdown",
   "metadata": {},
   "source": [
    "#### 24. Create a program that implements a simple text-based adventure game with branching scenarios."
   ]
  },
  {
   "cell_type": "code",
   "execution_count": null,
   "metadata": {},
   "outputs": [],
   "source": []
  },
  {
   "cell_type": "markdown",
   "metadata": {},
   "source": [
    "#### 25. Build a program that solves a linear equation  for x, considering different cases."
   ]
  },
  {
   "cell_type": "code",
   "execution_count": null,
   "metadata": {},
   "outputs": [],
   "source": []
  },
  {
   "cell_type": "markdown",
   "metadata": {},
   "source": [
    "#### 26. Write a program that simulates a basic quiz game with multiple-choice questions and scoring."
   ]
  },
  {
   "cell_type": "code",
   "execution_count": null,
   "metadata": {},
   "outputs": [],
   "source": []
  },
  {
   "cell_type": "markdown",
   "metadata": {},
   "source": [
    "#### 27. Develop a program that determines whether a given year is a prime number or not."
   ]
  },
  {
   "cell_type": "code",
   "execution_count": null,
   "metadata": {},
   "outputs": [],
   "source": []
  },
  {
   "cell_type": "markdown",
   "metadata": {},
   "source": [
    "#### 28. Create a program that sorts three numbers in ascending order using conditional statements."
   ]
  },
  {
   "cell_type": "code",
   "execution_count": null,
   "metadata": {},
   "outputs": [],
   "source": []
  },
  {
   "cell_type": "markdown",
   "metadata": {},
   "source": [
    "#### 29. Build a program that determines the roots of a quartic equation using numerical methods."
   ]
  },
  {
   "cell_type": "code",
   "execution_count": null,
   "metadata": {},
   "outputs": [],
   "source": []
  },
  {
   "cell_type": "markdown",
   "metadata": {},
   "source": [
    "#### 30. Write a program that calculates the BMI (Body Mass Index) and provides health recommendations based on the user's input."
   ]
  },
  {
   "cell_type": "code",
   "execution_count": null,
   "metadata": {},
   "outputs": [],
   "source": []
  },
  {
   "cell_type": "markdown",
   "metadata": {},
   "source": [
    "# Challenge Level"
   ]
  },
  {
   "cell_type": "markdown",
   "metadata": {},
   "source": [
    "#### 31. Create a program that validates a password based on complexity rules (length, characters, etc.)."
   ]
  },
  {
   "cell_type": "code",
   "execution_count": null,
   "metadata": {},
   "outputs": [],
   "source": []
  },
  {
   "cell_type": "markdown",
   "metadata": {},
   "source": [
    "#### 32. Develop a program that performs matrix addition and subtraction based on user input."
   ]
  },
  {
   "cell_type": "code",
   "execution_count": null,
   "metadata": {},
   "outputs": [],
   "source": []
  },
  {
   "cell_type": "markdown",
   "metadata": {},
   "source": [
    "#### 33. Write a program that calculates the greatest common divisor (GCD) of two numbers using the Euclidean algorithm."
   ]
  },
  {
   "cell_type": "code",
   "execution_count": null,
   "metadata": {},
   "outputs": [],
   "source": []
  },
  {
   "cell_type": "markdown",
   "metadata": {},
   "source": [
    "#### 34. Build a program that performs matrix multiplication using nested loops and conditional statements."
   ]
  },
  {
   "cell_type": "code",
   "execution_count": null,
   "metadata": {},
   "outputs": [],
   "source": []
  },
  {
   "cell_type": "markdown",
   "metadata": {},
   "source": [
    "#### 35. Create a program that simulates a basic text-based tic-tac-toe game against the computer"
   ]
  },
  {
   "cell_type": "code",
   "execution_count": null,
   "metadata": {},
   "outputs": [],
   "source": []
  },
  {
   "cell_type": "markdown",
   "metadata": {},
   "source": [
    "#### 36. Write a program that generates Fibonacci numbers up to a specified term using iterative methods."
   ]
  },
  {
   "cell_type": "code",
   "execution_count": null,
   "metadata": {},
   "outputs": [],
   "source": []
  },
  {
   "cell_type": "markdown",
   "metadata": {},
   "source": [
    "#### 37. Develop a program that calculates the nth term of the Fibonacci sequence using memoization."
   ]
  },
  {
   "cell_type": "code",
   "execution_count": null,
   "metadata": {},
   "outputs": [],
   "source": []
  },
  {
   "cell_type": "markdown",
   "metadata": {},
   "source": [
    "#### 38. Create a program that generates a calendar for a given month and year using conditional statements."
   ]
  },
  {
   "cell_type": "code",
   "execution_count": null,
   "metadata": {},
   "outputs": [],
   "source": []
  },
  {
   "cell_type": "markdown",
   "metadata": {},
   "source": [
    "#### 39. Build a program that simulates a basic text-based blackjack game against the computer."
   ]
  },
  {
   "cell_type": "code",
   "execution_count": null,
   "metadata": {},
   "outputs": [],
   "source": []
  },
  {
   "cell_type": "markdown",
   "metadata": {},
   "source": [
    "#### 40. Write a program that generates the prime factors of a given number using trial division."
   ]
  },
  {
   "cell_type": "code",
   "execution_count": null,
   "metadata": {},
   "outputs": [],
   "source": []
  }
 ],
 "metadata": {
  "kernelspec": {
   "display_name": "Python 3.8.10 64-bit",
   "language": "python",
   "name": "python3"
  },
  "language_info": {
   "codemirror_mode": {
    "name": "ipython",
    "version": 3
   },
   "file_extension": ".py",
   "mimetype": "text/x-python",
   "name": "python",
   "nbconvert_exporter": "python",
   "pygments_lexer": "ipython3",
   "version": "3.8.10"
  },
  "orig_nbformat": 4,
  "vscode": {
   "interpreter": {
    "hash": "e7370f93d1d0cde622a1f8e1c04877d8463912d04d973331ad4851f04de6915a"
   }
  }
 },
 "nbformat": 4,
 "nbformat_minor": 2
}
