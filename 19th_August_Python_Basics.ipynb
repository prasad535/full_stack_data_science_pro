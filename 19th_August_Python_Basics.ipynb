{
 "cells": [
  {
   "cell_type": "markdown",
   "id": "940ce47a-1634-4b37-b1d2-ddc54232c30b",
   "metadata": {},
   "source": [
    "# Python Basics"
   ]
  },
  {
   "cell_type": "markdown",
   "id": "3fd40bb9-947e-4db3-a2a6-66efabde06f6",
   "metadata": {},
   "source": [
    "1. Declare two variables, `x` and `y`, and assign them integer values. Swap the values of these variables without using any temporary variable."
   ]
  },
  {
   "cell_type": "code",
   "execution_count": 1,
   "id": "ad96ad65-4647-4623-8cb4-45256d2dbbf7",
   "metadata": {},
   "outputs": [
    {
     "name": "stdout",
     "output_type": "stream",
     "text": [
      "20\n",
      "10\n"
     ]
    }
   ],
   "source": [
    "x = 10                           # Assign value to variable\n",
    "y = 20\n",
    "\n",
    "x , y  = y, x\n",
    "\n",
    "print(x)\n",
    "print(y)"
   ]
  },
  {
   "cell_type": "markdown",
   "id": "80384610-81ba-444d-9eba-a9dbaa68f10a",
   "metadata": {},
   "source": [
    "2. Create a program that calculates the area of a rectangle. Take the length and width as inputs from the user and store them in variables. Calculate and display the area."
   ]
  },
  {
   "cell_type": "code",
   "execution_count": 3,
   "id": "3e007d9d-88e5-4715-8e15-a8355847db47",
   "metadata": {},
   "outputs": [
    {
     "name": "stdin",
     "output_type": "stream",
     "text": [
      " 8\n",
      " 5\n"
     ]
    },
    {
     "name": "stdout",
     "output_type": "stream",
     "text": [
      "40\n"
     ]
    }
   ],
   "source": [
    "rec_len = int(input())           # Interger input from end user\n",
    "rec_width = int(input())         \n",
    "\n",
    "area = rec_len*rec_width         # Area of rectangle = Length * breath\n",
    "\n",
    "print(area)"
   ]
  },
  {
   "cell_type": "markdown",
   "id": "aa802093-7ec6-4cfc-919b-b8c8a71db42b",
   "metadata": {},
   "source": [
    "3. Write a Python program that converts temperatures from Celsius to Fahrenheit. Take the temperature in Celsius as input, store it in a variable, convert it to Fahrenheit, and display the result."
   ]
  },
  {
   "cell_type": "code",
   "execution_count": 4,
   "id": "e9765495-260b-4afe-bb3d-c9b807f54ec2",
   "metadata": {},
   "outputs": [
    {
     "name": "stdin",
     "output_type": "stream",
     "text": [
      " 40\n"
     ]
    },
    {
     "data": {
      "text/plain": [
       "104.0"
      ]
     },
     "execution_count": 4,
     "metadata": {},
     "output_type": "execute_result"
    }
   ],
   "source": [
    "celsius = int(input())\n",
    "fahrenheit = (1.8*celsius)+32               # Fahrenheit = (1.8*Celsius) + 32\n",
    "\n",
    "fahrenheit"
   ]
  },
  {
   "cell_type": "markdown",
   "id": "296183b6-ad63-4309-8fdf-812673ab054a",
   "metadata": {},
   "source": [
    "1. Write a Python program that takes a string as input and prints the length of the string."
   ]
  },
  {
   "cell_type": "code",
   "execution_count": 5,
   "id": "95dce52b-6b52-4e6b-9e53-64c4c85277c1",
   "metadata": {},
   "outputs": [
    {
     "data": {
      "text/plain": [
       "6"
      ]
     },
     "execution_count": 5,
     "metadata": {},
     "output_type": "execute_result"
    }
   ],
   "source": [
    "str1 = 'Prasad'\n",
    "\n",
    "len_str1 = len(str1)               # len() - find the length of the string\n",
    "len_str1"
   ]
  },
  {
   "cell_type": "markdown",
   "id": "f1598e8a-f1a5-4a75-8d23-2e1118851755",
   "metadata": {},
   "source": [
    "2. Create a program that takes a sentence from the user and counts the number of vowels (a, e, i, o, u) in the string."
   ]
  },
  {
   "cell_type": "code",
   "execution_count": 6,
   "id": "8206811a-a4e8-415b-8d48-2a469fce2567",
   "metadata": {},
   "outputs": [
    {
     "name": "stdout",
     "output_type": "stream",
     "text": [
      "2\n",
      "2\n",
      "1\n",
      "3\n",
      "0\n"
     ]
    }
   ],
   "source": [
    "sen = 'Welcome to python basics class'\n",
    "\n",
    "print(sen.count('a'))            # count() - method returns the number of times particular substring apperead in the string\n",
    "print(sen.count('e'))\n",
    "print(sen.count('i'))\n",
    "print(sen.count('o'))\n",
    "print(sen.count('u'))"
   ]
  },
  {
   "cell_type": "markdown",
   "id": "ea3449ef-0b30-4467-a3bb-841e52dd7c1f",
   "metadata": {},
   "source": [
    "3. Given a string, reverse the order of characters using string slicing and print the reversed string."
   ]
  },
  {
   "cell_type": "code",
   "execution_count": 7,
   "id": "4c70e4fd-df4e-4afe-8cde-a7d76239e5fb",
   "metadata": {},
   "outputs": [
    {
     "data": {
      "text/plain": [
       "'nohtyP emocleW'"
      ]
     },
     "execution_count": 7,
     "metadata": {},
     "output_type": "execute_result"
    }
   ],
   "source": [
    "str2 = 'Welcome Python'\n",
    "\n",
    "rev_str2 = str2[::-1]               # [::-1] - returns reverse string \n",
    "rev_str2"
   ]
  },
  {
   "cell_type": "markdown",
   "id": "b9461b22-7001-4ea8-8547-29fd31bcc2cf",
   "metadata": {},
   "source": [
    "4. Write a program that takes a string as input and checks if it is a palindrome (reads the same forwards and backwards)."
   ]
  },
  {
   "cell_type": "code",
   "execution_count": 9,
   "id": "ca3eabb0-d649-458b-9023-9497cca88659",
   "metadata": {},
   "outputs": [
    {
     "name": "stdin",
     "output_type": "stream",
     "text": [
      " madam\n"
     ]
    },
    {
     "name": "stdout",
     "output_type": "stream",
     "text": [
      "palindrome\n"
     ]
    }
   ],
   "source": [
    "word = input()                      # input() - by default this method takes input as string\n",
    "\n",
    "rev_word = word[::-1]\n",
    "if rev_word == word:\n",
    "  print('palindrome')\n",
    "else:\n",
    "  print('not palindrome')"
   ]
  },
  {
   "cell_type": "markdown",
   "id": "e76d1278-553c-4c27-ae02-8550324eb981",
   "metadata": {},
   "source": [
    "5. Create a program that takes a string as input and removes all the spaces from it. Print the modified string without spaces."
   ]
  },
  {
   "cell_type": "code",
   "execution_count": 10,
   "id": "9efa7725-80e8-4bb8-96a0-132e225b0fc7",
   "metadata": {},
   "outputs": [
    {
     "data": {
      "text/plain": [
       "'therearesomespaceinthissentence'"
      ]
     },
     "execution_count": 10,
     "metadata": {},
     "output_type": "execute_result"
    }
   ],
   "source": [
    "str3 = \"   there are some space in      this sentence    \"\n",
    "\n",
    "str3.replace(\" \", \"\")                  # replace() - it replace the ele"
   ]
  }
 ],
 "metadata": {
  "kernelspec": {
   "display_name": "Python 3 (ipykernel)",
   "language": "python",
   "name": "python3"
  },
  "language_info": {
   "codemirror_mode": {
    "name": "ipython",
    "version": 3
   },
   "file_extension": ".py",
   "mimetype": "text/x-python",
   "name": "python",
   "nbconvert_exporter": "python",
   "pygments_lexer": "ipython3",
   "version": "3.10.8"
  }
 },
 "nbformat": 4,
 "nbformat_minor": 5
}
