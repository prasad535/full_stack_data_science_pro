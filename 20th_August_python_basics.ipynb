{
 "cells": [
  {
   "cell_type": "markdown",
   "metadata": {},
   "source": [
    "### String Based Assignment Problem"
   ]
  },
  {
   "cell_type": "markdown",
   "metadata": {},
   "source": [
    "##### 1. Write a program to reverse a string."
   ]
  },
  {
   "cell_type": "code",
   "execution_count": 23,
   "metadata": {},
   "outputs": [
    {
     "name": "stdout",
     "output_type": "stream",
     "text": [
      "Original String is Cool\n",
      "Reverse String is looC\n"
     ]
    }
   ],
   "source": [
    "str_1 = input()\n",
    "reverse_string = str_1[::-1]\n",
    "print(f\"Original String is {str_1}\")\n",
    "print(f\"Reverse String is {reverse_string}\")"
   ]
  },
  {
   "cell_type": "markdown",
   "metadata": {},
   "source": [
    "##### 2. Check if a string is a palindrome."
   ]
  },
  {
   "cell_type": "code",
   "execution_count": 26,
   "metadata": {},
   "outputs": [
    {
     "name": "stdout",
     "output_type": "stream",
     "text": [
      "Cool is not palindrome\n"
     ]
    }
   ],
   "source": [
    "str_2 = input()\n",
    "lower_str_2 = str_2.lower()\n",
    "rev_string = lower_str_2[::-1]\n",
    "if lower_str_2 == rev_string:\n",
    "    print(f\"{str_1} is palindrome\")\n",
    "else:\n",
    "    print(f\"{str_1} is not palindrome\")"
   ]
  },
  {
   "cell_type": "markdown",
   "metadata": {},
   "source": [
    "##### 3. Convert a string to uppercase.\n"
   ]
  },
  {
   "cell_type": "code",
   "execution_count": 27,
   "metadata": {},
   "outputs": [
    {
     "name": "stdout",
     "output_type": "stream",
     "text": [
      "String in upper case : CAPITAL\n"
     ]
    }
   ],
   "source": [
    "str_3 = input()\n",
    "upper_str_3 = str_3.upper()\n",
    "print(f\"String in upper case : {upper_str_3}\")"
   ]
  },
  {
   "cell_type": "markdown",
   "metadata": {},
   "source": [
    "##### 4. Convert a string to lowercase."
   ]
  },
  {
   "cell_type": "code",
   "execution_count": 29,
   "metadata": {},
   "outputs": [
    {
     "name": "stdout",
     "output_type": "stream",
     "text": [
      "String in lower case : capital\n"
     ]
    }
   ],
   "source": [
    "str_4 = input()\n",
    "lower_str_4 = str_4.lower()\n",
    "print(f\"String in lower case : {lower_str_4}\")"
   ]
  },
  {
   "cell_type": "markdown",
   "metadata": {},
   "source": [
    "##### 5. Count the number of vowels in a string.\n"
   ]
  },
  {
   "cell_type": "code",
   "execution_count": 30,
   "metadata": {},
   "outputs": [
    {
     "name": "stdout",
     "output_type": "stream",
     "text": [
      "Number of vowels is 11\n"
     ]
    }
   ],
   "source": [
    "str_5 = input()\n",
    "lower_str_5 = str_5.lower()\n",
    "vowels_count = lower_str_5.count('a') + lower_str_5.count('e') + lower_str_5.count('i') + lower_str_5.count('o') + lower_str_5.count('u')\n",
    "print(f\"Number of vowels is {vowels_count}\")"
   ]
  },
  {
   "cell_type": "markdown",
   "metadata": {},
   "source": [
    "##### 6. Count the number of consonants in a string.\n"
   ]
  },
  {
   "cell_type": "code",
   "execution_count": 5,
   "metadata": {},
   "outputs": [
    {
     "name": "stdout",
     "output_type": "stream",
     "text": [
      "Number of consonants is 4\n"
     ]
    }
   ],
   "source": [
    "str_6 = input()\n",
    "lower_str_6 = str_6.lower()\n",
    "\n",
    "# consonants_count = lower_str_6.count('b') + lower_str_6.count('c') + lower_str_6.count('d') + lower_str_6.count('f') + lower_str_6.count('g') + lower_str_6.count('h') \\\n",
    "#     + lower_str_6.count('j') + lower_str_6.count('k') + lower_str_6.count('l') + lower_str_6.count('m') + lower_str_6.count('n') + lower_str_6.count('k') + lower_str_6.count('p') \\\n",
    "#         + lower_str_6.count('q') + lower_str_6.count('r') + lower_str_6.count('s') + lower_str_6.count('v') + lower_str_6.count('w') + lower_str_6.count('x') + lower_str_6.count('y') \\\n",
    "#             + lower_str_6.count('z')\n",
    "\n",
    "result = 0\n",
    "for i in lower_str_6:\n",
    "    if i not in 'aeiouAEIOU' and i!= ' ':\n",
    "        result += 1\n",
    "\n",
    "    \n",
    "print(f\"Number of consonants is {result}\")\n"
   ]
  },
  {
   "cell_type": "markdown",
   "metadata": {},
   "source": [
    "##### 7. Remove all whitespaces from a string."
   ]
  },
  {
   "cell_type": "code",
   "execution_count": 42,
   "metadata": {},
   "outputs": [
    {
     "name": "stdout",
     "output_type": "stream",
     "text": [
      "String after removing all spaces :  Countthenumberofconsonantsinastring.\n"
     ]
    }
   ],
   "source": [
    "str_7 = input()\n",
    "print(\"String after removing all spaces : \",str_7.replace(\" \", \"\"))"
   ]
  },
  {
   "cell_type": "markdown",
   "metadata": {},
   "source": [
    "##### 8. Find the length of a string without using the `len()` function."
   ]
  },
  {
   "cell_type": "code",
   "execution_count": 3,
   "metadata": {},
   "outputs": [
    {
     "name": "stdout",
     "output_type": "stream",
     "text": [
      "length of the string is: 14\n"
     ]
    }
   ],
   "source": [
    "str_8 = 'python is easy'\n",
    "\n",
    "length = 0\n",
    "for i in str_8:\n",
    "    length += 1\n",
    "\n",
    "print(f\"length of the string is: {length}\")"
   ]
  },
  {
   "cell_type": "markdown",
   "metadata": {},
   "source": [
    "##### 9. Check if a string contains a specific word.\n"
   ]
  },
  {
   "cell_type": "code",
   "execution_count": 50,
   "metadata": {},
   "outputs": [
    {
     "name": "stdout",
     "output_type": "stream",
     "text": [
      "Specific word present in string: True\n"
     ]
    }
   ],
   "source": [
    "str_9 = input(\"Enter String\")\n",
    "word = input(\"Enter word\")\n",
    "lower_word = word.lower()\n",
    "lower_str_9 = str_9.lower()\n",
    "\n",
    "print(\"Specific word present in string:\",lower_word in lower_str_9)\n"
   ]
  },
  {
   "cell_type": "markdown",
   "metadata": {},
   "source": [
    "##### 10. Replace a word in a string with another word."
   ]
  },
  {
   "cell_type": "code",
   "execution_count": 5,
   "metadata": {},
   "outputs": [
    {
     "name": "stdout",
     "output_type": "stream",
     "text": [
      "string after replace good with bad: Ramu is bad boy\n"
     ]
    }
   ],
   "source": [
    "str_10 = \"Ramu is good boy\"\n",
    "print(f\"string after replace good with bad: {str_10.replace('good', 'bad')}\")"
   ]
  },
  {
   "cell_type": "markdown",
   "metadata": {},
   "source": [
    "##### 11. Count the occurrences of a word in a string.\n"
   ]
  },
  {
   "cell_type": "code",
   "execution_count": 8,
   "metadata": {},
   "outputs": [
    {
     "name": "stdout",
     "output_type": "stream",
     "text": [
      "count of heros is: 3\n"
     ]
    }
   ],
   "source": [
    "str_11 = \"I love super heros. Sometimes heros will come to save from demons. We can also become heros\"\n",
    "count_heros = str_11.count('heros')\n",
    "\n",
    "print(f\"count of heros is: {count_heros}\")"
   ]
  },
  {
   "cell_type": "markdown",
   "metadata": {},
   "source": [
    "##### 12. Find the first occurrence of a word in a string."
   ]
  },
  {
   "cell_type": "code",
   "execution_count": 10,
   "metadata": {},
   "outputs": [
    {
     "name": "stdout",
     "output_type": "stream",
     "text": [
      "index of the first word is: 22\n"
     ]
    }
   ],
   "source": [
    "str_12 = \"Welcome to the python class. this class will give idea about python and OOPS concepts.\"\n",
    "ind = str_12.find('class')\n",
    "\n",
    "print(f\"index of the first word is: {ind}\")\n"
   ]
  },
  {
   "cell_type": "markdown",
   "metadata": {},
   "source": [
    "##### 13. Find the last occurrence of a word in a string."
   ]
  },
  {
   "cell_type": "code",
   "execution_count": 11,
   "metadata": {},
   "outputs": [
    {
     "name": "stdout",
     "output_type": "stream",
     "text": [
      "last index of the specific word: 34\n"
     ]
    }
   ],
   "source": [
    "str_13 = \"Welcome to the python class. this class will give idea about python and OOPS concepts.\"\n",
    "last_ind = str_13.rfind('class')\n",
    "\n",
    "print(f\"last index of the specific word: {last_ind}\")\n"
   ]
  },
  {
   "cell_type": "markdown",
   "metadata": {},
   "source": [
    "##### 14. Split a string into a list of words.\n"
   ]
  },
  {
   "cell_type": "code",
   "execution_count": 13,
   "metadata": {},
   "outputs": [
    {
     "name": "stdout",
     "output_type": "stream",
     "text": [
      "string to list: ['Ramu', 'is', 'a', 'good', 'boy!']\n"
     ]
    }
   ],
   "source": [
    "str_14 = \"Ramu is a good boy!\"\n",
    "list_str = str_14.split()\n",
    "print(f\"string to list: {list_str}\")"
   ]
  },
  {
   "cell_type": "markdown",
   "metadata": {},
   "source": [
    "##### 15. Join a list of words into a string."
   ]
  },
  {
   "cell_type": "code",
   "execution_count": 82,
   "metadata": {},
   "outputs": [
    {
     "name": "stdout",
     "output_type": "stream",
     "text": [
      "list of join: Ramu is a good boy!\n"
     ]
    }
   ],
   "source": [
    "list_15 = ['Ramu', 'is', 'a', 'good', 'boy!']\n",
    "print(\"list of join:\", \" \".join(list_15))"
   ]
  },
  {
   "cell_type": "markdown",
   "metadata": {},
   "source": [
    "##### 16. Convert a string where words are separated by spaces to one where wordsare separated by underscores."
   ]
  },
  {
   "cell_type": "code",
   "execution_count": 1,
   "metadata": {},
   "outputs": [
    {
     "name": "stdout",
     "output_type": "stream",
     "text": [
      "String after conversionL Welcome-to-python-course\n"
     ]
    }
   ],
   "source": [
    "str_16 = \"Welcome to python course\"\n",
    "\n",
    "str16_ans = str_16.replace(\" \", '-')\n",
    "\n",
    "print(f\"String after conversionL {str16_ans}\")"
   ]
  },
  {
   "cell_type": "markdown",
   "metadata": {},
   "source": [
    "##### 17. Check if a string starts with a specific word or phrase."
   ]
  },
  {
   "cell_type": "code",
   "execution_count": 14,
   "metadata": {},
   "outputs": [
    {
     "name": "stdout",
     "output_type": "stream",
     "text": [
      "Yes\n"
     ]
    }
   ],
   "source": [
    "str_17 = \"I love India!\"\n",
    "if str_17.startswith(\"I love\"):\n",
    "    print(\"Yes\")\n",
    "else:\n",
    "    print(\"No\")"
   ]
  },
  {
   "cell_type": "markdown",
   "metadata": {},
   "source": [
    "##### 18. Check if a string ends with a specific word or phrase."
   ]
  },
  {
   "cell_type": "code",
   "execution_count": 15,
   "metadata": {},
   "outputs": [
    {
     "name": "stdout",
     "output_type": "stream",
     "text": [
      "Yes\n"
     ]
    }
   ],
   "source": [
    "str_18 = \"I love India!\"\n",
    "if str_18.endswith(\"India!\"):\n",
    "    print(\"Yes\")\n",
    "else:\n",
    "    print(\"No\")"
   ]
  },
  {
   "cell_type": "markdown",
   "metadata": {},
   "source": [
    "##### 19. Convert a string to title case (e.g., \"hello world\" to \"Hello World\")."
   ]
  },
  {
   "cell_type": "code",
   "execution_count": 16,
   "metadata": {},
   "outputs": [
    {
     "name": "stdout",
     "output_type": "stream",
     "text": [
      "title of the string is: I Love Cricket\n"
     ]
    }
   ],
   "source": [
    "str_19 = \"i love cricket\"\n",
    "print(f\"title of the string is: {str_19.title()}\")\n"
   ]
  },
  {
   "cell_type": "markdown",
   "metadata": {},
   "source": [
    "##### 20. Find the longest word in a string."
   ]
  },
  {
   "cell_type": "code",
   "execution_count": 17,
   "metadata": {},
   "outputs": [
    {
     "name": "stdout",
     "output_type": "stream",
     "text": [
      "longest word is: longest\n"
     ]
    }
   ],
   "source": [
    "str_20 = \"find the longest word in a string\"\n",
    "list_str_20 = str_20.split()\n",
    "long_str = 0\n",
    "for word in list_str_20:\n",
    "    if len(word) >= long_str:\n",
    "        long_word = word\n",
    "        long_str = len(word)\n",
    "\n",
    "print(f\"longest word is: {long_word}\")"
   ]
  },
  {
   "cell_type": "markdown",
   "metadata": {},
   "source": [
    "##### 21. Find the shortest word in a string.\n"
   ]
  },
  {
   "cell_type": "code",
   "execution_count": 18,
   "metadata": {},
   "outputs": [
    {
     "name": "stdout",
     "output_type": "stream",
     "text": [
      "shortest word is: a\n"
     ]
    }
   ],
   "source": [
    "str_21 = \"find the longest word in a string\"\n",
    "list_str_21 = str_21.split()\n",
    "short_str = list_str_21[0]\n",
    "for word in list_str_21:\n",
    "    if len(word) <= len(short_str):\n",
    "        short_word = word\n",
    "        short_str = word\n",
    "\n",
    "print(f\"shortest word is: {short_word}\")"
   ]
  },
  {
   "cell_type": "markdown",
   "metadata": {},
   "source": [
    "##### 22. Reverse the order of words in a string."
   ]
  },
  {
   "cell_type": "code",
   "execution_count": 20,
   "metadata": {},
   "outputs": [
    {
     "name": "stdout",
     "output_type": "stream",
     "text": [
      "reverse of the string is: good is Ramu\n"
     ]
    }
   ],
   "source": [
    "str_22 = input()\n",
    "list_str_22 = str_22.split()\n",
    "\n",
    "reverse_list = list_str_22[::-1]\n",
    "reverse_str = \" \".join(reverse_list)\n",
    "print(f\"reverse of the string is: {reverse_str}\")"
   ]
  },
  {
   "cell_type": "markdown",
   "metadata": {},
   "source": [
    "##### 23. Check if a string is alphanumeric."
   ]
  },
  {
   "cell_type": "code",
   "execution_count": 22,
   "metadata": {},
   "outputs": [
    {
     "name": "stdout",
     "output_type": "stream",
     "text": [
      "Yes, String is alphanumeric.\n"
     ]
    }
   ],
   "source": [
    "str_23 = input()\n",
    "if str_23.isalnum():\n",
    "    print(\"Yes, String is alphanumeric.\")\n",
    "else:\n",
    "    print(\"No, string is not alphanumeric\")"
   ]
  },
  {
   "cell_type": "markdown",
   "metadata": {},
   "source": [
    "##### 24. Extract all digits from a string."
   ]
  },
  {
   "cell_type": "code",
   "execution_count": 23,
   "metadata": {},
   "outputs": [
    {
     "name": "stdout",
     "output_type": "stream",
     "text": [
      "digits from string: 36\n"
     ]
    }
   ],
   "source": [
    "str_24 = input()\n",
    "list_str_24 = list(str_24)\n",
    "ans = []\n",
    "for char in list_str_24:\n",
    "    if char.isnumeric():\n",
    "        ans.append(char)\n",
    "\n",
    "str_digit = \"\".join(ans)\n",
    "\n",
    "print(f\"digits from string: {str_digit}\")"
   ]
  },
  {
   "cell_type": "markdown",
   "metadata": {},
   "source": [
    "##### 25. Extract all alphabets from a string.\n"
   ]
  },
  {
   "cell_type": "code",
   "execution_count": 24,
   "metadata": {},
   "outputs": [
    {
     "name": "stdout",
     "output_type": "stream",
     "text": [
      "alphabets from string: one\n"
     ]
    }
   ],
   "source": [
    "str_25 = input()\n",
    "list_str_25 = list(str_25)\n",
    "ans = []\n",
    "for char in list_str_25:\n",
    "    if char.isalpha():\n",
    "        ans.append(char)\n",
    "\n",
    "str_alpha = \"\".join(ans)\n",
    "print(f\"alphabets from string: {str_alpha}\")"
   ]
  },
  {
   "cell_type": "markdown",
   "metadata": {},
   "source": [
    "##### 26. Count the number of uppercase letters in a string.\n"
   ]
  },
  {
   "cell_type": "code",
   "execution_count": 25,
   "metadata": {},
   "outputs": [
    {
     "name": "stdout",
     "output_type": "stream",
     "text": [
      "Number of uppercae letters: 3\n"
     ]
    }
   ],
   "source": [
    "str_26 = input()\n",
    "list_str_26 = list(str_26)\n",
    "ans = 0\n",
    "for char in list_str_26:\n",
    "    if char.isupper():\n",
    "        ans +=1\n",
    "\n",
    "print(f\"Number of uppercae letters: {ans}\")"
   ]
  },
  {
   "cell_type": "markdown",
   "metadata": {},
   "source": [
    "##### 27. Count the number of lowercase letters in a string."
   ]
  },
  {
   "cell_type": "code",
   "execution_count": 26,
   "metadata": {},
   "outputs": [
    {
     "name": "stdout",
     "output_type": "stream",
     "text": [
      "Number of lower case letters: 4\n"
     ]
    }
   ],
   "source": [
    "str_27 = input()\n",
    "list_str_27 = list(str_27)\n",
    "ans = 0\n",
    "for char in list_str_27:\n",
    "    if char.islower():\n",
    "        ans +=1\n",
    "\n",
    "print(f\"Number of lower case letters: {ans}\")"
   ]
  },
  {
   "cell_type": "markdown",
   "metadata": {},
   "source": [
    "##### 28. Swap the case of each character in a string."
   ]
  },
  {
   "cell_type": "code",
   "execution_count": 27,
   "metadata": {},
   "outputs": [
    {
     "name": "stdout",
     "output_type": "stream",
     "text": [
      "str after swapcase: hAPPY bIRTHEdAY\n"
     ]
    }
   ],
   "source": [
    "str_28 = \"Happy BirtheDay\"\n",
    "s = str_28.swapcase()\n",
    "\n",
    "print(f\"str after swapcase: {s}\")"
   ]
  },
  {
   "cell_type": "markdown",
   "metadata": {},
   "source": [
    "##### 29. Remove a specific word from a string."
   ]
  },
  {
   "cell_type": "code",
   "execution_count": 30,
   "metadata": {},
   "outputs": [
    {
     "name": "stdout",
     "output_type": "stream",
     "text": [
      "string after remove specific word: Florida is beautiful \n"
     ]
    }
   ],
   "source": [
    "str_29 = \"Florida is beautiful city\"\n",
    "s = str_29.replace(\"city\", \"\")\n",
    "\n",
    "print(f\"string after remove specific word: {s}\")"
   ]
  },
  {
   "cell_type": "markdown",
   "metadata": {},
   "source": [
    "##### 30. Check if a string is a valid email address."
   ]
  },
  {
   "cell_type": "code",
   "execution_count": 31,
   "metadata": {},
   "outputs": [
    {
     "name": "stdout",
     "output_type": "stream",
     "text": [
      "Yes, it is valid email\n"
     ]
    }
   ],
   "source": [
    "str_30 = input()\n",
    "if str_30.endswith('@gmail.com'):\n",
    "    print(f\"Yes, it is valid email\")\n",
    "else:\n",
    "    print(f\"No, it is not valid\")"
   ]
  },
  {
   "cell_type": "markdown",
   "metadata": {},
   "source": [
    "#### 31. Extract the username from an email address string."
   ]
  },
  {
   "cell_type": "code",
   "execution_count": 32,
   "metadata": {},
   "outputs": [
    {
     "name": "stdout",
     "output_type": "stream",
     "text": [
      "username from email: prasad\n"
     ]
    }
   ],
   "source": [
    "str_31 = input()\n",
    "list_str_31 = str_31.split('@')[0]\n",
    "print(f\"username from email: {list_str_31}\")"
   ]
  },
  {
   "cell_type": "markdown",
   "metadata": {},
   "source": [
    "##### 32. Extract the domain name from an email address string.\n"
   ]
  },
  {
   "cell_type": "code",
   "execution_count": 34,
   "metadata": {},
   "outputs": [
    {
     "name": "stdout",
     "output_type": "stream",
     "text": [
      "domain name from email:gmail\n"
     ]
    }
   ],
   "source": [
    "str_32 = input()\n",
    "list_str_32 = (str_32.split('@')[-1]).split('.')[0]\n",
    "print(f\"domain name from email:{list_str_32}\")"
   ]
  },
  {
   "cell_type": "markdown",
   "metadata": {},
   "source": [
    "##### 33. Replace multiple spaces in a string with a single space.\n"
   ]
  },
  {
   "cell_type": "code",
   "execution_count": 35,
   "metadata": {},
   "outputs": [
    {
     "name": "stdout",
     "output_type": "stream",
     "text": [
      "string after replace multiple spaces with singl space: This is multi space in a string with single space\n"
     ]
    }
   ],
   "source": [
    "str_33 = \"This is  multi    space in a   string with single    space\"\n",
    "s = \" \".join(str_33.split())\n",
    "\n",
    "print(f\"string after replace multiple spaces with singl space: {s}\")"
   ]
  },
  {
   "cell_type": "markdown",
   "metadata": {},
   "source": [
    "##### 34. Check if a string is a valid URL.\n"
   ]
  },
  {
   "cell_type": "code",
   "execution_count": 36,
   "metadata": {},
   "outputs": [
    {
     "name": "stdout",
     "output_type": "stream",
     "text": [
      "yes, string is valid URL\n"
     ]
    }
   ],
   "source": [
    "str_33 = input()\n",
    "\n",
    "if str_33.startswith('https://') or str_33.startswith('http://'):\n",
    "    print(f\"yes, string is valid URL\")\n",
    "else:\n",
    "    print(f\"No, its not valid URL\")\n",
    "    \n"
   ]
  },
  {
   "cell_type": "markdown",
   "metadata": {},
   "source": [
    "##### 35. Extract the protocol (http or https) from a URL string.\n"
   ]
  },
  {
   "cell_type": "code",
   "execution_count": 37,
   "metadata": {},
   "outputs": [
    {
     "name": "stdout",
     "output_type": "stream",
     "text": [
      "protocol of the URL: http\n"
     ]
    }
   ],
   "source": [
    "str_34 = input()\n",
    "s = str_34.split(':')[0]\n",
    "\n",
    "print(f\"protocol of the URL: {s}\")"
   ]
  },
  {
   "cell_type": "markdown",
   "metadata": {},
   "source": [
    "##### 36. Find the frequency of each character in a string.\n"
   ]
  },
  {
   "cell_type": "code",
   "execution_count": 153,
   "metadata": {},
   "outputs": [
    {
     "name": "stdout",
     "output_type": "stream",
     "text": [
      "count of H is 1\n",
      "count of a is 1\n",
      "count of P is 1\n",
      "count of p is 1\n",
      "count of y is 1\n"
     ]
    }
   ],
   "source": [
    "str_35 = input()\n",
    "list_str_35 = list(str_35)\n",
    "unique = []\n",
    "for char in list_str_35:\n",
    "    if char not in unique:\n",
    "        print(f\"count of {char} is {str_35.count(char)}\")\n",
    "        unique.append(char)"
   ]
  },
  {
   "cell_type": "markdown",
   "metadata": {},
   "source": [
    "##### 37. Remove all punctuation from a string.\n"
   ]
  },
  {
   "cell_type": "code",
   "execution_count": 14,
   "metadata": {},
   "outputs": [
    {
     "name": "stdout",
     "output_type": "stream",
     "text": [
      "String after remove all punctuation: pRsd\n"
     ]
    }
   ],
   "source": [
    "import string\n",
    "\n",
    "str37 = 'pR@s#d'\n",
    "\n",
    "translator = str.maketrans('', '', string.punctuation)\n",
    "s = str37.translate(translator)\n",
    "s\n",
    "\n",
    "print(f\"String after remove all punctuation: {s}\")\n"
   ]
  },
  {
   "cell_type": "markdown",
   "metadata": {},
   "source": [
    "##### 38. Check if a string contains only digits."
   ]
  },
  {
   "cell_type": "code",
   "execution_count": 41,
   "metadata": {},
   "outputs": [
    {
     "name": "stdout",
     "output_type": "stream",
     "text": [
      "yes, contains only digits\n"
     ]
    }
   ],
   "source": [
    "str_38 = input()\n",
    "if str_38.isdigit():\n",
    "    print(\"yes, contains only digits\")\n",
    "else:\n",
    "    print(\"No\")"
   ]
  },
  {
   "cell_type": "markdown",
   "metadata": {},
   "source": [
    "##### 39. Check if a string contains only alphabets."
   ]
  },
  {
   "cell_type": "code",
   "execution_count": 42,
   "metadata": {},
   "outputs": [
    {
     "name": "stdout",
     "output_type": "stream",
     "text": [
      "string contains only alphabets\n"
     ]
    }
   ],
   "source": [
    "str_39 = input()\n",
    "if str_39.isalpha():\n",
    "    print(\"string contains only alphabets\")\n",
    "else:\n",
    "    print(\"No\")"
   ]
  },
  {
   "cell_type": "markdown",
   "metadata": {},
   "source": [
    "##### 40. Convert a string to a list of characters.\n"
   ]
  },
  {
   "cell_type": "code",
   "execution_count": 43,
   "metadata": {},
   "outputs": [
    {
     "name": "stdout",
     "output_type": "stream",
     "text": [
      "string to a list of characters: ['p', 'y', 't', 'h', 'o', 'n']\n"
     ]
    }
   ],
   "source": [
    "str_40 = input()\n",
    "list_str_40 = list(str_40)\n",
    "\n",
    "print(f\"string to a list of characters: {list_str_40}\")"
   ]
  },
  {
   "cell_type": "markdown",
   "metadata": {},
   "source": [
    "##### 41. Check if two strings are anagrams."
   ]
  },
  {
   "cell_type": "code",
   "execution_count": 44,
   "metadata": {},
   "outputs": [
    {
     "name": "stdout",
     "output_type": "stream",
     "text": [
      "Strings are anagrams\n"
     ]
    }
   ],
   "source": [
    "str1 = \"silent\"\n",
    "str2 = \"listen\"\n",
    "\n",
    "if sorted(str1) == sorted(str2):\n",
    "    print(\"Strings are anagrams\")\n",
    "else:\n",
    "    print(\"strings are not anagrams\")"
   ]
  },
  {
   "cell_type": "markdown",
   "metadata": {},
   "source": [
    "##### 42. Encode a string using a Caesar cipher"
   ]
  },
  {
   "cell_type": "code",
   "execution_count": 45,
   "metadata": {},
   "outputs": [
    {
     "name": "stdout",
     "output_type": "stream",
     "text": [
      "encoded string: Fdhvduflskhu\n"
     ]
    }
   ],
   "source": [
    "str_42 = 'Caesarcipher'\n",
    "s = 3\n",
    "encode_str = ''\n",
    "for i in str_42:\n",
    "    if i.isupper():\n",
    "        encode_str += chr((ord(i)+s - 65) % 26 + 65)\n",
    "    else:\n",
    "        encode_str += chr((ord(i)+s - 97) % 26 + 97)\n",
    "\n",
    "print(f\"encoded string: {encode_str}\")\n"
   ]
  },
  {
   "cell_type": "markdown",
   "metadata": {},
   "source": [
    "##### 43. Decode a Caesar cipher encoded string."
   ]
  },
  {
   "cell_type": "code",
   "execution_count": 46,
   "metadata": {},
   "outputs": [
    {
     "name": "stdout",
     "output_type": "stream",
     "text": [
      "decoded string: Caesarcipher\n"
     ]
    }
   ],
   "source": [
    "str_43 = 'Fdhvduflskhu'\n",
    "s = 3\n",
    "decode_str = ''\n",
    "for i in str_43:\n",
    "    if i.isupper():\n",
    "        decode_str += chr((ord(i)-s - 65) % 26 + 65)\n",
    "    else:\n",
    "        decode_str += chr((ord(i)-s - 97) % 26 + 97)\n",
    "\n",
    "print(f\"decoded string: {decode_str}\")"
   ]
  },
  {
   "cell_type": "markdown",
   "metadata": {},
   "source": [
    "##### 44. Find the most frequent word in a string."
   ]
  },
  {
   "cell_type": "code",
   "execution_count": 47,
   "metadata": {},
   "outputs": [
    {
     "name": "stdout",
     "output_type": "stream",
     "text": [
      "most frequent word: python\n"
     ]
    }
   ],
   "source": [
    "str_45 = \"python is simple and python is easy also python is most used language\"\n",
    "list_str_45 = str_45.split()\n",
    "\n",
    "max_count = 0\n",
    "most_frequent = None\n",
    "for word in list_str_45:\n",
    "    if list_str_45.count(word) > max_count:\n",
    "        max_count = list_str_45.count(word)\n",
    "        most_frequent = word\n",
    "\n",
    "print(f\"most frequent word: {most_frequent}\")\n"
   ]
  },
  {
   "cell_type": "markdown",
   "metadata": {},
   "source": [
    "##### 45. Find all unique words in a string."
   ]
  },
  {
   "cell_type": "code",
   "execution_count": 49,
   "metadata": {},
   "outputs": [
    {
     "name": "stdout",
     "output_type": "stream",
     "text": [
      "unique words: ['python', 'is', 'simple', 'and', 'easy', 'also', 'most', 'used', 'language']\n"
     ]
    }
   ],
   "source": [
    "str_46 = \"python is simple and python is easy also python is most used language\"\n",
    "list_str_46 = str_46.split()\n",
    "\n",
    "res = []\n",
    "for i in list_str_46:\n",
    "    if i not in res:\n",
    "        res.append(i)\n",
    "\n",
    "print(f\"unique words: {res}\")"
   ]
  },
  {
   "cell_type": "markdown",
   "metadata": {},
   "source": [
    "##### 46. Count the number of syllables in a string."
   ]
  },
  {
   "cell_type": "code",
   "execution_count": 25,
   "metadata": {},
   "outputs": [
    {
     "name": "stdout",
     "output_type": "stream",
     "text": [
      "Number of syllables: 2\n"
     ]
    }
   ],
   "source": [
    "import re\n",
    "\n",
    "str46 = 'happy'\n",
    "\n",
    "str46 = str46.lower()\n",
    "res = re.findall(r'[aeiouy]+', str46)\n",
    "print(f\"Number of syllables: {len(res)}\")\n"
   ]
  },
  {
   "cell_type": "markdown",
   "metadata": {},
   "source": [
    "##### 47. Check if a string contains any special characters."
   ]
  },
  {
   "cell_type": "code",
   "execution_count": 26,
   "metadata": {},
   "outputs": [
    {
     "name": "stdout",
     "output_type": "stream",
     "text": [
      "yes string contain special characters\n"
     ]
    }
   ],
   "source": [
    "str_47 = 'pr@sad'\n",
    "\n",
    "if str_47.isalnum():\n",
    "    print(\"string not contain any special characters\")\n",
    "else:\n",
    "    print(\"yes string contain special characters\")"
   ]
  },
  {
   "cell_type": "markdown",
   "metadata": {},
   "source": [
    "##### 48. Remove the nth word from a string."
   ]
  },
  {
   "cell_type": "code",
   "execution_count": 37,
   "metadata": {},
   "outputs": [
    {
     "name": "stdout",
     "output_type": "stream",
     "text": [
      "string after insert word: to python class\n"
     ]
    }
   ],
   "source": [
    "# 48\n",
    "\n",
    "str_48 = 'Welcome to python class'\n",
    "n = int(input(\"Enter position to insert\"))\n",
    "\n",
    "list_str_48 = str_48.split()\n",
    "if n < len(list_str_48):\n",
    "    list_str_48.pop(n)\n",
    "else:\n",
    "    print(\"Enter n value less than total number of words\")\n",
    "\n",
    "print(f\"string after remove word: {' '.join(list_str_48)}\")\n"
   ]
  },
  {
   "cell_type": "markdown",
   "metadata": {},
   "source": [
    "##### 49. Insert a word at the nth position in a string."
   ]
  },
  {
   "cell_type": "code",
   "execution_count": 38,
   "metadata": {},
   "outputs": [
    {
     "name": "stdout",
     "output_type": "stream",
     "text": [
      "string after insert word: Good Morning Welcome to python class\n"
     ]
    }
   ],
   "source": [
    "str_49 = 'Welcome to python class'\n",
    "n = int(input(\"Enter position to insert\"))\n",
    "word = input(\"Enter word to insert\")\n",
    "\n",
    "list_str_49 = str_49.split()\n",
    "if n < len(list_str_49):\n",
    "    list_str_49.insert(n, word)\n",
    "else:\n",
    "    print(\"Enter n value less than total number of words\")\n",
    "\n",
    "print(f\"string after insert word: {' '.join(list_str_49)}\")"
   ]
  },
  {
   "cell_type": "markdown",
   "metadata": {},
   "source": [
    "##### 50. Convert a CSV string to a list of lists.\n"
   ]
  },
  {
   "cell_type": "code",
   "execution_count": 50,
   "metadata": {},
   "outputs": [
    {
     "name": "stdout",
     "output_type": "stream",
     "text": [
      "CSV string to a list of lists: [['Prasad', 'masters', '30', 'nellore', 'A'], ['Naveen', 'btech', '39', 'Kurnool', 'B'], ['Akash', 'school', '34', 'Hyderbad', 'A']]\n"
     ]
    }
   ],
   "source": [
    "str_50 = '''Prasad,masters,30,nellore,A\n",
    "Naveen,btech,39,Kurnool,B\n",
    "Akash,school,34,Hyderbad,A'''\n",
    "\n",
    "ls = []\n",
    "for i in str_50.split('\\n'):\n",
    "    i=i.split(',')\n",
    "    ls.append(i)\n",
    "\n",
    "print(f\"CSV string to a list of lists: {ls}\")\n"
   ]
  },
  {
   "cell_type": "markdown",
   "metadata": {},
   "source": [
    "### List Practice Problems"
   ]
  },
  {
   "cell_type": "markdown",
   "metadata": {},
   "source": [
    "##### 1. Create a list with integers from 1 to 10."
   ]
  },
  {
   "cell_type": "code",
   "execution_count": 54,
   "metadata": {},
   "outputs": [
    {
     "name": "stdout",
     "output_type": "stream",
     "text": [
      "list of elements [0, 1, 2, 3, 4, 5, 6, 7, 8, 9]\n"
     ]
    }
   ],
   "source": [
    "list1 = list(range(10))\n",
    "print(f\"list of elements {list1}\")"
   ]
  },
  {
   "cell_type": "markdown",
   "metadata": {},
   "source": [
    "##### 2. Find the length of a list without using the `len()` function."
   ]
  },
  {
   "cell_type": "code",
   "execution_count": 55,
   "metadata": {},
   "outputs": [
    {
     "name": "stdout",
     "output_type": "stream",
     "text": [
      "length of the list is: 1\n",
      "length of the list is: 2\n",
      "length of the list is: 3\n",
      "length of the list is: 4\n",
      "length of the list is: 5\n",
      "length of the list is: 6\n",
      "length of the list is: 7\n",
      "length of the list is: 8\n",
      "length of the list is: 9\n",
      "length of the list is: 10\n"
     ]
    }
   ],
   "source": [
    "list2 = [1,2,3,4,5,6,7,8,9,0]\n",
    "length = 0\n",
    "for i in list2:\n",
    "    length += 1\n",
    "    print(f\"length of the list is: {length}\")"
   ]
  },
  {
   "cell_type": "markdown",
   "metadata": {},
   "source": [
    "##### 3. Append an element to the end of a list."
   ]
  },
  {
   "cell_type": "code",
   "execution_count": 56,
   "metadata": {},
   "outputs": [
    {
     "name": "stdout",
     "output_type": "stream",
     "text": [
      "list after append [0, 1, 2, 3, 4, 5, 6, 7, 8, 9, 10]\n"
     ]
    }
   ],
   "source": [
    "list1.append(10)\n",
    "print(f\"list after append {list1}\")"
   ]
  },
  {
   "cell_type": "markdown",
   "metadata": {},
   "source": [
    "##### 4. Insert an element at a specific index in a list."
   ]
  },
  {
   "cell_type": "code",
   "execution_count": 57,
   "metadata": {},
   "outputs": [
    {
     "name": "stdout",
     "output_type": "stream",
     "text": [
      "list after insert [0, 1, 2, 3, 'Prasad', 4, 5, 6, 7, 8, 9, 10]\n"
     ]
    }
   ],
   "source": [
    "list1.insert(4, 'Prasad')\n",
    "print(f\"list after insert {list1}\")"
   ]
  },
  {
   "cell_type": "markdown",
   "metadata": {},
   "source": [
    "##### 5. Remove an element from a list by its value."
   ]
  },
  {
   "cell_type": "code",
   "execution_count": 58,
   "metadata": {},
   "outputs": [
    {
     "name": "stdout",
     "output_type": "stream",
     "text": [
      "list after remove [0, 1, 2, 3, 'Prasad', 4, 5, 6, 7, 8, 9]\n"
     ]
    }
   ],
   "source": [
    "list1.remove(10)\n",
    "print(f\"list after remove {list1}\")"
   ]
  },
  {
   "cell_type": "markdown",
   "metadata": {},
   "source": [
    "##### 6. Remove an element from a list by its index."
   ]
  },
  {
   "cell_type": "code",
   "execution_count": 59,
   "metadata": {},
   "outputs": [
    {
     "name": "stdout",
     "output_type": "stream",
     "text": [
      "list after pop [0, 1, 2, 3, 4, 5, 6, 7, 8, 9]\n"
     ]
    }
   ],
   "source": [
    "list1.pop(4)\n",
    "print(f\"list after pop {list1}\")"
   ]
  },
  {
   "cell_type": "markdown",
   "metadata": {},
   "source": [
    "##### 7. Check if an element exists in a list."
   ]
  },
  {
   "cell_type": "code",
   "execution_count": 61,
   "metadata": {},
   "outputs": [
    {
     "name": "stdout",
     "output_type": "stream",
     "text": [
      "Element exists in a list\n"
     ]
    }
   ],
   "source": [
    "element = int(input())\n",
    "if element in list1:\n",
    "    print(\"Element exists in a list\")\n",
    "else:\n",
    "    print(\"element not existed\")"
   ]
  },
  {
   "cell_type": "markdown",
   "metadata": {},
   "source": [
    "##### 8. Find the index of the first occurrence of an element in a list."
   ]
  },
  {
   "cell_type": "code",
   "execution_count": 62,
   "metadata": {},
   "outputs": [
    {
     "name": "stdout",
     "output_type": "stream",
     "text": [
      "Element at index 2 is: 1\n"
     ]
    }
   ],
   "source": [
    "list2 = [22,2,53,643,22,53, 22,2,643]\n",
    "print(f\"Element at index 2 is: {list2.index(2)}\")"
   ]
  },
  {
   "cell_type": "markdown",
   "metadata": {},
   "source": [
    "##### 9. Count the occurrences of an element in a list."
   ]
  },
  {
   "cell_type": "code",
   "execution_count": 63,
   "metadata": {},
   "outputs": [
    {
     "name": "stdout",
     "output_type": "stream",
     "text": [
      "count of 2 is: 2\n"
     ]
    }
   ],
   "source": [
    "print(f\"count of 2 is: {list2.count(2)}\")"
   ]
  },
  {
   "cell_type": "markdown",
   "metadata": {},
   "source": [
    "##### 10. Reverse the order of elements in a list."
   ]
  },
  {
   "cell_type": "code",
   "execution_count": 64,
   "metadata": {},
   "outputs": [
    {
     "name": "stdout",
     "output_type": "stream",
     "text": [
      "reverse of list: ['cool', '34', 'hello', 'python', '1']\n"
     ]
    }
   ],
   "source": [
    "list3 = ['1','python', 'hello', '34', 'cool']\n",
    "list3.reverse()\n",
    "\n",
    "print(f\"reverse of list: {list3}\")"
   ]
  },
  {
   "cell_type": "markdown",
   "metadata": {},
   "source": [
    "##### 11. Sort a list in ascending order."
   ]
  },
  {
   "cell_type": "code",
   "execution_count": 65,
   "metadata": {},
   "outputs": [
    {
     "name": "stdout",
     "output_type": "stream",
     "text": [
      "sorted list ['1', '34', 'cool', 'hello', 'python']\n"
     ]
    }
   ],
   "source": [
    "list3.sort()\n",
    "print(f\"sorted list {list3}\")"
   ]
  },
  {
   "cell_type": "markdown",
   "metadata": {},
   "source": [
    "##### 12. Sort a list in descending order."
   ]
  },
  {
   "cell_type": "code",
   "execution_count": 66,
   "metadata": {},
   "outputs": [
    {
     "name": "stdout",
     "output_type": "stream",
     "text": [
      "sorted list in descending order ['python', 'hello', 'cool', '34', '1']\n"
     ]
    }
   ],
   "source": [
    "list3.sort(reverse=True)\n",
    "print(f\"sorted list in descending order {list3}\")"
   ]
  },
  {
   "cell_type": "markdown",
   "metadata": {},
   "source": [
    "##### 13. Create a list of even numbers from 1 to 20."
   ]
  },
  {
   "cell_type": "code",
   "execution_count": 67,
   "metadata": {},
   "outputs": [
    {
     "name": "stdout",
     "output_type": "stream",
     "text": [
      "list of even numbers [0, 2, 4, 6, 8, 10, 12, 14, 16, 18]\n"
     ]
    }
   ],
   "source": [
    "list4 = list(range(0,20,2))\n",
    "print(f\"list of even numbers {list4}\")"
   ]
  },
  {
   "cell_type": "markdown",
   "metadata": {},
   "source": [
    "##### 14. Create a list of odd numbers from 1 to 20."
   ]
  },
  {
   "cell_type": "code",
   "execution_count": 68,
   "metadata": {},
   "outputs": [
    {
     "name": "stdout",
     "output_type": "stream",
     "text": [
      "list of odd numbers [1, 3, 5, 7, 9, 11, 13, 15, 17, 19]\n"
     ]
    }
   ],
   "source": [
    "list5 = list(range(1, 20,2))\n",
    "print(\"list of odd numbers\" ,list5)"
   ]
  },
  {
   "cell_type": "markdown",
   "metadata": {},
   "source": [
    "##### 15. Find the sum of all elements in a list."
   ]
  },
  {
   "cell_type": "code",
   "execution_count": 69,
   "metadata": {},
   "outputs": [
    {
     "name": "stdout",
     "output_type": "stream",
     "text": [
      "sum of elements: 90\n"
     ]
    }
   ],
   "source": [
    "print(f\"sum of elements: {sum(list4)}\")\n"
   ]
  },
  {
   "cell_type": "markdown",
   "metadata": {},
   "source": [
    "##### 16. Find the maximum value in a list."
   ]
  },
  {
   "cell_type": "code",
   "execution_count": 70,
   "metadata": {},
   "outputs": [
    {
     "name": "stdout",
     "output_type": "stream",
     "text": [
      "max of list: 19\n"
     ]
    }
   ],
   "source": [
    "print(f\"max of list: {max(list5)}\")"
   ]
  },
  {
   "cell_type": "markdown",
   "metadata": {},
   "source": [
    "##### 17. Find the minimum value in a list."
   ]
  },
  {
   "cell_type": "code",
   "execution_count": 71,
   "metadata": {},
   "outputs": [
    {
     "name": "stdout",
     "output_type": "stream",
     "text": [
      "min of list: 1\n"
     ]
    }
   ],
   "source": [
    "print(f\"min of list: {min(list3)}\")"
   ]
  },
  {
   "cell_type": "markdown",
   "metadata": {},
   "source": [
    "##### 18. Create a list of squares of numbers from 1 to 10."
   ]
  },
  {
   "cell_type": "code",
   "execution_count": 72,
   "metadata": {},
   "outputs": [
    {
     "name": "stdout",
     "output_type": "stream",
     "text": [
      "list of squares :[1, 4, 9, 16, 25, 36, 49, 64, 81, 100]\n"
     ]
    }
   ],
   "source": [
    "list6 = [i**2 for i in range(1, 11)]\n",
    "print(f\"list of squares :{list6}\")"
   ]
  },
  {
   "cell_type": "markdown",
   "metadata": {},
   "source": [
    "##### 19. Create a list of random numbers."
   ]
  },
  {
   "cell_type": "code",
   "execution_count": 73,
   "metadata": {},
   "outputs": [
    {
     "name": "stdout",
     "output_type": "stream",
     "text": [
      "[10, 42.5, True, 'cat', 'Dog', True, False, 'cat', 10, 'Nature', 100.0, 100, 'Dog']\n"
     ]
    }
   ],
   "source": [
    "list7 = [10, 42.5, True, 'cat', 'Dog', True, False, 'cat', 10, 'Nature', 100.0, 100, 'Dog']\n",
    "print(list7)"
   ]
  },
  {
   "cell_type": "markdown",
   "metadata": {},
   "source": [
    "##### 20. Remove duplicates from a list."
   ]
  },
  {
   "cell_type": "code",
   "execution_count": 74,
   "metadata": {},
   "outputs": [
    {
     "name": "stdout",
     "output_type": "stream",
     "text": [
      "list without duplicates: [False, True, 100.0, 'Dog', 10, 42.5, 'Nature', 'cat']\n"
     ]
    }
   ],
   "source": [
    "list8 = set(list7)\n",
    "unique_list8 = list(list8)\n",
    "\n",
    "print(f\"list without duplicates: {unique_list8}\")\n"
   ]
  },
  {
   "cell_type": "markdown",
   "metadata": {},
   "source": [
    "##### 21. Find the common elements between two lists."
   ]
  },
  {
   "cell_type": "code",
   "execution_count": 75,
   "metadata": {},
   "outputs": [
    {
     "name": "stdout",
     "output_type": "stream",
     "text": [
      "common elements: [50]\n"
     ]
    }
   ],
   "source": [
    "list9 = [10, 20, 30, 40, 50]\n",
    "list10 = [5, 50, 500, 5000, 50000]\n",
    "\n",
    "common = [e for e in list9 if e in list10]\n",
    "print(f\"common elements: {common}\")\n"
   ]
  },
  {
   "cell_type": "markdown",
   "metadata": {},
   "source": [
    "##### 22. Find the difference between two lists."
   ]
  },
  {
   "cell_type": "code",
   "execution_count": 76,
   "metadata": {},
   "outputs": [
    {
     "name": "stdout",
     "output_type": "stream",
     "text": [
      "difference between two lists: [20, 40, 10, 30]\n"
     ]
    }
   ],
   "source": [
    "print(f\"difference between two lists: {list(set(list9).difference(list10))}\")"
   ]
  },
  {
   "cell_type": "markdown",
   "metadata": {},
   "source": [
    "##### 23. Merge two lists."
   ]
  },
  {
   "cell_type": "code",
   "execution_count": 77,
   "metadata": {},
   "outputs": [
    {
     "name": "stdout",
     "output_type": "stream",
     "text": [
      "merge of two lists: [10, 20, 30, 40, 50, 5, 50, 500, 5000, 50000]\n"
     ]
    }
   ],
   "source": [
    "list9.extend(list10)\n",
    "print(f\"merge of two lists: {list9}\")"
   ]
  },
  {
   "cell_type": "markdown",
   "metadata": {},
   "source": [
    "##### 24. Multiply all elements in a list by 2."
   ]
  },
  {
   "cell_type": "code",
   "execution_count": 78,
   "metadata": {},
   "outputs": [
    {
     "name": "stdout",
     "output_type": "stream",
     "text": [
      "list multiply by 2: [20, 40, 60, 80, 100, 10, 100, 1000, 10000, 100000]\n"
     ]
    }
   ],
   "source": [
    "list_24 = [e*2 for e in list9]\n",
    "print(f\"list multiply by 2: {list_24}\")"
   ]
  },
  {
   "cell_type": "markdown",
   "metadata": {},
   "source": [
    "##### 25. Filter out all even numbers from a list."
   ]
  },
  {
   "cell_type": "code",
   "execution_count": 79,
   "metadata": {},
   "outputs": [
    {
     "name": "stdout",
     "output_type": "stream",
     "text": [
      "filter all even numbers: [0, 20, 50, 62]\n"
     ]
    }
   ],
   "source": [
    "list11 = [0, 15, 20, 50, 62]\n",
    "list_11a = [e for e in list11 if e%2==0]\n",
    "print(f\"filter all even numbers: {list_11a}\")"
   ]
  },
  {
   "cell_type": "markdown",
   "metadata": {},
   "source": [
    "##### 26. Convert a list of strings to a list of integers."
   ]
  },
  {
   "cell_type": "code",
   "execution_count": 80,
   "metadata": {},
   "outputs": [
    {
     "name": "stdout",
     "output_type": "stream",
     "text": [
      "list of strings to a list of integers: [1, 2, 3, 4, 5]\n"
     ]
    }
   ],
   "source": [
    "list12 = ['1', '2', '3', '4', '5']\n",
    "for i in range(len(list12)):\n",
    "    list12[i] = int(list12[i])\n",
    "\n",
    "print(f\"list of strings to a list of integers: {list12}\")"
   ]
  },
  {
   "cell_type": "markdown",
   "metadata": {},
   "source": [
    "##### 27. Convert a list of integers to a list of strings."
   ]
  },
  {
   "cell_type": "code",
   "execution_count": 81,
   "metadata": {},
   "outputs": [
    {
     "name": "stdout",
     "output_type": "stream",
     "text": [
      "list of integers to a list of strings:['1', '2', '3', '4', '5']\n"
     ]
    }
   ],
   "source": [
    "list13 = [1, 2, 3, 4, 5]\n",
    "for i in range(len(list13)):\n",
    "    list13[i] = str(list13[i])\n",
    "\n",
    "print(f\"list of integers to a list of strings:{list13}\")"
   ]
  },
  {
   "cell_type": "markdown",
   "metadata": {},
   "source": [
    "##### 28. Flatten a nested list."
   ]
  },
  {
   "cell_type": "code",
   "execution_count": 82,
   "metadata": {},
   "outputs": [
    {
     "name": "stdout",
     "output_type": "stream",
     "text": [
      "nested lis: [1, 3, 5, 'Maths', 'slice']\n"
     ]
    }
   ],
   "source": [
    "list14 = [[1,3,5], ['Maths', 'slice']]\n",
    "list14_a = [i for row in list14 for i in row ]\n",
    "print(f\"nested lis: {list14_a}\")"
   ]
  },
  {
   "cell_type": "markdown",
   "metadata": {},
   "source": [
    "##### 29. Create a list of the first 10 Fibonacci numbers."
   ]
  },
  {
   "cell_type": "code",
   "execution_count": 26,
   "metadata": {},
   "outputs": [
    {
     "name": "stdout",
     "output_type": "stream",
     "text": [
      "first 10 fibnacci numbers: [0, 1, 1, 2, 3, 5, 8, 13, 21, 34]\n"
     ]
    }
   ],
   "source": [
    "len_fib = int(input())\n",
    "l = [0,1]\n",
    "for i in range(2,len_fib):\n",
    "    l.append(l[i-1] + l[i-2])\n",
    "\n",
    "print(f\"first 10 fibnacci numbers: {l}\")\n"
   ]
  },
  {
   "cell_type": "markdown",
   "metadata": {},
   "source": [
    "##### 30. Check if a list is sorted."
   ]
  },
  {
   "cell_type": "code",
   "execution_count": 84,
   "metadata": {},
   "outputs": [
    {
     "name": "stdout",
     "output_type": "stream",
     "text": [
      "sorted list: [4, 6, 1, 63, 0, 535]\n"
     ]
    }
   ],
   "source": [
    "list15 = [4,6,1,63,0, 535]\n",
    "list15 == sorted(list15)\n",
    "\n",
    "print(f\"sorted list: {list15}\")"
   ]
  },
  {
   "cell_type": "markdown",
   "metadata": {},
   "source": [
    "##### 31. Rotate a list to the left by `n` positions."
   ]
  },
  {
   "cell_type": "code",
   "execution_count": 85,
   "metadata": {},
   "outputs": [
    {
     "data": {
      "text/plain": [
       "[4, 5, 6, 7, 8, 9, 1, 2, 3]"
      ]
     },
     "execution_count": 85,
     "metadata": {},
     "output_type": "execute_result"
    }
   ],
   "source": [
    "n = int(input())\n",
    "\n",
    "list16 = [1,2,3,4,5,6,7,8,9]\n",
    "list16[n:]+list16[:n]"
   ]
  },
  {
   "cell_type": "markdown",
   "metadata": {},
   "source": [
    "##### 32. Rotate a list to the right by `n` positions."
   ]
  },
  {
   "cell_type": "code",
   "execution_count": 87,
   "metadata": {},
   "outputs": [
    {
     "data": {
      "text/plain": [
       "[7, 8, 9, 1, 2, 3, 4, 5, 6]"
      ]
     },
     "execution_count": 87,
     "metadata": {},
     "output_type": "execute_result"
    }
   ],
   "source": [
    "list16 = [1,2,3,4,5,6,7,8,9]\n",
    "list16[-n:]+list16[:-n]"
   ]
  },
  {
   "cell_type": "markdown",
   "metadata": {},
   "source": [
    "##### 33. Create a list of prime numbers up to 50."
   ]
  },
  {
   "cell_type": "code",
   "execution_count": 55,
   "metadata": {},
   "outputs": [
    {
     "name": "stdout",
     "output_type": "stream",
     "text": [
      "0\n",
      "1\n",
      "2\n",
      "3\n",
      "5\n",
      "7\n",
      "11\n",
      "13\n",
      "17\n",
      "19\n",
      "23\n",
      "29\n",
      "31\n",
      "37\n",
      "41\n",
      "43\n",
      "47\n"
     ]
    }
   ],
   "source": [
    "n = 50\n",
    "for i in range(50):\n",
    "    prime = True\n",
    "    for j in range(2, i):\n",
    "        if i%j == 0:\n",
    "            prime=False\n",
    "    if prime:\n",
    "        print(i)"
   ]
  },
  {
   "cell_type": "markdown",
   "metadata": {},
   "source": [
    "##### 34. Split a list into chunks of size `n`."
   ]
  },
  {
   "cell_type": "code",
   "execution_count": 90,
   "metadata": {},
   "outputs": [
    {
     "data": {
      "text/plain": [
       "[[1, 23, 43], [1, 23, 43], [1, 23, 43], [1, 23, 43], [1, 23, 43]]"
      ]
     },
     "execution_count": 90,
     "metadata": {},
     "output_type": "execute_result"
    }
   ],
   "source": [
    "n = 3\n",
    "list17 = [1, 23, 43, 53, 2, 3, 52, 63, 563, 6, 3232, 5, 25, 4, 636]\n",
    "l = len(list17)\n",
    "chunk_size = l // n\n",
    "\n",
    "lis = []\n",
    "for i in range(0, len(list17), n):\n",
    "    lis.append(list17[:n])\n",
    "\n",
    "print(lis)"
   ]
  },
  {
   "cell_type": "markdown",
   "metadata": {},
   "source": [
    "##### 35. Find the second largest number in a list.\n"
   ]
  },
  {
   "cell_type": "code",
   "execution_count": 92,
   "metadata": {},
   "outputs": [
    {
     "name": "stdout",
     "output_type": "stream",
     "text": [
      "Second largest number:67\n"
     ]
    }
   ],
   "source": [
    "list_35 = [60, 30, 15, 80, 67]\n",
    "sorted_list = sorted(set(list_35))\n",
    "print(f\"Second largest number: {sorted_list[-2]}\")"
   ]
  },
  {
   "cell_type": "markdown",
   "metadata": {},
   "source": [
    "##### 36. Replace every element in a list with its square.\n"
   ]
  },
  {
   "cell_type": "code",
   "execution_count": 93,
   "metadata": {},
   "outputs": [
    {
     "name": "stdout",
     "output_type": "stream",
     "text": [
      "square of elements: [4, 16, 36, 64, 0]\n"
     ]
    }
   ],
   "source": [
    "list36 = [2,4,6,8,0]\n",
    "\n",
    "for i in range(len(list36)):\n",
    "    list36[i] = list36[i]**2\n",
    "\n",
    "print(f\"square of elements: {list36}\")"
   ]
  },
  {
   "cell_type": "markdown",
   "metadata": {},
   "source": [
    "##### 37. Convert a list to a dictionary where list elements become keys and their indices become values.\n"
   ]
  },
  {
   "cell_type": "code",
   "execution_count": 97,
   "metadata": {},
   "outputs": [
    {
     "name": "stdout",
     "output_type": "stream",
     "text": [
      "list to dict: {'yes': 0, 'no': 1, 'pass': 2, 'fail': 3}\n"
     ]
    }
   ],
   "source": [
    "list37 = ['yes', 'no', 'pass', 'fail']\n",
    "d = {}\n",
    "for i in range(len(list37)):\n",
    "    d[list37[i]] = i\n",
    "\n",
    "print(f\"list to dict: {d}\")"
   ]
  },
  {
   "cell_type": "markdown",
   "metadata": {},
   "source": [
    "##### 38. Shuffle the elements of a list randomly."
   ]
  },
  {
   "cell_type": "code",
   "execution_count": 100,
   "metadata": {},
   "outputs": [
    {
     "name": "stdout",
     "output_type": "stream",
     "text": [
      "shuffle of elements: [0, 8, 4, 6, 2]\n"
     ]
    }
   ],
   "source": [
    "list38 = [2, 4,6,8,0]\n",
    "\n",
    "import random\n",
    "\n",
    "random.shuffle(list38)\n",
    "\n",
    "print(f\"shuffle of elements: {list38}\")"
   ]
  },
  {
   "cell_type": "markdown",
   "metadata": {},
   "source": [
    "##### 39. Create a list of the first 10 factorial numbers."
   ]
  },
  {
   "cell_type": "code",
   "execution_count": 28,
   "metadata": {},
   "outputs": [
    {
     "data": {
      "text/plain": [
       "[1, 1, 2, 6, 24, 120, 720, 5040, 40320, 362880]"
      ]
     },
     "execution_count": 28,
     "metadata": {},
     "output_type": "execute_result"
    }
   ],
   "source": [
    "l = []\n",
    "for i in range(1, 11):\n",
    "    s = 1\n",
    "    for j in range(1, i):\n",
    "        s *=j\n",
    "    l.append(s)\n",
    "\n",
    "        \n",
    "l"
   ]
  },
  {
   "cell_type": "markdown",
   "metadata": {},
   "source": [
    "##### 40. Check if two lists have at least one element in common."
   ]
  },
  {
   "cell_type": "code",
   "execution_count": 133,
   "metadata": {},
   "outputs": [
    {
     "name": "stdout",
     "output_type": "stream",
     "text": [
      "yes elements are common\n"
     ]
    }
   ],
   "source": [
    "list40_a = [10, 100, 500, 800]\n",
    "list40_b = [5, 10, 15, 20]\n",
    "\n",
    "common = False\n",
    "for i in list40_a:\n",
    "    if i in list40_b:\n",
    "        common = True\n",
    "        break\n",
    "if common:\n",
    "    print(f\"yes elements are common\")\n",
    "else:\n",
    "    print(f\"No elements common\")"
   ]
  },
  {
   "cell_type": "markdown",
   "metadata": {},
   "source": [
    "##### 41. Remove all elements from a list."
   ]
  },
  {
   "cell_type": "code",
   "execution_count": 128,
   "metadata": {},
   "outputs": [
    {
     "name": "stdout",
     "output_type": "stream",
     "text": [
      "clear all elements: None\n"
     ]
    }
   ],
   "source": [
    "list41 = [1,3,4,6,89,0]\n",
    "print(f\"clear all elements: {list41.clear()}\")"
   ]
  },
  {
   "cell_type": "markdown",
   "metadata": {},
   "source": [
    "##### 42. Replace negative numbers in a list with 0.\n"
   ]
  },
  {
   "cell_type": "code",
   "execution_count": 127,
   "metadata": {},
   "outputs": [
    {
     "name": "stdout",
     "output_type": "stream",
     "text": [
      "list after replace negarive numbers: [0, 4, 0, 6, 0, 0, 4]\n"
     ]
    }
   ],
   "source": [
    "list42 = [-10, 4, -1, 6, -6, 0, 4]\n",
    "\n",
    "for i in range(len(list42)):\n",
    "    if list42[i] < 0:\n",
    "        list42[i] = 0\n",
    "\n",
    "print(f\"list after replace negarive numbers: {list42}\")\n"
   ]
  },
  {
   "cell_type": "markdown",
   "metadata": {},
   "source": [
    "##### 43. Convert a string into a list of words."
   ]
  },
  {
   "cell_type": "code",
   "execution_count": 122,
   "metadata": {},
   "outputs": [
    {
     "name": "stdout",
     "output_type": "stream",
     "text": [
      "string to list: ['Python', 'is', 'east', 'to', 'understand', 'and', 'write']\n"
     ]
    }
   ],
   "source": [
    "str43 = 'Python is east to understand and write'\n",
    "ls = str43.split()\n",
    "\n",
    "print(f\"string to list: {ls}\")"
   ]
  },
  {
   "cell_type": "markdown",
   "metadata": {},
   "source": [
    "##### 44. Convert a list of words into a string.\n"
   ]
  },
  {
   "cell_type": "code",
   "execution_count": 31,
   "metadata": {},
   "outputs": [
    {
     "name": "stdout",
     "output_type": "stream",
     "text": [
      "list of words into a string: Ramu is boy\n"
     ]
    }
   ],
   "source": [
    "list44 = ['Ramu', 'is', 'boy']\n",
    "\n",
    "res = ' '.join(list44)\n",
    "\n",
    "print(f\"list of words into a string: {res}\")"
   ]
  },
  {
   "cell_type": "markdown",
   "metadata": {},
   "source": [
    "##### 45. Create a list of the first `n` powers of 2."
   ]
  },
  {
   "cell_type": "code",
   "execution_count": 115,
   "metadata": {},
   "outputs": [
    {
     "name": "stdout",
     "output_type": "stream",
     "text": [
      "lis tiwth first n powers of 2: [1, 4, 9, 16, 25, 36, 49, 64]\n"
     ]
    }
   ],
   "source": [
    "n = int(input(\"Enter n value:\"))\n",
    "ls = []\n",
    "for i in range(1, n+1):\n",
    "    ls.append(i**2)\n",
    "\n",
    "print(f\"lis tiwth first n powers of 2: {ls}\")"
   ]
  },
  {
   "cell_type": "markdown",
   "metadata": {},
   "source": [
    "##### 46. Find the longest string in a list of strings.\n"
   ]
  },
  {
   "cell_type": "code",
   "execution_count": 114,
   "metadata": {},
   "outputs": [
    {
     "name": "stdout",
     "output_type": "stream",
     "text": [
      "shortest string: python\n"
     ]
    }
   ],
   "source": [
    "list46 = ['python', 'c', 'c++', 'Java']\n",
    "\n",
    "max_len = len(list46[0])\n",
    "long_str= list46[0]\n",
    "for i in list46:\n",
    "    if len(i) > max_len:\n",
    "        max_len = len(i)\n",
    "        long_str = i\n",
    "\n",
    "print(f\"shortest string: {long_str}\")"
   ]
  },
  {
   "cell_type": "markdown",
   "metadata": {},
   "source": [
    "##### 47. Find the shortest string in a list of strings."
   ]
  },
  {
   "cell_type": "code",
   "execution_count": 113,
   "metadata": {},
   "outputs": [
    {
     "name": "stdout",
     "output_type": "stream",
     "text": [
      "shortest string: c\n"
     ]
    }
   ],
   "source": [
    "list47 = ['python', 'c', 'c++', 'Java']\n",
    "\n",
    "min_len = len(list47[0])\n",
    "short_str= list47[0]\n",
    "for i in list47:\n",
    "    if len(i) < min_len:\n",
    "        min_len = len(i)\n",
    "        short_str = i\n",
    "\n",
    "print(f\"shortest string: {short_str}\")"
   ]
  },
  {
   "cell_type": "markdown",
   "metadata": {},
   "source": [
    "##### 48. Create a list of the first `n` triangular numbers.\n"
   ]
  },
  {
   "cell_type": "code",
   "execution_count": 109,
   "metadata": {},
   "outputs": [
    {
     "name": "stdout",
     "output_type": "stream",
     "text": [
      "[1, 3, 6, 10, 15, 21]\n"
     ]
    }
   ],
   "source": [
    "n = int(input(\"Enter n value:\"))\n",
    "\n",
    "triangular = []\n",
    "res = 0\n",
    "for i in range(1, n+1):\n",
    "    res += i\n",
    "    triangular.append(res)\n",
    "\n",
    "print(triangular)"
   ]
  },
  {
   "cell_type": "markdown",
   "metadata": {},
   "source": [
    "##### 49. Check if a list contains another list as a subsequence."
   ]
  },
  {
   "cell_type": "code",
   "execution_count": 36,
   "metadata": {},
   "outputs": [
    {
     "name": "stdout",
     "output_type": "stream",
     "text": [
      "Yes, its a subsequences\n"
     ]
    }
   ],
   "source": [
    "list49 = [1,2,3,4,5,6,7,8]\n",
    "list49a = [2,3,4]\n",
    "\n",
    "ind = 0\n",
    "issequence = False\n",
    "for e in list49:\n",
    "    if e == list49a[ind]:\n",
    "        ind += 1\n",
    "        if len(list49a) == ind:\n",
    "            issequence = True\n",
    "            break\n",
    "        \n",
    "if issequence:\n",
    "    print(\"Yes, its a subsequences\")\n",
    "else:\n",
    "    print(\"No, not subsequence\")\n",
    "            "
   ]
  },
  {
   "cell_type": "markdown",
   "metadata": {},
   "source": [
    "##### 50. Swap two elements in a list by their indices."
   ]
  },
  {
   "cell_type": "code",
   "execution_count": 106,
   "metadata": {},
   "outputs": [
    {
     "name": "stdout",
     "output_type": "stream",
     "text": [
      "list after swap: [1, 2, 6, 4, 5, 3, 7, 8, 9, 0]\n"
     ]
    }
   ],
   "source": [
    "list50 = [1,2,3,4,5,6,7,8,9,0]\n",
    "\n",
    "first = int(input(\"Enter first index:\"))\n",
    "second = int(input(\"Enter second index:\"))\n",
    "\n",
    "if first < len(list50) and second < len(list50):\n",
    "    list50[first], list50[second] = list50[second], list50[first]\n",
    "\n",
    "print(f\"list after swap: {list50}\")\n"
   ]
  },
  {
   "cell_type": "markdown",
   "metadata": {},
   "source": [
    "### tuple practice problems"
   ]
  },
  {
   "cell_type": "markdown",
   "metadata": {},
   "source": [
    "##### 1. Create a tuple withe integers from 1 to 5"
   ]
  },
  {
   "cell_type": "code",
   "execution_count": 3,
   "metadata": {},
   "outputs": [
    {
     "name": "stdout",
     "output_type": "stream",
     "text": [
      "tuple:(1, 2, 3, 4, 5)\n"
     ]
    }
   ],
   "source": [
    "# () - used to create tuple\n",
    "tuple_1 = (1,2,3,4,5)\n",
    "print(f\"tuple:{tuple_1}\")"
   ]
  },
  {
   "cell_type": "markdown",
   "metadata": {},
   "source": [
    "##### 2. Access the thid element of a tuple."
   ]
  },
  {
   "cell_type": "code",
   "execution_count": 4,
   "metadata": {},
   "outputs": [
    {
     "name": "stdout",
     "output_type": "stream",
     "text": [
      "Value at index 2 is: 3\n"
     ]
    }
   ],
   "source": [
    "# 3rd element is in the index of 2\n",
    "print(\"Value at index 2 is:\", tuple_1[2])"
   ]
  },
  {
   "cell_type": "markdown",
   "metadata": {},
   "source": [
    "##### 3. Find the length of a tuple without using the  `len()` function"
   ]
  },
  {
   "cell_type": "code",
   "execution_count": 8,
   "metadata": {},
   "outputs": [
    {
     "name": "stdout",
     "output_type": "stream",
     "text": [
      "Lenght of the tuple is 8\n"
     ]
    }
   ],
   "source": [
    "tuple_2 = (4,52,623,62,23,626,2352,664)\n",
    "\n",
    "# intialize length as zero\n",
    "tuple_len = 0\n",
    "\n",
    "# loop to iterate elements\n",
    "for value in tuple_2:\n",
    "    # increase the length for each value\n",
    "    tuple_len += 1\n",
    "print(\"Lenght of the tuple is\",tuple_len)"
   ]
  },
  {
   "cell_type": "markdown",
   "metadata": {},
   "source": [
    "##### 4. Count the occurences of an element in a tuple"
   ]
  },
  {
   "cell_type": "code",
   "execution_count": 5,
   "metadata": {},
   "outputs": [
    {
     "name": "stdout",
     "output_type": "stream",
     "text": [
      "Occurence of particular element: 3\n"
     ]
    }
   ],
   "source": [
    "tuple_4 = (3,3,3,10,10,30, 40, 50, 60)\n",
    "\n",
    "# count() - method used to find the occurence of the elements\n",
    "print(\"Occurence of particular element:\",tuple_4.count(3))"
   ]
  },
  {
   "cell_type": "markdown",
   "metadata": {},
   "source": [
    "##### 5. Find the index of the first occurence of an element in a tuple"
   ]
  },
  {
   "cell_type": "code",
   "execution_count": 17,
   "metadata": {},
   "outputs": [
    {
     "name": "stdout",
     "output_type": "stream",
     "text": [
      "Index of the element 30 is: 5\n"
     ]
    }
   ],
   "source": [
    "tuple_5 = (3,3,3,10,10,30, 40, 50, 60)\n",
    "\n",
    "# index() - method is used to find the index of the specific element\n",
    "print(\"Index of the element 30 is:\", tuple_5.index(30))"
   ]
  },
  {
   "cell_type": "markdown",
   "metadata": {},
   "source": [
    "##### 6. Check if an element exists in a tuple"
   ]
  },
  {
   "cell_type": "code",
   "execution_count": 19,
   "metadata": {},
   "outputs": [
    {
     "name": "stdout",
     "output_type": "stream",
     "text": [
      "the element 10 is existed in tuple\n"
     ]
    }
   ],
   "source": [
    "tuple_6 = (3,3,3,10,10,30, 40, 50, 60)\n",
    "element = int(input(\"Enter element to check in tuple\"))\n",
    "\n",
    "if element in tuple_6:\n",
    "    print(f\"the element {element} is existed in tuple\")\n",
    "else:\n",
    "    print(\"Not existed\")"
   ]
  },
  {
   "cell_type": "markdown",
   "metadata": {},
   "source": [
    "##### 7. Convert a tuple to a list"
   ]
  },
  {
   "cell_type": "code",
   "execution_count": 6,
   "metadata": {},
   "outputs": [
    {
     "name": "stdout",
     "output_type": "stream",
     "text": [
      "List of element after conversion [3, 3, 3, 10, 10, 30, 40, 50, 60]\n"
     ]
    }
   ],
   "source": [
    "tuple_7 = (3,3,3,10,10,30, 40, 50, 60)\n",
    "\n",
    "# list() - function is used to convert into list\n",
    "tuple_to_list = list(tuple_7)\n",
    "print(f\"List of element after conversion {tuple_to_list}\")\n"
   ]
  },
  {
   "cell_type": "markdown",
   "metadata": {},
   "source": [
    "##### 8. Convert a list to a tuple"
   ]
  },
  {
   "cell_type": "code",
   "execution_count": 24,
   "metadata": {},
   "outputs": [
    {
     "name": "stdout",
     "output_type": "stream",
     "text": [
      "tuple after conversion: (3, 63, 26, 2, 62, 62, 26, 2262)\n"
     ]
    }
   ],
   "source": [
    "list_1 = [3,63,26,2,62,62,26,2262]\n",
    "\n",
    "list_to_tuple = tuple(list_1)\n",
    "\n",
    "print(\"tuple after conversion:\", list_to_tuple)"
   ]
  },
  {
   "cell_type": "markdown",
   "metadata": {},
   "source": [
    "##### 9. Unpack the elements of a tuple into variables"
   ]
  },
  {
   "cell_type": "code",
   "execution_count": 10,
   "metadata": {},
   "outputs": [
    {
     "name": "stdout",
     "output_type": "stream",
     "text": [
      "var1:100, var2:200, var3:500, var4:[1000, 900, 800]\n"
     ]
    }
   ],
   "source": [
    "tuple_9 = (100, 200, 500, 1000, 900, 800)\n",
    "\n",
    "var1, var2, var3, *var4 = tuple_9\n",
    "print(f\"var1:{var1}, var2:{var2}, var3:{var3}, var4:{var4}\")"
   ]
  },
  {
   "cell_type": "markdown",
   "metadata": {},
   "source": [
    "##### 10. Create a tuple of even numbers from 1 to 10"
   ]
  },
  {
   "cell_type": "code",
   "execution_count": 14,
   "metadata": {},
   "outputs": [
    {
     "name": "stdout",
     "output_type": "stream",
     "text": [
      "Even number: (0, 2, 4, 6, 8, 10)\n"
     ]
    }
   ],
   "source": [
    "tuple_even = tuple((x for x in range(11) if x %2 == 0))\n",
    "print(f\"Even number: {tuple_even}\")"
   ]
  },
  {
   "cell_type": "markdown",
   "metadata": {},
   "source": [
    "##### 11. Create a tuple of odd numbers from 1 to 10."
   ]
  },
  {
   "cell_type": "code",
   "execution_count": 17,
   "metadata": {},
   "outputs": [
    {
     "name": "stdout",
     "output_type": "stream",
     "text": [
      "odd numbers : (1, 3, 5, 7, 9)\n"
     ]
    }
   ],
   "source": [
    "tuple_odd = tuple([x for x in range(11) if x%2!=0])\n",
    "print(f\"odd numbers : {tuple_odd}\")"
   ]
  },
  {
   "cell_type": "markdown",
   "metadata": {},
   "source": [
    "##### 12. Concatenate two tuples.\n"
   ]
  },
  {
   "cell_type": "code",
   "execution_count": 20,
   "metadata": {},
   "outputs": [
    {
     "name": "stdout",
     "output_type": "stream",
     "text": [
      "Concat of 2 tuples (1, 4, 14, 52)\n"
     ]
    }
   ],
   "source": [
    "t1 = (1,4)\n",
    "t2 = (14,52)\n",
    "\n",
    "t = t1+t2\n",
    "print(f\"Concat of 2 tuples {t}\")"
   ]
  },
  {
   "cell_type": "markdown",
   "metadata": {},
   "source": [
    "##### 13. Repeat a tuple three times.\n"
   ]
  },
  {
   "cell_type": "code",
   "execution_count": 86,
   "metadata": {},
   "outputs": [
    {
     "name": "stdout",
     "output_type": "stream",
     "text": [
      "3 times of tuple: (1, 2, 3, 1, 2, 3, 1, 2, 3)\n"
     ]
    }
   ],
   "source": [
    "tuple_13 = (1,2,3)\n",
    "tuple_n_times = tuple_13*3\n",
    "print(f\"3 times of tuple: {tuple_n_times}\")"
   ]
  },
  {
   "cell_type": "markdown",
   "metadata": {},
   "source": [
    "##### 14. Check if a tuple is empty.\n"
   ]
  },
  {
   "cell_type": "code",
   "execution_count": 25,
   "metadata": {},
   "outputs": [
    {
     "name": "stdout",
     "output_type": "stream",
     "text": [
      "tuple is empty\n"
     ]
    }
   ],
   "source": [
    "tuple_14 = tuple()\n",
    "if not tuple_14:\n",
    "    print(\"tuple is empty\")\n",
    "else:\n",
    "    print(\"tuple is not empty\")"
   ]
  },
  {
   "cell_type": "markdown",
   "metadata": {},
   "source": [
    "##### 15. Create a nested tuple.\n"
   ]
  },
  {
   "cell_type": "code",
   "execution_count": 36,
   "metadata": {},
   "outputs": [
    {
     "name": "stdout",
     "output_type": "stream",
     "text": [
      "nested tuple: (('Yes', 'No'), ('c', 'c++', 'Python'), (1, 2, 3, 4))\n"
     ]
    }
   ],
   "source": [
    "# nested tuple\n",
    "tuple_15 = (('Yes', 'No'), ('c', 'c++', 'Python'), (1,2,3,4))\n",
    "print(f\"nested tuple: {tuple_15}\")"
   ]
  },
  {
   "cell_type": "markdown",
   "metadata": {},
   "source": [
    "##### 16. Access the first element of a nested tuple."
   ]
  },
  {
   "cell_type": "code",
   "execution_count": 38,
   "metadata": {},
   "outputs": [
    {
     "name": "stdout",
     "output_type": "stream",
     "text": [
      "first element of the nested tuple: ('Yes', 'No') \n"
     ]
    }
   ],
   "source": [
    "print(f\"first element of the nested tuple: {tuple_15[0]} \")"
   ]
  },
  {
   "cell_type": "markdown",
   "metadata": {},
   "source": [
    "##### 17. Create a tuple with a single element."
   ]
  },
  {
   "cell_type": "code",
   "execution_count": 46,
   "metadata": {},
   "outputs": [
    {
     "name": "stdout",
     "output_type": "stream",
     "text": [
      "type of the above is: <class 'tuple'>\n"
     ]
    }
   ],
   "source": [
    "tuple_17 = (1,) # place , after the elements then only it is tuple otherwise its umber\n",
    "print(f\"type of the above is: {type(tuple_17)}\")"
   ]
  },
  {
   "cell_type": "markdown",
   "metadata": {},
   "source": [
    "##### 18. Compare two tuples.\n"
   ]
  },
  {
   "cell_type": "code",
   "execution_count": 38,
   "metadata": {},
   "outputs": [
    {
     "name": "stdout",
     "output_type": "stream",
     "text": [
      "tuple_A == tuple_b: False\n",
      "tuple_A != tuple_b: True\n",
      "tuple_A > tuple_b: False\n",
      "tuple_A < tuple_b: True\n",
      "tuple_A <= tuple_b: True\n",
      "tuple_A >= tuple_b: False\n"
     ]
    }
   ],
   "source": [
    "tuple_a = (1, 10, 15)\n",
    "tuple_b = (10, 15, 1)\n",
    "\n",
    "equality = tuple_a == tuple_b\n",
    "not_equality = tuple_a != tuple_b\n",
    "greatear_than = tuple_a > tuple_b\n",
    "less_than = tuple_a < tuple_b\n",
    "less_equal = tuple_a <= tuple_b\n",
    "greater_equal = tuple_a >= tuple_b\n",
    "\n",
    "print(f\"tuple_A == tuple_b: {equality}\")\n",
    "print(f\"tuple_A != tuple_b: {not_equality}\")\n",
    "print(f\"tuple_A > tuple_b: {greatear_than}\")\n",
    "print(f\"tuple_A < tuple_b: {less_than}\")\n",
    "print(f\"tuple_A <= tuple_b: {less_equal}\")\n",
    "print(f\"tuple_A >= tuple_b: {greater_equal}\")\n"
   ]
  },
  {
   "cell_type": "markdown",
   "metadata": {},
   "source": [
    "##### 19. Delete a tuple.\n"
   ]
  },
  {
   "cell_type": "code",
   "execution_count": 51,
   "metadata": {},
   "outputs": [],
   "source": [
    "# deleting single is not possible, tuple is immutable\n",
    "# del() - used to delete entire tuple\n",
    "tuple_19 = (\"Delete\", 'tuple')\n",
    "del(tuple_19)\n",
    "#print(f\"After deletion {tuple_19}\")"
   ]
  },
  {
   "cell_type": "markdown",
   "metadata": {},
   "source": [
    "##### 20. Slice a tuple."
   ]
  },
  {
   "cell_type": "code",
   "execution_count": 55,
   "metadata": {},
   "outputs": [
    {
     "data": {
      "text/plain": [
       "(1, 2, ('True', 'False'))"
      ]
     },
     "execution_count": 55,
     "metadata": {},
     "output_type": "execute_result"
    }
   ],
   "source": [
    "tuple_20 = (1,2,('True', 'False'), 'Dog', 'Cat')\n",
    "tuple_20[:3]        # silicing used to select the few elements in the tuple"
   ]
  },
  {
   "cell_type": "markdown",
   "metadata": {},
   "source": [
    "##### 21. Find the maximum value in a tuple.\n"
   ]
  },
  {
   "cell_type": "code",
   "execution_count": 57,
   "metadata": {},
   "outputs": [
    {
     "name": "stdout",
     "output_type": "stream",
     "text": [
      "max of tuple_21 is: 900\n"
     ]
    }
   ],
   "source": [
    "tuple_21 = (10, 80, 20, 40, 100, 900)\n",
    "print(f\"max of tuple_21 is: {max(tuple_21)}\")"
   ]
  },
  {
   "cell_type": "markdown",
   "metadata": {},
   "source": [
    "##### 22. Find the minimum value in a tuple."
   ]
  },
  {
   "cell_type": "code",
   "execution_count": 58,
   "metadata": {},
   "outputs": [
    {
     "name": "stdout",
     "output_type": "stream",
     "text": [
      "min of tuple_21 is: 10\n"
     ]
    }
   ],
   "source": [
    "print(f\"min of tuple_21 is: {min(tuple_21)}\")"
   ]
  },
  {
   "cell_type": "markdown",
   "metadata": {},
   "source": [
    "##### 23. Convert a string to a tuple of characters."
   ]
  },
  {
   "cell_type": "code",
   "execution_count": 60,
   "metadata": {},
   "outputs": [
    {
     "name": "stdout",
     "output_type": "stream",
     "text": [
      "tuple of characters:('T', 'h', 'i', 's', ' ', 'i', 's', ' ', 'S', 't', 'r', 'i', 'n', 'g')\n"
     ]
    }
   ],
   "source": [
    "str_t = \"This is string\"\n",
    "tuple_s = tuple(str_t)\n",
    "\n",
    "print(f\"tuple of characters:{tuple_s}\")"
   ]
  },
  {
   "cell_type": "markdown",
   "metadata": {},
   "source": [
    "##### 24. Convert a tuple of characters to a string.\n"
   ]
  },
  {
   "cell_type": "code",
   "execution_count": 83,
   "metadata": {},
   "outputs": [
    {
     "name": "stdout",
     "output_type": "stream",
     "text": [
      "string of tuple: python\n"
     ]
    }
   ],
   "source": [
    "tuple_c = ('p','y','t','h','o','n')\n",
    "str_tuple = str(tuple_c)\n",
    "s= ''.join(tuple_c)\n",
    "print(f\"string of tuple: {s}\")"
   ]
  },
  {
   "cell_type": "markdown",
   "metadata": {},
   "source": [
    "##### 25. Create a tuple from multiple data types."
   ]
  },
  {
   "cell_type": "code",
   "execution_count": 100,
   "metadata": {},
   "outputs": [
    {
     "name": "stdout",
     "output_type": "stream",
     "text": [
      "tuple of multiple data types: (1, 2, 10.52, 63.67, True, False, (5+9j), 'string')\n"
     ]
    }
   ],
   "source": [
    "tuple_25 = (1,2,10.52, 63.67, True, False, 5+9j, 'string')\n",
    "print(f\"tuple of multiple data types: {tuple_25}\")"
   ]
  },
  {
   "cell_type": "markdown",
   "metadata": {},
   "source": [
    "##### 26. Check if two tuples are identical.\n"
   ]
  },
  {
   "cell_type": "code",
   "execution_count": 101,
   "metadata": {},
   "outputs": [
    {
     "name": "stdout",
     "output_type": "stream",
     "text": [
      "Both tuples are equal\n"
     ]
    }
   ],
   "source": [
    "tuple_a = (1,2,4)\n",
    "tuple_b = (1,2,4)\n",
    "\n",
    "if tuple_a == tuple_b:\n",
    "    print(f\"Both tuples are equal\")\n",
    "else:\n",
    "    print(f\"tuples are not equal\")"
   ]
  },
  {
   "cell_type": "markdown",
   "metadata": {},
   "source": [
    "##### 27. Sort the elements of a tuple."
   ]
  },
  {
   "cell_type": "code",
   "execution_count": 106,
   "metadata": {},
   "outputs": [
    {
     "name": "stdout",
     "output_type": "stream",
     "text": [
      "sorted array:  (1, 2, 6, 10, 15, 40, 50)\n"
     ]
    }
   ],
   "source": [
    "tuple_27 = (40, 10, 15, 50, 6, 2, 1)\n",
    "print(\"sorted array:\",tuple(sorted(tuple_27)))"
   ]
  },
  {
   "cell_type": "markdown",
   "metadata": {},
   "source": [
    "##### 28. Convert a tuple of integers to a tuple of strings."
   ]
  },
  {
   "cell_type": "code",
   "execution_count": 107,
   "metadata": {},
   "outputs": [
    {
     "name": "stdout",
     "output_type": "stream",
     "text": [
      "tuple of int - str : ('10', '20', '30', '40', '50')\n"
     ]
    }
   ],
   "source": [
    "tuple_28 = (10, 20, 30, 40, 50)\n",
    "list_i = []\n",
    "for v in tuple_28:\n",
    "    list_i.append(str(v))\n",
    "\n",
    "tuple_i = tuple(list_i)\n",
    "\n",
    "print(f\"tuple of int - str : {tuple_i}\")"
   ]
  },
  {
   "cell_type": "markdown",
   "metadata": {},
   "source": [
    "##### 29. Convert a tuple of strings to a tuple of integers.\n"
   ]
  },
  {
   "cell_type": "code",
   "execution_count": 108,
   "metadata": {},
   "outputs": [
    {
     "name": "stdout",
     "output_type": "stream",
     "text": [
      "tuple of str - int : (10, 20, 30, 40, 50)\n"
     ]
    }
   ],
   "source": [
    "tuple_29 = ('10', '20', '30', '40', '50')\n",
    "list_s = []\n",
    "for v in tuple_29:\n",
    "    list_s.append(int(v))\n",
    "\n",
    "tuple_s = tuple(list_s)\n",
    "\n",
    "print(f\"tuple of str - int : {tuple_s}\")"
   ]
  },
  {
   "cell_type": "markdown",
   "metadata": {},
   "source": [
    "##### 30. Merge two tuples."
   ]
  },
  {
   "cell_type": "code",
   "execution_count": 39,
   "metadata": {},
   "outputs": [
    {
     "name": "stdout",
     "output_type": "stream",
     "text": [
      "Merge of two tuple: (1, 2, 3, 3, 4, 5)\n"
     ]
    }
   ],
   "source": [
    "tuple_a = (1,2,3)\n",
    "tuple_b = (3,4,5)\n",
    "\n",
    "list_30 = []\n",
    "for t in [tuple_a, tuple_b]:\n",
    "    list_30.extend(t)\n",
    "\n",
    "print(f\"Merge of two tuple: {tuple(list_30)}\")\n"
   ]
  },
  {
   "cell_type": "markdown",
   "metadata": {},
   "source": [
    "##### 31. Flatten a nested tuple."
   ]
  },
  {
   "cell_type": "code",
   "execution_count": 116,
   "metadata": {},
   "outputs": [
    {
     "name": "stdout",
     "output_type": "stream",
     "text": [
      "flatten tuple: (1, 5, 2, 6, 3, 7, 4, 8)\n"
     ]
    }
   ],
   "source": [
    "tuple_31a = (1,2,3,4)\n",
    "tuple_31b = (5,6,7,8)\n",
    "list_31 = []\n",
    "for a,b in zip(tuple_31a, tuple_31b):\n",
    "    list_31.append(a)\n",
    "    list_31.append(b)\n",
    "\n",
    "tuple_31 = tuple(list_31)\n",
    "\n",
    "print(f\"flatten tuple: {tuple_31}\")"
   ]
  },
  {
   "cell_type": "markdown",
   "metadata": {},
   "source": [
    "##### 32. Create a tuple of the first 5 prime numbers."
   ]
  },
  {
   "cell_type": "code",
   "execution_count": 49,
   "metadata": {},
   "outputs": [
    {
     "name": "stdout",
     "output_type": "stream",
     "text": [
      "tuple of first 5 prime numbers: (2, 3, 5, 7, 11)\n"
     ]
    }
   ],
   "source": [
    "# 32 \n",
    "def is_prime(num):\n",
    "    if num <=1:\n",
    "        return False\n",
    "    for i in range(2, int(num**0.5)+1):\n",
    "        if num % i == 0:\n",
    "            return False\n",
    "    return True\n",
    "\n",
    "p_nums = []\n",
    "num = 0\n",
    "while len(p_nums) < 5:\n",
    "    if is_prime(num):\n",
    "        p_nums.append(num)\n",
    "    num += 1\n",
    "\n",
    "print(f\"tuple of first 5 prime numbers: {tuple(p_nums)}\")"
   ]
  },
  {
   "cell_type": "markdown",
   "metadata": {},
   "source": [
    "##### 33. Check if a tuple is a palindrome.\n"
   ]
  },
  {
   "cell_type": "code",
   "execution_count": 119,
   "metadata": {},
   "outputs": [
    {
     "name": "stdout",
     "output_type": "stream",
     "text": [
      "palindrome\n"
     ]
    }
   ],
   "source": [
    "tuple_33 = ('1','2','2','1')\n",
    "\n",
    "if tuple_33 == tuple_33[::-1]:\n",
    "    print(\"palindrome\")\n",
    "else:\n",
    "    print(\"Not palindrome\")"
   ]
  },
  {
   "cell_type": "markdown",
   "metadata": {},
   "source": [
    "##### 34. Create a tuple of squares of numbers from 1 to 5."
   ]
  },
  {
   "cell_type": "code",
   "execution_count": 125,
   "metadata": {},
   "outputs": [
    {
     "name": "stdout",
     "output_type": "stream",
     "text": [
      "tuple of squares: (1, 4, 27, 256, 3125)\n"
     ]
    }
   ],
   "source": [
    "list_35 = []\n",
    "for i in range(1, 6):\n",
    "    list_35.append(i**i)\n",
    "\n",
    "tuple_35 = tuple(list_35)\n",
    "print(f\"tuple of squares: {tuple_35}\")\n"
   ]
  },
  {
   "cell_type": "markdown",
   "metadata": {},
   "source": [
    "##### 35. Filter out all even numbers from a tuple."
   ]
  },
  {
   "cell_type": "code",
   "execution_count": 122,
   "metadata": {},
   "outputs": [
    {
     "name": "stdout",
     "output_type": "stream",
     "text": [
      "even numbers: (4, 8, 10, 46) \n"
     ]
    }
   ],
   "source": [
    "tuple_35 = (4,8,3,7,10, 11, 46)\n",
    "\n",
    "def even(val):\n",
    "    if val%2 == 0:\n",
    "        return val\n",
    "\n",
    "even_tuple = tuple(filter(even, tuple_35))\n",
    "print(f\"even numbers: {even_tuple} \")"
   ]
  },
  {
   "cell_type": "markdown",
   "metadata": {},
   "source": [
    "##### 36. Multiply all elements in a tuple by 2."
   ]
  },
  {
   "cell_type": "code",
   "execution_count": 1,
   "metadata": {},
   "outputs": [
    {
     "name": "stdout",
     "output_type": "stream",
     "text": [
      "tuple elements multiply by 2: (10, 20, 30, 40, 50)\n"
     ]
    }
   ],
   "source": [
    "tuple_36a = (5, 10, 15, 20, 25)\n",
    "list_36 = []\n",
    "\n",
    "for i in list(tuple_36a):\n",
    "    list_36.append(i*2)\n",
    "\n",
    "print(f\"tuple elements multiply by 2: {tuple(list_36)}\")"
   ]
  },
  {
   "cell_type": "markdown",
   "metadata": {},
   "source": [
    "##### 37. Create a tuple of random numbers.\n"
   ]
  },
  {
   "cell_type": "code",
   "execution_count": 54,
   "metadata": {},
   "outputs": [
    {
     "name": "stdout",
     "output_type": "stream",
     "text": [
      "random tuple: (7, 7, 2, 10, 7)\n"
     ]
    }
   ],
   "source": [
    "# 37 Random elements\n",
    "import random\n",
    "\n",
    "t = tuple(random.randint(1, 10) for _ in range(5))\n",
    "print(f\"random tuple: {t}\")\n"
   ]
  },
  {
   "cell_type": "markdown",
   "metadata": {},
   "source": [
    "##### 38. Check if a tuple is sorted."
   ]
  },
  {
   "cell_type": "code",
   "execution_count": 9,
   "metadata": {},
   "outputs": [
    {
     "name": "stdout",
     "output_type": "stream",
     "text": [
      "tuple is not sorted\n"
     ]
    }
   ],
   "source": [
    "tuple_38 = (50, 10, 15, 5, 20, 100)\n",
    "sorted(tuple_38)\n",
    "\n",
    "if tuple_38 == tuple(sorted(tuple_38)):\n",
    "    print(f\"tuple is sorted\")\n",
    "else:\n",
    "    print(f\"tuple is not sorted\")"
   ]
  },
  {
   "cell_type": "markdown",
   "metadata": {},
   "source": [
    "##### 39. Rotate a tuple to the left by `n` positions.\n"
   ]
  },
  {
   "cell_type": "code",
   "execution_count": 88,
   "metadata": {},
   "outputs": [
    {
     "data": {
      "text/plain": [
       "(15.5, 5.5, 2.3, 10.1, 10.2, 10.0)"
      ]
     },
     "execution_count": 88,
     "metadata": {},
     "output_type": "execute_result"
    }
   ],
   "source": [
    "# 39\n",
    "n = int(input(\"Enter n value:\"))\n",
    "\n",
    "tuple_39 = (10.1, 10.2, 10.0, 15.5, 5.5, 2.3)\n",
    "tuple_39_final = tuple_39[n:]+tuple_39[:n]\n",
    "tuple_39_final"
   ]
  },
  {
   "cell_type": "markdown",
   "metadata": {},
   "source": [
    "##### 40. Rotate a tuple to the right by `n` positions.\n"
   ]
  },
  {
   "cell_type": "code",
   "execution_count": 89,
   "metadata": {},
   "outputs": [
    {
     "data": {
      "text/plain": [
       "(5.5, 2.3, 10.1, 10.2, 10.0, 15.5)"
      ]
     },
     "execution_count": 89,
     "metadata": {},
     "output_type": "execute_result"
    }
   ],
   "source": [
    "# 40\n",
    "n = int(input(\"Enter n value:\"))\n",
    "\n",
    "tuple_40 = (10.1, 10.2, 10.0, 15.5, 5.5, 2.3)\n",
    "tuple_40_final = tuple_40[-n:]+tuple_40[:-n]\n",
    "tuple_40_final"
   ]
  },
  {
   "cell_type": "markdown",
   "metadata": {},
   "source": [
    "##### 41. Create a tuple of the first 5 Fibonacci numbers."
   ]
  },
  {
   "cell_type": "code",
   "execution_count": 76,
   "metadata": {},
   "outputs": [
    {
     "name": "stdout",
     "output_type": "stream",
     "text": [
      "first 5 fibnacci numbers: [0, 1, 1, 2, 3]\n"
     ]
    }
   ],
   "source": [
    "a, b = 0, 1\n",
    "list_41 = []\n",
    "for i in range(5):\n",
    "    list_41.append(a)\n",
    "    a, b = b, a+b\n",
    "\n",
    "print(f\"first 5 fibnacci numbers: {list_41}\")"
   ]
  },
  {
   "cell_type": "markdown",
   "metadata": {},
   "source": [
    "##### 42. Create a tuple from user input.\n"
   ]
  },
  {
   "cell_type": "code",
   "execution_count": 73,
   "metadata": {},
   "outputs": [
    {
     "name": "stdout",
     "output_type": "stream",
     "text": [
      "tuple from user input ('G', 'o', 'o', 'd', ' ', 'b', 'o', 'y')\n"
     ]
    }
   ],
   "source": [
    "tuple_42 = tuple(input(\"Enter values for tuple:\"))\n",
    "print(f\"tuple from user input {tuple_42}\")"
   ]
  },
  {
   "cell_type": "markdown",
   "metadata": {},
   "source": [
    "##### 43. Swap two elements in a tuple.\n"
   ]
  },
  {
   "cell_type": "code",
   "execution_count": 71,
   "metadata": {},
   "outputs": [
    {
     "name": "stdout",
     "output_type": "stream",
     "text": [
      "tuple after swap elements ('P', '!', 30, 10, 15.52, 65)\n"
     ]
    }
   ],
   "source": [
    "# 43 \n",
    "# doubt what elements to swap\n",
    "\n",
    "first_index = int(input(\"enter first index:\"))\n",
    "second_index = int(input(\"enter second index:\"))\n",
    "\n",
    "tuple_43 = ('P', '!', 10, 30, 15.52, 65)\n",
    "list_43 = list(tuple_43)\n",
    "\n",
    "if first_index < len(tuple_43) and second_index < len(tuple_43):\n",
    "    list_43[first_index], list_43[second_index] = list_43[second_index], list_43[first_index]\n",
    "\n",
    "swap_tuple = tuple(list_43)\n",
    "\n",
    "print(f\"tuple after swap elements {swap_tuple}\")\n"
   ]
  },
  {
   "cell_type": "markdown",
   "metadata": {},
   "source": [
    "##### 44. Reverse the elements of a tuple.\n"
   ]
  },
  {
   "cell_type": "code",
   "execution_count": 66,
   "metadata": {},
   "outputs": [
    {
     "name": "stdout",
     "output_type": "stream",
     "text": [
      "reverse of tuple: (1, 5, 10, 'tuple', 'value', 'key')\n"
     ]
    },
    {
     "data": {
      "text/plain": [
       "('key', 'value', 'tuple', 10, 5, 1)"
      ]
     },
     "execution_count": 66,
     "metadata": {},
     "output_type": "execute_result"
    }
   ],
   "source": [
    "tuple_44 = ('key', 'value', 'tuple', 10, 5, 1)\n",
    "print(f\"reverse of tuple: {tuple_44[::-1]}\")"
   ]
  },
  {
   "cell_type": "markdown",
   "metadata": {},
   "source": [
    "##### 45. Create a tuple of the first `n` powers of 2.\n"
   ]
  },
  {
   "cell_type": "code",
   "execution_count": 60,
   "metadata": {},
   "outputs": [
    {
     "name": "stdout",
     "output_type": "stream",
     "text": [
      "first n powers of 2 is: (0, 1, 4, 9, 16, 25, 36, 49, 64, 81, 100, 121, 144, 169, 196, 225, 256, 289, 324, 361, 400, 441, 484, 529, 576)\n"
     ]
    }
   ],
   "source": [
    "n = int(input(\"enter n value:\"))\n",
    "tuple_45 = tuple(i**2 for i in range(n))\n",
    "print(f\"first n powers of 2 is: {tuple_45}\")"
   ]
  },
  {
   "cell_type": "markdown",
   "metadata": {},
   "source": [
    "##### 46. Find the longest string in a tuple of strings."
   ]
  },
  {
   "cell_type": "code",
   "execution_count": 77,
   "metadata": {},
   "outputs": [
    {
     "name": "stdout",
     "output_type": "stream",
     "text": [
      "longest string in tuple is :welcome\n"
     ]
    }
   ],
   "source": [
    "tuple_46 = ('Python', 'cool', 'nice', 'happy', 'welcome', 'is')\n",
    "max_len = len(tuple_47[0])\n",
    "long_str = None\n",
    "for i in tuple_47:\n",
    "    if len(i) > max_len:\n",
    "        max_len = len(i)\n",
    "        long_str = i\n",
    "\n",
    "print(f\"longest string in tuple is :{long_str}\")\n",
    "\n"
   ]
  },
  {
   "cell_type": "markdown",
   "metadata": {},
   "source": [
    "##### 47. Find the shortest string in a tuple of strings."
   ]
  },
  {
   "cell_type": "code",
   "execution_count": 59,
   "metadata": {},
   "outputs": [
    {
     "name": "stdout",
     "output_type": "stream",
     "text": [
      "shortest string in tuple is: is\n"
     ]
    }
   ],
   "source": [
    "tuple_47 = ('Python', 'cool', 'nice', 'happy', 'welcome', 'is')\n",
    "min_len = len(tuple_47[0])  # consider first string len as min\n",
    "short_str = None\n",
    "for i in tuple_47:          # iterate over the tuple\n",
    "    if len(i) < min_len:    # compare the length for each string in tuple and update the longest string\n",
    "        min_len = len(i)\n",
    "        short_str = i\n",
    "\n",
    "print(f\"shortest string in tuple is: {short_str}\")"
   ]
  },
  {
   "cell_type": "markdown",
   "metadata": {},
   "source": [
    "##### 48. Create a tuple of the first `n` triangular numbers.\n"
   ]
  },
  {
   "cell_type": "code",
   "execution_count": 52,
   "metadata": {},
   "outputs": [
    {
     "name": "stdout",
     "output_type": "stream",
     "text": [
      "7 triangular numbers: (1, 3, 6, 10, 15, 21, 28)\n"
     ]
    }
   ],
   "source": [
    "n = int(input(\"Enter the n value:\"))\n",
    "val = 0\n",
    "list_48 = []\n",
    "for i in range(1, n+1): # atleast 1 triangular\n",
    "\n",
    "    val += i\n",
    "    list_48.append(val)         \n",
    "    \n",
    "print(f\"{n} triangular numbers: {tuple(list_48)}\")\n"
   ]
  },
  {
   "cell_type": "markdown",
   "metadata": {},
   "source": [
    "##### 49. Check if a tuple contains another tuple as a subsequence."
   ]
  },
  {
   "cell_type": "code",
   "execution_count": 45,
   "metadata": {},
   "outputs": [
    {
     "name": "stdout",
     "output_type": "stream",
     "text": [
      "tuple_49b is subsequence of tuple_49\n"
     ]
    }
   ],
   "source": [
    "tuple_49 = (1,2,7,3,4,5,6,7,7,8,9,0)\n",
    "tuple_49b = (7,7,8,0)\n",
    "\n",
    "i, j = 0, 0\n",
    "\n",
    "while i < len(tuple_49) and j < len(tuple_49b):\n",
    "    if tuple_49[i] == tuple_49b[j]:\n",
    "        j+=1\n",
    "    i+=1\n",
    "\n",
    "if j == len(tuple_49b):\n",
    "    print(\"tuple_49b is subsequence of tuple_49\")\n",
    "else:\n",
    "    print(\"tuple_49b is not subsequence of tuple_49\")\n"
   ]
  },
  {
   "cell_type": "markdown",
   "metadata": {},
   "source": [
    "##### 50. Create a tuple of alternating 1s and 0s of length `n`."
   ]
  },
  {
   "cell_type": "code",
   "execution_count": 23,
   "metadata": {},
   "outputs": [
    {
     "name": "stdout",
     "output_type": "stream",
     "text": [
      "tuple with alternating 0's and 1's: (0, 1, 0, 1, 0, 1, 0, 1, 0, 1)\n"
     ]
    }
   ],
   "source": [
    "#\n",
    "n = int(input(\"Enter n value:\"))\n",
    "\n",
    "tuple_50 = tuple([0 if i%2==0 else 1 for i in range(n)])\n",
    "print(f\"tuple with alternating 0's and 1's: {tuple_50}\")"
   ]
  },
  {
   "cell_type": "markdown",
   "metadata": {},
   "source": [
    "### Set Based Practice Problems"
   ]
  },
  {
   "cell_type": "markdown",
   "metadata": {},
   "source": [
    "##### 1. Create a set with integers from 1 to 5"
   ]
  },
  {
   "cell_type": "code",
   "execution_count": 8,
   "metadata": {},
   "outputs": [
    {
     "data": {
      "text/plain": [
       "{1, 2, 3, 4, 5}"
      ]
     },
     "execution_count": 8,
     "metadata": {},
     "output_type": "execute_result"
    }
   ],
   "source": [
    "# {} - used to create a set\n",
    "set1 = {1,2,3,4,5}\n",
    "\n",
    "set1"
   ]
  },
  {
   "cell_type": "markdown",
   "metadata": {},
   "source": [
    "##### 2. Add an element to a set."
   ]
  },
  {
   "cell_type": "code",
   "execution_count": 9,
   "metadata": {},
   "outputs": [
    {
     "data": {
      "text/plain": [
       "{1, 2, 3, 4, 5, 6}"
      ]
     },
     "execution_count": 9,
     "metadata": {},
     "output_type": "execute_result"
    }
   ],
   "source": [
    "# add() - method used to add the element\n",
    "set1.add(6)\n",
    "set1"
   ]
  },
  {
   "cell_type": "markdown",
   "metadata": {},
   "source": [
    "##### 3. Remove an element from a set."
   ]
  },
  {
   "cell_type": "code",
   "execution_count": 10,
   "metadata": {},
   "outputs": [
    {
     "data": {
      "text/plain": [
       "{1, 2, 3, 5, 6}"
      ]
     },
     "execution_count": 10,
     "metadata": {},
     "output_type": "execute_result"
    }
   ],
   "source": [
    "# remove() - used to remove the element from set\n",
    "set1.remove(4)\n",
    "set1"
   ]
  },
  {
   "cell_type": "markdown",
   "metadata": {},
   "source": [
    "##### 4. Check if an element exists in a set."
   ]
  },
  {
   "cell_type": "code",
   "execution_count": 11,
   "metadata": {},
   "outputs": [
    {
     "name": "stdout",
     "output_type": "stream",
     "text": [
      "3 existed in the {1, 2, 3, 5, 6}\n"
     ]
    }
   ],
   "source": [
    "# take input from user\n",
    "ele = int(input())\n",
    "\n",
    "# check elements exists or not\n",
    "if ele in set1:\n",
    "    print(f\"{ele} existed in the {set1}\")\n",
    "else:\n",
    "    print(f\"{ele} not existed in the {set1}\")"
   ]
  },
  {
   "cell_type": "markdown",
   "metadata": {},
   "source": [
    "##### 5. Find the length of a set without using the `len()` function."
   ]
  },
  {
   "cell_type": "code",
   "execution_count": 56,
   "metadata": {},
   "outputs": [
    {
     "name": "stdout",
     "output_type": "stream",
     "text": [
      "length of set: 5\n"
     ]
    }
   ],
   "source": [
    "#### 5. Find the length of a set without using the `len()` function.\n",
    "set5 = {1,2,3,4,5}\n",
    "count = 0\n",
    "for _ in set5:\n",
    "    count += 1\n",
    "\n",
    "print(f\"length of set: {count}\")"
   ]
  },
  {
   "cell_type": "markdown",
   "metadata": {},
   "source": [
    "##### 6. Clear all elements from a set."
   ]
  },
  {
   "cell_type": "code",
   "execution_count": 13,
   "metadata": {},
   "outputs": [
    {
     "data": {
      "text/plain": [
       "set()"
      ]
     },
     "execution_count": 13,
     "metadata": {},
     "output_type": "execute_result"
    }
   ],
   "source": [
    "# clear() - used to remove all the elements from the set\n",
    "set1.clear()\n",
    "set1"
   ]
  },
  {
   "cell_type": "markdown",
   "metadata": {},
   "source": [
    "##### 7. Create a set of even numbers from 1 to 10."
   ]
  },
  {
   "cell_type": "code",
   "execution_count": 16,
   "metadata": {},
   "outputs": [
    {
     "data": {
      "text/plain": [
       "{2, 4, 6, 8, 10}"
      ]
     },
     "execution_count": 16,
     "metadata": {},
     "output_type": "execute_result"
    }
   ],
   "source": [
    "list_elements = [i for i in range(1, 11) if i%2==0]\n",
    "set2 = set(list_elements)\n",
    "set2"
   ]
  },
  {
   "cell_type": "markdown",
   "metadata": {},
   "source": [
    "##### 8. Create a set of odd numbers from 1 to 10."
   ]
  },
  {
   "cell_type": "code",
   "execution_count": 17,
   "metadata": {},
   "outputs": [
    {
     "data": {
      "text/plain": [
       "{1, 3, 5, 7, 9}"
      ]
     },
     "execution_count": 17,
     "metadata": {},
     "output_type": "execute_result"
    }
   ],
   "source": [
    "list_elements = [i for i in range(1, 11) if i%2!=0]\n",
    "set3 = set(list_elements)\n",
    "set3"
   ]
  },
  {
   "cell_type": "markdown",
   "metadata": {},
   "source": [
    "##### 9. Find the union of two sets."
   ]
  },
  {
   "cell_type": "code",
   "execution_count": 18,
   "metadata": {},
   "outputs": [
    {
     "data": {
      "text/plain": [
       "{1, 2, 3, 4, 5, 6, 7, 8, 9, 10}"
      ]
     },
     "execution_count": 18,
     "metadata": {},
     "output_type": "execute_result"
    }
   ],
   "source": [
    "# union() - used to perform the union operation\n",
    "set2.union(set3)"
   ]
  },
  {
   "cell_type": "markdown",
   "metadata": {},
   "source": [
    "##### 10. Find the intersection of two sets."
   ]
  },
  {
   "cell_type": "code",
   "execution_count": 19,
   "metadata": {},
   "outputs": [
    {
     "data": {
      "text/plain": [
       "set()"
      ]
     },
     "execution_count": 19,
     "metadata": {},
     "output_type": "execute_result"
    }
   ],
   "source": [
    "# intersection() - method used to perform intersection operation on sets\n",
    "set2.intersection(set3)"
   ]
  },
  {
   "cell_type": "markdown",
   "metadata": {},
   "source": [
    "##### 11. Find the difference between two sets."
   ]
  },
  {
   "cell_type": "code",
   "execution_count": 21,
   "metadata": {},
   "outputs": [
    {
     "data": {
      "text/plain": [
       "{1, 3, 5, 7, 9}"
      ]
     },
     "execution_count": 21,
     "metadata": {},
     "output_type": "execute_result"
    }
   ],
   "source": [
    "# difference() - method used to find the difference between 2 sets\n",
    "\n",
    "set3.difference(set2)"
   ]
  },
  {
   "cell_type": "markdown",
   "metadata": {},
   "source": [
    "##### 12. Check if a set is a subset of another set."
   ]
  },
  {
   "cell_type": "code",
   "execution_count": 32,
   "metadata": {},
   "outputs": [
    {
     "data": {
      "text/plain": [
       "True"
      ]
     },
     "execution_count": 32,
     "metadata": {},
     "output_type": "execute_result"
    }
   ],
   "source": [
    "# issubset() - method used to check whether one set is subset of another set\n",
    "set4 = {10,20,30,40,50,607,70,80,90}\n",
    "set5 = {10,20,30,40}\n",
    "\n",
    "set4.issuperset(set5)"
   ]
  },
  {
   "cell_type": "markdown",
   "metadata": {},
   "source": [
    "##### 13. Check if a set is a superset of another set."
   ]
  },
  {
   "cell_type": "code",
   "execution_count": 67,
   "metadata": {},
   "outputs": [
    {
     "data": {
      "text/plain": [
       "False"
      ]
     },
     "execution_count": 67,
     "metadata": {},
     "output_type": "execute_result"
    }
   ],
   "source": [
    "# issuperset() - method to check if one set is superset of other set\n",
    "set4 = {10,20,30,40,50,607,70,80,90}\n",
    "set5 = {10,20,30,40}\n",
    "\n",
    "set5.issuperset(set4)"
   ]
  },
  {
   "cell_type": "markdown",
   "metadata": {},
   "source": [
    "##### 14. Create a set from a list."
   ]
  },
  {
   "cell_type": "code",
   "execution_count": 34,
   "metadata": {},
   "outputs": [
    {
     "data": {
      "text/plain": [
       "{11, 100, 121, 151, 4612}"
      ]
     },
     "execution_count": 34,
     "metadata": {},
     "output_type": "execute_result"
    }
   ],
   "source": [
    "# set() - method used to convert any data structure into set\n",
    "list_elements = [11,121,11, 100, 151, 4612, 100]\n",
    "\n",
    "set_elements = set(list_elements)\n",
    "set_elements"
   ]
  },
  {
   "cell_type": "markdown",
   "metadata": {},
   "source": [
    "##### 15. Convert a set to a list."
   ]
  },
  {
   "cell_type": "code",
   "execution_count": 61,
   "metadata": {},
   "outputs": [
    {
     "data": {
      "text/plain": [
       "['sets', 5, 10, 'numbers', '10', 'five']"
      ]
     },
     "execution_count": 61,
     "metadata": {},
     "output_type": "execute_result"
    }
   ],
   "source": [
    "# list() - method used to convert any data structure to list\n",
    "set_of_elements = {5, 'five', '10', 10, 'numbers', 'sets'}\n",
    "list_of_elements = list(set_of_elements)\n",
    "\n",
    "list_of_elements"
   ]
  },
  {
   "cell_type": "markdown",
   "metadata": {},
   "source": [
    "##### 16. Remove a random element from a set."
   ]
  },
  {
   "cell_type": "code",
   "execution_count": 62,
   "metadata": {},
   "outputs": [
    {
     "data": {
      "text/plain": [
       "'sets'"
      ]
     },
     "execution_count": 62,
     "metadata": {},
     "output_type": "execute_result"
    }
   ],
   "source": [
    "# pop() - used to remove and return element\n",
    "\n",
    "set_of_elements.pop()"
   ]
  },
  {
   "cell_type": "markdown",
   "metadata": {},
   "source": [
    "##### 17. Pop an element from a set."
   ]
  },
  {
   "cell_type": "code",
   "execution_count": 63,
   "metadata": {},
   "outputs": [
    {
     "data": {
      "text/plain": [
       "5"
      ]
     },
     "execution_count": 63,
     "metadata": {},
     "output_type": "execute_result"
    }
   ],
   "source": [
    "# pop() - method used to remove the first element from the set and returns element\n",
    "set_of_elements.pop()"
   ]
  },
  {
   "cell_type": "markdown",
   "metadata": {},
   "source": [
    "##### 18. Check if two sets have no elements in common."
   ]
  },
  {
   "cell_type": "code",
   "execution_count": 72,
   "metadata": {},
   "outputs": [
    {
     "name": "stdout",
     "output_type": "stream",
     "text": [
      "Yes, sets have common elements\n"
     ]
    }
   ],
   "source": [
    "# isdisjoint() - method used to check if any common elements in two sets\n",
    "\n",
    "set6 = {10, 30, 50}\n",
    "set7 = {100, 300, 500}\n",
    "if set6.isdisjoint(set7):\n",
    "    print(f\"Yes, sets have common elements\")\n",
    "else:\n",
    "    print(f\"No, Set doesnt have any common elements\")"
   ]
  },
  {
   "cell_type": "markdown",
   "metadata": {},
   "source": [
    "##### 19. Find the symmetric difference between two sets."
   ]
  },
  {
   "cell_type": "code",
   "execution_count": 74,
   "metadata": {},
   "outputs": [
    {
     "name": "stdout",
     "output_type": "stream",
     "text": [
      "Symmetric difference {10, 50, 20, 60}\n"
     ]
    }
   ],
   "source": [
    "# symmetric_difference() - method used to find the elements which not common in both\n",
    "set8 = {10, 20, 30, 40}\n",
    "set9 = {30, 40, 50, 60}\n",
    "\n",
    "symmetric_diff = set8.symmetric_difference(set9)\n",
    "\n",
    "print(f\"Symmetric difference {symmetric_diff}\")\n"
   ]
  },
  {
   "cell_type": "markdown",
   "metadata": {},
   "source": [
    "##### 20. Update a set with elements from another set."
   ]
  },
  {
   "cell_type": "code",
   "execution_count": 75,
   "metadata": {},
   "outputs": [
    {
     "data": {
      "text/plain": [
       "{'C', 'C++', 'CSS', 'GoLang', 'HTML', 'JS', 'Java', 'Kotlin', 'Python'}"
      ]
     },
     "execution_count": 75,
     "metadata": {},
     "output_type": "execute_result"
    }
   ],
   "source": [
    "# update() - method used to update the set\n",
    "\n",
    "set10 = {'C', 'C++', 'Java', 'HTML'}\n",
    "set10.update({'CSS', 'JS', 'Python', 'Kotlin', 'GoLang'})\n",
    "\n",
    "set10"
   ]
  },
  {
   "cell_type": "markdown",
   "metadata": {},
   "source": [
    "##### 21. Create a set of the first 5 prime numbers."
   ]
  },
  {
   "cell_type": "code",
   "execution_count": 58,
   "metadata": {},
   "outputs": [
    {
     "data": {
      "text/plain": [
       "{2, 3, 5, 7, 11}"
      ]
     },
     "execution_count": 58,
     "metadata": {},
     "output_type": "execute_result"
    }
   ],
   "source": [
    "# 21 question\n",
    "def is_prime(num):\n",
    "    if num <=1:\n",
    "        return False\n",
    "    for i in range(2, int(num**0.5)+1):\n",
    "        if num % i == 0:\n",
    "            return False\n",
    "    \n",
    "    return True\n",
    "\n",
    "p_num = set()\n",
    "num = 0\n",
    "while len(p_num) < 5:\n",
    "    if is_prime(num):\n",
    "        p_num.add(num)\n",
    "    num += 1\n",
    "\n",
    "p_num\n",
    "    \n"
   ]
  },
  {
   "cell_type": "markdown",
   "metadata": {},
   "source": [
    "##### 22. Check if two sets are identical."
   ]
  },
  {
   "cell_type": "code",
   "execution_count": 79,
   "metadata": {},
   "outputs": [
    {
     "name": "stdout",
     "output_type": "stream",
     "text": [
      "set11 and set12 are identical\n"
     ]
    }
   ],
   "source": [
    "set11 = {'Nice', 'Cool', 'Happy', 20, 52}\n",
    "set12 = {20, 'Nice', 52, 'Cool', 'Happy'}\n",
    "\n",
    "if set11 == set12:\n",
    "    print(f\"set11 and set12 are identical\")\n",
    "else:\n",
    "    print(f\"set11 and set12 are not identical\")"
   ]
  },
  {
   "cell_type": "markdown",
   "metadata": {},
   "source": [
    "##### 23. Create a frozen set."
   ]
  },
  {
   "cell_type": "code",
   "execution_count": 81,
   "metadata": {},
   "outputs": [
    {
     "data": {
      "text/plain": [
       "frozenset({1, 2, 3, 'Cat', 'Dog'})"
      ]
     },
     "execution_count": 81,
     "metadata": {},
     "output_type": "execute_result"
    }
   ],
   "source": [
    "# frozenset() - function used to create frozenset\n",
    "frozen_set = frozenset(['Cat', 'Dog', 1, 2, 3])\n",
    "frozen_set"
   ]
  },
  {
   "cell_type": "markdown",
   "metadata": {},
   "source": [
    "##### 24. Check if a set is disjoint with another set."
   ]
  },
  {
   "cell_type": "code",
   "execution_count": 85,
   "metadata": {},
   "outputs": [
    {
     "name": "stdout",
     "output_type": "stream",
     "text": [
      "sets are disjoint\n"
     ]
    }
   ],
   "source": [
    "set13 = {1,2,3,4}\n",
    "set14 = {10, 50, 100, 300}\n",
    "\n",
    "if set13.isdisjoint(set14):\n",
    "    print(f\"sets are disjoint\")\n",
    "else:\n",
    "    print(f\"sets are not disjoint\")"
   ]
  },
  {
   "cell_type": "markdown",
   "metadata": {},
   "source": [
    "##### 25. Create a set of squares of numbers from 1 to 5."
   ]
  },
  {
   "cell_type": "code",
   "execution_count": 87,
   "metadata": {},
   "outputs": [
    {
     "data": {
      "text/plain": [
       "{1, 4, 27, 256, 3125}"
      ]
     },
     "execution_count": 87,
     "metadata": {},
     "output_type": "execute_result"
    }
   ],
   "source": [
    "set_of_sqaures = {x**x for x in range(1, 6)}\n",
    "set_of_sqaures"
   ]
  },
  {
   "cell_type": "markdown",
   "metadata": {},
   "source": [
    "##### 26. Filter out all even numbers from a set."
   ]
  },
  {
   "cell_type": "code",
   "execution_count": 88,
   "metadata": {},
   "outputs": [
    {
     "data": {
      "text/plain": [
       "{4, 256}"
      ]
     },
     "execution_count": 88,
     "metadata": {},
     "output_type": "execute_result"
    }
   ],
   "source": [
    "filter_even = {i for i in set_of_sqaures if i % 2 == 0}\n",
    "filter_even"
   ]
  },
  {
   "cell_type": "markdown",
   "metadata": {},
   "source": [
    "##### 27. Multiply all elements in a set by 2."
   ]
  },
  {
   "cell_type": "code",
   "execution_count": 90,
   "metadata": {},
   "outputs": [
    {
     "data": {
      "text/plain": [
       "{2, 8, 54, 512, 6250}"
      ]
     },
     "execution_count": 90,
     "metadata": {},
     "output_type": "execute_result"
    }
   ],
   "source": [
    "set_multiply = {x*2 for x in set_of_sqaures}\n",
    "set_multiply"
   ]
  },
  {
   "cell_type": "markdown",
   "metadata": {},
   "source": [
    "##### 28. Create a set of random numbers."
   ]
  },
  {
   "cell_type": "code",
   "execution_count": 61,
   "metadata": {},
   "outputs": [
    {
     "name": "stdout",
     "output_type": "stream",
     "text": [
      "random set: {32, 44, 12, 46, 15, 17, 21, 24, 27, 30}\n"
     ]
    }
   ],
   "source": [
    "import random\n",
    "\n",
    "random_set = {random.randint(10, 50) for _ in range(15)}\n",
    "\n",
    "print(f\"random set: {random_set}\")"
   ]
  },
  {
   "cell_type": "markdown",
   "metadata": {},
   "source": [
    "##### 29. Check if a set is empty."
   ]
  },
  {
   "cell_type": "code",
   "execution_count": 108,
   "metadata": {},
   "outputs": [
    {
     "name": "stdout",
     "output_type": "stream",
     "text": [
      "The set is empty.\n"
     ]
    }
   ],
   "source": [
    "set15= set()  # Create an empty set\n",
    "\n",
    "if len(set15) == 0:\n",
    "    print(\"The set is empty.\")\n",
    "else:\n",
    "    print(\"The set is not empty.\")\n"
   ]
  },
  {
   "cell_type": "markdown",
   "metadata": {},
   "source": [
    "##### 30. Create a nested set (hint: use frozenset)."
   ]
  },
  {
   "cell_type": "code",
   "execution_count": 111,
   "metadata": {},
   "outputs": [
    {
     "data": {
      "text/plain": [
       "{1, 2, 3, 4, frozenset({'Coke', 'Pepsi', 'Thumsup'})}"
      ]
     },
     "execution_count": 111,
     "metadata": {},
     "output_type": "execute_result"
    }
   ],
   "source": [
    "set16 = {1,2,3,4, frozenset(['Coke', 'Pepsi', 'Thumsup'])}\n",
    "set16"
   ]
  },
  {
   "cell_type": "markdown",
   "metadata": {},
   "source": [
    "##### 31. Remove an element from a set using the discard method."
   ]
  },
  {
   "cell_type": "code",
   "execution_count": 114,
   "metadata": {},
   "outputs": [
    {
     "data": {
      "text/plain": [
       "{2009, 2010, 2015, 'Mouse', 'PC', 'Processor'}"
      ]
     },
     "execution_count": 114,
     "metadata": {},
     "output_type": "execute_result"
    }
   ],
   "source": [
    "# discard() - method used to remove elememnt\n",
    "\n",
    "set17 = {'Keyboard', 'Mouse', 'PC', 'Processor', 2009, 2010, 2015}\n",
    "set17.discard('Keyboard')\n",
    "set17"
   ]
  },
  {
   "cell_type": "markdown",
   "metadata": {},
   "source": [
    "##### 32. Compare two sets."
   ]
  },
  {
   "cell_type": "code",
   "execution_count": 64,
   "metadata": {},
   "outputs": [
    {
     "name": "stdout",
     "output_type": "stream",
     "text": [
      "set19==set18: False\n",
      "set191=set18: True\n",
      "set19<=set18: False\n",
      "set19>=set18: False\n",
      "set19>set18: False\n",
      "set19<set18: False\n"
     ]
    }
   ],
   "source": [
    "# compare\n",
    "set18 = {1,2}\n",
    "set19 = {3}\n",
    "\n",
    "print(f\"set19==set18: {set19 == set18}\")\n",
    "print(f\"set191=set18: {set19 != set18}\")\n",
    "print(f\"set19<=set18: {set19 <= set18}\")\n",
    "print(f\"set19>=set18: {set19 >= set18}\")\n",
    "print(f\"set19>set18: {set19 > set18}\")\n",
    "print(f\"set19<set18: {set19 < set18}\")\n"
   ]
  },
  {
   "cell_type": "markdown",
   "metadata": {},
   "source": [
    "##### 33. Create a set from a string."
   ]
  },
  {
   "cell_type": "code",
   "execution_count": 115,
   "metadata": {},
   "outputs": [
    {
     "data": {
      "text/plain": [
       "{' ', 'W', 'b', 'c', 'e', 'h', 'k', 'l', 'm', 'n', 'o', 'p', 't', 'y'}"
      ]
     },
     "execution_count": 115,
     "metadata": {},
     "output_type": "execute_result"
    }
   ],
   "source": [
    "str20 = \"Welcome to python notebook\"\n",
    "set(str20)"
   ]
  },
  {
   "cell_type": "markdown",
   "metadata": {},
   "source": [
    "##### 34. Convert a set of strings to a set of integers."
   ]
  },
  {
   "cell_type": "code",
   "execution_count": 122,
   "metadata": {},
   "outputs": [
    {
     "name": "stdout",
     "output_type": "stream",
     "text": [
      "set of string {'4', '2', '1', '3', '5'}\n",
      "set of integers {1, 2, 3, 4, 5}\n"
     ]
    }
   ],
   "source": [
    "set_str = {'1', '2', '3', '4', '5'}\n",
    "print(f\"set of string {set_str}\")\n",
    "set_int = set()\n",
    "\n",
    "for i in set_str:\n",
    "    set_int.add(int(i))\n",
    "\n",
    "print(f\"set of integers {set_int}\")"
   ]
  },
  {
   "cell_type": "markdown",
   "metadata": {},
   "source": [
    "##### 35. Convert a set of integers to a set of strings."
   ]
  },
  {
   "cell_type": "code",
   "execution_count": 124,
   "metadata": {},
   "outputs": [
    {
     "name": "stdout",
     "output_type": "stream",
     "text": [
      "set of integers {1, 2, 3, 4, 5}\n",
      "set of integers {'4', '2', '1', '3', '5'}\n"
     ]
    }
   ],
   "source": [
    "set_int = {1,2,3,4,5}\n",
    "print(f\"set of integers {set_int}\")\n",
    "set_str = set()\n",
    "\n",
    "for i in set_int:\n",
    "    set_str.add(str(i))\n",
    "\n",
    "print(f\"set of integers {set_str}\")"
   ]
  },
  {
   "cell_type": "markdown",
   "metadata": {},
   "source": [
    "##### 36. Create a set from a tuple."
   ]
  },
  {
   "cell_type": "code",
   "execution_count": 125,
   "metadata": {},
   "outputs": [
    {
     "name": "stdout",
     "output_type": "stream",
     "text": [
      "set from tuple is {1, 'one', 5, 10, 15, 'two'}\n"
     ]
    }
   ],
   "source": [
    "tu = (1,5,10, 15, 'two', 'one')\n",
    "set_tuple = set(tu)\n",
    "print(f\"set from tuple is {set_tuple}\")"
   ]
  },
  {
   "cell_type": "markdown",
   "metadata": {},
   "source": [
    "##### 37. Convert a set to a tuple."
   ]
  },
  {
   "cell_type": "code",
   "execution_count": 126,
   "metadata": {},
   "outputs": [
    {
     "name": "stdout",
     "output_type": "stream",
     "text": [
      "tuple from set (1, 2, 3, 4, '7', '6', '5')\n"
     ]
    }
   ],
   "source": [
    "set_ele = {1,2,3,4,'5','6', '7'}\n",
    "print(f\"tuple from set {tuple(set_ele)}\")"
   ]
  },
  {
   "cell_type": "markdown",
   "metadata": {},
   "source": [
    "##### 38. Find the maximum value in a set."
   ]
  },
  {
   "cell_type": "code",
   "execution_count": 127,
   "metadata": {},
   "outputs": [
    {
     "data": {
      "text/plain": [
       "2000"
      ]
     },
     "execution_count": 127,
     "metadata": {},
     "output_type": "execute_result"
    }
   ],
   "source": [
    "# max() used to get the maximum value\n",
    "set21 = {50, 10,100, 200, 500, 1000, 2000}\n",
    "max(set21)"
   ]
  },
  {
   "cell_type": "markdown",
   "metadata": {},
   "source": [
    "##### 39. Find the minimum value in a set."
   ]
  },
  {
   "cell_type": "code",
   "execution_count": 128,
   "metadata": {},
   "outputs": [
    {
     "data": {
      "text/plain": [
       "10"
      ]
     },
     "execution_count": 128,
     "metadata": {},
     "output_type": "execute_result"
    }
   ],
   "source": [
    "# min() - used to get the minimum value\n",
    "min(set21)"
   ]
  },
  {
   "cell_type": "markdown",
   "metadata": {},
   "source": [
    "##### 40. Create a set from user input."
   ]
  },
  {
   "cell_type": "code",
   "execution_count": 131,
   "metadata": {},
   "outputs": [
    {
     "name": "stdout",
     "output_type": "stream",
     "text": [
      "set of input is {'y', 'p', 'H', 'a'}\n"
     ]
    }
   ],
   "source": [
    "input_set = set(input())\n",
    "print(f\"set of input is {input_set}\")"
   ]
  },
  {
   "cell_type": "markdown",
   "metadata": {},
   "source": [
    "##### 41. Check if the intersection of two sets is empty."
   ]
  },
  {
   "cell_type": "code",
   "execution_count": 133,
   "metadata": {},
   "outputs": [
    {
     "name": "stdout",
     "output_type": "stream",
     "text": [
      "intesection is empty\n"
     ]
    }
   ],
   "source": [
    "set22 = {10, 20, 30}\n",
    "set23 = {1000, 2000}\n",
    "\n",
    "if set22.isdisjoint(set23):\n",
    "    print(f\"intesection is empty\")\n",
    "else:\n",
    "    print(f\"Intersection is not empty\")"
   ]
  },
  {
   "cell_type": "markdown",
   "metadata": {},
   "source": [
    "##### 42. Create a set of the first 5 Fibonacci numbers."
   ]
  },
  {
   "cell_type": "code",
   "execution_count": 219,
   "metadata": {},
   "outputs": [
    {
     "data": {
      "text/plain": [
       "{0, 1, 2, 3}"
      ]
     },
     "execution_count": 219,
     "metadata": {},
     "output_type": "execute_result"
    }
   ],
   "source": [
    "# \n",
    "n = int(input(\"Enter n value\"))\n",
    "a, b = 0,1\n",
    "s = set()\n",
    "if n == 0:\n",
    "    print(\" N should be more than 0\")\n",
    "elif n == 1:\n",
    "    s.add(0)\n",
    "elif n == 2:\n",
    "    s.add(0)\n",
    "    s.add(1)\n",
    "else:\n",
    "    for i in range(n):\n",
    "        s.add(a)\n",
    "        a, b = b, a+b\n",
    "\n",
    "s"
   ]
  },
  {
   "cell_type": "markdown",
   "metadata": {},
   "source": [
    "##### 43. Remove duplicates from a list using sets."
   ]
  },
  {
   "cell_type": "code",
   "execution_count": 138,
   "metadata": {},
   "outputs": [
    {
     "name": "stdout",
     "output_type": "stream",
     "text": [
      "List of elements after removing dupicate [1, 2, 3, 4, 5, 6, 8]\n"
     ]
    }
   ],
   "source": [
    "with_duplicates = [1,2,3,5,6,8,1,2,3,4]\n",
    "\n",
    "set_l = set(with_duplicates) # set remove duplicates\n",
    "without_duplicates = list(set_l)\n",
    "print(f\"List of elements after removing dupicate {without_duplicates}\")"
   ]
  },
  {
   "cell_type": "markdown",
   "metadata": {},
   "source": [
    "##### 44. Check if two sets have the same elements, regardless of their count."
   ]
  },
  {
   "cell_type": "code",
   "execution_count": 140,
   "metadata": {},
   "outputs": [
    {
     "name": "stdout",
     "output_type": "stream",
     "text": [
      "sets have different elements\n"
     ]
    }
   ],
   "source": [
    "##\n",
    "set24 = {1,2,3}\n",
    "set25 = {1,2}\n",
    "\n",
    "if set24 == set25:\n",
    "    print(f\"both sets have same elements\")\n",
    "else:\n",
    "    print(f\"sets have different elements\")"
   ]
  },
  {
   "cell_type": "markdown",
   "metadata": {},
   "source": [
    "##### 45. Create a set of the first `n` powers of 2."
   ]
  },
  {
   "cell_type": "code",
   "execution_count": 144,
   "metadata": {},
   "outputs": [
    {
     "name": "stdout",
     "output_type": "stream",
     "text": [
      "n powers of 2 {32, 1, 2, 64, 4, 128, 256, 512, 8, 1024, 16}\n"
     ]
    }
   ],
   "source": [
    "n = int(input(\"Enter n value\"))\n",
    "powers_n = {2**i for i in range(n+1)}\n",
    "print(f\"n powers of 2 {powers_n}\")"
   ]
  },
  {
   "cell_type": "markdown",
   "metadata": {},
   "source": [
    "##### 46. Find the common elements between a set and a list."
   ]
  },
  {
   "cell_type": "code",
   "execution_count": 146,
   "metadata": {},
   "outputs": [
    {
     "name": "stdout",
     "output_type": "stream",
     "text": [
      "common elements {10, 20}\n"
     ]
    }
   ],
   "source": [
    "list_l = [10, 20, 40, 50, 60]\n",
    "set26 = {5, 10, 15, 20}\n",
    "\n",
    "set_of_list = set(list_l)    # convert to set\n",
    "print(f\"common elements {set26.intersection(set(list_l))}\")   # find the common elements"
   ]
  },
  {
   "cell_type": "markdown",
   "metadata": {},
   "source": [
    "##### 47. Create a set of the first `n` triangular numbers."
   ]
  },
  {
   "cell_type": "code",
   "execution_count": 172,
   "metadata": {},
   "outputs": [
    {
     "name": "stdout",
     "output_type": "stream",
     "text": [
      "set of 6 traiangular numbers {1, 3, 6, 10, 15, 21}\n"
     ]
    }
   ],
   "source": [
    "n = int(input(\"Enter n value:\"))    # take n value from user\n",
    "\n",
    "set_triangular = set()              # create empty set to add elements\n",
    "total = 0\n",
    "for i in range(1,n+1):              # atleast 1 elements, so range 1, n+1\n",
    "    total += i\n",
    "    set_triangular.add(total)\n",
    "\n",
    "print(f\"set of {n} traiangular numbers {set_triangular}\")\n"
   ]
  },
  {
   "cell_type": "markdown",
   "metadata": {},
   "source": [
    "##### 48. Check if a set contains another set as a subset."
   ]
  },
  {
   "cell_type": "code",
   "execution_count": 176,
   "metadata": {},
   "outputs": [
    {
     "name": "stdout",
     "output_type": "stream",
     "text": [
      "set27 is subset of set28.\n"
     ]
    }
   ],
   "source": [
    "set27 = {1,2,4}\n",
    "set28 = {1,2,3,4,5,6,7,8,9,0}\n",
    "\n",
    "if set27.issubset(set28):\n",
    "    print(f\"set27 is subset of set28.\")\n",
    "else:\n",
    "    print(\"set is not subset\")"
   ]
  },
  {
   "cell_type": "markdown",
   "metadata": {},
   "source": [
    "##### 49. Create a set of alternating 1s and 0s of length `n`."
   ]
  },
  {
   "cell_type": "code",
   "execution_count": 186,
   "metadata": {},
   "outputs": [
    {
     "data": {
      "text/plain": [
       "{'0', '01', '010', '0101', '01010'}"
      ]
     },
     "execution_count": 186,
     "metadata": {},
     "output_type": "execute_result"
    }
   ],
   "source": [
    "n = int(input(\"Enter n value\"))\n",
    "alt_set = set()\n",
    "for i in range(n):\n",
    "    s = ''\n",
    "    for j in range(i):\n",
    "        if j % 2==0:\n",
    "            s+='0'\n",
    "        else:\n",
    "            s+='1'\n",
    "    if s:\n",
    "        alt_set.add(s)\n",
    "\n",
    "alt_set"
   ]
  },
  {
   "cell_type": "markdown",
   "metadata": {},
   "source": [
    "##### 50. Merge multiple sets into one."
   ]
  },
  {
   "cell_type": "code",
   "execution_count": 180,
   "metadata": {},
   "outputs": [
    {
     "data": {
      "text/plain": [
       "{0, 1, 2, 3, 4, 5.6, 7, 8, 9}"
      ]
     },
     "execution_count": 180,
     "metadata": {},
     "output_type": "execute_result"
    }
   ],
   "source": [
    "set1 = {1,2,3}\n",
    "set2 = {4,5.6}\n",
    "set3 = {7,8,9}\n",
    "set4 = {0}\n",
    "\n",
    "set1.update(set2, set3, set4)\n",
    "set1\n",
    "# alternative options - union and for with list of sets"
   ]
  }
 ],
 "metadata": {
  "kernelspec": {
   "display_name": "Python 3.8.10 64-bit",
   "language": "python",
   "name": "python3"
  },
  "language_info": {
   "codemirror_mode": {
    "name": "ipython",
    "version": 3
   },
   "file_extension": ".py",
   "mimetype": "text/x-python",
   "name": "python",
   "nbconvert_exporter": "python",
   "pygments_lexer": "ipython3",
   "version": "3.8.10"
  },
  "orig_nbformat": 4,
  "vscode": {
   "interpreter": {
    "hash": "e7370f93d1d0cde622a1f8e1c04877d8463912d04d973331ad4851f04de6915a"
   }
  }
 },
 "nbformat": 4,
 "nbformat_minor": 2
}
