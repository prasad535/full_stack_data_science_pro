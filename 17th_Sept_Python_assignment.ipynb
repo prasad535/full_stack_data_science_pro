{
 "cells": [
  {
   "cell_type": "markdown",
   "metadata": {},
   "source": [
    "# Python Assignment"
   ]
  },
  {
   "cell_type": "markdown",
   "metadata": {},
   "source": [
    "### For Loop"
   ]
  },
  {
   "cell_type": "markdown",
   "metadata": {},
   "source": [
    "#### 1. Write a Python program to print numbers from 1 to 10 using a for loop."
   ]
  },
  {
   "cell_type": "code",
   "execution_count": 1,
   "metadata": {},
   "outputs": [
    {
     "name": "stdout",
     "output_type": "stream",
     "text": [
      "1\n",
      "2\n",
      "3\n",
      "4\n",
      "5\n",
      "6\n",
      "7\n",
      "8\n",
      "9\n",
      "10\n"
     ]
    }
   ],
   "source": [
    "for i in range(1,11):\n",
    "    print(i)"
   ]
  },
  {
   "cell_type": "markdown",
   "metadata": {},
   "source": [
    "#### 2. Explain the difference between a for loop and a while loop in Python\n",
    "\n",
    "1. For loop, iterate over the iterables and check the condition and perfrom the statements inside the loop. \n",
    "\n",
    "2. While loop, First it check the condition and executes the statemenets inside the statements inside. "
   ]
  },
  {
   "cell_type": "markdown",
   "metadata": {},
   "source": [
    "#### 3. Write a Python program to calculate the sum of all numbers from 1 to 100 using a for loop."
   ]
  },
  {
   "cell_type": "code",
   "execution_count": 2,
   "metadata": {},
   "outputs": [
    {
     "name": "stdout",
     "output_type": "stream",
     "text": [
      "Sum of numbers from 1 to 100: 5050\n"
     ]
    }
   ],
   "source": [
    "sum_numbers = 0\n",
    "for i in range(1, 101):\n",
    "    sum_numbers += i\n",
    "\n",
    "print(f\"Sum of numbers from 1 to 100: {sum_numbers}\")"
   ]
  },
  {
   "cell_type": "markdown",
   "metadata": {},
   "source": [
    "#### 4. How do you iterate through a list using a for loop in Python?\n",
    "\n",
    "1. `in` - in operator used to iterate over the list. for each iteration it takes each value in the list. \n"
   ]
  },
  {
   "cell_type": "markdown",
   "metadata": {},
   "source": [
    "#### 5. Write a Python program to find the product of all elements in a list using a for loop."
   ]
  },
  {
   "cell_type": "code",
   "execution_count": 7,
   "metadata": {},
   "outputs": [
    {
     "name": "stdout",
     "output_type": "stream",
     "text": [
      "product of all elements: 24\n"
     ]
    }
   ],
   "source": [
    "list_5 = [1, 2, 3, 4]\n",
    "ele_products = 1\n",
    "for i in list_5:\n",
    "    ele_products *= i\n",
    "\n",
    "print(f\"product of all elements: {ele_products}\")"
   ]
  },
  {
   "cell_type": "markdown",
   "metadata": {},
   "source": [
    "#### 6. Create a Python program that prints all even numbers from 1 to 20 using a for loop."
   ]
  },
  {
   "cell_type": "code",
   "execution_count": 9,
   "metadata": {},
   "outputs": [
    {
     "name": "stdout",
     "output_type": "stream",
     "text": [
      "2\n",
      "4\n",
      "6\n",
      "8\n",
      "10\n",
      "12\n",
      "14\n",
      "16\n",
      "18\n",
      "20\n"
     ]
    }
   ],
   "source": [
    "for i in range(1, 21):\n",
    "    if i % 2 == 0:\n",
    "        print(i)"
   ]
  },
  {
   "cell_type": "markdown",
   "metadata": {},
   "source": [
    "#### 7. Write a Python program that calculates the factorial of a number using a for loop."
   ]
  },
  {
   "cell_type": "code",
   "execution_count": 13,
   "metadata": {},
   "outputs": [
    {
     "name": "stdout",
     "output_type": "stream",
     "text": [
      "factorial of 6 is: 720\n"
     ]
    }
   ],
   "source": [
    "fact = 1\n",
    "n = int(input(\"Enter n value:\"))\n",
    "for i in range(1,n+1):\n",
    "    if n == 0 or n == 1:\n",
    "        break\n",
    "    else:\n",
    "        fact *=i\n",
    "\n",
    "print(f\"factorial of {n} is: {fact}\")"
   ]
  },
  {
   "cell_type": "markdown",
   "metadata": {},
   "source": [
    "#### 8. How can you iterate through the characters of a string using a for loop in Python?"
   ]
  },
  {
   "cell_type": "markdown",
   "metadata": {},
   "source": [
    "1. we can iterate through the string using `in` operator. If we use in operator in for loop, it takes each character for each iteration\n",
    "\n",
    "    ```python\n",
    "    string = \"prasad\"\n",
    "\n",
    "    for i in string:\n",
    "        print(i)\n",
    "\n",
    "    output:\n",
    "    p\n",
    "    r\n",
    "    s\n",
    "    a\n",
    "    d\n",
    "    ```\n",
    "    \n",
    "    **Explanation:**\n",
    "    Intially, i takes character 'p' from string 'prasad' and print it. Then i will be incremented and i becomes next character which is 'r'. This process is repeated till last character of the string."
   ]
  },
  {
   "cell_type": "markdown",
   "metadata": {},
   "source": [
    "#### 9. Write a Python program to find the largest number in a list using a for loop.\n"
   ]
  },
  {
   "cell_type": "code",
   "execution_count": 26,
   "metadata": {},
   "outputs": [
    {
     "name": "stdout",
     "output_type": "stream",
     "text": [
      "largest element of the list is: 200\n"
     ]
    }
   ],
   "source": [
    "list9 = [50, 20, 50, 69, 30, 70, 200]\n",
    "\n",
    "large = list9[0]\n",
    "for element in list9:\n",
    "    if element > large:\n",
    "        large = element\n",
    "\n",
    "print(f\"largest element of the list is: {large}\")"
   ]
  },
  {
   "cell_type": "markdown",
   "metadata": {},
   "source": [
    "#### 10. Create a Python program that prints the Fibonacci sequence up to a specified limit using a for loop."
   ]
  },
  {
   "cell_type": "code",
   "execution_count": 41,
   "metadata": {},
   "outputs": [
    {
     "data": {
      "text/plain": [
       "[0, 1, 1, 2, 3, 5, 8, 13, 21, 34]"
      ]
     },
     "execution_count": 41,
     "metadata": {},
     "output_type": "execute_result"
    }
   ],
   "source": [
    "def fibonacci_series(n: int) -> list:\n",
    "    l = []\n",
    "    if n <= 0:\n",
    "        return -1\n",
    "    if n == 1:\n",
    "        l.append(0)\n",
    "        return l\n",
    "    else:\n",
    "        l.extend([0, 1])\n",
    "        for i in range(1, n-1):\n",
    "            l.append(l[i] + l[i-1])\n",
    "\n",
    "    return l\n",
    "\n",
    "fibonacci_series(10)"
   ]
  },
  {
   "cell_type": "markdown",
   "metadata": {},
   "source": [
    "#### 11. Write a Python program to count the number of vowels in a given string using a for loop."
   ]
  },
  {
   "cell_type": "code",
   "execution_count": 44,
   "metadata": {},
   "outputs": [
    {
     "name": "stdout",
     "output_type": "stream",
     "text": [
      "Number of vowels is: 4\n"
     ]
    }
   ],
   "source": [
    "vowels_count = 0\n",
    "string = \"Python AssignmEnt\"\n",
    "\n",
    "for char in string:\n",
    "    if char in 'AEIOUaeiou':\n",
    "        vowels_count += 1\n",
    "\n",
    "print(f\"Number of vowels is: {vowels_count}\")"
   ]
  },
  {
   "cell_type": "markdown",
   "metadata": {},
   "source": [
    "#### 12. Create a Python program that generates a multiplication table for a given number using a for loop.\n"
   ]
  },
  {
   "cell_type": "code",
   "execution_count": 47,
   "metadata": {},
   "outputs": [
    {
     "name": "stdout",
     "output_type": "stream",
     "text": [
      "9 * 0 = 0\n",
      "9 * 1 = 9\n",
      "9 * 2 = 18\n",
      "9 * 3 = 27\n",
      "9 * 4 = 36\n",
      "9 * 5 = 45\n",
      "9 * 6 = 54\n",
      "9 * 7 = 63\n",
      "9 * 8 = 72\n",
      "9 * 9 = 81\n",
      "9 * 10 = 90\n"
     ]
    }
   ],
   "source": [
    "n = int(input(\"Enter digit of the table:\"))\n",
    "\n",
    "for i in range(0, 11):\n",
    "    print(f\"{n} * {i} = {n*i}\")"
   ]
  },
  {
   "cell_type": "markdown",
   "metadata": {},
   "source": [
    "#### 13. Write a Python program to reverse a list using a for loop."
   ]
  },
  {
   "cell_type": "code",
   "execution_count": 80,
   "metadata": {},
   "outputs": [
    {
     "name": "stdout",
     "output_type": "stream",
     "text": [
      "reverse of list: [0, 'Happy', True, 5.67, 'user', 1500, 'pw']\n"
     ]
    }
   ],
   "source": [
    "list13 = ['pw', 1500, 'user', 5.67, True, 'Happy', 0]\n",
    "\n",
    "for i in range((len(list13) // 2)):\n",
    "    list13[i] , list13[len(list13) - i -1] = list13[len(list13) - i -1], list13[i]\n",
    "\n",
    "print(f\"reverse of list: {list13}\")\n"
   ]
  },
  {
   "cell_type": "markdown",
   "metadata": {},
   "source": [
    "#### 14. Write a Python program to find the common elements between two lists using a for loop.\n"
   ]
  },
  {
   "cell_type": "code",
   "execution_count": 87,
   "metadata": {},
   "outputs": [
    {
     "name": "stdout",
     "output_type": "stream",
     "text": [
      "common elements: [3]\n"
     ]
    }
   ],
   "source": [
    "list1 = [3]\n",
    "list2 = [3, 4, 6]\n",
    "\n",
    "list_common = []\n",
    "\n",
    "if len(list2) < len(list1):\n",
    "    for ele in list2:\n",
    "        if ele in list1:\n",
    "            list_common.append(ele)\n",
    "else:\n",
    "    for ele in list1:\n",
    "        if ele in list2:\n",
    "            list_common.append(ele)\n",
    "\n",
    "print(f\"common elements: {list_common}\")"
   ]
  },
  {
   "cell_type": "markdown",
   "metadata": {},
   "source": [
    "#### 15. Explain how to use a for loop to iterate through the keys and values of a dictionary in Python."
   ]
  },
  {
   "cell_type": "markdown",
   "metadata": {},
   "source": [
    "**Dictionary has mainly three method:**\n",
    "- keys() - it gives the all the keys in dictionary\n",
    "- values() - It gives the all the values in the dictionary\n",
    "- items() - it gives the all the items in the dictionary\n",
    "\n",
    "1. we can iterate the dictionary using keys, values and items also. \n",
    "\n",
    "iterate using items()\n",
    "***\n",
    "    \n",
    "``` python\n",
    "d = {'name':'prasad', 'age':24, 'School':'FAU', 'Ocupation':'Student'}\n",
    "\n",
    "for k, v in d.items():\n",
    "    print(f\"{k} = {v}\")\n",
    "\n",
    "output:\n",
    "name = prasad\n",
    "age = 24\n",
    "School = FAU\n",
    "Ocupation = Student\n",
    "```\n"
   ]
  },
  {
   "cell_type": "markdown",
   "metadata": {},
   "source": [
    "#### 16. Write a Python program to find the GCD (Greatest Common Divisor) of two numbers using a for loop.\n"
   ]
  },
  {
   "cell_type": "code",
   "execution_count": 106,
   "metadata": {},
   "outputs": [
    {
     "data": {
      "text/plain": [
       "6"
      ]
     },
     "execution_count": 106,
     "metadata": {},
     "output_type": "execute_result"
    }
   ],
   "source": [
    "def gcd(a: int, b: int) -> int:\n",
    "    while b!= 0:\n",
    "        a, b = b, a%b\n",
    "    \n",
    "    return a\n",
    "\n",
    "    \n",
    "def gcd_2( a: int, b: int):\n",
    "    if a < b:\n",
    "        for i in range(1, a+1):\n",
    "            if a % i == 0 and b % i == 0:\n",
    "                gcd = i\n",
    "\n",
    "    return gcd\n",
    "\n",
    "gcd(18, 48)"
   ]
  },
  {
   "cell_type": "markdown",
   "metadata": {},
   "source": [
    "#### 17. Create a Python program that checks if a string is a palindrome using a for loop."
   ]
  },
  {
   "cell_type": "code",
   "execution_count": 10,
   "metadata": {},
   "outputs": [
    {
     "name": "stdout",
     "output_type": "stream",
     "text": [
      "string is palindrome\n",
      "madam\n"
     ]
    },
    {
     "data": {
      "text/plain": [
       "'madam'"
      ]
     },
     "execution_count": 10,
     "metadata": {},
     "output_type": "execute_result"
    }
   ],
   "source": [
    "str17 = \"Mada m\"\n",
    "str17_lower = (str17.replace(\" \", \"\")).lower()\n",
    "\n",
    "reverse_string = ''\n",
    "for i in range(len(str17_lower)-1, -1, -1):\n",
    "    if str17_lower[i].isalnum():\n",
    "        reverse_string += str17_lower[i]\n",
    "\n",
    "if reverse_string == str17_lower:\n",
    "    print(f\"string is palindrome\")\n",
    "else:\n",
    "    print(\"string is not palindrome\")\n"
   ]
  },
  {
   "cell_type": "markdown",
   "metadata": {},
   "source": [
    "#### 18. Write a Python program to remove duplicates from a list using a for loop."
   ]
  },
  {
   "cell_type": "code",
   "execution_count": 12,
   "metadata": {},
   "outputs": [
    {
     "name": "stdout",
     "output_type": "stream",
     "text": [
      "list after without duplicates: ['str', 'Prsaad', 10, 100]\n"
     ]
    }
   ],
   "source": [
    "list18 = ['str', 'Prsaad', 10, 100, 'str', 10]\n",
    "list_without_duplicates = []\n",
    "\n",
    "for ele in list18:\n",
    "    if ele not in list_without_duplicates:\n",
    "        list_without_duplicates.append(ele)\n",
    "\n",
    "print(f\"list after without duplicates: {list_without_duplicates}\")"
   ]
  },
  {
   "cell_type": "markdown",
   "metadata": {},
   "source": [
    "#### 19. Create a Python program that counts the number of words in a sentence using a for loop."
   ]
  },
  {
   "cell_type": "code",
   "execution_count": 13,
   "metadata": {},
   "outputs": [
    {
     "name": "stdout",
     "output_type": "stream",
     "text": [
      "Number of words in sentense: 3\n"
     ]
    }
   ],
   "source": [
    "sentense = \"I love india\"\n",
    "\n",
    "list_words = sentense.split()\n",
    "words_count = 0\n",
    "for word in list_words:\n",
    "    words_count += 1\n",
    "\n",
    "print(f\"Number of words in sentense: {words_count}\")"
   ]
  },
  {
   "cell_type": "markdown",
   "metadata": {},
   "source": [
    "#### 20. Write a Python program to find the sum of all odd numbers from 1 to 50 using a for loop."
   ]
  },
  {
   "cell_type": "code",
   "execution_count": 14,
   "metadata": {},
   "outputs": [
    {
     "name": "stdout",
     "output_type": "stream",
     "text": [
      "Sum of odd numbers in 1 to 50: 625\n"
     ]
    }
   ],
   "source": [
    "odd_sum = 0\n",
    "\n",
    "for i in range(1, 51):\n",
    "    if i %2 != 0:\n",
    "        odd_sum += i\n",
    "\n",
    "print(f\"Sum of odd numbers in 1 to 50: {odd_sum}\")"
   ]
  },
  {
   "cell_type": "markdown",
   "metadata": {},
   "source": [
    "#### 21. Write a Python program that checks if a given year is a leap year using a for loop."
   ]
  },
  {
   "cell_type": "code",
   "execution_count": 12,
   "metadata": {},
   "outputs": [
    {
     "name": "stdout",
     "output_type": "stream",
     "text": [
      "leap year list: [2000, 2400]\n"
     ]
    }
   ],
   "source": [
    "def check_leap(years: list) -> bool:\n",
    "    leap_year = []\n",
    "    for year in years:\n",
    "        if year % 4 ==0 and year % 100!= 0 or year % 400 == 0:\n",
    "            leap_year.append(year)\n",
    "\n",
    "    return leap_year\n",
    "\n",
    "leap_year_list = check_leap([2000,2010, 2100, 2400, 2500])\n",
    "print(f\"leap year list: {leap_year_list}\")\n"
   ]
  },
  {
   "cell_type": "markdown",
   "metadata": {},
   "source": [
    "#### 22. Create a Python program that calculates the square root of a number using a for loop."
   ]
  },
  {
   "cell_type": "code",
   "execution_count": 30,
   "metadata": {},
   "outputs": [
    {
     "data": {
      "text/plain": [
       "3.0"
      ]
     },
     "execution_count": 30,
     "metadata": {},
     "output_type": "execute_result"
    }
   ],
   "source": [
    "def sq_root(num, iteration):\n",
    "    near_root = num / 2.0\n",
    "    for _ in range(iteration):\n",
    "        near_root = 0.5*(near_root + (num/near_root))\n",
    "    return near_root\n",
    "    \n",
    "sq_root(num=9, iteration=100)\n"
   ]
  },
  {
   "cell_type": "markdown",
   "metadata": {},
   "source": [
    "#### 23. Write a Python program to find the LCM (Least Common Multiple) of two numbers using a for loop."
   ]
  },
  {
   "cell_type": "code",
   "execution_count": 5,
   "metadata": {},
   "outputs": [
    {
     "name": "stdout",
     "output_type": "stream",
     "text": [
      "LCM of 6 and 2 is 6\n"
     ]
    }
   ],
   "source": [
    "# lcm - range of maximum and product of numbers\n",
    "\n",
    "first_number = int(input(\"Enter first number\"))\n",
    "second_number = int(input(\"Enter second number\"))\n",
    "\n",
    "max_of_two = max(first_number, second_number)\n",
    "\n",
    "def lcm(a, b):\n",
    "    for i in range(max_of_two, a*b+1):\n",
    "        if i % a==0 and i % b==0:\n",
    "            return i\n",
    "\n",
    "least_comm_factor = lcm(first_number, second_number)\n",
    "\n",
    "print(f\"LCM of {first_number} and {second_number} is {least_comm_factor}\")"
   ]
  },
  {
   "cell_type": "markdown",
   "metadata": {},
   "source": [
    "## If Else"
   ]
  },
  {
   "cell_type": "markdown",
   "metadata": {},
   "source": [
    "#### 1. Write a Python program to check if a number is positive, negative, or zero using an if-else statement.\n"
   ]
  },
  {
   "cell_type": "code",
   "execution_count": 15,
   "metadata": {},
   "outputs": [
    {
     "name": "stdout",
     "output_type": "stream",
     "text": [
      "Number is negative\n"
     ]
    }
   ],
   "source": [
    "num = int(input(\"Enter integer number:\"))\n",
    "\n",
    "if num == 0:\n",
    "    print(\"Number is zero\")\n",
    "elif num > 0:\n",
    "    print(\"Number is positive\")\n",
    "else:\n",
    "    print(\"Number is negative\")"
   ]
  },
  {
   "cell_type": "markdown",
   "metadata": {},
   "source": [
    "#### 2. Create a Python program that checks if a given number is even or odd using an if-else statement.\n"
   ]
  },
  {
   "cell_type": "code",
   "execution_count": 18,
   "metadata": {},
   "outputs": [
    {
     "name": "stdout",
     "output_type": "stream",
     "text": [
      "odd number\n"
     ]
    }
   ],
   "source": [
    "num = int(input(\"Please enter integer\"))\n",
    "\n",
    "if num%2 == 0:\n",
    "    print(\"even number\")\n",
    "else:\n",
    "    print(\"odd number\")"
   ]
  },
  {
   "cell_type": "markdown",
   "metadata": {},
   "source": [
    "#### 3. How can you use nested if-else statements in Python, and provide an example?"
   ]
  },
  {
   "cell_type": "markdown",
   "metadata": {},
   "source": [
    "1. Nested if else means, the name it self stated that writing if conditions inside the if-else statements:\n",
    "\n",
    "**Example**\n",
    "```python\n",
    "number = 0\n",
    "if number >= 0:\n",
    "    print(\"number is positive\")\n",
    "    if number == 0:\n",
    "        print(\"Number is greater but its zero\")\n",
    "else:\n",
    "    print(\"number is negative\")\n",
    "```"
   ]
  },
  {
   "cell_type": "code",
   "execution_count": 22,
   "metadata": {},
   "outputs": [
    {
     "name": "stdout",
     "output_type": "stream",
     "text": [
      "number is negative\n"
     ]
    }
   ],
   "source": [
    "number = -8\n",
    "if number >= 0:\n",
    "    print(\"number is positive\")\n",
    "    if number == 0:\n",
    "        print(\"Number is greater but its zero\")\n",
    "else:\n",
    "    print(\"number is negative\")"
   ]
  },
  {
   "cell_type": "markdown",
   "metadata": {},
   "source": [
    "#### 4. Write a Python program to determine the largest of three numbers using if-else."
   ]
  },
  {
   "cell_type": "code",
   "execution_count": 24,
   "metadata": {},
   "outputs": [
    {
     "name": "stdout",
     "output_type": "stream",
     "text": [
      "largest number: 500\n"
     ]
    }
   ],
   "source": [
    "num1, num2, num3 = 500, 20, 100\n",
    "\n",
    "if num1 > num2 and num1 > num3:\n",
    "    print(f\"largest number: {num1}\")\n",
    "elif num2 > num3 and num2 > num1:\n",
    "    print(f\"Larget number: {num2}\")\n",
    "else:\n",
    "    print(f\"largest number: {num3}\")"
   ]
  },
  {
   "cell_type": "markdown",
   "metadata": {},
   "source": [
    "#### 5. Write a Python program that calculates the absolute value of a number using if-else."
   ]
  },
  {
   "cell_type": "code",
   "execution_count": 25,
   "metadata": {},
   "outputs": [
    {
     "name": "stdout",
     "output_type": "stream",
     "text": [
      "Absolute value of -10 is: 10\n"
     ]
    }
   ],
   "source": [
    "num = -10\n",
    "\n",
    "if num < 0:\n",
    "    print(f\"Absolute value of {num} is: {-(num)}\")\n",
    "else:\n",
    "    print(f\"Absoulute value of {num} is: {num}\")"
   ]
  },
  {
   "cell_type": "markdown",
   "metadata": {},
   "source": [
    "#### 6. Create a Python program that checks if a given character is a vowel or consonant using if-else."
   ]
  },
  {
   "cell_type": "code",
   "execution_count": 26,
   "metadata": {},
   "outputs": [
    {
     "name": "stdout",
     "output_type": "stream",
     "text": [
      "c is cosonant\n"
     ]
    }
   ],
   "source": [
    "char = input(\"Enter any single character\")\n",
    "\n",
    "if char in 'AEIOUaeiou':\n",
    "    print(f\"{char} is vowel\")\n",
    "else:\n",
    "    print(f\"{char} is cosonant\")"
   ]
  },
  {
   "cell_type": "markdown",
   "metadata": {},
   "source": [
    "#### 7. Write a Python program to determine if a user is eligible to vote based on their age using if-else.\n"
   ]
  },
  {
   "cell_type": "code",
   "execution_count": 27,
   "metadata": {},
   "outputs": [
    {
     "name": "stdout",
     "output_type": "stream",
     "text": [
      "your are not eligible to vote\n"
     ]
    }
   ],
   "source": [
    "age = int(input(\"Enter your age:\"))\n",
    "\n",
    "if age >= 18:\n",
    "    print(f\"your are eligible to vote\")\n",
    "else:\n",
    "    print(f\"your are not eligible to vote\")"
   ]
  },
  {
   "cell_type": "markdown",
   "metadata": {},
   "source": [
    "#### 8. Create a Python program that calculates the discount amount based on the purchase amount using if-else.\n"
   ]
  },
  {
   "cell_type": "code",
   "execution_count": 31,
   "metadata": {},
   "outputs": [
    {
     "name": "stdout",
     "output_type": "stream",
     "text": [
      "No discount\n"
     ]
    }
   ],
   "source": [
    "purchase_amount = int(input(\"Enter your purchase amount:\"))\n",
    "discount_percent = float(input(\"Enter discount percentage in range 0 to 1\"))\n",
    "\n",
    "if purchase_amount != 0:\n",
    "    print(f\"discount amount is: {purchase_amount * discount_percent}\")\n",
    "else:\n",
    "    print(f\"No discount\")"
   ]
  },
  {
   "cell_type": "markdown",
   "metadata": {},
   "source": [
    "#### 9. Write a Python program to check if a number is within a specified range using if-else."
   ]
  },
  {
   "cell_type": "code",
   "execution_count": 34,
   "metadata": {},
   "outputs": [
    {
     "name": "stdout",
     "output_type": "stream",
     "text": [
      "value in range [0, 1]\n"
     ]
    }
   ],
   "source": [
    "num = float(input(\"Enter any value\"))\n",
    "\n",
    "if 0 <= num <= 1:\n",
    "    print(f\"value in range [0, 1]\")\n",
    "else:\n",
    "    print(f\"value is not in range [0, 1]\")"
   ]
  },
  {
   "cell_type": "markdown",
   "metadata": {},
   "source": [
    "#### 10. Create a Python program that determines the grade of a student based on their score using if-else.\n"
   ]
  },
  {
   "cell_type": "code",
   "execution_count": 38,
   "metadata": {},
   "outputs": [
    {
     "name": "stdout",
     "output_type": "stream",
     "text": [
      "your grade is: C\n"
     ]
    }
   ],
   "source": [
    "student_score = int(input(\"Enter your score:\"))\n",
    "\n",
    "if student_score >= 95:\n",
    "    print(f\"your grade is: A\")\n",
    "elif student_score >= 90:\n",
    "    print(f\"your grade is: A-\")\n",
    "elif student_score >= 85:\n",
    "    print(f\"your grade is: B\")\n",
    "elif student_score >= 80:\n",
    "    print(f\"your grade is: B-\")\n",
    "else:\n",
    "    print(f\"your grade is: C\")"
   ]
  },
  {
   "cell_type": "markdown",
   "metadata": {},
   "source": [
    "#### 11. Write a Python program to check if a string is empty or not using if-else."
   ]
  },
  {
   "cell_type": "code",
   "execution_count": 41,
   "metadata": {},
   "outputs": [
    {
     "name": "stdout",
     "output_type": "stream",
     "text": [
      "String is empty\n"
     ]
    }
   ],
   "source": [
    "string = ''\n",
    "\n",
    "if len(string) == 0:\n",
    "    print(f\"String is empty\")\n",
    "else:\n",
    "    print(f\"string is not empty and its length is {len(string)}\")"
   ]
  },
  {
   "cell_type": "markdown",
   "metadata": {},
   "source": [
    "#### 12. Create a Python program that identifies the type of a triangle (e.g., equilateral, isosceles, or scalene) based on input values using if-else."
   ]
  },
  {
   "cell_type": "code",
   "execution_count": 43,
   "metadata": {},
   "outputs": [
    {
     "name": "stdout",
     "output_type": "stream",
     "text": [
      "isosceles\n"
     ]
    }
   ],
   "source": [
    "ang1, ang2, ang3 = 90, 45, 45\n",
    "\n",
    "if ang1 + ang2 + ang3 == 180:\n",
    "    if ang1 == ang2 and ang2 == ang3:\n",
    "        print(f\"Equilateral\")\n",
    "    elif ang1 == ang2 or ang2 == ang3:\n",
    "        print(f\"isosceles\")\n",
    "    else:\n",
    "        print(f\"scalene\")\n",
    "else:\n",
    "    print(f\"sum of angles is < 180. so, it cant form a traiangle\")"
   ]
  },
  {
   "cell_type": "markdown",
   "metadata": {},
   "source": [
    "#### 13. Write a Python program to determine the day of the week based on a user-provided number using if-else.\n"
   ]
  },
  {
   "cell_type": "code",
   "execution_count": 44,
   "metadata": {},
   "outputs": [
    {
     "name": "stdout",
     "output_type": "stream",
     "text": [
      "This is Thursday\n"
     ]
    }
   ],
   "source": [
    "day_number = int(input(\"Enter day number:\"))\n",
    "\n",
    "if day_number == 1:\n",
    "    print(f\"This is Sunday\")\n",
    "elif day_number == 2:\n",
    "    print(f\"This is Monday\")\n",
    "elif day_number == 3:\n",
    "    print(f\"This is Tuesday\")\n",
    "elif day_number == 4:\n",
    "    print(f\"This is Wednesday\")\n",
    "elif day_number == 5:\n",
    "    print(f\"This is Thursday\")\n",
    "elif day_number == 6:\n",
    "    print(f\"This is Friday\")\n",
    "else:\n",
    "    print(f\"This is Saturday\")\n"
   ]
  },
  {
   "cell_type": "markdown",
   "metadata": {},
   "source": [
    "#### 14. Create a Python program that checks if a given year is a leap year using both if-else and a function.\n"
   ]
  },
  {
   "cell_type": "code",
   "execution_count": 49,
   "metadata": {},
   "outputs": [
    {
     "name": "stdout",
     "output_type": "stream",
     "text": [
      "1600  is leap year\n"
     ]
    }
   ],
   "source": [
    "# year is divisable by 4 and not divisible by 100 and\n",
    "# year is divisible by 400\n",
    "year = 1600\n",
    "if (year%4 == 0 and year%100!=0) or (year%400 == 0):\n",
    "    print(f\"{year}  is leap year\")\n",
    "else:\n",
    "    print(f\"{year} not leap year\")"
   ]
  },
  {
   "cell_type": "markdown",
   "metadata": {},
   "source": [
    "##### 15. How do you use the \"assert\" statement in Python to add debugging checks within if-else blocks?"
   ]
  },
  {
   "cell_type": "markdown",
   "metadata": {},
   "source": [
    "`assert` keyword is used for debugging purpose. \n",
    "\n",
    "This will validate condition and if false it raise an exception AssertionError\n",
    "\n",
    "**Example**\n",
    "```python\n",
    "b = False\n",
    "assert b == True\n",
    "```\n",
    "\n",
    "intially, I have assigned false value to variable b. Then it will validate the condition(b == True). if condition is false it raise the AssertionError"
   ]
  },
  {
   "cell_type": "code",
   "execution_count": 54,
   "metadata": {},
   "outputs": [
    {
     "ename": "AssertionError",
     "evalue": "",
     "output_type": "error",
     "traceback": [
      "\u001b[0;31m---------------------------------------------------------------------------\u001b[0m",
      "\u001b[0;31mAssertionError\u001b[0m                            Traceback (most recent call last)",
      "Cell \u001b[0;32mIn[54], line 2\u001b[0m\n\u001b[1;32m      1\u001b[0m b \u001b[38;5;241m=\u001b[39m \u001b[38;5;28;01mFalse\u001b[39;00m\n\u001b[0;32m----> 2\u001b[0m \u001b[38;5;28;01massert\u001b[39;00m b \u001b[38;5;241m==\u001b[39m \u001b[38;5;28;01mTrue\u001b[39;00m\n",
      "\u001b[0;31mAssertionError\u001b[0m: "
     ]
    }
   ],
   "source": [
    "b = False\n",
    "assert b == True\n"
   ]
  },
  {
   "cell_type": "markdown",
   "metadata": {},
   "source": [
    "#### 16. Create a Python program that determines the eligibility of a person for a senior citizen discount based on age using if-else.\n"
   ]
  },
  {
   "cell_type": "code",
   "execution_count": 56,
   "metadata": {},
   "outputs": [
    {
     "name": "stdout",
     "output_type": "stream",
     "text": [
      "your eligible for senior citizen discount\n"
     ]
    }
   ],
   "source": [
    "age = int(input(\"Enter your age:\"))\n",
    "\n",
    "if age >= 60:\n",
    "    print(f\"your eligible for senior citizen discount\")\n",
    "else:\n",
    "    print(f\"your are not eligible for senior citizen discount\")"
   ]
  },
  {
   "cell_type": "markdown",
   "metadata": {},
   "source": [
    "#### 17. Write a Python program to categorize a given character as uppercase, lowercase, or neither using if-else.\n"
   ]
  },
  {
   "cell_type": "code",
   "execution_count": 63,
   "metadata": {},
   "outputs": [
    {
     "name": "stdout",
     "output_type": "stream",
     "text": [
      "character is upper\n"
     ]
    }
   ],
   "source": [
    "char = 'H'\n",
    "\n",
    "if char.isupper():\n",
    "    print(f\"character is upper\")\n",
    "elif char.islower():\n",
    "    print(f\"character is lower\")\n",
    "else:\n",
    "    print(\"Neither upper or lower\")"
   ]
  },
  {
   "cell_type": "markdown",
   "metadata": {},
   "source": [
    "#### 18. Write a Python program to determine the roots of a quadratic equation using if-else.\n"
   ]
  },
  {
   "cell_type": "code",
   "execution_count": 24,
   "metadata": {},
   "outputs": [
    {
     "name": "stdout",
     "output_type": "stream",
     "text": [
      "roots of the quadratic equation: root1: -0.5505102572168221 and root2:-5.449489742783178\n"
     ]
    }
   ],
   "source": [
    "# ax^2 + bx + c = 0\n",
    "# from math import sqrt\n",
    "coef_a = 1\n",
    "coef_b = 6\n",
    "coef_c = 3\n",
    "\n",
    "dis = coef_b**2 - 4*coef_a*coef_c\n",
    "\n",
    "if dis >=0:\n",
    "    discriminat = sqrt(dis)\n",
    "    root1, root2 = (-coef_b + discriminat) / 2*coef_a , (-coef_b - discriminat) / 2*coef_a\n",
    "    print(f\"roots of the quadratic equation: root1: {root1} and root2:{root2}\")\n",
    "else:\n",
    "    print(f\"roots are imaginary\")"
   ]
  },
  {
   "cell_type": "markdown",
   "metadata": {},
   "source": [
    "#### 19. Create a Python program that checks if a given year is a century year or not using if-else."
   ]
  },
  {
   "cell_type": "code",
   "execution_count": 27,
   "metadata": {},
   "outputs": [
    {
     "name": "stdout",
     "output_type": "stream",
     "text": [
      "yes, this is leap year\n"
     ]
    }
   ],
   "source": [
    "def check_leap(year: int) -> bool:\n",
    "    if year % 4 ==0 and year % 100!= 0 or year % 400 == 0:\n",
    "        return True\n",
    "    else:\n",
    "        return False\n",
    "\n",
    "leap_status = check_leap(2000)\n",
    "if leap_status:\n",
    "    print(\"yes, this is leap year\")\n",
    "else:\n",
    "    print(\"Not leap year\")\n"
   ]
  },
  {
   "cell_type": "markdown",
   "metadata": {},
   "source": [
    "#### 20. Write a Python program to determine if a given number is a perfect square using if-else."
   ]
  },
  {
   "cell_type": "code",
   "execution_count": 34,
   "metadata": {},
   "outputs": [
    {
     "data": {
      "text/plain": [
       "True"
      ]
     },
     "execution_count": 34,
     "metadata": {},
     "output_type": "execute_result"
    }
   ],
   "source": [
    "def perfect_square(num: int) -> bool:\n",
    "    for i in range(1, int(sqrt(num))+1):\n",
    "        if i*i == num:\n",
    "            return True\n",
    "        \n",
    "    return False\n",
    "\n",
    "perfect_square(25)"
   ]
  },
  {
   "cell_type": "markdown",
   "metadata": {},
   "source": [
    "#### 21. Explain the purpose of the \"continue\" and \"break\" statements within if-else loops."
   ]
  },
  {
   "cell_type": "markdown",
   "metadata": {},
   "source": [
    "**continue**\n",
    "1. In loops, continue is used to skip the current iteration and start the next iteration\n",
    "\n",
    "```python\n",
    "for i in range(10):\n",
    "    if i==3:\n",
    "        continue\n",
    "    else:\n",
    "        print(i)\n",
    "```\n",
    "Here, `i` iterating from 0 to 10. loop skip the iteration when i ==3 and continue to next iteration\n",
    "\n",
    "**break**\n",
    "1. used to break the loop or exit from the loop. it means it wont perfrom next upcoming iterations.\n",
    "```python\n",
    "for i in range(10):\n",
    "    if i==3:\n",
    "        break\n",
    "    else:\n",
    "        print(i)\n",
    "```\n",
    "Here, `i` iterating from 0 to 10. loop skip the iteration when i ==3 and break the loop and exit from the loop"
   ]
  },
  {
   "cell_type": "markdown",
   "metadata": {},
   "source": [
    "#### 22. Create a Python program that calculates the BMI (Body Mass Index) of a person based on their weight and height using if-else.\n"
   ]
  },
  {
   "cell_type": "code",
   "execution_count": 60,
   "metadata": {},
   "outputs": [
    {
     "data": {
      "text/plain": [
       "24.793953695154066"
      ]
     },
     "execution_count": 60,
     "metadata": {},
     "output_type": "execute_result"
    }
   ],
   "source": [
    "def body_mass_index(weight: int, height: int) -> float:\n",
    "\n",
    "    bmi = weight / (height**2)\n",
    "    if bmi <=0:\n",
    "        return -1\n",
    "    else:\n",
    "        return bmi\n",
    "\n",
    "w = float(input(\"Enter body weight\"))\n",
    "h = float(input(\"Enter body height\"))\n",
    "body_mass_index(w, h)"
   ]
  },
  {
   "cell_type": "markdown",
   "metadata": {},
   "source": [
    "#### 23. How can you use the \"filter()\" function with if-else statements to filter elements from a list?"
   ]
  },
  {
   "cell_type": "markdown",
   "metadata": {},
   "source": [
    "filter() is inbuilt function, which used to filter the data by passing function with data. When the function condition is true it will filter the data.\n",
    "\n",
    "General syntax: filter(function, data)\n",
    "\n",
    "**Example:**\n",
    "```python\n",
    "def check_even(num: list):\n",
    "    if num % 2 == 0:\n",
    "        return True\n",
    "\n",
    "data = [3, 5,6,8,90,0]\n",
    "list(filter(check_even, data))\n",
    "```"
   ]
  },
  {
   "cell_type": "code",
   "execution_count": 54,
   "metadata": {},
   "outputs": [
    {
     "data": {
      "text/plain": [
       "[6, 8, 90, 0]"
      ]
     },
     "execution_count": 54,
     "metadata": {},
     "output_type": "execute_result"
    }
   ],
   "source": [
    "def check_even(num: list):\n",
    "    if num % 2 == 0:\n",
    "        return True\n",
    "\n",
    "data = [3, 5,6,8,90,0]\n",
    "list(filter(check_even, data))"
   ]
  },
  {
   "cell_type": "markdown",
   "metadata": {},
   "source": [
    "#### 24. Write a Python program to determine if a given number is prime or not using if-else."
   ]
  },
  {
   "cell_type": "code",
   "execution_count": 51,
   "metadata": {},
   "outputs": [
    {
     "name": "stdout",
     "output_type": "stream",
     "text": [
      "5 is prime number\n"
     ]
    }
   ],
   "source": [
    "def check_prime(num: int) -> bool:\n",
    "    if num <= 1:\n",
    "        return False\n",
    "    elif num == 2:\n",
    "        return True\n",
    "    else:\n",
    "        for i in range(2, int(num*0.5)+1):\n",
    "            if num % i==0:\n",
    "                return False\n",
    "    return True\n",
    "\n",
    "num = 5\n",
    "isprime = check_prime(num)\n",
    "\n",
    "if isprime:\n",
    "    print(f\"{num} is prime number\")\n",
    "else:\n",
    "    print(f\"{num} is not prime number\")"
   ]
  },
  {
   "cell_type": "markdown",
   "metadata": {},
   "source": [
    "## Map"
   ]
  },
  {
   "cell_type": "markdown",
   "metadata": {},
   "source": [
    "#### 1. Explain the purpose of the `map()` function in Python and provide an example of how it can be used to apply a function to each element of an iterable.\n"
   ]
  },
  {
   "cell_type": "markdown",
   "metadata": {},
   "source": [
    "`map()` - This is inbuilt function which is used to apply the some functionality over the any iterables.\n",
    "\n",
    "General syntax: map(function, iterables)\n",
    "\n",
    "Explanation: map function takes arguments as one function and iterables. Then it will apply the functionality on the each and every element in the iterables.\n",
    "\n",
    "**Example:** add some k value to every element in the list\n",
    "```python\n",
    "l = [0,1,2,3,4,5]\n",
    "k = 5\n",
    "\n",
    "list(map(lambda x:x+k, l))\n",
    "```\n",
    "\n",
    "Explantion:\n",
    "    \n",
    "l is a list of elements. In the first iteration, it takes the first element from list l and perfrom the lambda operation (adding 5). Repeats the same process for all the elements in the list l"
   ]
  },
  {
   "cell_type": "code",
   "execution_count": 61,
   "metadata": {},
   "outputs": [
    {
     "data": {
      "text/plain": [
       "[5, 6, 7, 8, 9, 10]"
      ]
     },
     "execution_count": 61,
     "metadata": {},
     "output_type": "execute_result"
    }
   ],
   "source": [
    "l = [0,1,2,3,4,5]\n",
    "k = 5\n",
    "\n",
    "list(map(lambda x:x+k, l))"
   ]
  },
  {
   "cell_type": "markdown",
   "metadata": {},
   "source": [
    "#### 2. Write a Python program that uses the `map()` function to square each element of a list of numbers.\n"
   ]
  },
  {
   "cell_type": "code",
   "execution_count": 63,
   "metadata": {},
   "outputs": [
    {
     "name": "stdout",
     "output_type": "stream",
     "text": [
      "square of list of elements: [0, 1, 4, 9, 16, 25]\n"
     ]
    }
   ],
   "source": [
    "def square(x):\n",
    "    return x**2\n",
    "\n",
    "number_list = [0,1,2,3,4,5]\n",
    "square_list = list(map(square, number_list))\n",
    "\n",
    "print(f\"square of list of elements: {square_list}\")"
   ]
  },
  {
   "cell_type": "markdown",
   "metadata": {},
   "source": [
    "#### 3. How does the `map()` function differ from a list comprehension in Python, and when would you choose one over the other?\n"
   ]
  },
  {
   "cell_type": "markdown",
   "metadata": {},
   "source": [
    "1. map()  is used to apply specific function on every element in the iterable and results new iterable.\n",
    "List comprehension creates a new list by applying the expression/condition to each element of iterable.\n",
    "\n",
    "2. We use map when we want to apply specific function on every element. Unlike List comprehension used to create new list by performing some conditions"
   ]
  },
  {
   "cell_type": "code",
   "execution_count": 5,
   "metadata": {},
   "outputs": [
    {
     "name": "stdout",
     "output_type": "stream",
     "text": [
      "[1, 4, 9, 16]\n",
      "[2, 4]\n"
     ]
    }
   ],
   "source": [
    "l = [1,2,3,4]\n",
    "\n",
    "l_map = list(map(lambda x: x**2, l))\n",
    "l_list = [x for x in l if x%2==0]\n",
    "\n",
    "print(l_map)\n",
    "print(l_list)"
   ]
  },
  {
   "cell_type": "markdown",
   "metadata": {},
   "source": [
    "#### 4. Create a Python program that uses the `map()` function to convert a list of names to uppercase."
   ]
  },
  {
   "cell_type": "code",
   "execution_count": 65,
   "metadata": {},
   "outputs": [
    {
     "name": "stdout",
     "output_type": "stream",
     "text": [
      "list of names in uppercase: ['PW', 'PYTHON', 'C', 'HELP']\n"
     ]
    }
   ],
   "source": [
    "names_list = ['pw', 'python', 'c', 'Help']\n",
    "\n",
    "names_upper = list(map(lambda element: element.upper(), names_list))\n",
    "\n",
    "print(f\"list of names in uppercase: {names_upper}\")\n"
   ]
  },
  {
   "cell_type": "markdown",
   "metadata": {},
   "source": [
    "#### 5. Write a Python program that uses the `map()` function to calculate the length of each word in a list of strings."
   ]
  },
  {
   "cell_type": "code",
   "execution_count": 66,
   "metadata": {},
   "outputs": [
    {
     "name": "stdout",
     "output_type": "stream",
     "text": [
      "list of strings length: [8, 5, 2, 4, 3]\n"
     ]
    }
   ],
   "source": [
    "strings_list = ['language', 'Hello', 'PW', 'Good', 'bad']\n",
    "\n",
    "strings_length = list(map(lambda s: len(s), strings_list))\n",
    "print(f\"list of strings length: {strings_length}\")"
   ]
  },
  {
   "cell_type": "markdown",
   "metadata": {},
   "source": [
    "#### 6. How can you use the `map()` function to apply a custom function to elements of multiple lists simultaneously in Python?\n"
   ]
  },
  {
   "cell_type": "markdown",
   "metadata": {},
   "source": [
    "map(func, list1, lis2, list3)\n",
    "\n",
    "If see above syntax, there is custom function func which can be applied to the different lists(list1, list2m list3). maps the functions to the corresponding values of the each list.\n",
    "\n",
    "Example\n",
    "```python\n",
    "def add_ele(l1, l2, l3):\n",
    "    return l1+l2+l3\n",
    "\n",
    "l1 = [1, 0]\n",
    "l2 = [10, 20, 30]\n",
    "l3 = [5, 7]\n",
    "\n",
    "list(map(add_ele, l1, l2, l3))\n",
    "```"
   ]
  },
  {
   "cell_type": "code",
   "execution_count": 101,
   "metadata": {},
   "outputs": [
    {
     "data": {
      "text/plain": [
       "[16, 27]"
      ]
     },
     "execution_count": 101,
     "metadata": {},
     "output_type": "execute_result"
    }
   ],
   "source": [
    "def add_ele(l1, l2, l3):\n",
    "    return l1+l2+l3\n",
    "\n",
    "l1 = [1, 0]\n",
    "l2 = [10, 20, 30]\n",
    "l3 = [5, 7]\n",
    "\n",
    "list(map(add_ele, l1, l2, l3))"
   ]
  },
  {
   "cell_type": "markdown",
   "metadata": {},
   "source": [
    "#### 7. Create a Python program that uses `map()` to convert a list of temperatures from Celsius to Fahrenheit.\n"
   ]
  },
  {
   "cell_type": "code",
   "execution_count": 69,
   "metadata": {},
   "outputs": [
    {
     "name": "stdout",
     "output_type": "stream",
     "text": [
      "Temperature in farenheit: [32.0, 50.0, 68.0, 77.0, 86.0]\n"
     ]
    }
   ],
   "source": [
    "def celcius_farenheit(celcius):\n",
    "    farenheit = (celcius * (9/5)) + 32\n",
    "    return farenheit\n",
    "\n",
    "c_temperature = [0, 10, 20, 25, 30]\n",
    "\n",
    "f_temperature = list(map(celcius_farenheit, c_temperature))\n",
    "\n",
    "print(f\"Temperature in farenheit: {f_temperature}\")"
   ]
  },
  {
   "cell_type": "markdown",
   "metadata": {},
   "source": [
    "#### 8. Write a Python program that uses the `map()` function to round each element of a list of floating-point numbers to the nearest integer.\n"
   ]
  },
  {
   "cell_type": "code",
   "execution_count": 67,
   "metadata": {},
   "outputs": [
    {
     "name": "stdout",
     "output_type": "stream",
     "text": [
      "list of floating values rounded: [6, 25, 77, 57, 89, 54]\n"
     ]
    }
   ],
   "source": [
    "def number_rounding(num):\n",
    "    return round(num)\n",
    "\n",
    "list_float = [5.6, 25.3, 76.9, 56.7, 89.0, 54.2]\n",
    "list_round_numbers = list(map(number_rounding, list_float))\n",
    "\n",
    "print(f\"list of floating values rounded: {list_round_numbers}\")"
   ]
  },
  {
   "cell_type": "markdown",
   "metadata": {},
   "source": [
    "## reduce"
   ]
  },
  {
   "cell_type": "markdown",
   "metadata": {},
   "source": [
    "#### 1. What is the `reduce()` function in Python, and what module should you import to use it? Provide an example of its basic usage.\n"
   ]
  },
  {
   "cell_type": "markdown",
   "metadata": {},
   "source": [
    "reduce() - This is in-built function. This is used to reduce the iterable values to single value. reduce() is in functools. \n",
    "\n",
    "**Example**: product of list of integers\n",
    "\n",
    "```python\n",
    "l = [1, 2, 3, 4, 5, 6, 7, 8, 9]\n",
    "reduce(lambda a,b:a*b, l)\n",
    "```"
   ]
  },
  {
   "cell_type": "code",
   "execution_count": 71,
   "metadata": {},
   "outputs": [
    {
     "data": {
      "text/plain": [
       "24"
      ]
     },
     "execution_count": 71,
     "metadata": {},
     "output_type": "execute_result"
    }
   ],
   "source": [
    "from functools import reduce\n",
    "l = [1, 2, 3, 4]\n",
    "reduce(lambda a,b:a*b, l)"
   ]
  },
  {
   "cell_type": "markdown",
   "metadata": {},
   "source": [
    "#### 2. Write a Python program that uses the `reduce()` function to find the product of all elements in a list."
   ]
  },
  {
   "cell_type": "code",
   "execution_count": 72,
   "metadata": {},
   "outputs": [
    {
     "name": "stdout",
     "output_type": "stream",
     "text": [
      "product of list: 24\n"
     ]
    }
   ],
   "source": [
    "from functools import reduce\n",
    "l = [1, 2, 3, 4]\n",
    "product = reduce(lambda a,b:a*b, l)\n",
    "print(f\"product of list: {product}\")"
   ]
  },
  {
   "cell_type": "markdown",
   "metadata": {},
   "source": [
    "#### 3. Create a Python program that uses `reduce()` to find the maximum element in a list of numbers."
   ]
  },
  {
   "cell_type": "code",
   "execution_count": 73,
   "metadata": {},
   "outputs": [
    {
     "name": "stdout",
     "output_type": "stream",
     "text": [
      "maximum of list: 4\n"
     ]
    }
   ],
   "source": [
    "from functools import reduce\n",
    "l = [1, 2, 3, 4]\n",
    "maximum = reduce(lambda a,b:max(a, b), l)\n",
    "print(f\"maximum of list: {maximum}\")"
   ]
  },
  {
   "cell_type": "markdown",
   "metadata": {},
   "source": [
    "#### 4. How can you use the `reduce()` function to concatenate a list of strings into a single string?"
   ]
  },
  {
   "cell_type": "code",
   "execution_count": 76,
   "metadata": {},
   "outputs": [
    {
     "name": "stdout",
     "output_type": "stream",
     "text": [
      "single string: Ramu is good boy\n"
     ]
    }
   ],
   "source": [
    "from functools import reduce\n",
    "l = ['Ramu', 'is', 'good', 'boy']\n",
    "single_string = reduce(lambda a,b:a+\" \" +b, l)\n",
    "print(f\"single string: {single_string}\")"
   ]
  },
  {
   "cell_type": "markdown",
   "metadata": {},
   "source": [
    "#### 5. Write a Python program that calculates the factorial of a number using the `reduce()` function."
   ]
  },
  {
   "cell_type": "code",
   "execution_count": 10,
   "metadata": {},
   "outputs": [
    {
     "name": "stdout",
     "output_type": "stream",
     "text": [
      "factorial of 5 is: 120\n"
     ]
    }
   ],
   "source": [
    "n = 5\n",
    "fact = reduce(lambda x,y: x*y, range(1, n+1))\n",
    "\n",
    "print(f\"factorial of {n} is: {fact}\")"
   ]
  },
  {
   "cell_type": "markdown",
   "metadata": {},
   "source": [
    "#### 6. Create a Python program that uses `reduce()` to find the GCD (Greatest Common Divisor) of a list of numbers.\n"
   ]
  },
  {
   "cell_type": "code",
   "execution_count": 19,
   "metadata": {},
   "outputs": [
    {
     "name": "stdout",
     "output_type": "stream",
     "text": [
      "gcd is: 100\n"
     ]
    }
   ],
   "source": [
    "def cal_b(a, b):\n",
    "    if a < b:\n",
    "        while b!=0:\n",
    "            a, b = b, a%b\n",
    "        return a\n",
    "    else:\n",
    "        while a!=0:\n",
    "            b, a = a, b%a\n",
    "        return b\n",
    "        \n",
    "gcd = reduce(lambda x, y: cal_b(x, y), [300,100, 500])\n",
    "print(f\"gcd is: {gcd}\")"
   ]
  },
  {
   "cell_type": "markdown",
   "metadata": {},
   "source": [
    "#### 7. Write a Python program that uses the `reduce()` function to find the sum of the digits of a given number.\n"
   ]
  },
  {
   "cell_type": "code",
   "execution_count": 32,
   "metadata": {},
   "outputs": [
    {
     "name": "stdout",
     "output_type": "stream",
     "text": [
      "sum of digits in number 3425 is 14\n"
     ]
    }
   ],
   "source": [
    "from functools import reduce\n",
    "\n",
    "def get_number(n):\n",
    "    l = []\n",
    "    while n!= 0:\n",
    "        s = n % 10\n",
    "        n = n // 10\n",
    "        l.append(s)\n",
    "    return l\n",
    "\n",
    "number = 3425\n",
    "sum_of_digits = reduce(lambda x, y: x+y, get_number(number))\n",
    "print(f\"sum of digits in number {number} is {sum_of_digits}\")"
   ]
  },
  {
   "cell_type": "markdown",
   "metadata": {},
   "source": [
    "## Filter"
   ]
  },
  {
   "cell_type": "markdown",
   "metadata": {},
   "source": [
    "#### 1. Explain the purpose of the `filter()` function in Python and provide an example of how it can be used to filter elements from an iterable.\n"
   ]
  },
  {
   "cell_type": "markdown",
   "metadata": {},
   "source": [
    "filter() - this function is used to filter the elements from iterables based on the given function condition is ture. \n",
    "\n",
    "**Example**:\n",
    "```python\n",
    "def check_even(n):\n",
    "    if n%2 ==0:\n",
    "        return n\n",
    "\n",
    "filter(check_even, [0,2,4,56])\n",
    "```"
   ]
  },
  {
   "cell_type": "code",
   "execution_count": 37,
   "metadata": {},
   "outputs": [
    {
     "name": "stdout",
     "output_type": "stream",
     "text": [
      "list of even_num: [0, 2]\n"
     ]
    }
   ],
   "source": [
    "def check_even(n):\n",
    "    if n%2 ==0:\n",
    "        return n\n",
    "\n",
    "l = [0, 2, 5, 9]\n",
    "even_num = list(filter(lambda x: x%2==0, l))\n",
    "print(f\"list of even_num: {even_num}\")"
   ]
  },
  {
   "cell_type": "markdown",
   "metadata": {},
   "source": [
    "#### 2. Write a Python program that uses the `filter()` function to select even numbers from a list of integers."
   ]
  },
  {
   "cell_type": "code",
   "execution_count": 38,
   "metadata": {},
   "outputs": [
    {
     "name": "stdout",
     "output_type": "stream",
     "text": [
      "list of even_num: [0, 2]\n"
     ]
    }
   ],
   "source": [
    "l = [0, 2, 5, 9]\n",
    "even_num = list(filter(lambda x: x%2==0, l))\n",
    "print(f\"list of even_num: {even_num}\")"
   ]
  },
  {
   "cell_type": "markdown",
   "metadata": {},
   "source": [
    "#### 3. Create a Python program that uses the `filter()` function to select names that start with a specific letter from a list of strings.\n"
   ]
  },
  {
   "cell_type": "code",
   "execution_count": 43,
   "metadata": {},
   "outputs": [
    {
     "name": "stdout",
     "output_type": "stream",
     "text": [
      "list of strings starts with p: ['Prasad', 'ping', 'pineapple']\n"
     ]
    }
   ],
   "source": [
    "strings_list = ['Prasad', 'Fine', 'Good', 'mine', 'ping', 'pineapple']\n",
    "\n",
    "list_starts_with_p = list(filter(lambda x: x.lower().startswith('p'), strings_list))\n",
    "print(f\"list of strings starts with p: {list_starts_with_p}\")"
   ]
  },
  {
   "cell_type": "markdown",
   "metadata": {},
   "source": [
    "#### 4. Write a Python program that uses the `filter()` function to select prime numbers from a list of integers.\n"
   ]
  },
  {
   "cell_type": "code",
   "execution_count": 47,
   "metadata": {},
   "outputs": [
    {
     "name": "stdout",
     "output_type": "stream",
     "text": [
      "prime numbers list: [2, 3, 5, 7]\n"
     ]
    }
   ],
   "source": [
    "def check_prime(n):\n",
    "    if n <= 1:\n",
    "        return False\n",
    "    elif n==2:\n",
    "        return True\n",
    "    else:\n",
    "        for i in range(2, int(n*0.5)+1):\n",
    "            if n % i == 0:\n",
    "                return False\n",
    "        return True\n",
    "\n",
    "prime_numbers = list(filter(check_prime, [1, 2, 3,5,6,7,8,9]))\n",
    "print(f\"prime numbers list: {prime_numbers}\")"
   ]
  },
  {
   "cell_type": "markdown",
   "metadata": {},
   "source": [
    "#### 5. How can you use the `filter()` function to remove None values from a list in Python?"
   ]
  },
  {
   "cell_type": "code",
   "execution_count": 49,
   "metadata": {},
   "outputs": [
    {
     "name": "stdout",
     "output_type": "stream",
     "text": [
      "list without none values: [2, 5, 'p']\n"
     ]
    }
   ],
   "source": [
    "l = [2, None, 5, 'p']\n",
    "list_without_none = list(filter(lambda x: x != None, l))\n",
    "print(f\"list without none values: {list_without_none}\")"
   ]
  },
  {
   "cell_type": "markdown",
   "metadata": {},
   "source": [
    "#### 6. Create a Python program that uses `filter()` to select words longer than a certain length from a list of strings."
   ]
  },
  {
   "cell_type": "code",
   "execution_count": 52,
   "metadata": {},
   "outputs": [
    {
     "name": "stdout",
     "output_type": "stream",
     "text": [
      "strign greater than fixed length: ['BTech', 'Course', 'maths']\n"
     ]
    }
   ],
   "source": [
    "fixed_len = 4\n",
    "\n",
    "str_list = ['MS', 'BTech', 'Course', 'maths']\n",
    "str_long_than_fix = list(filter(lambda x: len(x)>=fixed_len, str_list))\n",
    "\n",
    "print(f\"strign greater than fixed length: {str_long_than_fix}\")"
   ]
  },
  {
   "cell_type": "markdown",
   "metadata": {},
   "source": [
    "#### 7. Write a Python program that uses the `filter()` function to select elements greater than a specified threshold from a list of values"
   ]
  },
  {
   "cell_type": "code",
   "execution_count": 56,
   "metadata": {},
   "outputs": [
    {
     "name": "stdout",
     "output_type": "stream",
     "text": [
      "list greathan than 60 is: [67, 60, 123]\n"
     ]
    }
   ],
   "source": [
    "list_values = [40, 52, 67, 12, 60, 123]\n",
    "\n",
    "filtered_list = list(filter(lambda x: x>=60, list_values))\n",
    "print(f\"list greathan than 60 is: {filtered_list}\")"
   ]
  },
  {
   "cell_type": "markdown",
   "metadata": {},
   "source": [
    "## Recursion"
   ]
  },
  {
   "cell_type": "markdown",
   "metadata": {},
   "source": [
    "#### 1. Explain the concept of recursion in Python. How does it differ from iteration?"
   ]
  },
  {
   "cell_type": "markdown",
   "metadata": {},
   "source": [
    "function calling itself to solve some task. recusion call functions irself until it reduces its base form and perfrom the task. unlike iteration repeatedly loops over the elements. "
   ]
  },
  {
   "cell_type": "markdown",
   "metadata": {},
   "source": [
    "#### 2. Write a Python program to calculate the factorial of a number using recursion."
   ]
  },
  {
   "cell_type": "code",
   "execution_count": 22,
   "metadata": {},
   "outputs": [
    {
     "name": "stdout",
     "output_type": "stream",
     "text": [
      "factorial is: 120\n"
     ]
    }
   ],
   "source": [
    "def fact(n):\n",
    "    if n<=1:\n",
    "        return 1\n",
    "    return n*fact(n-1)\n",
    "\n",
    "f = fact(5)\n",
    "print(f\"factorial is: {f}\")"
   ]
  },
  {
   "cell_type": "markdown",
   "metadata": {},
   "source": [
    "#### 3. Create a recursive Python function to find the nth Fibonacci number."
   ]
  },
  {
   "cell_type": "code",
   "execution_count": 31,
   "metadata": {},
   "outputs": [
    {
     "data": {
      "text/plain": [
       "5"
      ]
     },
     "execution_count": 31,
     "metadata": {},
     "output_type": "execute_result"
    }
   ],
   "source": [
    "def fib(n):\n",
    "    if n<=0:\n",
    "        return 0\n",
    "    elif n==1:\n",
    "        return 1\n",
    "    else:\n",
    "        return fib(n-2)+fib(n-1)\n",
    "\n",
    "fib(5)"
   ]
  },
  {
   "cell_type": "markdown",
   "metadata": {},
   "source": [
    "#### 4. Write a recursive Python function to calculate the sum of all elements in a list."
   ]
  },
  {
   "cell_type": "code",
   "execution_count": 42,
   "metadata": {},
   "outputs": [
    {
     "name": "stdout",
     "output_type": "stream",
     "text": [
      "sum of elements: 13\n"
     ]
    }
   ],
   "source": [
    "def list_sum(l):\n",
    "    if len(l)==0:\n",
    "        return 0\n",
    "    elif len(l)==1:\n",
    "        return l[0]\n",
    "    return l[0] + list_sum(l[1:])\n",
    "\n",
    "l = [4, 7, 2]\n",
    "print(f\"sum of elements: {list_sum(l)}\")"
   ]
  },
  {
   "cell_type": "markdown",
   "metadata": {},
   "source": [
    "#### 5. How can you prevent a recursive function from running indefinitely, causing a stack overflow error?\n"
   ]
  },
  {
   "cell_type": "markdown",
   "metadata": {},
   "source": [
    "Its important to write the base form for the recursion, otherwise there will be chance that recursion running forever."
   ]
  },
  {
   "cell_type": "markdown",
   "metadata": {},
   "source": [
    "#### 6. Create a recursive Python function to find the greatest common divisor (GCD) of two numbers using the Euclidean algorithm.\n"
   ]
  },
  {
   "cell_type": "code",
   "execution_count": 53,
   "metadata": {},
   "outputs": [
    {
     "name": "stdout",
     "output_type": "stream",
     "text": [
      "gcd of 8 and 18 is: 2\n"
     ]
    }
   ],
   "source": [
    "def gcd(num1, num2):\n",
    "    if num2==0:\n",
    "        return num1\n",
    "    else:\n",
    "        return gcd(num2, num1%num2)\n",
    "\n",
    "a = 8\n",
    "b = 18\n",
    "g = gcd(a, b)\n",
    "print(f\"gcd of {a} and {b} is: {g}\")\n"
   ]
  },
  {
   "cell_type": "markdown",
   "metadata": {},
   "source": [
    "#### 7. Write a recursive Python function to reverse a string."
   ]
  },
  {
   "cell_type": "code",
   "execution_count": 56,
   "metadata": {},
   "outputs": [
    {
     "name": "stdout",
     "output_type": "stream",
     "text": [
      "reverse string is: plej\n"
     ]
    }
   ],
   "source": [
    "def reverse_string(s):\n",
    "    if s == '':\n",
    "        return ''\n",
    "    else:\n",
    "        return reverse_string(s[1:])+s[0]\n",
    "\n",
    "rev_str = reverse_string('jelp')\n",
    "print(f\"reverse string is: {rev_str}\")\n"
   ]
  },
  {
   "cell_type": "markdown",
   "metadata": {},
   "source": [
    "#### 8. Create a recursive Python function to calculate the power of a number (x^n)."
   ]
  },
  {
   "cell_type": "code",
   "execution_count": 59,
   "metadata": {},
   "outputs": [
    {
     "name": "stdout",
     "output_type": "stream",
     "text": [
      "Power: 1024\n"
     ]
    }
   ],
   "source": [
    "def power(x, n):\n",
    "    if n == 0:\n",
    "        return 1\n",
    "    else:\n",
    "        return x*power(x, n-1)\n",
    "\n",
    "value = power(2, 10)\n",
    "print(f\"Power: {value}\")"
   ]
  },
  {
   "cell_type": "markdown",
   "metadata": {},
   "source": [
    "#### 9. Write a recursive Python function to find all permutations of a given string."
   ]
  },
  {
   "cell_type": "code",
   "execution_count": 78,
   "metadata": {},
   "outputs": [
    {
     "data": {
      "text/plain": [
       "['abc', 'acb', 'bac', 'bca', 'cab', 'cba']"
      ]
     },
     "execution_count": 78,
     "metadata": {},
     "output_type": "execute_result"
    }
   ],
   "source": [
    "def permutations(s):\n",
    "    if s == 0:\n",
    "        return ''\n",
    "    elif len(s) == 1:\n",
    "        return s\n",
    "    else:\n",
    "        l = []\n",
    "        for c in s:\n",
    "            updated_s = s.replace(c, '')\n",
    "            p = permutations(updated_s)\n",
    "            \n",
    "            for perm in p:\n",
    "                l.append(c + perm)\n",
    "    return l\n",
    "\n",
    "\n",
    "s = permutations('abc')\n",
    "s\n"
   ]
  },
  {
   "cell_type": "markdown",
   "metadata": {},
   "source": [
    "#### 10. Write a recursive Python function to check if a string is a palindrome."
   ]
  },
  {
   "cell_type": "code",
   "execution_count": 84,
   "metadata": {},
   "outputs": [
    {
     "data": {
      "text/plain": [
       "False"
      ]
     },
     "execution_count": 84,
     "metadata": {},
     "output_type": "execute_result"
    }
   ],
   "source": [
    "def palindrome(s):\n",
    "    if len(s) <= 1:\n",
    "        return True\n",
    "    if s[0] == s[-1]:\n",
    "        return palindrome(s[1:-1])\n",
    "    else:\n",
    "        return False\n",
    "\n",
    "palindrome('racear')"
   ]
  },
  {
   "cell_type": "markdown",
   "metadata": {},
   "source": [
    "#### 11. Create a recursive Python function to generate all possible combinations of a list of elements."
   ]
  },
  {
   "cell_type": "code",
   "execution_count": 10,
   "metadata": {},
   "outputs": [
    {
     "name": "stdout",
     "output_type": "stream",
     "text": [
      "[[], [1], [3], [1, 3]]\n"
     ]
    }
   ],
   "source": [
    "def combinations(l):\n",
    "    if l:\n",
    "      result = combinations(l[:-1])\n",
    "      return result + [c + [l[-1]] for c in result]\n",
    "    else:\n",
    "      return [[]]\n",
    "\n",
    "print(combinations([1,3]))"
   ]
  },
  {
   "cell_type": "markdown",
   "metadata": {},
   "source": [
    "## Basics of Functions"
   ]
  },
  {
   "cell_type": "markdown",
   "metadata": {},
   "source": [
    "#### 1. What is a function in Python, and why is it used?"
   ]
  },
  {
   "cell_type": "markdown",
   "metadata": {},
   "source": [
    "function is block of script or statements. which will can be callable whenever required. \n",
    "The main purpose of the function is resuability. We can use the block of code as many times we want by calling with function name. "
   ]
  },
  {
   "cell_type": "markdown",
   "metadata": {},
   "source": [
    "#### 2. How do you define a function in Python? Provide an example."
   ]
  },
  {
   "cell_type": "markdown",
   "metadata": {},
   "source": [
    "function is always defined with `def` keyword follwed by the name of the function along with list of arguments in the parenthesis. arguments is optional we can pass based on our requirement. \n",
    "\n",
    "general syntax: def name_of_function(arguments):\n",
    "\n",
    "```python\n",
    "def greet():\n",
    "    print(\"Good Morning!\")\n",
    "```"
   ]
  },
  {
   "cell_type": "code",
   "execution_count": 57,
   "metadata": {},
   "outputs": [
    {
     "name": "stdout",
     "output_type": "stream",
     "text": [
      "Good Morning!\n"
     ]
    }
   ],
   "source": [
    "def greet():\n",
    "    print(\"Good Morning!\")\n",
    "\n",
    "greet()"
   ]
  },
  {
   "cell_type": "markdown",
   "metadata": {},
   "source": [
    "#### 3. Explain the difference between a function definition and a function call."
   ]
  },
  {
   "cell_type": "markdown",
   "metadata": {},
   "source": [
    "function definiton: used to write the block of the code. \n",
    "\n",
    "function call: used to execute the block of the code which is defined in function definition."
   ]
  },
  {
   "cell_type": "markdown",
   "metadata": {},
   "source": [
    "#### 4. Write a Python program that defines a function to calculate the sum of two numbers and then calls the function.\n"
   ]
  },
  {
   "cell_type": "code",
   "execution_count": 59,
   "metadata": {},
   "outputs": [
    {
     "name": "stdout",
     "output_type": "stream",
     "text": [
      "sum of 5 and 6 is: 11\n"
     ]
    }
   ],
   "source": [
    "def sum_nums(a: int, b: int) -> int:\n",
    "    return a+b\n",
    "\n",
    "summation = sum_nums(5, 6)\n",
    "\n",
    "print(f\"sum of {5} and {6} is: {summation}\") "
   ]
  },
  {
   "cell_type": "markdown",
   "metadata": {},
   "source": [
    "#### 5. What is a function signature, and what information does it typically include?"
   ]
  },
  {
   "cell_type": "markdown",
   "metadata": {},
   "source": [
    "function signature is general syntax to define the function. It includes\n",
    "1. def keyword\n",
    "2. function name\n",
    "3. list of parameters\n",
    "4. return type"
   ]
  },
  {
   "cell_type": "markdown",
   "metadata": {},
   "source": [
    "#### 6. Create a Python function that takes two arguments and returns their product."
   ]
  },
  {
   "cell_type": "code",
   "execution_count": 60,
   "metadata": {},
   "outputs": [
    {
     "name": "stdout",
     "output_type": "stream",
     "text": [
      "product of 5 and 6 is: 30\n"
     ]
    }
   ],
   "source": [
    "def product_nums(a: int, b: int) -> int:\n",
    "    return a*b\n",
    "\n",
    "product = product_nums(5, 6)\n",
    "\n",
    "print(f\"product of {5} and {6} is: {product}\") "
   ]
  },
  {
   "cell_type": "markdown",
   "metadata": {},
   "source": [
    "## Function Parameters and Arguments"
   ]
  },
  {
   "cell_type": "markdown",
   "metadata": {},
   "source": [
    "#### 1. Explain the concepts of formal parameters and actual arguments in Python functions."
   ]
  },
  {
   "cell_type": "markdown",
   "metadata": {},
   "source": [
    "1. formal parameters: variables or placeholders defined in the function definition\n",
    "2. actual parameters: variable which are passed during function call."
   ]
  },
  {
   "cell_type": "markdown",
   "metadata": {},
   "source": [
    "#### 2. Write a Python program that defines a function with default argument values."
   ]
  },
  {
   "cell_type": "code",
   "execution_count": 63,
   "metadata": {},
   "outputs": [
    {
     "name": "stdout",
     "output_type": "stream",
     "text": [
      "product: Mobile and price: 1000\n"
     ]
    }
   ],
   "source": [
    "def func(name: str, price=200):\n",
    "    print(f\"product: {name} and price: {price}\")\n",
    "\n",
    "func(name='Mobile', price= 1000)"
   ]
  },
  {
   "cell_type": "markdown",
   "metadata": {},
   "source": [
    "#### 3. How do you use keyword arguments in Python function calls? Provide an example."
   ]
  },
  {
   "cell_type": "markdown",
   "metadata": {},
   "source": [
    "use **symbol followed by name of the parameter in function defintion. \n",
    "\n",
    "**Example:**\n",
    "```python\n",
    "def key_fun(**elements):\n",
    "    print(elements)\n",
    "\n",
    "key_fun(city='NY', age=20, greet ='gm')\n",
    "```\n"
   ]
  },
  {
   "cell_type": "code",
   "execution_count": 11,
   "metadata": {},
   "outputs": [
    {
     "name": "stdout",
     "output_type": "stream",
     "text": [
      "{'city': 'NY', 'age': 20, 'greet': 'gm'}\n"
     ]
    }
   ],
   "source": [
    "def key_fun(**elements):\n",
    "    print(elements)\n",
    "\n",
    "key_fun(city='NY', age=20, greet ='gm')"
   ]
  },
  {
   "cell_type": "markdown",
   "metadata": {},
   "source": [
    "#### 4. Create a Python function that accepts a variable number of arguments and calculates their sum."
   ]
  },
  {
   "cell_type": "code",
   "execution_count": 1,
   "metadata": {},
   "outputs": [
    {
     "name": "stdout",
     "output_type": "stream",
     "text": [
      "sum of elements is: 18\n"
     ]
    }
   ],
   "source": [
    "def summation(*elements):\n",
    "    return sum(elements)\n",
    "\n",
    "m = summation(1, 6, 2, 9, 0)\n",
    "print(f\"sum of elements is: {m}\")"
   ]
  },
  {
   "cell_type": "markdown",
   "metadata": {},
   "source": [
    "#### 5. What is the purpose of the `*args` and `**kwargs` syntax in function parameter lists?"
   ]
  },
  {
   "cell_type": "markdown",
   "metadata": {},
   "source": [
    "`*args` : used to pass the variable number of arguments. if we use *args in function defination, we are allowed to pass variable arguments in function call. \n",
    "\n",
    "`**kwargs` : used to pass the keyword argument(key-value pairs) in functions."
   ]
  },
  {
   "cell_type": "markdown",
   "metadata": {},
   "source": [
    "### Return Values and Scoping:"
   ]
  },
  {
   "cell_type": "markdown",
   "metadata": {},
   "source": [
    "#### 1. Describe the role of the `return` statement in Python functions and provide examples."
   ]
  },
  {
   "cell_type": "markdown",
   "metadata": {},
   "source": [
    "return: used to provide the output of the functions and it will be processed further in the program."
   ]
  },
  {
   "cell_type": "markdown",
   "metadata": {},
   "source": [
    "#### 2. Explain the concept of variable scope in Python, including local and global variables."
   ]
  },
  {
   "cell_type": "markdown",
   "metadata": {},
   "source": [
    "**variable scope**: It defines the accessibility of the varibles with in the program.  \n",
    "\n",
    "**local**: variables which can be accessed with the particular part of the program. example, variables defined in the functions.\n",
    "\n",
    "**global**: varibles which can be accessed any where in the program at anytime. "
   ]
  },
  {
   "cell_type": "markdown",
   "metadata": {},
   "source": [
    "#### 3. Write a Python program that demonstrates the use of global variables within functions."
   ]
  },
  {
   "cell_type": "code",
   "execution_count": 19,
   "metadata": {},
   "outputs": [
    {
     "name": "stdout",
     "output_type": "stream",
     "text": [
      "value inside the function: 10\n",
      "value of gloval_a outside function: 10\n"
     ]
    }
   ],
   "source": [
    "global_a = 10\n",
    "\n",
    "def greet():\n",
    "    print(f\"value inside the function: {global_a}\")\n",
    "\n",
    "greet()\n",
    "print(f\"value of gloval_a outside function: {global_a}\")"
   ]
  },
  {
   "cell_type": "markdown",
   "metadata": {},
   "source": [
    "#### 4. Create a Python function that calculates the factorial of a number and returns it."
   ]
  },
  {
   "cell_type": "code",
   "execution_count": 21,
   "metadata": {},
   "outputs": [
    {
     "data": {
      "text/plain": [
       "120"
      ]
     },
     "execution_count": 21,
     "metadata": {},
     "output_type": "execute_result"
    }
   ],
   "source": [
    "def fact(n):\n",
    "    fact = 1\n",
    "    if n <= 1:\n",
    "        return 1\n",
    "    for i in range(1, n+1):\n",
    "        fact = fact * i\n",
    "\n",
    "    return fact\n",
    "\n",
    "fact(5)"
   ]
  },
  {
   "cell_type": "markdown",
   "metadata": {},
   "source": [
    "## Lambda Functions and Higher-Order Functions"
   ]
  },
  {
   "cell_type": "markdown",
   "metadata": {},
   "source": [
    "#### 1. What are lambda functions in Python, and when are they typically used?"
   ]
  },
  {
   "cell_type": "markdown",
   "metadata": {},
   "source": [
    "lambda is small or anonymous function which is used to perform small operation on any iterables, typically no need to define function seperately. "
   ]
  },
  {
   "cell_type": "markdown",
   "metadata": {},
   "source": [
    "#### 2. Write a Python program that uses lambda functions to sort a list of tuples based on the second element."
   ]
  },
  {
   "cell_type": "code",
   "execution_count": null,
   "metadata": {},
   "outputs": [],
   "source": [
    "list_of_tuples = [(4, 3, 5), (8, 3, 243), (823, 63, 6)]\n",
    "\n",
    "def sort_tuples(x):\n",
    "    for i, j in range(len(list_of_tuples)):\n",
    "        if list_of_tuples[i][1] < "
   ]
  },
  {
   "cell_type": "markdown",
   "metadata": {},
   "source": [
    "#### 3. Explain the concept of higher-order functions in Python, and provide an example."
   ]
  },
  {
   "cell_type": "markdown",
   "metadata": {},
   "source": [
    "function which can accepts other funcions as arguments and can return result as function is called higher order functions\n",
    "\n",
    "Example:\n",
    "```python\n",
    "def multiply(get_num, a, b):\n",
    "    s = get_num(x, y)\n",
    "    return s\n",
    "\n",
    "def get_num(l):\n",
    "    for i in l:\n",
    "        return i\n",
    "```"
   ]
  },
  {
   "cell_type": "code",
   "execution_count": 91,
   "metadata": {},
   "outputs": [
    {
     "data": {
      "text/plain": [
       "3"
      ]
     },
     "execution_count": 91,
     "metadata": {},
     "output_type": "execute_result"
    }
   ],
   "source": [
    "def multiply(sum_n, x):\n",
    "    return sum_n(x)\n",
    "\n",
    "def sum_num(l):\n",
    "    return max(l)\n",
    "\n",
    "multiply(sum_num, [1,2,3])"
   ]
  },
  {
   "cell_type": "markdown",
   "metadata": {},
   "source": [
    "#### 4. Create a Python function that takes a list of numbers and a function as arguments, applying the function to each element in the list.\n"
   ]
  },
  {
   "cell_type": "code",
   "execution_count": 5,
   "metadata": {},
   "outputs": [
    {
     "data": {
      "text/plain": [
       "[2, 10, 54]"
      ]
     },
     "execution_count": 5,
     "metadata": {},
     "output_type": "execute_result"
    }
   ],
   "source": [
    "l = [5, 2, 7, 3, 10, 54]\n",
    "\n",
    "def even_number(l):\n",
    "    list_e = []\n",
    "    for e in l:\n",
    "        if e % 2 == 0:\n",
    "            list_e.append(e)\n",
    "    return list_e\n",
    "    \n",
    "en = lambda x: even_number(x)\n",
    "en(l)"
   ]
  },
  {
   "cell_type": "markdown",
   "metadata": {},
   "source": [
    "## Built-in Functions"
   ]
  },
  {
   "cell_type": "markdown",
   "metadata": {},
   "source": [
    "#### 1. Describe the role of built-in functions like `len()`, `max()`, and `min()` in Python"
   ]
  },
  {
   "cell_type": "markdown",
   "metadata": {},
   "source": [
    "len() - returns the length of the any iterables.\n",
    "max() - returns maximum value of a iterable.\n",
    "min() - returns minumum value of a iterable."
   ]
  },
  {
   "cell_type": "markdown",
   "metadata": {},
   "source": [
    "#### 2. Write a Python program that uses the `map()` function to apply a function to each element of a list.\n"
   ]
  },
  {
   "cell_type": "code",
   "execution_count": 8,
   "metadata": {},
   "outputs": [
    {
     "name": "stdout",
     "output_type": "stream",
     "text": [
      "list of squares: [1, 4, 9, 16, 25]\n"
     ]
    }
   ],
   "source": [
    "l = [1, 2, 3, 4, 5]\n",
    "\n",
    "def square(x):\n",
    "    return x**2\n",
    "\n",
    "l_sq = list(map(square, l))\n",
    "print(f\"list of squares: {l_sq}\")"
   ]
  },
  {
   "cell_type": "markdown",
   "metadata": {},
   "source": [
    "#### 3. How does the `filter()` function work in Python, and when would you use it?"
   ]
  },
  {
   "cell_type": "markdown",
   "metadata": {},
   "source": [
    "filter() - function takes two arguments (function and iterable). Apply function on each and every element of the iterable and returns when condition is true"
   ]
  },
  {
   "cell_type": "code",
   "execution_count": 12,
   "metadata": {},
   "outputs": [
    {
     "name": "stdout",
     "output_type": "stream",
     "text": [
      "strings greate than 3: ['skills', 'English']\n"
     ]
    }
   ],
   "source": [
    "l = ['pw', 'skills', 'English', 'c']\n",
    "\n",
    "def check_len(i):\n",
    "    if len(i) >=3:\n",
    "        return i\n",
    "\n",
    "list_length = list(filter(check_len, l))\n",
    "print(f\"strings greate than 3: {list_length}\")"
   ]
  },
  {
   "cell_type": "markdown",
   "metadata": {},
   "source": [
    "#### 4. Create a Python program that uses the `reduce()` function to find the product of all elements in a list."
   ]
  },
  {
   "cell_type": "code",
   "execution_count": 16,
   "metadata": {},
   "outputs": [
    {
     "name": "stdout",
     "output_type": "stream",
     "text": [
      "product of values: 120\n"
     ]
    }
   ],
   "source": [
    "from functools import reduce\n",
    "def mul(a, b):\n",
    "    return a*b\n",
    "\n",
    "ls = [3, 2, 4, 5]\n",
    "\n",
    "product = reduce(mul, ls)\n",
    "print(f\"product of values: {product}\")"
   ]
  },
  {
   "cell_type": "markdown",
   "metadata": {},
   "source": [
    "## Function Documentation and Best Practices:\n"
   ]
  },
  {
   "cell_type": "markdown",
   "metadata": {},
   "source": [
    "#### 1. Explain the purpose of docstrings in Python functions and how to write them."
   ]
  },
  {
   "cell_type": "markdown",
   "metadata": {},
   "source": [
    "docstring explain the general information about the function and what it does.\n",
    "\n",
    "docstring is within the triple quotes, It contains description of the function, details about the function parameters and return statement\n",
    "\n",
    "example\n",
    "\n",
    "```python\n",
    "'''\n",
    "Description: \n",
    "    To perform some task\n",
    "\n",
    "Parameters:\n",
    "    a int : number1\n",
    "    b int : numner2\n",
    "\n",
    "return:\n",
    "    result of task\n",
    "'''\n",
    "```"
   ]
  },
  {
   "cell_type": "markdown",
   "metadata": {},
   "source": [
    "#### 2. Describe some best practices for naming functions and variables in python, including naming conventions and guidelines"
   ]
  },
  {
   "cell_type": "markdown",
   "metadata": {},
   "source": [
    "Function naming best practices:\n",
    "\n",
    "1. function name should be meaningfull and descritive, avoid shortnames\n",
    "2. maintain function names in lowercase and words are separated by underscore.\n",
    "3. use upper case for constant variable\n",
    "4. use lowercase and descriptive names for variables\n",
    "\n"
   ]
  }
 ],
 "metadata": {
  "kernelspec": {
   "display_name": "Python 3.8.10 64-bit",
   "language": "python",
   "name": "python3"
  },
  "language_info": {
   "codemirror_mode": {
    "name": "ipython",
    "version": 3
   },
   "file_extension": ".py",
   "mimetype": "text/x-python",
   "name": "python",
   "nbconvert_exporter": "python",
   "pygments_lexer": "ipython3",
   "version": "3.8.10"
  },
  "orig_nbformat": 4,
  "vscode": {
   "interpreter": {
    "hash": "e7370f93d1d0cde622a1f8e1c04877d8463912d04d973331ad4851f04de6915a"
   }
  }
 },
 "nbformat": 4,
 "nbformat_minor": 2
}
