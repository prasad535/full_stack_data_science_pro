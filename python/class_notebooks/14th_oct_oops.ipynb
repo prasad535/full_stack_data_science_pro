{
 "cells": [
  {
   "cell_type": "code",
   "execution_count": 3,
   "metadata": {},
   "outputs": [],
   "source": [
    "class pwskills:\n",
    "\n",
    "    def __init__(self, mentor):\n",
    "        self.mentor = mentor\n",
    "\n",
    "    def mentor_name(self):\n",
    "        print(self.mentor)\n",
    "\n",
    "class datasciece(pwskills):\n",
    "\n",
    "    def __init__(self, mentor, mentor_mail_id):\n",
    "        self.mentor = mentor\n",
    "        self.mentor_mail_id = mentor_mail_id\n",
    "\n",
    "    def show_info(self):\n",
    "        print(self.mentor)\n",
    "        print(self.mentor_mail_id)\n"
   ]
  },
  {
   "cell_type": "code",
   "execution_count": 4,
   "metadata": {},
   "outputs": [],
   "source": [
    "python_basic = datasciece('sudh', 'sudh@gmail,com')"
   ]
  },
  {
   "cell_type": "code",
   "execution_count": 5,
   "metadata": {},
   "outputs": [
    {
     "name": "stdout",
     "output_type": "stream",
     "text": [
      "sudh\n",
      "sudh@gmail,com\n"
     ]
    }
   ],
   "source": [
    "python_basic.show_info()"
   ]
  },
  {
   "cell_type": "code",
   "execution_count": 6,
   "metadata": {},
   "outputs": [
    {
     "name": "stdout",
     "output_type": "stream",
     "text": [
      "sudh\n"
     ]
    }
   ],
   "source": [
    "python_basic.mentor_name()"
   ]
  },
  {
   "cell_type": "code",
   "execution_count": 7,
   "metadata": {},
   "outputs": [],
   "source": [
    "class pwskills:\n",
    "\n",
    "    def __init__(self, mentor):\n",
    "        self.mentor = mentor\n",
    "\n",
    "    def mentor_name(self):\n",
    "        print(self.mentor)\n",
    "\n",
    "class datasciece(pwskills):\n",
    "\n",
    "    def __init__(self, mentor, mentor_mail_id):\n",
    "        # self.mentor = mentor\n",
    "        super().__init__(mentor)\n",
    "        self.mentor_mail_id = mentor_mail_id\n",
    "\n",
    "    def show_info(self):\n",
    "        print(self.mentor)\n",
    "        print(self.mentor_mail_id)\n"
   ]
  },
  {
   "cell_type": "code",
   "execution_count": 9,
   "metadata": {},
   "outputs": [],
   "source": [
    "python_basic2 = datasciece('krish', 'kn@gmail.com')"
   ]
  },
  {
   "cell_type": "code",
   "execution_count": 11,
   "metadata": {},
   "outputs": [
    {
     "name": "stdout",
     "output_type": "stream",
     "text": [
      "krish\n",
      "kn@gmail.com\n"
     ]
    }
   ],
   "source": [
    "python_basic2.show_info()"
   ]
  },
  {
   "cell_type": "code",
   "execution_count": 12,
   "metadata": {},
   "outputs": [
    {
     "name": "stdout",
     "output_type": "stream",
     "text": [
      "krish\n"
     ]
    }
   ],
   "source": [
    "python_basic2.mentor_name()"
   ]
  },
  {
   "cell_type": "code",
   "execution_count": 17,
   "metadata": {},
   "outputs": [],
   "source": [
    "class human:\n",
    "\n",
    "    def __init__(self):\n",
    "        pass\n",
    "\n",
    "    def eat(self):\n",
    "        # pass\n",
    "        print(\"prine eat method from human class\")"
   ]
  },
  {
   "cell_type": "code",
   "execution_count": 22,
   "metadata": {},
   "outputs": [],
   "source": [
    "class male(human):\n",
    "    \n",
    "    def __init__(self, name):\n",
    "        self.name = name\n",
    "\n",
    "    def  eat(self):\n",
    "        super().eat()\n",
    "        print(self.name)\n",
    "    "
   ]
  },
  {
   "cell_type": "code",
   "execution_count": 23,
   "metadata": {},
   "outputs": [],
   "source": [
    "sudh = male('Sudhansh')"
   ]
  },
  {
   "cell_type": "code",
   "execution_count": 24,
   "metadata": {},
   "outputs": [
    {
     "name": "stdout",
     "output_type": "stream",
     "text": [
      "prine eat method from human class\n",
      "Sudhansh\n"
     ]
    }
   ],
   "source": [
    "sudh.eat()"
   ]
  },
  {
   "cell_type": "code",
   "execution_count": 31,
   "metadata": {},
   "outputs": [],
   "source": [
    "# destructor \n",
    "\n",
    "class fileopener:\n",
    "\n",
    "    def __init__(self, filename):\n",
    "        self.filname = filename\n",
    "    \n",
    "    def open_file(self):\n",
    "        print(\"this will open the file\", self.filname)\n",
    "\n",
    "    def __del__(self):\n",
    "        # automatically call\n",
    "        print(\"close by file\")"
   ]
  },
  {
   "cell_type": "code",
   "execution_count": 32,
   "metadata": {},
   "outputs": [],
   "source": [
    "f = fileopener('doubts.txt')"
   ]
  },
  {
   "cell_type": "code",
   "execution_count": 33,
   "metadata": {},
   "outputs": [
    {
     "name": "stdout",
     "output_type": "stream",
     "text": [
      "this will open the file doubts.txt\n"
     ]
    }
   ],
   "source": [
    "f.open_file()"
   ]
  },
  {
   "cell_type": "code",
   "execution_count": 53,
   "metadata": {},
   "outputs": [],
   "source": [
    "\n",
    "# dunder methods __init__, __del__ , __str__\n",
    "\n",
    "\n",
    "import time\n",
    "class timer:\n",
    "\n",
    "    def __init__(self):\n",
    "        self.start_time = time.time()\n",
    "\n",
    "    def task(self):\n",
    "        time_spent = time.time() - self.start_time\n",
    "        print(time_spent)\n",
    "\n",
    "    def __del__(self):\n",
    "        print(\"empty\")\n",
    "\n",
    "    def __str__(self):\n",
    "        return \"this is my class timer\"\n"
   ]
  },
  {
   "cell_type": "code",
   "execution_count": 48,
   "metadata": {},
   "outputs": [
    {
     "name": "stdout",
     "output_type": "stream",
     "text": [
      "empty\n"
     ]
    }
   ],
   "source": [
    "t = timer()"
   ]
  },
  {
   "cell_type": "code",
   "execution_count": 49,
   "metadata": {},
   "outputs": [
    {
     "name": "stdout",
     "output_type": "stream",
     "text": [
      "1.2243969440460205\n"
     ]
    }
   ],
   "source": [
    "t.task()"
   ]
  },
  {
   "cell_type": "code",
   "execution_count": 52,
   "metadata": {},
   "outputs": [
    {
     "name": "stdout",
     "output_type": "stream",
     "text": [
      "this is my class timer\n"
     ]
    }
   ],
   "source": [
    "print(t)"
   ]
  },
  {
   "cell_type": "markdown",
   "metadata": {},
   "source": [
    "# decorator"
   ]
  },
  {
   "cell_type": "code",
   "execution_count": 54,
   "metadata": {},
   "outputs": [],
   "source": [
    "def test(func):\n",
    "    def inner_test():\n",
    "        print(\"this is the start of my inner test\")\n",
    "        func()\n",
    "        print(\"this end of my inner test\")\n",
    "        \n",
    "    return inner_test\n",
    "\n",
    "\n",
    "@test \n",
    "def test1():\n",
    "    print(\"this is my first test\")"
   ]
  },
  {
   "cell_type": "code",
   "execution_count": 55,
   "metadata": {},
   "outputs": [
    {
     "name": "stdout",
     "output_type": "stream",
     "text": [
      "this is the start of my inner test\n",
      "this is my first test\n",
      "this end of my inner test\n"
     ]
    }
   ],
   "source": [
    "test1()"
   ]
  },
  {
   "cell_type": "code",
   "execution_count": 56,
   "metadata": {},
   "outputs": [],
   "source": [
    "\n",
    "def print_list(l):\n",
    "    for i in l:\n",
    "        print(i)"
   ]
  },
  {
   "cell_type": "code",
   "execution_count": 58,
   "metadata": {},
   "outputs": [],
   "source": [
    "def print_dict_key(d):\n",
    "    print(d.keys())"
   ]
  },
  {
   "cell_type": "markdown",
   "metadata": {},
   "source": [
    "problem statement - whenever i call above print i should always return excuetion time of function. we can hard code to calculate execution but same thing need to copy for all the functions which is not best way. instead will create decorator and use it"
   ]
  },
  {
   "cell_type": "code",
   "execution_count": 81,
   "metadata": {},
   "outputs": [],
   "source": [
    "def find_time(func):\n",
    "    def cal_time(*args):\n",
    "        start_time = time.time()\n",
    "        func(*args)\n",
    "        end_time = time.time()\n",
    "        total_time = end_time - start_time\n",
    "        return total_time\n",
    "\n",
    "    return cal_time"
   ]
  },
  {
   "cell_type": "code",
   "execution_count": 82,
   "metadata": {},
   "outputs": [],
   "source": [
    "@find_time\n",
    "def print_dict_key(d):\n",
    "    print(d.keys())"
   ]
  },
  {
   "cell_type": "code",
   "execution_count": 83,
   "metadata": {},
   "outputs": [
    {
     "name": "stdout",
     "output_type": "stream",
     "text": [
      "dict_keys(['name', 'age'])\n"
     ]
    },
    {
     "data": {
      "text/plain": [
       "5.817413330078125e-05"
      ]
     },
     "execution_count": 83,
     "metadata": {},
     "output_type": "execute_result"
    }
   ],
   "source": [
    "print_dict_key({'name':'Prasad', 'age':20})"
   ]
  },
  {
   "cell_type": "code",
   "execution_count": 84,
   "metadata": {},
   "outputs": [],
   "source": [
    "@find_time\n",
    "def print_list(l):\n",
    "    for i in l:\n",
    "        print(i)"
   ]
  },
  {
   "cell_type": "code",
   "execution_count": 85,
   "metadata": {},
   "outputs": [
    {
     "name": "stdout",
     "output_type": "stream",
     "text": [
      "3\n",
      "6\n",
      "26\n",
      "62\n"
     ]
    },
    {
     "data": {
      "text/plain": [
       "8.606910705566406e-05"
      ]
     },
     "execution_count": 85,
     "metadata": {},
     "output_type": "execute_result"
    }
   ],
   "source": [
    "print_list([3, 6, 26, 62])"
   ]
  },
  {
   "cell_type": "code",
   "execution_count": 89,
   "metadata": {},
   "outputs": [],
   "source": [
    "import logging\n",
    "\n",
    "def log(func):\n",
    "    def log_inner(*args):\n",
    "        logging.basicConfig(\n",
    "            filename= 'decorator_log.log', \n",
    "            level = logging.INFO, \n",
    "            format = '%(asctime)s - %(levelname)s - %(message)s'\n",
    "        )\n",
    "        logging.info(\"This is the a start of my func\")\n",
    "        func(*args)\n",
    "        logging.info(\"This is the end of my func\")\n",
    "    return log_inner"
   ]
  },
  {
   "cell_type": "code",
   "execution_count": 90,
   "metadata": {},
   "outputs": [],
   "source": [
    "@log\n",
    "def print_list(l):\n",
    "    for i in l:\n",
    "        print(i)"
   ]
  },
  {
   "cell_type": "code",
   "execution_count": 91,
   "metadata": {},
   "outputs": [
    {
     "name": "stdout",
     "output_type": "stream",
     "text": [
      "32\n",
      "dsadf\n",
      "523\n",
      "2352\n"
     ]
    }
   ],
   "source": [
    "print_list([32, 'dsadf', 523, 2352])"
   ]
  },
  {
   "cell_type": "code",
   "execution_count": 97,
   "metadata": {},
   "outputs": [],
   "source": [
    "@find_time\n",
    "@log\n",
    "def print_list(l):\n",
    "    for i in l:\n",
    "        print(i)"
   ]
  },
  {
   "cell_type": "code",
   "execution_count": 98,
   "metadata": {},
   "outputs": [
    {
     "name": "stdout",
     "output_type": "stream",
     "text": [
      "2, 32\n"
     ]
    },
    {
     "data": {
      "text/plain": [
       "0.0005180835723876953"
      ]
     },
     "execution_count": 98,
     "metadata": {},
     "output_type": "execute_result"
    }
   ],
   "source": [
    "print_list(['2, 32'])"
   ]
  },
  {
   "cell_type": "code",
   "execution_count": 99,
   "metadata": {},
   "outputs": [],
   "source": [
    "class prasad:\n",
    "\n",
    "    def __init__(self, subject):\n",
    "        self._subject = subject\n"
   ]
  },
  {
   "cell_type": "code",
   "execution_count": 100,
   "metadata": {},
   "outputs": [],
   "source": [
    "p1 = prasad('datascience')"
   ]
  },
  {
   "cell_type": "code",
   "execution_count": 104,
   "metadata": {},
   "outputs": [
    {
     "ename": "AttributeError",
     "evalue": "'prasad' object has no attribute 'subject'",
     "output_type": "error",
     "traceback": [
      "\u001b[0;31m---------------------------------------------------------------------------\u001b[0m",
      "\u001b[0;31mAttributeError\u001b[0m                            Traceback (most recent call last)",
      "Cell \u001b[0;32mIn[104], line 1\u001b[0m\n\u001b[0;32m----> 1\u001b[0m \u001b[43mp1\u001b[49m\u001b[38;5;241;43m.\u001b[39;49m\u001b[43msubject\u001b[49m\n",
      "\u001b[0;31mAttributeError\u001b[0m: 'prasad' object has no attribute 'subject'"
     ]
    }
   ],
   "source": [
    "p1.subject"
   ]
  },
  {
   "cell_type": "code",
   "execution_count": 103,
   "metadata": {},
   "outputs": [
    {
     "data": {
      "text/plain": [
       "'datascience'"
      ]
     },
     "execution_count": 103,
     "metadata": {},
     "output_type": "execute_result"
    }
   ],
   "source": [
    "p1._subject"
   ]
  },
  {
   "cell_type": "code",
   "execution_count": 105,
   "metadata": {},
   "outputs": [],
   "source": [
    "class prasad:\n",
    "\n",
    "    def __init__(self, subject):\n",
    "        self.__subject = subject"
   ]
  },
  {
   "cell_type": "code",
   "execution_count": 106,
   "metadata": {},
   "outputs": [],
   "source": [
    "p2 = prasad('maths')"
   ]
  },
  {
   "cell_type": "code",
   "execution_count": 107,
   "metadata": {},
   "outputs": [
    {
     "ename": "AttributeError",
     "evalue": "'prasad' object has no attribute '__subject'",
     "output_type": "error",
     "traceback": [
      "\u001b[0;31m---------------------------------------------------------------------------\u001b[0m",
      "\u001b[0;31mAttributeError\u001b[0m                            Traceback (most recent call last)",
      "Cell \u001b[0;32mIn[107], line 1\u001b[0m\n\u001b[0;32m----> 1\u001b[0m \u001b[43mp2\u001b[49m\u001b[38;5;241;43m.\u001b[39;49m\u001b[43m__subject\u001b[49m\n",
      "\u001b[0;31mAttributeError\u001b[0m: 'prasad' object has no attribute '__subject'"
     ]
    }
   ],
   "source": [
    "p2.__subject"
   ]
  },
  {
   "cell_type": "code",
   "execution_count": 110,
   "metadata": {},
   "outputs": [
    {
     "data": {
      "text/plain": [
       "'maths'"
      ]
     },
     "execution_count": 110,
     "metadata": {},
     "output_type": "execute_result"
    }
   ],
   "source": [
    "p2._prasad__subject             # only class and variable name otherwise dont know how to print"
   ]
  },
  {
   "cell_type": "code",
   "execution_count": 109,
   "metadata": {},
   "outputs": [],
   "source": [
    "# single underscore - protected\n",
    "# double underscore - private\n",
    "# no underscore - public"
   ]
  },
  {
   "cell_type": "code",
   "execution_count": 111,
   "metadata": {},
   "outputs": [],
   "source": [
    "p2._prasad__subject = 'mathematics'"
   ]
  },
  {
   "cell_type": "code",
   "execution_count": 112,
   "metadata": {},
   "outputs": [
    {
     "data": {
      "text/plain": [
       "'mathematics'"
      ]
     },
     "execution_count": 112,
     "metadata": {},
     "output_type": "execute_result"
    }
   ],
   "source": [
    "p2._prasad__subject"
   ]
  },
  {
   "cell_type": "code",
   "execution_count": 124,
   "metadata": {},
   "outputs": [],
   "source": [
    "class sudh:\n",
    "\n",
    "    def __init__(self, subject):\n",
    "        self.__subject = subject\n",
    "\n",
    "    @property\n",
    "    def subject1(self):\n",
    "        return self.__subject\n",
    "\n",
    "    @subject1.setter\n",
    "    def subject1(self, subject):\n",
    "        self.__subject = subject\n",
    "\n",
    "    @subject1.getter\n",
    "    def subject1(self):\n",
    "        return self.__subject"
   ]
  },
  {
   "cell_type": "code",
   "execution_count": 125,
   "metadata": {},
   "outputs": [],
   "source": [
    "s2 = sudh('data analytics')"
   ]
  },
  {
   "cell_type": "code",
   "execution_count": 126,
   "metadata": {},
   "outputs": [
    {
     "data": {
      "text/plain": [
       "'data analytics'"
      ]
     },
     "execution_count": 126,
     "metadata": {},
     "output_type": "execute_result"
    }
   ],
   "source": [
    "s2.subject1"
   ]
  },
  {
   "cell_type": "code",
   "execution_count": 127,
   "metadata": {},
   "outputs": [],
   "source": [
    "s2.subject1='Big data'"
   ]
  },
  {
   "cell_type": "code",
   "execution_count": 128,
   "metadata": {},
   "outputs": [
    {
     "data": {
      "text/plain": [
       "'Big data'"
      ]
     },
     "execution_count": 128,
     "metadata": {},
     "output_type": "execute_result"
    }
   ],
   "source": [
    "s2.subject1"
   ]
  },
  {
   "cell_type": "code",
   "execution_count": null,
   "metadata": {},
   "outputs": [],
   "source": []
  }
 ],
 "metadata": {
  "kernelspec": {
   "display_name": "Python 3.8.10 64-bit",
   "language": "python",
   "name": "python3"
  },
  "language_info": {
   "codemirror_mode": {
    "name": "ipython",
    "version": 3
   },
   "file_extension": ".py",
   "mimetype": "text/x-python",
   "name": "python",
   "nbconvert_exporter": "python",
   "pygments_lexer": "ipython3",
   "version": "3.8.10"
  },
  "orig_nbformat": 4,
  "vscode": {
   "interpreter": {
    "hash": "e7370f93d1d0cde622a1f8e1c04877d8463912d04d973331ad4851f04de6915a"
   }
  }
 },
 "nbformat": 4,
 "nbformat_minor": 2
}
