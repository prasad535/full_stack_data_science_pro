{
 "cells": [
  {
   "cell_type": "markdown",
   "metadata": {},
   "source": [
    "# ..contd OOPS"
   ]
  },
  {
   "cell_type": "code",
   "execution_count": 7,
   "metadata": {},
   "outputs": [],
   "source": [
    "# inheritence - inherit properties from super class\n",
    "\n",
    "class a:\n",
    "\n",
    "    def test(self):\n",
    "        print(\"this test method is part of class a\")\n",
    "\n",
    "    def test1(self):\n",
    "        print(\"this is test1 method is part of class a\")"
   ]
  },
  {
   "cell_type": "code",
   "execution_count": 8,
   "metadata": {},
   "outputs": [
    {
     "name": "stdout",
     "output_type": "stream",
     "text": [
      "this test method is part of class a\n"
     ]
    }
   ],
   "source": [
    "obj_a = a()\n",
    "obj_a.test()"
   ]
  },
  {
   "cell_type": "code",
   "execution_count": 9,
   "metadata": {},
   "outputs": [],
   "source": [
    "class b(a):\n",
    "\n",
    "    def test1b(self):\n",
    "        print(\"this is test method part of class b\")"
   ]
  },
  {
   "cell_type": "code",
   "execution_count": 10,
   "metadata": {},
   "outputs": [
    {
     "name": "stdout",
     "output_type": "stream",
     "text": [
      "this test method is part of class a\n"
     ]
    }
   ],
   "source": [
    "obj_b = b()\n",
    "obj_b.test()"
   ]
  },
  {
   "cell_type": "code",
   "execution_count": 11,
   "metadata": {},
   "outputs": [
    {
     "name": "stdout",
     "output_type": "stream",
     "text": [
      "this is test1 method is part of class a\n"
     ]
    }
   ],
   "source": [
    "obj_b.test1()"
   ]
  },
  {
   "cell_type": "code",
   "execution_count": 12,
   "metadata": {},
   "outputs": [
    {
     "name": "stdout",
     "output_type": "stream",
     "text": [
      "this is test method part of class b\n"
     ]
    }
   ],
   "source": [
    "obj_b.test1b()"
   ]
  },
  {
   "cell_type": "code",
   "execution_count": null,
   "metadata": {},
   "outputs": [],
   "source": []
  },
  {
   "cell_type": "code",
   "execution_count": 13,
   "metadata": {},
   "outputs": [],
   "source": [
    "class lecture:\n",
    "\n",
    "    def topic(self):\n",
    "        print(\"Today class, we are discussing anout Inheritance concept in oops\")\n",
    "\n",
    "    def timing(self):\n",
    "        print(\"Timing for todays class is 9AM IST\")\n",
    "\n",
    "    def end_time(self):\n",
    "        print(\"today i will try to end class bit early\")"
   ]
  },
  {
   "cell_type": "code",
   "execution_count": 14,
   "metadata": {},
   "outputs": [],
   "source": [
    "class student(lecture):\n",
    "\n",
    "    def student_details(self):\n",
    "        print(\"this class give you studen details\")"
   ]
  },
  {
   "cell_type": "code",
   "execution_count": 15,
   "metadata": {},
   "outputs": [],
   "source": [
    "naval = student()"
   ]
  },
  {
   "cell_type": "code",
   "execution_count": 17,
   "metadata": {},
   "outputs": [
    {
     "name": "stdout",
     "output_type": "stream",
     "text": [
      "Today class, we are discussing anout Inheritance concept in oops\n"
     ]
    }
   ],
   "source": [
    "naval.topic()"
   ]
  },
  {
   "cell_type": "code",
   "execution_count": 18,
   "metadata": {},
   "outputs": [
    {
     "name": "stdout",
     "output_type": "stream",
     "text": [
      "this class give you studen details\n"
     ]
    }
   ],
   "source": [
    "naval.student_details()"
   ]
  },
  {
   "cell_type": "code",
   "execution_count": 19,
   "metadata": {},
   "outputs": [],
   "source": [
    "satish = student()"
   ]
  },
  {
   "cell_type": "code",
   "execution_count": 20,
   "metadata": {},
   "outputs": [
    {
     "name": "stdout",
     "output_type": "stream",
     "text": [
      "Timing for todays class is 9AM IST\n"
     ]
    }
   ],
   "source": [
    "satish.timing()"
   ]
  },
  {
   "cell_type": "code",
   "execution_count": 24,
   "metadata": {},
   "outputs": [],
   "source": [
    "# Multi level inheritance : teacher -> student -> lecture\n",
    "class teacher(student):         \n",
    "\n",
    "    def details(self):\n",
    "        print(\"this will give detila about teacher\")"
   ]
  },
  {
   "cell_type": "code",
   "execution_count": 25,
   "metadata": {},
   "outputs": [],
   "source": [
    "sudh = teacher()"
   ]
  },
  {
   "cell_type": "code",
   "execution_count": 26,
   "metadata": {},
   "outputs": [
    {
     "name": "stdout",
     "output_type": "stream",
     "text": [
      "Timing for todays class is 9AM IST\n"
     ]
    }
   ],
   "source": [
    "sudh.timing()"
   ]
  },
  {
   "cell_type": "code",
   "execution_count": 27,
   "metadata": {},
   "outputs": [],
   "source": [
    "# copy of above lecture\n",
    "class lecture:\n",
    "\n",
    "    def topic(self):\n",
    "        print(\"Today class, we are discussing anout Inheritance concept in oops\")\n",
    "\n",
    "    def timing(self):\n",
    "        print(\"Timing for todays class is 9AM IST\")\n",
    "\n",
    "    def end_time(self):\n",
    "        print(\"today i will try to end class bit early\")"
   ]
  },
  {
   "cell_type": "code",
   "execution_count": 28,
   "metadata": {},
   "outputs": [],
   "source": [
    "# copy of student class without inherit lecture\n",
    "class student:\n",
    "\n",
    "    def student_details(self):\n",
    "        print(\"this class give you studen details\")"
   ]
  },
  {
   "cell_type": "code",
   "execution_count": 31,
   "metadata": {},
   "outputs": [],
   "source": [
    "# Multiple inheritance : teacher -> (student, lecture)\n",
    "class teacher(student, lecture):         \n",
    "\n",
    "    def details(self):\n",
    "        print(\"this will give detila about teacher\")"
   ]
  },
  {
   "cell_type": "code",
   "execution_count": 33,
   "metadata": {},
   "outputs": [],
   "source": [
    "krish = teacher()"
   ]
  },
  {
   "cell_type": "code",
   "execution_count": 34,
   "metadata": {},
   "outputs": [
    {
     "name": "stdout",
     "output_type": "stream",
     "text": [
      "today i will try to end class bit early\n"
     ]
    }
   ],
   "source": [
    "krish.end_time()"
   ]
  },
  {
   "cell_type": "code",
   "execution_count": 36,
   "metadata": {},
   "outputs": [],
   "source": [
    "# if same function in base class and child class\n",
    "\n",
    "# copy of above lecture\n",
    "class lecture:\n",
    "\n",
    "    def topic(self):\n",
    "        print(\"Today class, we are discussing anout Inheritance concept in oops\")\n",
    "\n",
    "    def timing(self):\n",
    "        print(\"Timing for todays class is 9AM IST\")\n",
    "\n",
    "    def end_time(self):\n",
    "        print(\"today i will try to end class bit early\")\n",
    "\n",
    "# copy of student class without inherit lecture\n",
    "class student:\n",
    "\n",
    "    def student_details(self):\n",
    "        print(\"this class give you studen details\")\n",
    "\n",
    "    # same function in lecture class also\n",
    "    def timing(self):\n",
    "        print(\"this is a timing frun a student class\")\n",
    "        \n",
    "class teacher(student, lecture):         \n",
    "\n",
    "    def details(self):\n",
    "        print(\"this will give detila about teacher\")"
   ]
  },
  {
   "cell_type": "code",
   "execution_count": 37,
   "metadata": {},
   "outputs": [],
   "source": [
    "imran = teacher()\n"
   ]
  },
  {
   "cell_type": "code",
   "execution_count": 38,
   "metadata": {},
   "outputs": [
    {
     "name": "stdout",
     "output_type": "stream",
     "text": [
      "this is a timing frun a student class\n"
     ]
    }
   ],
   "source": [
    "imran.timing()"
   ]
  },
  {
   "cell_type": "code",
   "execution_count": null,
   "metadata": {},
   "outputs": [],
   "source": [
    "# chaging the order of class      \n",
    "class teacher(student, lecture):         \n",
    "\n",
    "    def details(self):\n",
    "        print(\"this will give detila about teacher\")"
   ]
  }
 ],
 "metadata": {
  "kernelspec": {
   "display_name": "Python 3.8.10 64-bit",
   "language": "python",
   "name": "python3"
  },
  "language_info": {
   "codemirror_mode": {
    "name": "ipython",
    "version": 3
   },
   "file_extension": ".py",
   "mimetype": "text/x-python",
   "name": "python",
   "nbconvert_exporter": "python",
   "pygments_lexer": "ipython3",
   "version": "3.8.10"
  },
  "orig_nbformat": 4,
  "vscode": {
   "interpreter": {
    "hash": "e7370f93d1d0cde622a1f8e1c04877d8463912d04d973331ad4851f04de6915a"
   }
  }
 },
 "nbformat": 4,
 "nbformat_minor": 2
}
