{
 "cells": [
  {
   "cell_type": "code",
   "execution_count": 1,
   "metadata": {},
   "outputs": [
    {
     "ename": "SyntaxError",
     "evalue": "unexpected EOF while parsing (2786992977.py, line 4)",
     "output_type": "error",
     "traceback": [
      "\u001b[0;36m  Cell \u001b[0;32mIn[1], line 4\u001b[0;36m\u001b[0m\n\u001b[0;31m    if price <= 500:\u001b[0m\n\u001b[0m                    ^\u001b[0m\n\u001b[0;31mSyntaxError\u001b[0m\u001b[0;31m:\u001b[0m unexpected EOF while parsing\n"
     ]
    }
   ],
   "source": [
    "a = 500\n",
    "price = 450\n",
    "\n",
    "if price <= 500:"
   ]
  },
  {
   "cell_type": "code",
   "execution_count": 2,
   "metadata": {},
   "outputs": [],
   "source": [
    "a = 500\n",
    "price = 450\n",
    "\n",
    "if price <= 500:\n",
    "    pass"
   ]
  },
  {
   "cell_type": "code",
   "execution_count": 5,
   "metadata": {},
   "outputs": [
    {
     "ename": "IndentationError",
     "evalue": "expected an indented block (365469217.py, line 5)",
     "output_type": "error",
     "traceback": [
      "\u001b[0;36m  Cell \u001b[0;32mIn[5], line 5\u001b[0;36m\u001b[0m\n\u001b[0;31m    print(\"yes i will be able to buy\")\u001b[0m\n\u001b[0m    ^\u001b[0m\n\u001b[0;31mIndentationError\u001b[0m\u001b[0;31m:\u001b[0m expected an indented block\n"
     ]
    }
   ],
   "source": [
    "a = 500\n",
    "price = 450\n",
    "\n",
    "if price <= 500:\n",
    "print(\"yes i will be able to buy\")"
   ]
  },
  {
   "cell_type": "code",
   "execution_count": 6,
   "metadata": {},
   "outputs": [
    {
     "name": "stdout",
     "output_type": "stream",
     "text": [
      "yes i will be able to buy\n"
     ]
    }
   ],
   "source": [
    "a = 500\n",
    "price = 450\n",
    "\n",
    "if price <= 500:\n",
    "    print(\"yes i will be able to buy\")"
   ]
  },
  {
   "cell_type": "code",
   "execution_count": 7,
   "metadata": {},
   "outputs": [
    {
     "name": "stdout",
     "output_type": "stream",
     "text": [
      "I wont be able to buy\n"
     ]
    }
   ],
   "source": [
    "a = 500\n",
    "price = 850\n",
    "\n",
    "if price <= 500:\n",
    "    print(\"yes i will be able to buy\")\n",
    "else:\n",
    "    print(\"I wont be able to buy\")"
   ]
  },
  {
   "cell_type": "code",
   "execution_count": 8,
   "metadata": {},
   "outputs": [
    {
     "name": "stdout",
     "output_type": "stream",
     "text": [
      "I will try to buy shirt\n"
     ]
    }
   ],
   "source": [
    "a = 500\n",
    "shirt_price = 200\n",
    "pant_price = 500\n",
    "coat_price = 800\n",
    "\n",
    "if coat_price <= a:\n",
    "    print(\"I will truy to buy coat\")\n",
    "elif pant_price < 500:\n",
    "    print(\"I will try to buy pant\")\n",
    "elif shirt_price < 500:\n",
    "    print(\"I will try to buy shirt\")\n",
    "else:\n",
    "    print(\"I wont able able to buy\")"
   ]
  },
  {
   "cell_type": "code",
   "execution_count": 9,
   "metadata": {},
   "outputs": [
    {
     "name": "stdout",
     "output_type": "stream",
     "text": [
      "yes available under my budget\n"
     ]
    }
   ],
   "source": [
    "a = 500\n",
    "shirt_price = 200\n",
    "pant_price = 500\n",
    "coat_price = 800\n",
    "my_size = 'M'\n",
    "size_store = 'L'\n",
    "\n",
    "if coat_price <= a:\n",
    "    print(\"I will truy to buy coat\")\n",
    "elif pant_price < 500:\n",
    "    print(\"I will try to buy pant\")\n",
    "elif shirt_price < 500:\n",
    "    print(\"yes available under my budget\")\n",
    "    if my_size == size_store:\n",
    "        print(\"I will try to buy shirt\")\n",
    "else:\n",
    "    print(\"I wont able able to buy\")"
   ]
  },
  {
   "cell_type": "code",
   "execution_count": 10,
   "metadata": {},
   "outputs": [
    {
     "name": "stdout",
     "output_type": "stream",
     "text": [
      "yes available under my budget\n",
      "I will try to buy shirt\n"
     ]
    }
   ],
   "source": [
    "a = 500\n",
    "shirt_price = 200\n",
    "pant_price = 500\n",
    "coat_price = 800\n",
    "my_size = 'M'\n",
    "size_store = 'M'\n",
    "\n",
    "if coat_price <= a:\n",
    "    print(\"I will truy to buy coat\")\n",
    "elif pant_price < 500:\n",
    "    print(\"I will try to buy pant\")\n",
    "elif shirt_price < 500:\n",
    "    print(\"yes available under my budget\")\n",
    "    if my_size == size_store:\n",
    "        print(\"I will try to buy shirt\")\n",
    "else:\n",
    "    print(\"I wont able able to buy\")"
   ]
  },
  {
   "cell_type": "code",
   "execution_count": 11,
   "metadata": {},
   "outputs": [
    {
     "name": "stdout",
     "output_type": "stream",
     "text": [
      "yes available under my budget\n",
      "I will try to buy shirt\n"
     ]
    }
   ],
   "source": [
    "a = 500\n",
    "shirt_price = 200\n",
    "pant_price = 500\n",
    "coat_price = 800\n",
    "my_size = 'M'\n",
    "size_store = ['S', 'M', 'L', 'XL', 'XXL']\n",
    "\n",
    "if coat_price <= a:\n",
    "    print(\"I will truy to buy coat\")\n",
    "elif pant_price < 500:\n",
    "    print(\"I will try to buy pant\")\n",
    "elif shirt_price < 500:\n",
    "    print(\"yes available under my budget\")\n",
    "    if my_size in size_store:\n",
    "        print(\"I will try to buy shirt\")\n",
    "else:\n",
    "    print(\"I wont able able to buy\")"
   ]
  },
  {
   "cell_type": "code",
   "execution_count": 12,
   "metadata": {},
   "outputs": [
    {
     "data": {
      "text/plain": [
       "True"
      ]
     },
     "execution_count": 12,
     "metadata": {},
     "output_type": "execute_result"
    }
   ],
   "source": [
    "'M' in size_store"
   ]
  },
  {
   "cell_type": "code",
   "execution_count": 13,
   "metadata": {},
   "outputs": [
    {
     "data": {
      "text/plain": [
       "True"
      ]
     },
     "execution_count": 13,
     "metadata": {},
     "output_type": "execute_result"
    }
   ],
   "source": [
    "my_size in size_store"
   ]
  },
  {
   "cell_type": "code",
   "execution_count": 15,
   "metadata": {},
   "outputs": [
    {
     "name": "stdout",
     "output_type": "stream",
     "text": [
      "yes available under my budget\n",
      "My size not in available\n"
     ]
    }
   ],
   "source": [
    "a = 500\n",
    "shirt_price = 200\n",
    "pant_price = 500\n",
    "coat_price = 800\n",
    "my_size = 'M'\n",
    "size_store = ['S', 'L', 'XL', 'XXL']\n",
    "\n",
    "if coat_price <= a:\n",
    "    print(\"I will truy to buy coat\")\n",
    "elif pant_price < 500:\n",
    "    print(\"I will try to buy pant\")\n",
    "elif shirt_price < 500:\n",
    "    print(\"yes available under my budget\")\n",
    "    if my_size in size_store:\n",
    "        print(\"I will try to buy shirt\")\n",
    "    else:\n",
    "        print(\"My size not in available\")\n",
    "else:\n",
    "    print(\"I wont able able to buy\")"
   ]
  },
  {
   "cell_type": "code",
   "execution_count": 17,
   "metadata": {},
   "outputs": [
    {
     "name": "stdout",
     "output_type": "stream",
     "text": [
      "yes available under my budget\n",
      "I will try to buy shirt\n",
      "yes i will try to choose it\n"
     ]
    }
   ],
   "source": [
    "a = 500\n",
    "shirt_price = 200\n",
    "pant_price = 500\n",
    "coat_price = 800\n",
    "my_size = 'M'\n",
    "size_store = ['S', 'M','L', 'XL', 'XXL']\n",
    "my_fav_color = 'white'\n",
    "store_clr = ['white', 'red', 'blue', 'orange']\n",
    "\n",
    "if coat_price <= a:\n",
    "    print(\"I will truy to buy coat\")\n",
    "elif pant_price < 500:\n",
    "    print(\"I will try to buy pant\")\n",
    "elif shirt_price < 500:\n",
    "    print(\"yes available under my budget\")\n",
    "    if my_size in size_store:\n",
    "        print(\"I will try to buy shirt\")\n",
    "        if my_fav_color in store_clr:\n",
    "            print(\"yes i will try to choose it\")\n",
    "        else:\n",
    "            print(\"my fav clr is not available i will move to another store\")\n",
    "    else:\n",
    "        print(\"My size not in available\")\n",
    "else:\n",
    "    print(\"I wont able able to buy\")"
   ]
  },
  {
   "cell_type": "code",
   "execution_count": 18,
   "metadata": {},
   "outputs": [
    {
     "name": "stdout",
     "output_type": "stream",
     "text": [
      "I am happy to buy the course\n"
     ]
    }
   ],
   "source": [
    "course = ['DSA', 'DSM', 'JAVA', 'DA', 'Big Data']\n",
    "price = 20000\n",
    "mentor = 'sudhanshu kumar'\n",
    "\n",
    "if 'DSA' in course and price == 20000 and 'sudhanshu kumar' == mentor:\n",
    "    print(\"I am happy to buy the course\")\n",
    "else:\n",
    "    print(\"I am not happy to buy the course\")"
   ]
  },
  {
   "cell_type": "code",
   "execution_count": 19,
   "metadata": {},
   "outputs": [
    {
     "name": "stdout",
     "output_type": "stream",
     "text": [
      "I am not happy to buy the course\n"
     ]
    }
   ],
   "source": [
    "course = ['DSA', 'DSM', 'JAVA', 'DA', 'Big Data']\n",
    "price = 20000\n",
    "mentor = 'sudhanshu kumar'\n",
    "\n",
    "if 'DSA' in course and price == 10000 and 'sudhanshu kumar' == mentor:\n",
    "    print(\"I am happy to buy the course\")\n",
    "else:\n",
    "    print(\"I am not happy to buy the course\")"
   ]
  },
  {
   "cell_type": "code",
   "execution_count": 20,
   "metadata": {},
   "outputs": [
    {
     "name": "stdout",
     "output_type": "stream",
     "text": [
      "I will try to buy a course\n"
     ]
    }
   ],
   "source": [
    "course_price = 20000\n",
    "\n",
    "if 10000<= course_price <=20000:\n",
    "    print(\"I will try to buy a course\")\n",
    "else:\n",
    "    print(\"its out of my budget\")"
   ]
  },
  {
   "cell_type": "code",
   "execution_count": 21,
   "metadata": {},
   "outputs": [
    {
     "name": "stdout",
     "output_type": "stream",
     "text": [
      "you have logged in successfully\n"
     ]
    }
   ],
   "source": [
    "user_name = 'pras'\n",
    "password = 'pras@123'\n",
    "\n",
    "if user_name == input(\"Enter username\") and password == input(\"Enter password\"):\n",
    "    print(\"you have logged in successfully\")\n",
    "else:\n",
    "    print(\"enter correct username and password\")"
   ]
  },
  {
   "cell_type": "code",
   "execution_count": 24,
   "metadata": {},
   "outputs": [
    {
     "name": "stdout",
     "output_type": "stream",
     "text": [
      "yes you are a registed user\n",
      "otp is not correct, please enter again\n"
     ]
    }
   ],
   "source": [
    "mobile_no = 123456\n",
    "otp = 0000\n",
    "if mobile_no == int(input('Enter mobile number:')):\n",
    "    print(\"yes you are a registed user\")\n",
    "    if otp == int(input(\"enter otp that we have sent\")):\n",
    "        print(\"you have loggged in successfully\")\n",
    "    else:\n",
    "        print(\"otp is not correct, please enter again\")\n",
    "else:\n",
    "    print(\"you not entered valid mobile number\")\n"
   ]
  },
  {
   "cell_type": "code",
   "execution_count": 28,
   "metadata": {},
   "outputs": [
    {
     "name": "stdout",
     "output_type": "stream",
     "text": [
      "you not entered valid mobile number\n"
     ]
    }
   ],
   "source": [
    "mobile_nos = {123456, 465463,7434634,738346, 373548345}\n",
    "otp = 0000\n",
    "if int(input('Enter mobile number:')) in mobile_nos:\n",
    "    print(\"yes you are a registed user\")\n",
    "    if otp == int(input(\"enter otp that we have sent\")):\n",
    "        print(\"you have loggged in successfully\")\n",
    "    else:\n",
    "        print(\"otp is not correct, please enter again\")\n",
    "else:\n",
    "    print(\"you not entered valid mobile number\")\n"
   ]
  },
  {
   "cell_type": "code",
   "execution_count": 29,
   "metadata": {},
   "outputs": [
    {
     "name": "stdout",
     "output_type": "stream",
     "text": [
      "1\n",
      "2\n",
      "3\n",
      "4\n",
      "5\n",
      "6\n",
      "7\n",
      "8\n",
      "9\n"
     ]
    }
   ],
   "source": [
    "l = [1,2,3,4,5,6,7,8,9]\n",
    "\n",
    "for i in l:\n",
    "    print(i)"
   ]
  },
  {
   "cell_type": "code",
   "execution_count": 3,
   "metadata": {},
   "outputs": [],
   "source": [
    "mobiles = [234324, 4535,3634,63525,23634,6235435]\n",
    "stud_no = 234324\n",
    "\n",
    "for i in mobiles:\n",
    "    if i == mobiles:\n",
    "        print(\"your are registed user\")"
   ]
  },
  {
   "cell_type": "code",
   "execution_count": 4,
   "metadata": {},
   "outputs": [],
   "source": [
    "mobiles = [234324, 4535,3634,63525,23634,6235435]\n",
    "stud_no = 234324\n",
    "mobile_details = {'mobile': 234324, 'courses':['dsa', 'pythom']}\n",
    "\n",
    "for i in mobiles:\n",
    "    if i == mobiles:\n",
    "        print(\"your are registed user\")\n",
    "        if i == mobile_details['mobile']:\n",
    "            print(mobile)"
   ]
  },
  {
   "cell_type": "code",
   "execution_count": 2,
   "metadata": {},
   "outputs": [],
   "source": [
    "d = {'name':'prasad', 'courses':['DSA', 'Data Science', 'DA'], 'mobile':32447, 'email':'prasd@gmail.com'}"
   ]
  },
  {
   "cell_type": "code",
   "execution_count": 3,
   "metadata": {},
   "outputs": [
    {
     "data": {
      "text/plain": [
       "{'name': 'prasad',\n",
       " 'courses': ['DSA', 'Data Science', 'DA'],\n",
       " 'mobile': 32447,\n",
       " 'email': 'prasd@gmail.com'}"
      ]
     },
     "execution_count": 3,
     "metadata": {},
     "output_type": "execute_result"
    }
   ],
   "source": [
    "d"
   ]
  },
  {
   "cell_type": "code",
   "execution_count": 4,
   "metadata": {},
   "outputs": [
    {
     "data": {
      "text/plain": [
       "dict_keys(['name', 'courses', 'mobile', 'email'])"
      ]
     },
     "execution_count": 4,
     "metadata": {},
     "output_type": "execute_result"
    }
   ],
   "source": [
    "d.keys()"
   ]
  },
  {
   "cell_type": "code",
   "execution_count": 5,
   "metadata": {},
   "outputs": [
    {
     "data": {
      "text/plain": [
       "dict_values(['prasad', ['DSA', 'Data Science', 'DA'], 32447, 'prasd@gmail.com'])"
      ]
     },
     "execution_count": 5,
     "metadata": {},
     "output_type": "execute_result"
    }
   ],
   "source": [
    "d.values()"
   ]
  },
  {
   "cell_type": "code",
   "execution_count": 6,
   "metadata": {},
   "outputs": [
    {
     "name": "stdout",
     "output_type": "stream",
     "text": [
      "prasad\n",
      "['DSA', 'Data Science', 'DA']\n",
      "32447\n",
      "prasd@gmail.com\n"
     ]
    }
   ],
   "source": [
    "for i in d.values():\n",
    "    print(i)"
   ]
  },
  {
   "cell_type": "code",
   "execution_count": 7,
   "metadata": {},
   "outputs": [
    {
     "name": "stdout",
     "output_type": "stream",
     "text": [
      "yes this mentor teacg system design\n"
     ]
    }
   ],
   "source": [
    "for i in d.values():\n",
    "    if type(i) == list:\n",
    "        if 'DSA' in i:\n",
    "            print(\"yes this mentor teacg system design\")"
   ]
  },
  {
   "cell_type": "code",
   "execution_count": null,
   "metadata": {},
   "outputs": [],
   "source": []
  }
 ],
 "metadata": {
  "kernelspec": {
   "display_name": "Python 3.8.10 64-bit",
   "language": "python",
   "name": "python3"
  },
  "language_info": {
   "codemirror_mode": {
    "name": "ipython",
    "version": 3
   },
   "file_extension": ".py",
   "mimetype": "text/x-python",
   "name": "python",
   "nbconvert_exporter": "python",
   "pygments_lexer": "ipython3",
   "version": "3.8.10"
  },
  "orig_nbformat": 4,
  "vscode": {
   "interpreter": {
    "hash": "e7370f93d1d0cde622a1f8e1c04877d8463912d04d973331ad4851f04de6915a"
   }
  }
 },
 "nbformat": 4,
 "nbformat_minor": 2
}
