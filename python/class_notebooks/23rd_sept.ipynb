{
 "cells": [
  {
   "cell_type": "markdown",
   "metadata": {},
   "source": [
    "### while loop\n",
    "\n",
    "while - first, it check the condition then execute statements"
   ]
  },
  {
   "cell_type": "code",
   "execution_count": null,
   "metadata": {},
   "outputs": [],
   "source": [
    "while True:\n",
    "    print(\"This is my first while lop\")"
   ]
  },
  {
   "cell_type": "code",
   "execution_count": 3,
   "metadata": {},
   "outputs": [
    {
     "name": "stdout",
     "output_type": "stream",
     "text": [
      "10\n",
      "9\n",
      "8\n",
      "7\n",
      "6\n",
      "5\n",
      "4\n",
      "3\n",
      "2\n",
      "1\n"
     ]
    }
   ],
   "source": [
    "high = 10\n",
    "\n",
    "while high>=1:\n",
    "    print(high)\n",
    "    high -= 1"
   ]
  },
  {
   "cell_type": "code",
   "execution_count": 7,
   "metadata": {},
   "outputs": [
    {
     "name": "stdout",
     "output_type": "stream",
     "text": [
      "55\n"
     ]
    }
   ],
   "source": [
    "a = 0\n",
    "b = 10\n",
    "summation = 0\n",
    "while a <= b:\n",
    "    summation += a\n",
    "    a += 1\n",
    "\n",
    "print(summation)"
   ]
  },
  {
   "cell_type": "code",
   "execution_count": 10,
   "metadata": {},
   "outputs": [
    {
     "name": "stdout",
     "output_type": "stream",
     "text": [
      "3628800\n"
     ]
    }
   ],
   "source": [
    "a = 1\n",
    "b = 10\n",
    "multiplication = 1\n",
    "while a <= b:\n",
    "    multiplication *= a\n",
    "    a += 1\n",
    "\n",
    "print(multiplication)"
   ]
  },
  {
   "cell_type": "code",
   "execution_count": 14,
   "metadata": {},
   "outputs": [
    {
     "name": "stdout",
     "output_type": "stream",
     "text": [
      "19 * 1 = 19\n",
      "19 * 2 = 38\n",
      "19 * 3 = 57\n",
      "19 * 4 = 76\n",
      "19 * 5 = 95\n",
      "19 * 6 = 114\n",
      "19 * 7 = 133\n",
      "19 * 8 = 152\n",
      "19 * 9 = 171\n",
      "19 * 10 = 190\n"
     ]
    }
   ],
   "source": [
    "n = int(input(\"Enter a number which your looking table\"))\n",
    "i = 1\n",
    "while i <= 10:\n",
    "    # print(f\" {n} * {i} = {n*i}\")\n",
    "    product = n*i\n",
    "    print(n, '*', i, '=', product)\n",
    "    i += 1"
   ]
  },
  {
   "cell_type": "code",
   "execution_count": 1,
   "metadata": {},
   "outputs": [
    {
     "name": "stdout",
     "output_type": "stream",
     "text": [
      "5\n",
      "4\n",
      "3\n",
      "2\n",
      "1\n",
      "break time is over\n"
     ]
    }
   ],
   "source": [
    "import time\n",
    "\n",
    "a = 5\n",
    "\n",
    "while a > 0:\n",
    "    print(a)\n",
    "    time.sleep(1)\n",
    "    a -= 1\n",
    "\n",
    "print(\"break time is over\")"
   ]
  },
  {
   "cell_type": "code",
   "execution_count": 20,
   "metadata": {},
   "outputs": [
    {
     "name": "stdout",
     "output_type": "stream",
     "text": [
      "20\n",
      "your choice is coke\n",
      "12\n",
      "you have not entered the correct choice\n",
      "12\n",
      "your choice is chips\n",
      "7\n",
      "your choice is red bull\n",
      "you dont have enough money\n"
     ]
    }
   ],
   "source": [
    "money_in_hand = 20\n",
    "\n",
    "\n",
    "while money_in_hand >= 5:\n",
    "    print(money_in_hand)\n",
    "    choice = int(input(\"Enter your choice: 1. discuit, 2. chips, 3. red bull, 4. coke\"))\n",
    "    if choice ==1 :\n",
    "        print(\"your choice is biscuit\")\n",
    "        money_in_hand = money_in_hand - 4\n",
    "    elif choice ==2:\n",
    "        print(\"your choice is chips\")\n",
    "        money_in_hand = money_in_hand - 5\n",
    "    elif choice ==3:\n",
    "        print(\"your choice is red bull\")\n",
    "        money_in_hand = money_in_hand - 10\n",
    "    elif choice == 4:\n",
    "        print(\"your choice is coke\")\n",
    "        money_in_hand = money_in_hand - 8\n",
    "    else:\n",
    "        print(\"you have not entered the correct choice\")\n",
    "\n",
    "print(\"you dont have enough money\")"
   ]
  },
  {
   "cell_type": "code",
   "execution_count": 21,
   "metadata": {},
   "outputs": [
    {
     "name": "stdout",
     "output_type": "stream",
     "text": [
      "5\n",
      "4\n",
      "3\n"
     ]
    }
   ],
   "source": [
    "import time\n",
    "\n",
    "a = 5\n",
    "\n",
    "while a > 0:\n",
    "    print(a)\n",
    "    time.sleep(1)\n",
    "    if a == 3:\n",
    "        break\n",
    "    a -= 1"
   ]
  },
  {
   "cell_type": "code",
   "execution_count": 23,
   "metadata": {},
   "outputs": [
    {
     "name": "stdout",
     "output_type": "stream",
     "text": [
      "enter s to sop the timer\n",
      "enter s to sop the timer\n",
      "start the class break is over\n"
     ]
    }
   ],
   "source": [
    "import time\n",
    "stop = False\n",
    "\n",
    "while not stop:\n",
    "    print(\"enter s to sop the timer\")\n",
    "    time.sleep(1)\n",
    "    press_stop = input(\"input s for stop\")\n",
    "\n",
    "    if press_stop.lower() == 's':\n",
    "        stop = True\n",
    "\n",
    "print(\"start the class break is over\")\n"
   ]
  },
  {
   "cell_type": "code",
   "execution_count": 27,
   "metadata": {},
   "outputs": [
    {
     "name": "stdout",
     "output_type": "stream",
     "text": [
      "your account is locked\n"
     ]
    }
   ],
   "source": [
    "user_name = input(\"Enter user name\")\n",
    "pass_word = input(\"Enter password\")\n",
    "\n",
    "count = 0\n",
    "\n",
    "while count <=3:\n",
    "    if user_name == 'prasad' and pass_word == 'pass@123':\n",
    "        print(\"you have successfully logged in\")\n",
    "    else:\n",
    "        pass_word = input(\"Enter password again\")\n",
    "        count +=1\n",
    "    \n",
    "    if count == 3:\n",
    "        print(\"your account is locked\")\n"
   ]
  },
  {
   "cell_type": "code",
   "execution_count": 34,
   "metadata": {},
   "outputs": [
    {
     "name": "stdout",
     "output_type": "stream",
     "text": [
      "you have attemped maximum time sand your account is locked\n"
     ]
    }
   ],
   "source": [
    "user_id = 'prasad'\n",
    "password = '123456'\n",
    "counter = 1\n",
    "user_id_check = False\n",
    "\n",
    "userid = input(\"Enter user name\")\n",
    "while counter <= 3:\n",
    "    if userid == user_id:\n",
    "        user_id_check = True\n",
    "    else:\n",
    "        print(\"ypu user id incorrect\")\n",
    "    if user_id_check:\n",
    "        pwd = input(\"Enter your passowrd\")\n",
    "        if pwd == password:\n",
    "            print(\"you have logged in successfully\")\n",
    "            break\n",
    "        counter += 1\n",
    "\n",
    "if counter >3:\n",
    "    print(\"you have attemped maximum time sand your account is locked\")\n",
    "\n"
   ]
  },
  {
   "cell_type": "code",
   "execution_count": null,
   "metadata": {},
   "outputs": [],
   "source": []
  },
  {
   "cell_type": "code",
   "execution_count": 35,
   "metadata": {},
   "outputs": [],
   "source": [
    "def fact(n):\n",
    "    if n==0:\n",
    "        return 1\n",
    "    else:\n",
    "        return n*fact(n-1)"
   ]
  },
  {
   "cell_type": "code",
   "execution_count": 36,
   "metadata": {},
   "outputs": [
    {
     "data": {
      "text/plain": [
       "120"
      ]
     },
     "execution_count": 36,
     "metadata": {},
     "output_type": "execute_result"
    }
   ],
   "source": [
    "fact(5)"
   ]
  },
  {
   "cell_type": "code",
   "execution_count": 38,
   "metadata": {},
   "outputs": [],
   "source": [
    "def fib(n):\n",
    "    if n<= 1:\n",
    "        return n\n",
    "    else:\n",
    "        return fib(n-2)+fib(n-1)\n"
   ]
  },
  {
   "cell_type": "code",
   "execution_count": 39,
   "metadata": {},
   "outputs": [
    {
     "data": {
      "text/plain": [
       "55"
      ]
     },
     "execution_count": 39,
     "metadata": {},
     "output_type": "execute_result"
    }
   ],
   "source": [
    "fib(10)"
   ]
  },
  {
   "cell_type": "code",
   "execution_count": 41,
   "metadata": {},
   "outputs": [],
   "source": [
    "def get_sum(n):\n",
    "    s = 0\n",
    "    for digit in str(n):\n",
    "        s += int(digit)\n",
    "    return s\n"
   ]
  },
  {
   "cell_type": "code",
   "execution_count": 42,
   "metadata": {},
   "outputs": [
    {
     "data": {
      "text/plain": [
       "11"
      ]
     },
     "execution_count": 42,
     "metadata": {},
     "output_type": "execute_result"
    }
   ],
   "source": [
    "get_sum('2342')"
   ]
  },
  {
   "cell_type": "code",
   "execution_count": 43,
   "metadata": {},
   "outputs": [
    {
     "data": {
      "text/plain": [
       "<function sum(iterable, /, start=0)>"
      ]
     },
     "execution_count": 43,
     "metadata": {},
     "output_type": "execute_result"
    }
   ],
   "source": [
    "def sum_of_digit(n):\n",
    "    s = 0\n",
    "    while n!=0:\n",
    "        d = n%10\n",
    "        s +=d\n",
    "        n = n//10\n",
    "    return sum\n",
    "\n",
    "sum_of_digit(1232)"
   ]
  },
  {
   "cell_type": "code",
   "execution_count": null,
   "metadata": {},
   "outputs": [],
   "source": []
  }
 ],
 "metadata": {
  "kernelspec": {
   "display_name": "Python 3.8.10 64-bit",
   "language": "python",
   "name": "python3"
  },
  "language_info": {
   "codemirror_mode": {
    "name": "ipython",
    "version": 3
   },
   "file_extension": ".py",
   "mimetype": "text/x-python",
   "name": "python",
   "nbconvert_exporter": "python",
   "pygments_lexer": "ipython3",
   "version": "3.8.10"
  },
  "orig_nbformat": 4,
  "vscode": {
   "interpreter": {
    "hash": "e7370f93d1d0cde622a1f8e1c04877d8463912d04d973331ad4851f04de6915a"
   }
  }
 },
 "nbformat": 4,
 "nbformat_minor": 2
}
