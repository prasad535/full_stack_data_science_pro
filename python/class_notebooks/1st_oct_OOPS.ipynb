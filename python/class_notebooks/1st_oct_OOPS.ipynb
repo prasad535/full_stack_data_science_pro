{
 "cells": [
  {
   "cell_type": "markdown",
   "metadata": {},
   "source": [
    "# Object Oriented Programming"
   ]
  },
  {
   "cell_type": "markdown",
   "metadata": {},
   "source": [
    "class - classification of real world entity\n",
    "\n",
    "object - a variable of the class or different instance of classes"
   ]
  },
  {
   "cell_type": "code",
   "execution_count": 2,
   "metadata": {},
   "outputs": [],
   "source": [
    "class bankaccount:\n",
    "\n",
    "    def openaccount(self, name, email_id):\n",
    "        print(\"open an account by taking name mail id\")\n",
    "        return name + email_id\n",
    "\n",
    "    def deposit(Self, amount):\n",
    "        print(\"I am trying to deposite an amoiny in my account\")\n",
    "\n",
    "    def withdraw(self, amt_with):\n",
    "        print(\"withdraw the amount\")\n",
    "\n",
    "    def update_details(self, name_update, email_update):\n",
    "        print(\"this function will update my name and mail it for account\")\n",
    "        "
   ]
  },
  {
   "cell_type": "code",
   "execution_count": 3,
   "metadata": {},
   "outputs": [],
   "source": [
    "pras = bankaccount()"
   ]
  },
  {
   "cell_type": "code",
   "execution_count": 4,
   "metadata": {},
   "outputs": [
    {
     "name": "stdout",
     "output_type": "stream",
     "text": [
      "open an account by taking name mail id\n"
     ]
    },
    {
     "data": {
      "text/plain": [
       "'Prasadprasad@gmail.com'"
      ]
     },
     "execution_count": 4,
     "metadata": {},
     "output_type": "execute_result"
    }
   ],
   "source": [
    "pras.openaccount(\"Prasad\", \"prasad@gmail.com\")"
   ]
  },
  {
   "cell_type": "code",
   "execution_count": 9,
   "metadata": {},
   "outputs": [],
   "source": [
    "class list_ops:\n",
    "\n",
    "    def extractfromindex(self, l, index):\n",
    "        return l[index]\n",
    "\n",
    "    def extractrangedata(self, l, start, end):\n",
    "        return l[start:end]\n",
    "\n",
    "    def even(self, l):\n",
    "        l1 = []\n",
    "        for i in l:\n",
    "            if i % 2 == 0:\n",
    "                l1.append(i)\n",
    "        return l1"
   ]
  },
  {
   "cell_type": "code",
   "execution_count": 10,
   "metadata": {},
   "outputs": [],
   "source": [
    "list_obj = list_ops()"
   ]
  },
  {
   "cell_type": "code",
   "execution_count": 11,
   "metadata": {},
   "outputs": [
    {
     "data": {
      "text/plain": [
       "4"
      ]
     },
     "execution_count": 11,
     "metadata": {},
     "output_type": "execute_result"
    }
   ],
   "source": [
    "list_obj.extractfromindex([4,7,9,0], 0)"
   ]
  },
  {
   "cell_type": "code",
   "execution_count": 13,
   "metadata": {},
   "outputs": [
    {
     "data": {
      "text/plain": [
       "[2, 3, 4, 56]"
      ]
     },
     "execution_count": 13,
     "metadata": {},
     "output_type": "execute_result"
    }
   ],
   "source": [
    "list_obj.extractrangedata([2,3,4,56,7,8,89], 0, 4)"
   ]
  },
  {
   "cell_type": "code",
   "execution_count": 14,
   "metadata": {},
   "outputs": [
    {
     "data": {
      "text/plain": [
       "[4, 6]"
      ]
     },
     "execution_count": 14,
     "metadata": {},
     "output_type": "execute_result"
    }
   ],
   "source": [
    "list_obj.even([3,4,5,6])"
   ]
  },
  {
   "cell_type": "code",
   "execution_count": 18,
   "metadata": {},
   "outputs": [],
   "source": [
    "class list_ops:\n",
    "\n",
    "    a = 10\n",
    "    l = [52,6,62, 62, 6]\n",
    "\n",
    "    def extractfromindex(self, l, index):\n",
    "        return l[index]\n",
    "\n",
    "    def extractrangedata(self, l, start, end):\n",
    "        return l[start:end]\n",
    "\n",
    "    def even(self, l):\n",
    "        l1 = []\n",
    "        for i in l:\n",
    "            if i % 2 == 0:\n",
    "                l1.append(i)\n",
    "        return l1"
   ]
  },
  {
   "cell_type": "code",
   "execution_count": 19,
   "metadata": {},
   "outputs": [],
   "source": [
    "sec_obj = list_ops()"
   ]
  },
  {
   "cell_type": "code",
   "execution_count": 20,
   "metadata": {},
   "outputs": [
    {
     "data": {
      "text/plain": [
       "10"
      ]
     },
     "execution_count": 20,
     "metadata": {},
     "output_type": "execute_result"
    }
   ],
   "source": [
    "sec_obj.a"
   ]
  },
  {
   "cell_type": "code",
   "execution_count": 21,
   "metadata": {},
   "outputs": [
    {
     "data": {
      "text/plain": [
       "[52, 6, 62, 62, 6]"
      ]
     },
     "execution_count": 21,
     "metadata": {},
     "output_type": "execute_result"
    }
   ],
   "source": [
    "sec_obj.l"
   ]
  },
  {
   "cell_type": "code",
   "execution_count": 22,
   "metadata": {},
   "outputs": [
    {
     "data": {
      "text/plain": [
       "[52, 6, 62, 62, 6]"
      ]
     },
     "execution_count": 22,
     "metadata": {},
     "output_type": "execute_result"
    }
   ],
   "source": [
    "sec_obj.even(sec_obj.l)"
   ]
  },
  {
   "cell_type": "code",
   "execution_count": 25,
   "metadata": {},
   "outputs": [
    {
     "data": {
      "text/plain": [
       "[52, 6, 62, 62, 6]"
      ]
     },
     "execution_count": 25,
     "metadata": {},
     "output_type": "execute_result"
    }
   ],
   "source": [
    "t_obj = list_ops()\n",
    "t_obj.l"
   ]
  },
  {
   "cell_type": "code",
   "execution_count": 24,
   "metadata": {},
   "outputs": [
    {
     "data": {
      "text/plain": [
       "[52, 6, 62, 62, 6]"
      ]
     },
     "execution_count": 24,
     "metadata": {},
     "output_type": "execute_result"
    }
   ],
   "source": [
    "third_obj = list_ops()\n",
    "third_obj.l"
   ]
  },
  {
   "cell_type": "code",
   "execution_count": null,
   "metadata": {},
   "outputs": [],
   "source": []
  },
  {
   "cell_type": "code",
   "execution_count": 26,
   "metadata": {},
   "outputs": [],
   "source": [
    "class list_ops:\n",
    "\n",
    "    # a = 10\n",
    "    # l = [52,6,62, 62, 6]\n",
    "\n",
    "    def __init__(self, l):\n",
    "        self.l = l\n",
    "\n",
    "    def extractfromindex(self, l, index):\n",
    "        return l[index]\n",
    "\n",
    "    def extractrangedata(self, l, start, end):\n",
    "        return l[start:end]\n",
    "\n",
    "    def even(self, l):\n",
    "        l1 = []\n",
    "        for i in l:\n",
    "            if i % 2 == 0:\n",
    "                l1.append(i)\n",
    "        return l1"
   ]
  },
  {
   "cell_type": "code",
   "execution_count": 29,
   "metadata": {},
   "outputs": [
    {
     "ename": "TypeError",
     "evalue": "__init__() missing 1 required positional argument: 'l'",
     "output_type": "error",
     "traceback": [
      "\u001b[0;31m---------------------------------------------------------------------------\u001b[0m",
      "\u001b[0;31mTypeError\u001b[0m                                 Traceback (most recent call last)",
      "Cell \u001b[0;32mIn[29], line 1\u001b[0m\n\u001b[0;32m----> 1\u001b[0m four_obj \u001b[38;5;241m=\u001b[39m \u001b[43mlist_ops\u001b[49m\u001b[43m(\u001b[49m\u001b[43m)\u001b[49m\n",
      "\u001b[0;31mTypeError\u001b[0m: __init__() missing 1 required positional argument: 'l'"
     ]
    }
   ],
   "source": [
    "four_obj = list_ops()"
   ]
  },
  {
   "cell_type": "code",
   "execution_count": 30,
   "metadata": {},
   "outputs": [],
   "source": [
    "four_obj = list_ops([7, 874, 0, 1])"
   ]
  },
  {
   "cell_type": "code",
   "execution_count": 33,
   "metadata": {},
   "outputs": [],
   "source": [
    "class book:\n",
    "\n",
    "    def __init__(self, name, title, pageno):\n",
    "        self.name_of_book = name\n",
    "        self.title_of_book = title\n",
    "        self.page_no = pageno\n",
    "\n",
    "    def extract_details(self):\n",
    "        print(self.name_of_book, self.title_of_book)\n",
    "\n",
    "    def print_page_no(self):\n",
    "        print(self.page_no)"
   ]
  },
  {
   "cell_type": "code",
   "execution_count": 35,
   "metadata": {},
   "outputs": [],
   "source": [
    "prasad = book('DSA', 'pracical DSA', 456)\n",
    "ronik = book('data science', 'Imp of Data science', 435)\n",
    "wasim = book('big data', 'ivention with big data', 75)"
   ]
  },
  {
   "cell_type": "code",
   "execution_count": 36,
   "metadata": {},
   "outputs": [
    {
     "name": "stdout",
     "output_type": "stream",
     "text": [
      "DSA pracical DSA\n"
     ]
    }
   ],
   "source": [
    "prasad.extract_details()"
   ]
  },
  {
   "cell_type": "code",
   "execution_count": 37,
   "metadata": {},
   "outputs": [
    {
     "name": "stdout",
     "output_type": "stream",
     "text": [
      "435\n"
     ]
    }
   ],
   "source": [
    "ronik.print_page_no()"
   ]
  },
  {
   "cell_type": "code",
   "execution_count": 38,
   "metadata": {},
   "outputs": [],
   "source": [
    "class gmail_ops:\n",
    "\n",
    "    def __init__(self, userid, password):\n",
    "        self.userid = userid\n",
    "        self.password = password\n",
    "        self.url = \"htpps://google.com\"\n",
    "\n",
    "    def login(self):\n",
    "        print(\"take userid\" + self.userid + \"take password\" + self.password + \"hit url\" + self.url)\n",
    "        print(\"login\")\n",
    "\n",
    "    def read_mail(self):\n",
    "        print(\"read mail for\" + self.userid + \" \" + self.password)\n",
    "\n",
    "    def reply_mail(self):\n",
    "        print(\"reply mail for\" + self.userid + \" \" + self.password)"
   ]
  },
  {
   "cell_type": "code",
   "execution_count": 40,
   "metadata": {},
   "outputs": [
    {
     "name": "stdout",
     "output_type": "stream",
     "text": [
      "take useriduser1take passworduser1passhit urlhtpps://google.com\n",
      "login\n"
     ]
    }
   ],
   "source": [
    "user1 = gmail_ops(\"user1\", \"user1pass\")\n",
    "user1.login()"
   ]
  },
  {
   "cell_type": "code",
   "execution_count": 45,
   "metadata": {},
   "outputs": [],
   "source": [
    "class calculator:\n",
    "\n",
    "    def add(self, *args):\n",
    "        return sum(args)\n",
    "\n",
    "    def subtraction(self, *args):\n",
    "        return reduce(lambda a, b: a-b, args)\n",
    "\n",
    "    def multiplication(self, *args):\n",
    "        return reduce(lambda a, b: a*b, args)\n",
    "\n",
    "    def division(self, *args):\n",
    "        return reduce(lambda a, b: a/b, args)\n",
    "\n",
    "    "
   ]
  },
  {
   "cell_type": "code",
   "execution_count": 47,
   "metadata": {},
   "outputs": [
    {
     "data": {
      "text/plain": [
       "17"
      ]
     },
     "execution_count": 47,
     "metadata": {},
     "output_type": "execute_result"
    }
   ],
   "source": [
    "himanshu = calculator()\n",
    "\n",
    "\n",
    "himanshu.add(3, 6,8)"
   ]
  },
  {
   "cell_type": "code",
   "execution_count": null,
   "metadata": {},
   "outputs": [],
   "source": []
  }
 ],
 "metadata": {
  "kernelspec": {
   "display_name": "Python 3.8.10 64-bit",
   "language": "python",
   "name": "python3"
  },
  "language_info": {
   "codemirror_mode": {
    "name": "ipython",
    "version": 3
   },
   "file_extension": ".py",
   "mimetype": "text/x-python",
   "name": "python",
   "nbconvert_exporter": "python",
   "pygments_lexer": "ipython3",
   "version": "3.8.10"
  },
  "orig_nbformat": 4,
  "vscode": {
   "interpreter": {
    "hash": "e7370f93d1d0cde622a1f8e1c04877d8463912d04d973331ad4851f04de6915a"
   }
  }
 },
 "nbformat": 4,
 "nbformat_minor": 2
}
